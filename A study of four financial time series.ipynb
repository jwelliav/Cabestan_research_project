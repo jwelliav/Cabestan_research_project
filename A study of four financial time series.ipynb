{
 "cells": [
  {
   "cell_type": "markdown",
   "metadata": {},
   "source": [
    "# A Study of four financial time series. "
   ]
  },
  {
   "cell_type": "markdown",
   "metadata": {},
   "source": [
    "# Introduction : "
   ]
  },
  {
   "cell_type": "markdown",
   "metadata": {},
   "source": [
    "We are given four assets : A,B,C and D and will attempt to predict the closing prices of these assets using ARIMA and VAR models. We fit ARIMA and VAR models at first for just the data coming from each asset, we will then run the combined data through the models after employing a dimensionality reduction to obtain slightly better scores. In all cases, our models are tested using a rolling forecast test, which is a form of Cross Validation for time series data.\n",
    "The final results can be summarized in the following tables."
   ]
  },
  {
   "cell_type": "code",
   "execution_count": 1287,
   "metadata": {},
   "outputs": [
    {
     "data": {
      "text/html": [
       "<div>\n",
       "<style>\n",
       "    .dataframe thead tr:only-child th {\n",
       "        text-align: right;\n",
       "    }\n",
       "\n",
       "    .dataframe thead th {\n",
       "        text-align: left;\n",
       "    }\n",
       "\n",
       "    .dataframe tbody tr th {\n",
       "        vertical-align: top;\n",
       "    }\n",
       "</style>\n",
       "<table border=\"1\" class=\"dataframe\">\n",
       "  <thead>\n",
       "    <tr style=\"text-align: right;\">\n",
       "      <th></th>\n",
       "      <th>ARIMA</th>\n",
       "      <th>VAR</th>\n",
       "      <th>Naive</th>\n",
       "      <th>VAR Combined</th>\n",
       "      <th>VAR + PCA</th>\n",
       "    </tr>\n",
       "  </thead>\n",
       "  <tbody>\n",
       "    <tr>\n",
       "      <th>A</th>\n",
       "      <td>0.997083</td>\n",
       "      <td>0.996208</td>\n",
       "      <td>1.0</td>\n",
       "      <td>0.994839</td>\n",
       "      <td>0.998305</td>\n",
       "    </tr>\n",
       "    <tr>\n",
       "      <th>B</th>\n",
       "      <td>0.994859</td>\n",
       "      <td>0.991335</td>\n",
       "      <td>1.0</td>\n",
       "      <td>0.992670</td>\n",
       "      <td>0.992507</td>\n",
       "    </tr>\n",
       "    <tr>\n",
       "      <th>C</th>\n",
       "      <td>1.009271</td>\n",
       "      <td>1.008781</td>\n",
       "      <td>1.0</td>\n",
       "      <td>1.011703</td>\n",
       "      <td>1.015820</td>\n",
       "    </tr>\n",
       "    <tr>\n",
       "      <th>D</th>\n",
       "      <td>0.999472</td>\n",
       "      <td>1.006387</td>\n",
       "      <td>1.0</td>\n",
       "      <td>0.995893</td>\n",
       "      <td>0.996674</td>\n",
       "    </tr>\n",
       "  </tbody>\n",
       "</table>\n",
       "</div>"
      ],
      "text/plain": [
       "      ARIMA       VAR  Naive  VAR Combined  VAR + PCA\n",
       "A  0.997083  0.996208    1.0      0.994839   0.998305\n",
       "B  0.994859  0.991335    1.0      0.992670   0.992507\n",
       "C  1.009271  1.008781    1.0      1.011703   1.015820\n",
       "D  0.999472  1.006387    1.0      0.995893   0.996674"
      ]
     },
     "execution_count": 1287,
     "metadata": {},
     "output_type": "execute_result"
    }
   ],
   "source": [
    "#When compiling run this at the end\n",
    "Final_results_MASE"
   ]
  },
  {
   "cell_type": "markdown",
   "metadata": {},
   "source": [
    "The MASE score measures how effective the model is against the naive model that predicts tomorrows price as today's price. In the case of assets A,B and D we find that our models perform slightly better than the naive prediction. \n",
    "In the case of asset C, the naive model is best. It is very possible that the models will outperform the naive model\n",
    "if we were to forecast not just one days ahead but several days ahead. Rough results which we don't present here suggest this to be true."
   ]
  },
  {
   "cell_type": "code",
   "execution_count": 1288,
   "metadata": {},
   "outputs": [
    {
     "data": {
      "text/html": [
       "<div>\n",
       "<style>\n",
       "    .dataframe thead tr:only-child th {\n",
       "        text-align: right;\n",
       "    }\n",
       "\n",
       "    .dataframe thead th {\n",
       "        text-align: left;\n",
       "    }\n",
       "\n",
       "    .dataframe tbody tr th {\n",
       "        vertical-align: top;\n",
       "    }\n",
       "</style>\n",
       "<table border=\"1\" class=\"dataframe\">\n",
       "  <thead>\n",
       "    <tr style=\"text-align: right;\">\n",
       "      <th></th>\n",
       "      <th>ARIMA</th>\n",
       "      <th>VAR</th>\n",
       "      <th>Naive</th>\n",
       "      <th>VAR Combined</th>\n",
       "      <th>VAR + PCA</th>\n",
       "    </tr>\n",
       "  </thead>\n",
       "  <tbody>\n",
       "    <tr>\n",
       "      <th>A</th>\n",
       "      <td>0.153396</td>\n",
       "      <td>0.153176</td>\n",
       "      <td>0.153164</td>\n",
       "      <td>0.157962</td>\n",
       "      <td>0.159229</td>\n",
       "    </tr>\n",
       "    <tr>\n",
       "      <th>B</th>\n",
       "      <td>2.287908</td>\n",
       "      <td>2.279414</td>\n",
       "      <td>2.303413</td>\n",
       "      <td>2.139894</td>\n",
       "      <td>2.145245</td>\n",
       "    </tr>\n",
       "    <tr>\n",
       "      <th>C</th>\n",
       "      <td>0.005341</td>\n",
       "      <td>0.005357</td>\n",
       "      <td>0.005339</td>\n",
       "      <td>0.005382</td>\n",
       "      <td>0.005434</td>\n",
       "    </tr>\n",
       "    <tr>\n",
       "      <th>D</th>\n",
       "      <td>5.748741</td>\n",
       "      <td>5.740671</td>\n",
       "      <td>5.679302</td>\n",
       "      <td>5.703751</td>\n",
       "      <td>5.699656</td>\n",
       "    </tr>\n",
       "  </tbody>\n",
       "</table>\n",
       "</div>"
      ],
      "text/plain": [
       "      ARIMA       VAR     Naive  VAR Combined  VAR + PCA\n",
       "A  0.153396  0.153176  0.153164      0.157962   0.159229\n",
       "B  2.287908  2.279414  2.303413      2.139894   2.145245\n",
       "C  0.005341  0.005357  0.005339      0.005382   0.005434\n",
       "D  5.748741  5.740671  5.679302      5.703751   5.699656"
      ]
     },
     "execution_count": 1288,
     "metadata": {},
     "output_type": "execute_result"
    }
   ],
   "source": [
    "#When compiling run this at the end.\n",
    "Final_results_MSE"
   ]
  },
  {
   "cell_type": "markdown",
   "metadata": {},
   "source": [
    "We can also test our models using the mean squared error. We see above for instance that \n",
    "a VAR model for the combined data of all assets to predict asset B outperforms the naive model. However, the naive \n",
    "model beats the other methods in all other cases. "
   ]
  },
  {
   "cell_type": "markdown",
   "metadata": {},
   "source": [
    "In every instance of fitting the model, we have tuned the parameters involved using AIC/BIC scores as well as a \n",
    "rolling forecast test. "
   ]
  },
  {
   "cell_type": "markdown",
   "metadata": {},
   "source": [
    "# Exploratory Data Analysis  "
   ]
  },
  {
   "cell_type": "code",
   "execution_count": 897,
   "metadata": {},
   "outputs": [],
   "source": [
    "#Importing necessary packages\n",
    "\n",
    "import pandas as pd\n",
    "import numpy as np\n",
    "import matplotlib.pyplot as plt\n",
    "import matplotlib.dates as mdates\n",
    "from pandas.plotting import scatter_matrix\n",
    "import seaborn as sns\n",
    "from statsmodels.tsa.stattools import acf\n",
    "from statsmodels.tsa.stattools import coint\n",
    "from statsmodels.graphics.tsaplots import plot_acf\n",
    "from statsmodels.tsa.stattools import adfuller\n",
    "from statsmodels.tsa.arima_model import ARMA\n",
    "from statsmodels.tsa.arima_model import ARIMA\n",
    "from sklearn.metrics import mean_squared_error\n",
    "from statsmodels.tsa.stattools import ccf\n",
    "from statsmodels.tsa.vector_ar.var_model import VAR\n",
    "from sklearn.decomposition import PCA"
   ]
  },
  {
   "cell_type": "code",
   "execution_count": 898,
   "metadata": {
    "collapsed": true
   },
   "outputs": [],
   "source": [
    "# We load the given data onto 4 pandas dataframes.\n",
    "\n",
    "pathA = '/Users/Welliareetil/Documents/Cabestan-technical challenge/WelliaveetilDataset/A.csv'\n",
    "pathB = '/Users/Welliareetil/Documents/Cabestan-technical challenge/WelliaveetilDataset/B.csv'\n",
    "pathC = '/Users/Welliareetil/Documents/Cabestan-technical challenge/WelliaveetilDataset/C.csv'\n",
    "pathD = '/Users/Welliareetil/Documents/Cabestan-technical challenge/WelliaveetilDataset/D.csv'"
   ]
  },
  {
   "cell_type": "code",
   "execution_count": 899,
   "metadata": {
    "collapsed": true
   },
   "outputs": [],
   "source": [
    "A = pd.read_csv(pathA)\n",
    "B = pd.read_csv(pathB)\n",
    "C = pd.read_csv(pathC)\n",
    "D = pd.read_csv(pathD)"
   ]
  },
  {
   "cell_type": "code",
   "execution_count": 900,
   "metadata": {
    "collapsed": true
   },
   "outputs": [],
   "source": [
    "#We rename the columns which will come in handy later when studying multiple assets simultaneously.\n",
    "\n",
    "A.columns = [\"date\",'op_A', 'hi_A', 'lo_A', 'se_A', 'volume_A', 'oi_A']\n",
    "B.columns = [\"date\",'op_B', 'hi_B', 'lo_B', 'se_B', 'volume_B', 'oi_B']\n",
    "C.columns = [\"date\",'op_C', 'hi_C', 'lo_C', 'se_C', 'volume_C', 'oi_C']\n",
    "D.columns = [\"date\",'op_D', 'hi_D', 'lo_D', 'se_D', 'volume_D', 'oi_D']"
   ]
  },
  {
   "cell_type": "code",
   "execution_count": 901,
   "metadata": {
    "collapsed": true
   },
   "outputs": [],
   "source": [
    "# We convert the date columns to timestamps.\n",
    "\n",
    "A[\"date\"] = pd.to_datetime(A[\"date\"])\n",
    "B[\"date\"] = pd.to_datetime(B[\"date\"])\n",
    "C[\"date\"] = pd.to_datetime(C[\"date\"])\n",
    "D[\"date\"] = pd.to_datetime(D[\"date\"])"
   ]
  },
  {
   "cell_type": "code",
   "execution_count": 902,
   "metadata": {},
   "outputs": [],
   "source": [
    "#We make note of the start and end dates of the 4 time series. This will be useful when making plot comparisons. \n",
    "\n",
    "a_start = A['date'][0]\n",
    "a_end = A['date'][len(A['date'])-1]\n",
    "b_start = B['date'][0]\n",
    "b_end = B['date'][len(B[\"date\"])-1]\n",
    "c_start = C['date'][0]\n",
    "c_end = C['date'][6823]\n",
    "d_start = D['date'][0]\n",
    "d_end = D['date'][10025]"
   ]
  },
  {
   "cell_type": "code",
   "execution_count": 903,
   "metadata": {
    "collapsed": true
   },
   "outputs": [],
   "source": [
    "#We set the index of the 4 dataframes to be the date column. \n",
    "\n",
    "A.index = A[\"date\"]\n",
    "#del(A['date'])\n",
    "B.index = B[\"date\"]\n",
    "#del(B['date'])\n",
    "C.index = C['date']\n",
    "#del(C['date'])\n",
    "D.index = D['date']\n",
    "#del(D['date'])\n"
   ]
  },
  {
   "cell_type": "markdown",
   "metadata": {},
   "source": [
    "We will add a column for each time series which is the closing price of the asset for that day. \n",
    "We feel that for a particular asset, the features 'op', 'hi',\n",
    "'lo', 'se', 'volume', 'oi' and 'cl', are known to us only at the close of business each day and hence it makes more\n",
    "sense to check if this information (and all past values of the features) can then be employed to predict the closing price for the next day. \n"
   ]
  },
  {
   "cell_type": "code",
   "execution_count": 904,
   "metadata": {
    "collapsed": true
   },
   "outputs": [],
   "source": [
    "#We add a column \"closing price\" to a given dataframe. We feel this is a more natural variable to predict.\n",
    "\n",
    "def closing_price_column(df,op,s):\n",
    "    l = pd.Series([df[op][j+1] for j in range(len(df)-1)] + [0])\n",
    "    df = df.assign(cl = l.values)\n",
    "    df = df.drop(df.index[-1])\n",
    "    df.rename(columns = {'cl':s},inplace = True)\n",
    "    df.drop(op, axis = 1,inplace = True)\n",
    "    return(df)"
   ]
  },
  {
   "cell_type": "code",
   "execution_count": 905,
   "metadata": {},
   "outputs": [],
   "source": [
    "A = closing_price_column(A,\"op_A\",\"cl_A\")\n",
    "B = closing_price_column(B,\"op_B\",\"cl_B\")\n",
    "C = closing_price_column(C,\"op_C\",\"cl_C\")\n",
    "D = closing_price_column(D,\"op_D\",\"cl_D\")"
   ]
  },
  {
   "cell_type": "code",
   "execution_count": 906,
   "metadata": {
    "collapsed": true
   },
   "outputs": [],
   "source": [
    "#Rearrange the columns of the dataframe.\n",
    "\n",
    "def rearrange(df,s):\n",
    "    cols = list(df.columns)\n",
    "    k = cols.index(s)\n",
    "    t = cols[1]\n",
    "    cols[k] = t\n",
    "    cols[1] = s\n",
    "    df = df[cols]\n",
    "    return(df)"
   ]
  },
  {
   "cell_type": "code",
   "execution_count": 907,
   "metadata": {},
   "outputs": [],
   "source": [
    "A = rearrange(A,'cl_A')\n",
    "B = rearrange(B,'cl_B')\n",
    "C = rearrange(C,'cl_C')\n",
    "D = rearrange(D,'cl_D')"
   ]
  },
  {
   "cell_type": "markdown",
   "metadata": {},
   "source": [
    "# Missing Values and dates"
   ]
  },
  {
   "cell_type": "markdown",
   "metadata": {},
   "source": [
    "Checking for missing values and any unusual behaviour. We will go into a closer examination when building models \n",
    "below."
   ]
  },
  {
   "cell_type": "code",
   "execution_count": 908,
   "metadata": {},
   "outputs": [
    {
     "data": {
      "text/plain": [
       "[[0, 0, 0, 0, 0, 0, 0],\n",
       " [0, 0, 0, 0, 0, 0, 0],\n",
       " [0, 0, 0, 0, 0, 0, 0],\n",
       " [0, 6, 6, 0, 8, 11, 6]]"
      ]
     },
     "execution_count": 908,
     "metadata": {},
     "output_type": "execute_result"
    }
   ],
   "source": [
    "#A list of lists which gives the column count of missing values for each of the 4 assets\n",
    "\n",
    "null_list = []\n",
    "null_list.append(list(A.isnull().sum()))\n",
    "null_list.append(list(B.isnull().sum()))\n",
    "null_list.append(list(C.isnull().sum()))\n",
    "null_list.append(list(D.isnull().sum()))\n",
    "null_list"
   ]
  },
  {
   "cell_type": "markdown",
   "metadata": {},
   "source": [
    "We see that the series D has some missing values. "
   ]
  },
  {
   "cell_type": "markdown",
   "metadata": {},
   "source": [
    "We check if the data has certain dates missing. We do so by counting \n",
    "the number of days between the start and end dates of \n",
    "the different series and then multiplying this by (251/365) since 251 is a rough estimate of the number of\n",
    "working days per year. We then subtract the length of the various series which we assume\n",
    "counts the actual working days \n",
    "of the year and then normalize the error by dividing by the number of days between the start and end date. We see that \n",
    "this error rate is pretty much constant over all series."
   ]
  },
  {
   "cell_type": "code",
   "execution_count": 909,
   "metadata": {
    "collapsed": true
   },
   "outputs": [],
   "source": [
    "\"\"\"A rough estimate of the number of days to expect is 251 out of 365. Hence for a given range x:y we \n",
    "calculate the number of calendar days in this range and then multiply by (251/365) to get a rough estimate of the\n",
    "number of trading days. We compare this to the size of each data frame to make sure that data isn't\n",
    "missing.\"\"\"\n",
    "\n",
    "def missing_days(A):\n",
    "    a_start = A['date'][0]\n",
    "    a_end = A['date'][len(A['date'])-1]\n",
    "    deltaA = a_end - a_start\n",
    "    e1 = deltaA.days*(251/365) - len(A)\n",
    "    print(e1/deltaA.days)"
   ]
  },
  {
   "cell_type": "code",
   "execution_count": 910,
   "metadata": {},
   "outputs": [
    {
     "name": "stdout",
     "output_type": "stream",
     "text": [
      "-0.00126714871200338\n"
     ]
    }
   ],
   "source": [
    "missing_days(A)"
   ]
  },
  {
   "cell_type": "code",
   "execution_count": 911,
   "metadata": {},
   "outputs": [
    {
     "name": "stdout",
     "output_type": "stream",
     "text": [
      "-0.0020423488910734306\n"
     ]
    }
   ],
   "source": [
    "missing_days(B)"
   ]
  },
  {
   "cell_type": "code",
   "execution_count": 912,
   "metadata": {},
   "outputs": [
    {
     "name": "stdout",
     "output_type": "stream",
     "text": [
      "-0.001242337397924194\n"
     ]
    }
   ],
   "source": [
    "missing_days(C)"
   ]
  },
  {
   "cell_type": "code",
   "execution_count": 913,
   "metadata": {},
   "outputs": [
    {
     "name": "stdout",
     "output_type": "stream",
     "text": [
      "-0.00237557329068854\n"
     ]
    }
   ],
   "source": [
    "missing_days(D)"
   ]
  },
  {
   "cell_type": "markdown",
   "metadata": {},
   "source": [
    "# Relationship between the closing price data of the 4 assets"
   ]
  },
  {
   "cell_type": "code",
   "execution_count": 914,
   "metadata": {
    "collapsed": true
   },
   "outputs": [],
   "source": [
    "#A.set_index(\"date\")\n",
    "#B.set_index(\"date\")\n",
    "#C.set_index('date')\n",
    "#D.set_index('date')\n",
    "#a_start = A['date'][0]\n",
    "#a_end = A['date'][len(A['date'])-1]\n",
    "#b_start = B['date'][0]\n",
    "#b_end = B['date'][len(B[\"date\"])-1]\n",
    "#c_start = C['date'][0]\n",
    "#c_end = C['date'][6823]\n",
    "#d_start = D['date'][0]\n",
    "#d_end = D['date'][10025]"
   ]
  },
  {
   "cell_type": "code",
   "execution_count": 1279,
   "metadata": {
    "collapsed": true
   },
   "outputs": [],
   "source": [
    "a = max(a_start,b_start,c_start,d_start)\n",
    "b = min(a_end,b_end,c_end,d_end)"
   ]
  },
  {
   "cell_type": "markdown",
   "metadata": {},
   "source": [
    "A comparison plot of the opening prices of A,B,C and D during the relevant time periods. "
   ]
  },
  {
   "cell_type": "code",
   "execution_count": 1286,
   "metadata": {
    "scrolled": false
   },
   "outputs": [
    {
     "data": {
      "image/png": "[encoded data removed]",
      "text/plain": [
       "<matplotlib.figure.Figure at 0x1c1e9172e8>"
      ]
     },
     "metadata": {},
     "output_type": "display_data"
    }
   ],
   "source": [
    "fig,ax = plt.subplots()\n",
    "ax.plot(A[\"date\"][a:b],A[a:b]['cl_A'])\n",
    "ax.plot(B[\"date\"][a:b],B[a:b]['cl_B'])\n",
    "ax.plot(C[\"date\"],C['cl_C'])\n",
    "ax.plot(D[\"date\"][3135:9964],D[3135:9964]['cl_D'])\n",
    "ax.xaxis.set_major_locator(mdates.YearLocator(2,month = 2,day = 2))\n",
    "ax.xaxis.set_major_formatter(mdates.DateFormatter(\"%Y\"))\n",
    "ax.legend()\n",
    "_=plt.xticks(rotation=90) \n",
    "plt.show()"
   ]
  },
  {
   "cell_type": "markdown",
   "metadata": {},
   "source": [
    "We observe a very strong relationship between the series op_B and op_D. To be sure we calculate correlations between the returns (or in this case day to day changes) between the series. \n",
    "\n",
    "More precisely, for each asset, we create a data frame which captures the day to day change in price of each asset. This is necessary because estimates (Auto Correlations and Cross Correlations) are usually possible only for stationary series. "
   ]
  },
  {
   "cell_type": "code",
   "execution_count": 917,
   "metadata": {
    "collapsed": true
   },
   "outputs": [],
   "source": [
    "A_ret = A.copy()\n",
    "del(A_ret['date'])\n",
    "A_ret = A_ret.pct_change()\n",
    "A_ret = A_ret.dropna(axis = 0)\n",
    "\n",
    "B_ret = B.copy()\n",
    "del(B_ret['date'])\n",
    "B_ret = B_ret.pct_change()\n",
    "B_ret = B_ret.dropna(axis = 0)\n",
    "\n",
    "C_ret = C.copy()\n",
    "del(C_ret['date'])\n",
    "C_ret = C_ret.pct_change()\n",
    "C_ret = C_ret.dropna(axis = 0)\n",
    "\n",
    "D_ret = D.copy()\n",
    "del(D_ret['date'])\n",
    "D_ret = D_ret.pct_change()\n",
    "D_ret = D_ret.dropna(axis = 0)\n"
   ]
  },
  {
   "cell_type": "markdown",
   "metadata": {},
   "source": [
    "We create a database that includes all the data from the 4 series A,B,C and D. We study the correlations between series. "
   ]
  },
  {
   "cell_type": "code",
   "execution_count": 918,
   "metadata": {
    "collapsed": true
   },
   "outputs": [],
   "source": [
    "returns = A_ret.join(B_ret,how = 'inner')\n",
    "returns = returns.join(C_ret,how = \"inner\")\n",
    "returns = returns.join(D_ret,how = 'inner')"
   ]
  },
  {
   "cell_type": "code",
   "execution_count": 919,
   "metadata": {
    "collapsed": true
   },
   "outputs": [],
   "source": [
    "# We name the columns of return appropriately\n",
    "\n",
    "l = []\n",
    "for j in list(returns.columns):\n",
    "    j = j + '_ret'    \n",
    "    l.append(j)\n",
    "returns.columns = l    "
   ]
  },
  {
   "cell_type": "code",
   "execution_count": null,
   "metadata": {},
   "outputs": [],
   "source": []
  },
  {
   "cell_type": "code",
   "execution_count": 920,
   "metadata": {},
   "outputs": [
    {
     "name": "stdout",
     "output_type": "stream",
     "text": [
      "          cl_A_ret  cl_B_ret  cl_C_ret  cl_D_ret\n",
      "cl_A_ret  1.000000  0.945473  0.823172  0.848949\n",
      "cl_B_ret  0.945473  1.000000  0.754613  0.929732\n",
      "cl_C_ret  0.823172  0.754613  1.000000  0.643761\n",
      "cl_D_ret  0.848949  0.929732  0.643761  1.000000\n"
     ]
    }
   ],
   "source": [
    "correlations_op = returns[['cl_A_ret','cl_B_ret','cl_C_ret','cl_D_ret']].corr()\n",
    "print(correlations_op)"
   ]
  },
  {
   "cell_type": "markdown",
   "metadata": {},
   "source": [
    "We observe a very strong relation between A and B as well as D and B. The correlation matrix suggests that\n",
    "all four assets are \n",
    "closely related to each other. "
   ]
  },
  {
   "cell_type": "code",
   "execution_count": 921,
   "metadata": {},
   "outputs": [
    {
     "data": {
      "image/png": "[encoded data removed]",
      "text/plain": [
       "<matplotlib.figure.Figure at 0x1c1be68f28>"
      ]
     },
     "metadata": {},
     "output_type": "display_data"
    }
   ],
   "source": [
    "scatter_matrix(returns[['cl_A_ret','cl_B_ret','cl_C_ret','cl_D_ret']])\n",
    "plt.show()"
   ]
  },
  {
   "cell_type": "markdown",
   "metadata": {},
   "source": [
    "The scatter matrix suggest that there is a linear relationship between closing price data \n",
    "of the four assets."
   ]
  },
  {
   "cell_type": "code",
   "execution_count": 922,
   "metadata": {},
   "outputs": [
    {
     "data": {
      "image/png": "[encoded data removed]",
      "text/plain": [
       "<matplotlib.figure.Figure at 0x1c13daba58>"
      ]
     },
     "metadata": {},
     "output_type": "display_data"
    }
   ],
   "source": [
    "dims = (12,7.5)\n",
    "fig,ax = plt.subplots(figsize = dims)\n",
    "correlations = returns.corr()\n",
    "sns.heatmap(ax = ax, data = correlations)\n",
    "plt.show()\n",
    "plt.savefig('correlation_matrix.png')"
   ]
  },
  {
   "cell_type": "markdown",
   "metadata": {},
   "source": [
    "We make the following observations : \n",
    "\n",
    "1) The volume changes and changes in open interest from day to day show little correlation with the day to day changes of the other features (hi_ret,lo_ret,se_ret,op_ret) within the same series and\n",
    "the other series.\n",
    "\n",
    "2) For any two series, say A and B, we have strong correlations between cl_A_ret and cl_B_ret, hi_A_ret and hi_B_ret,\n",
    "lo_A_ret and lo_B_ret, se_A_ret and se_B_ret. "
   ]
  },
  {
   "cell_type": "markdown",
   "metadata": {},
   "source": [
    "#  Functions we will use : "
   ]
  },
  {
   "cell_type": "markdown",
   "metadata": {},
   "source": [
    "We now list the functions we will call subsequently to process the data, clean it and also build models for it. "
   ]
  },
  {
   "cell_type": "markdown",
   "metadata": {},
   "source": [
    "# Preprocessing functions :"
   ]
  },
  {
   "cell_type": "code",
   "execution_count": 923,
   "metadata": {
    "collapsed": true
   },
   "outputs": [],
   "source": [
    "#Rename the columns so that they differ from those of A\n",
    "\n",
    "def add_ret(B):\n",
    "    t = []\n",
    "    for j in list(B.columns):\n",
    "        j = j + '_ret'    \n",
    "        t.append(j)\n",
    "    B.columns = t"
   ]
  },
  {
   "cell_type": "code",
   "execution_count": 924,
   "metadata": {
    "collapsed": true
   },
   "outputs": [],
   "source": [
    "#Function to correct missing values and outliers in a given entry of a column in a dataframe.\n",
    "\n",
    "def insert_mean(S,i):\n",
    "    S[i] = (S[i-1]+S[i+1])/2"
   ]
  },
  {
   "cell_type": "code",
   "execution_count": 925,
   "metadata": {
    "collapsed": true
   },
   "outputs": [],
   "source": [
    "\"\"\"Function checks for missing values and then fills them in.\"\"\"\n",
    "\n",
    "def rectify(df):\n",
    "    cols = list(df.columns)\n",
    "    for c in cols:\n",
    "         S = df[c]\n",
    "         nl = []\n",
    "         A = S.isnull()\n",
    "         for j in range(len(A)):\n",
    "              if A[j] == True:\n",
    "                nl.append(j)\n",
    "         for j in nl:\n",
    "             insert_mean(S,j)"
   ]
  },
  {
   "cell_type": "code",
   "execution_count": 926,
   "metadata": {
    "collapsed": true
   },
   "outputs": [],
   "source": [
    "\"\"\"check if series is random walk or not. Necessary since in \n",
    "many cases we are restricted to working with stationary series.\"\"\"\n",
    "def ad_fuller_test(S):\n",
    "    results = adfuller(S)\n",
    "    print(\"The p-value is \" + str(results[1]))"
   ]
  },
  {
   "cell_type": "code",
   "execution_count": 927,
   "metadata": {
    "collapsed": true
   },
   "outputs": [],
   "source": [
    "\"\"\"function to plot the cross correlation for stationary series X and Y.\"\"\"\n",
    "\n",
    "def CCF(X,Y,s1):\n",
    "    cross_corr = ccf(X,Y)\n",
    "    plt.plot(cross_corr[0:250])\n",
    "    plt.xlabel(s1)\n",
    "    plt.show()"
   ]
  },
  {
   "cell_type": "markdown",
   "metadata": {},
   "source": [
    "# Functions to build and test models :"
   ]
  },
  {
   "cell_type": "markdown",
   "metadata": {},
   "source": [
    "We begin by building ARIMA models to get a measure of how noisy the various series are. "
   ]
  },
  {
   "cell_type": "code",
   "execution_count": 928,
   "metadata": {
    "collapsed": true
   },
   "outputs": [],
   "source": [
    "\"\"\"The following function acts on a given time series and builds a ARIMA models at several parameter values.\n",
    "It then outputs the AIC and BIC scores. We use these scores to choose a suitable model at a later stage.\n",
    "In our case, we restrict our attention to just 5 ARIMA models and find that in some cases reasonable\n",
    "accuracy can be achieved with this.\"\"\"\n",
    "\n",
    "def ARIMA_fitting_AIC_BIC_list(A):\n",
    "    X = A.values\n",
    "    size = int(len(X)*0.80)\n",
    "    train = X[0:size]\n",
    "    test = X[size:len(X)]\n",
    "    AIC = []\n",
    "    BIC = []\n",
    "    for i in range(1,6):\n",
    "        model = ARIMA(train,order = (i,1,0))\n",
    "        model_fit = model.fit(disp=0)\n",
    "        AIC.append(model_fit.aic)\n",
    "        BIC.append(model_fit.bic)\n",
    "    print('The AIC list is ' )\n",
    "    print(AIC)\n",
    "    print('The BIC list is ')\n",
    "    print(BIC)"
   ]
  },
  {
   "cell_type": "code",
   "execution_count": 929,
   "metadata": {
    "collapsed": true
   },
   "outputs": [],
   "source": [
    "\"\"\"Given an ARIMA(p,d,q)-model, we test its predictive power by means of a rolling forecast. This function inputs \n",
    "a time series and the parameters of an ARIMA model and outputs a test series and predictions which the model makes.\"\"\"\n",
    "\n",
    "def ARIMA_rolling_forecast(A,p,d,q):\n",
    "    X = A.values\n",
    "    size = int(len(X)*0.80)\n",
    "    train = X[0:size]\n",
    "    test = X[size:len(X)]\n",
    "    history = [x for x in train]\n",
    "    predictions = list()\n",
    "    for t in range(len(test)):\n",
    "        model = ARIMA(history, order=(p,d,q))\n",
    "        model_fit = model.fit(disp=0)\n",
    "        output = model_fit.forecast()\n",
    "        yhat = output[0]\n",
    "        predictions.append(yhat)\n",
    "        obs = test[t]\n",
    "        history.append(obs)\n",
    "    return(test, predictions) "
   ]
  },
  {
   "cell_type": "code",
   "execution_count": 930,
   "metadata": {
    "collapsed": true
   },
   "outputs": [],
   "source": [
    "\"\"\"We plot the predictions from the rolling forecast.\"\"\"\n",
    "\n",
    "def plot_predictions(test,predictions):\n",
    "    plt.plot(predictions)\n",
    "    plt.plot(test)\n",
    "    plt.xlabel('Index of data point of test set')\n",
    "    plt.ylabel('price')\n",
    "    plt.legend()\n",
    "    plt.show()"
   ]
  },
  {
   "cell_type": "code",
   "execution_count": 931,
   "metadata": {
    "collapsed": true
   },
   "outputs": [],
   "source": [
    "\"\"\"Mean squared error calculation\"\"\"\n",
    "\n",
    "def MSE(test,predictions):\n",
    "    error = mean_squared_error(test,predictions)\n",
    "    return(error)\n",
    "    #print(error)"
   ]
  },
  {
   "cell_type": "code",
   "execution_count": 932,
   "metadata": {
    "collapsed": true
   },
   "outputs": [],
   "source": [
    "\"\"\"The mean squared error might be misleading in this case. We hence define the mean absolute scaled error. \n",
    "The MASE tells us how much better or worse the given model is when compared to the very naive model which predicts\n",
    "tomorrows value as todays value. An MASE which is greater than 1 implies that the model is worse than the naive model\n",
    "while an MASE which is less than 1 implies that the model is better.\"\"\"\n",
    "\n",
    "def MASE(test,predictions):\n",
    "    err = [test[j] - predictions[j] for j in range(len(test))]\n",
    "    #Naive error calculation : \n",
    "    T = len(test)\n",
    "    naive_error = 0\n",
    "    for j in range(1,T):\n",
    "        naive_error = naive_error + abs(test[j] - test[j-1])\n",
    "    naive_error = (1/(T-1))*naive_error \n",
    "    scaled_errors = [x/naive_error for x in err[1:]]\n",
    "    MASE = np.mean([abs(x) for x in scaled_errors])\n",
    "    #print(\"The mean absolute scaled error is \" + str(MASE))\n",
    "    return(MASE)"
   ]
  },
  {
   "cell_type": "markdown",
   "metadata": {},
   "source": [
    "We now build VAR models to make full use of the given data."
   ]
  },
  {
   "cell_type": "code",
   "execution_count": 933,
   "metadata": {
    "collapsed": true
   },
   "outputs": [],
   "source": [
    "\"\"\"Function inputs a dataframe and a list of columns, and outputs a list of AIC and BIC scores for VAR(p) models \n",
    "(where p is the lag parameter). The columns indicated must be stationary series.\"\"\" \n",
    "\n",
    "def selecting_model(df,l):\n",
    "    size = int(len(df)*0.7)\n",
    "    data = df[l][0:size]\n",
    "    model = VAR(data)\n",
    "    return(model.select_order(30))"
   ]
  },
  {
   "cell_type": "code",
   "execution_count": 934,
   "metadata": {
    "collapsed": true
   },
   "outputs": [],
   "source": [
    "\"\"\"We test our VAR model using a rolling forecast. The input data is df - a dataframe, a list of columns\n",
    "which are the set of variables of interest. The function outputs a test series and a prediction series.\n",
    "An important point to note is that VAR models can only work with stationary series.\"\"\"\n",
    "\n",
    "def VAR_rolling_forecast(df,l,p,split):\n",
    "    size = int(len(df)*split)\n",
    "    predictions = list()\n",
    "    test = []\n",
    "    while size <= len(df)-1:\n",
    "        data = df[0:size][l]\n",
    "        model = VAR(data)\n",
    "        model_fit = model.fit(p)\n",
    "        output = model_fit.forecast(data.values,1)\n",
    "        yhat = output[0][0]\n",
    "        predictions.append(yhat)\n",
    "        test.append(df[l[0]][size])\n",
    "        size = size + 1\n",
    "    return(test,predictions)"
   ]
  },
  {
   "cell_type": "code",
   "execution_count": 935,
   "metadata": {
    "collapsed": true
   },
   "outputs": [],
   "source": [
    "\"\"\"This is similar to the function above. We will use it when we build a model using multiple series as input data. \n",
    "For instance both A and B...In the function below, l is a list of column names, p is the lag parameter for the VAR model, h is the \n",
    "maximum amount of time in the future for which you wish to forecast, l1 is the list of columns which you \n",
    "wish to predict for. The output in this case are two dictionaries - one called test and the other called \n",
    "predictions.\"\"\"\n",
    "\n",
    "def VAR_rolling_forecast_general(df,l,p,l1,h):\n",
    "    size = int(len(df)*0.80)\n",
    "    predictions = {}\n",
    "    test = {}\n",
    "    for i in range(1,h+1):\n",
    "        for j in l1:\n",
    "            predictions[(j,i)] = []\n",
    "            test[(j,i)] = []\n",
    "    while size <= len(df)-h:\n",
    "          data = df[0:size][l]\n",
    "          model = VAR(data)\n",
    "          model_fit = model.fit(p)\n",
    "          output = model_fit.forecast(data.values,h)\n",
    "          for j in l1:\n",
    "            for i in range(1,h+1):\n",
    "                k = l.index(j)\n",
    "                yhat = output[i-1][k]\n",
    "                predictions[(j,i)].append(yhat)\n",
    "                test[(j,i)].append(df[j][size + i - 1])\n",
    "          size = size + 1\n",
    "    return(test,predictions)"
   ]
  },
  {
   "cell_type": "code",
   "execution_count": 936,
   "metadata": {
    "collapsed": true
   },
   "outputs": [],
   "source": [
    "\"\"\"Since the VAR model predicts the stationary returns series, we write a function\n",
    "that recovers predictions for the original series.\"\"\"\n",
    "\n",
    "def recover_asset_predictions(S,size,test,predictions):\n",
    "    test_adj = []\n",
    "    for j in range(size+1,len(S)):\n",
    "        test_adj.append(S[j])\n",
    "    predictions_adj = []\n",
    "    j = size\n",
    "    t = 0\n",
    "    while t <= len(predictions)-1 and j <= len(S)-1:\n",
    "        predictions_adj.append(S[j]*(predictions[t]+1))\n",
    "        t = t + 1\n",
    "        j = j + 1\n",
    "    return(test_adj,predictions_adj)"
   ]
  },
  {
   "cell_type": "code",
   "execution_count": 937,
   "metadata": {
    "collapsed": true
   },
   "outputs": [],
   "source": [
    "def naive_model(X):\n",
    "    size = int(len(X)*0.80)\n",
    "    test = X[size:len(X)]\n",
    "    pred = []\n",
    "    for j in range(size,len(X)):\n",
    "        pred.append(X[j-1])\n",
    "    return(test,pred)    "
   ]
  },
  {
   "cell_type": "code",
   "execution_count": null,
   "metadata": {},
   "outputs": [],
   "source": []
  },
  {
   "cell_type": "code",
   "execution_count": null,
   "metadata": {},
   "outputs": [],
   "source": []
  },
  {
   "cell_type": "code",
   "execution_count": 938,
   "metadata": {
    "collapsed": true
   },
   "outputs": [],
   "source": [
    "Final_results_MASE = [[0 for i in range(4)] for j in range(4)]\n",
    "Final_results_MSE = [[0 for i in range(4)] for j in range(4)]"
   ]
  },
  {
   "cell_type": "markdown",
   "metadata": {},
   "source": [
    "# We predict the opening prices of asset A."
   ]
  },
  {
   "cell_type": "code",
   "execution_count": 939,
   "metadata": {},
   "outputs": [
    {
     "data": {
      "text/html": [
       "<div>\n",
       "<style>\n",
       "    .dataframe thead tr:only-child th {\n",
       "        text-align: right;\n",
       "    }\n",
       "\n",
       "    .dataframe thead th {\n",
       "        text-align: left;\n",
       "    }\n",
       "\n",
       "    .dataframe tbody tr th {\n",
       "        vertical-align: top;\n",
       "    }\n",
       "</style>\n",
       "<table border=\"1\" class=\"dataframe\">\n",
       "  <thead>\n",
       "    <tr style=\"text-align: right;\">\n",
       "      <th></th>\n",
       "      <th>cl_A</th>\n",
       "      <th>lo_A</th>\n",
       "      <th>se_A</th>\n",
       "      <th>volume_A</th>\n",
       "      <th>oi_A</th>\n",
       "      <th>hi_A</th>\n",
       "    </tr>\n",
       "  </thead>\n",
       "  <tbody>\n",
       "    <tr>\n",
       "      <th>count</th>\n",
       "      <td>7423.000000</td>\n",
       "      <td>7423.000000</td>\n",
       "      <td>7423.000000</td>\n",
       "      <td>7423.000000</td>\n",
       "      <td>7423.000000</td>\n",
       "      <td>7423.000000</td>\n",
       "    </tr>\n",
       "    <tr>\n",
       "      <th>mean</th>\n",
       "      <td>0.000112</td>\n",
       "      <td>0.000112</td>\n",
       "      <td>0.000112</td>\n",
       "      <td>inf</td>\n",
       "      <td>0.007094</td>\n",
       "      <td>0.000112</td>\n",
       "    </tr>\n",
       "    <tr>\n",
       "      <th>std</th>\n",
       "      <td>0.002599</td>\n",
       "      <td>0.002385</td>\n",
       "      <td>0.002519</td>\n",
       "      <td>NaN</td>\n",
       "      <td>0.391756</td>\n",
       "      <td>0.002468</td>\n",
       "    </tr>\n",
       "    <tr>\n",
       "      <th>min</th>\n",
       "      <td>-0.017423</td>\n",
       "      <td>-0.017679</td>\n",
       "      <td>-0.019006</td>\n",
       "      <td>-1.000000</td>\n",
       "      <td>-0.971345</td>\n",
       "      <td>-0.016938</td>\n",
       "    </tr>\n",
       "    <tr>\n",
       "      <th>25%</th>\n",
       "      <td>-0.001341</td>\n",
       "      <td>-0.001093</td>\n",
       "      <td>-0.001258</td>\n",
       "      <td>-0.231088</td>\n",
       "      <td>-0.009297</td>\n",
       "      <td>-0.001113</td>\n",
       "    </tr>\n",
       "    <tr>\n",
       "      <th>50%</th>\n",
       "      <td>0.000141</td>\n",
       "      <td>0.000146</td>\n",
       "      <td>0.000128</td>\n",
       "      <td>0.002941</td>\n",
       "      <td>0.001130</td>\n",
       "      <td>0.000063</td>\n",
       "    </tr>\n",
       "    <tr>\n",
       "      <th>75%</th>\n",
       "      <td>0.001582</td>\n",
       "      <td>0.001363</td>\n",
       "      <td>0.001529</td>\n",
       "      <td>0.309608</td>\n",
       "      <td>0.013352</td>\n",
       "      <td>0.001366</td>\n",
       "    </tr>\n",
       "    <tr>\n",
       "      <th>max</th>\n",
       "      <td>0.018204</td>\n",
       "      <td>0.015206</td>\n",
       "      <td>0.019735</td>\n",
       "      <td>inf</td>\n",
       "      <td>33.385878</td>\n",
       "      <td>0.019126</td>\n",
       "    </tr>\n",
       "  </tbody>\n",
       "</table>\n",
       "</div>"
      ],
      "text/plain": [
       "              cl_A         lo_A         se_A     volume_A         oi_A  \\\n",
       "count  7423.000000  7423.000000  7423.000000  7423.000000  7423.000000   \n",
       "mean      0.000112     0.000112     0.000112          inf     0.007094   \n",
       "std       0.002599     0.002385     0.002519          NaN     0.391756   \n",
       "min      -0.017423    -0.017679    -0.019006    -1.000000    -0.971345   \n",
       "25%      -0.001341    -0.001093    -0.001258    -0.231088    -0.009297   \n",
       "50%       0.000141     0.000146     0.000128     0.002941     0.001130   \n",
       "75%       0.001582     0.001363     0.001529     0.309608     0.013352   \n",
       "max       0.018204     0.015206     0.019735          inf    33.385878   \n",
       "\n",
       "              hi_A  \n",
       "count  7423.000000  \n",
       "mean      0.000112  \n",
       "std       0.002468  \n",
       "min      -0.016938  \n",
       "25%      -0.001113  \n",
       "50%       0.000063  \n",
       "75%       0.001366  \n",
       "max       0.019126  "
      ]
     },
     "execution_count": 939,
     "metadata": {},
     "output_type": "execute_result"
    }
   ],
   "source": [
    "A_ret.describe()"
   ]
  },
  {
   "cell_type": "markdown",
   "metadata": {},
   "source": [
    "Observe that the summary statistics for the columns volume_A_ret and oi_A_ret present certain missing information. \n",
    "We correct this by making changes to the original dataframe."
   ]
  },
  {
   "cell_type": "code",
   "execution_count": 940,
   "metadata": {
    "collapsed": true
   },
   "outputs": [],
   "source": [
    "mean_volume_A = A['volume_A'].mean()\n",
    "A['volume_A']= A.volume_A.mask(A.volume_A == 0,mean_volume_A)\n",
    "mean_oi_A = A['oi_A'].mean()\n",
    "A['oi_A']= A.oi_A.mask(A.oi_A == 0,mean_oi_A)"
   ]
  },
  {
   "cell_type": "code",
   "execution_count": 941,
   "metadata": {
    "collapsed": true
   },
   "outputs": [],
   "source": [
    "\"\"\"Since we have changed the dataframe A, we redefine A_ret\"\"\"\n",
    "A_ret = A.copy()\n",
    "del(A_ret['date'])\n",
    "A_ret = A_ret.pct_change()\n",
    "A_ret = A_ret.dropna(axis = 0)"
   ]
  },
  {
   "cell_type": "code",
   "execution_count": 942,
   "metadata": {
    "collapsed": true
   },
   "outputs": [],
   "source": [
    "add_ret(A_ret)"
   ]
  },
  {
   "cell_type": "code",
   "execution_count": 943,
   "metadata": {},
   "outputs": [
    {
     "data": {
      "text/html": [
       "<div>\n",
       "<style>\n",
       "    .dataframe thead tr:only-child th {\n",
       "        text-align: right;\n",
       "    }\n",
       "\n",
       "    .dataframe thead th {\n",
       "        text-align: left;\n",
       "    }\n",
       "\n",
       "    .dataframe tbody tr th {\n",
       "        vertical-align: top;\n",
       "    }\n",
       "</style>\n",
       "<table border=\"1\" class=\"dataframe\">\n",
       "  <thead>\n",
       "    <tr style=\"text-align: right;\">\n",
       "      <th></th>\n",
       "      <th>cl_A_ret</th>\n",
       "      <th>lo_A_ret</th>\n",
       "      <th>se_A_ret</th>\n",
       "      <th>volume_A_ret</th>\n",
       "      <th>oi_A_ret</th>\n",
       "      <th>hi_A_ret</th>\n",
       "    </tr>\n",
       "  </thead>\n",
       "  <tbody>\n",
       "    <tr>\n",
       "      <th>count</th>\n",
       "      <td>7423.000000</td>\n",
       "      <td>7423.000000</td>\n",
       "      <td>7423.000000</td>\n",
       "      <td>7423.000000</td>\n",
       "      <td>7423.000000</td>\n",
       "      <td>7423.000000</td>\n",
       "    </tr>\n",
       "    <tr>\n",
       "      <th>mean</th>\n",
       "      <td>0.000112</td>\n",
       "      <td>0.000112</td>\n",
       "      <td>0.000112</td>\n",
       "      <td>9.495339</td>\n",
       "      <td>0.007094</td>\n",
       "      <td>0.000112</td>\n",
       "    </tr>\n",
       "    <tr>\n",
       "      <th>std</th>\n",
       "      <td>0.002599</td>\n",
       "      <td>0.002385</td>\n",
       "      <td>0.002519</td>\n",
       "      <td>803.208829</td>\n",
       "      <td>0.391756</td>\n",
       "      <td>0.002468</td>\n",
       "    </tr>\n",
       "    <tr>\n",
       "      <th>min</th>\n",
       "      <td>-0.017423</td>\n",
       "      <td>-0.017679</td>\n",
       "      <td>-0.019006</td>\n",
       "      <td>-0.999949</td>\n",
       "      <td>-0.971345</td>\n",
       "      <td>-0.016938</td>\n",
       "    </tr>\n",
       "    <tr>\n",
       "      <th>25%</th>\n",
       "      <td>-0.001341</td>\n",
       "      <td>-0.001093</td>\n",
       "      <td>-0.001258</td>\n",
       "      <td>-0.231088</td>\n",
       "      <td>-0.009297</td>\n",
       "      <td>-0.001113</td>\n",
       "    </tr>\n",
       "    <tr>\n",
       "      <th>50%</th>\n",
       "      <td>0.000141</td>\n",
       "      <td>0.000146</td>\n",
       "      <td>0.000128</td>\n",
       "      <td>0.002941</td>\n",
       "      <td>0.001130</td>\n",
       "      <td>0.000063</td>\n",
       "    </tr>\n",
       "    <tr>\n",
       "      <th>75%</th>\n",
       "      <td>0.001582</td>\n",
       "      <td>0.001363</td>\n",
       "      <td>0.001529</td>\n",
       "      <td>0.309608</td>\n",
       "      <td>0.013352</td>\n",
       "      <td>0.001366</td>\n",
       "    </tr>\n",
       "    <tr>\n",
       "      <th>max</th>\n",
       "      <td>0.018204</td>\n",
       "      <td>0.015206</td>\n",
       "      <td>0.019735</td>\n",
       "      <td>69202.000000</td>\n",
       "      <td>33.385878</td>\n",
       "      <td>0.019126</td>\n",
       "    </tr>\n",
       "  </tbody>\n",
       "</table>\n",
       "</div>"
      ],
      "text/plain": [
       "          cl_A_ret     lo_A_ret     se_A_ret  volume_A_ret     oi_A_ret  \\\n",
       "count  7423.000000  7423.000000  7423.000000   7423.000000  7423.000000   \n",
       "mean      0.000112     0.000112     0.000112      9.495339     0.007094   \n",
       "std       0.002599     0.002385     0.002519    803.208829     0.391756   \n",
       "min      -0.017423    -0.017679    -0.019006     -0.999949    -0.971345   \n",
       "25%      -0.001341    -0.001093    -0.001258     -0.231088    -0.009297   \n",
       "50%       0.000141     0.000146     0.000128      0.002941     0.001130   \n",
       "75%       0.001582     0.001363     0.001529      0.309608     0.013352   \n",
       "max       0.018204     0.015206     0.019735  69202.000000    33.385878   \n",
       "\n",
       "          hi_A_ret  \n",
       "count  7423.000000  \n",
       "mean      0.000112  \n",
       "std       0.002468  \n",
       "min      -0.016938  \n",
       "25%      -0.001113  \n",
       "50%       0.000063  \n",
       "75%       0.001366  \n",
       "max       0.019126  "
      ]
     },
     "execution_count": 943,
     "metadata": {},
     "output_type": "execute_result"
    }
   ],
   "source": [
    "A_ret.describe()"
   ]
  },
  {
   "cell_type": "markdown",
   "metadata": {},
   "source": [
    "We observe that the standard deviation of the feature volume_B is \n",
    "larger than the other features. "
   ]
  },
  {
   "cell_type": "code",
   "execution_count": 944,
   "metadata": {},
   "outputs": [
    {
     "data": {
      "image/png": "[encoded data removed]",
      "text/plain": [
       "<matplotlib.figure.Figure at 0x1c1e93e198>"
      ]
     },
     "metadata": {},
     "output_type": "display_data"
    }
   ],
   "source": [
    "plt.plot(A_ret['volume_A_ret'])\n",
    "plt.show()"
   ]
  },
  {
   "cell_type": "markdown",
   "metadata": {},
   "source": [
    "We observe certain anomalies in the volume data and try to identify the precise points at which these anomalies occurred. "
   ]
  },
  {
   "cell_type": "code",
   "execution_count": 945,
   "metadata": {},
   "outputs": [
    {
     "name": "stdout",
     "output_type": "stream",
     "text": [
      "[2923]\n"
     ]
    }
   ],
   "source": [
    "outliersA = []\n",
    "for j in range(len(A_ret)):\n",
    "    if A_ret['volume_A_ret'][j] > 100:\n",
    "        outliersA.append(j)\n",
    "print(outliersA) "
   ]
  },
  {
   "cell_type": "markdown",
   "metadata": {},
   "source": [
    "We alter the volume data at the index 2923 as it is an extreme outlier and\n",
    "replace it with the values of the mean and the volume changes of the days before and after."
   ]
  },
  {
   "cell_type": "code",
   "execution_count": 946,
   "metadata": {
    "collapsed": true
   },
   "outputs": [],
   "source": [
    "for j in outliersA:\n",
    "    A_ret['volume_A_ret'][j] = A_ret['volume_A_ret'].mean()"
   ]
  },
  {
   "cell_type": "code",
   "execution_count": 947,
   "metadata": {},
   "outputs": [
    {
     "data": {
      "text/html": [
       "<div>\n",
       "<style>\n",
       "    .dataframe thead tr:only-child th {\n",
       "        text-align: right;\n",
       "    }\n",
       "\n",
       "    .dataframe thead th {\n",
       "        text-align: left;\n",
       "    }\n",
       "\n",
       "    .dataframe tbody tr th {\n",
       "        vertical-align: top;\n",
       "    }\n",
       "</style>\n",
       "<table border=\"1\" class=\"dataframe\">\n",
       "  <thead>\n",
       "    <tr style=\"text-align: right;\">\n",
       "      <th></th>\n",
       "      <th>cl_A_ret</th>\n",
       "      <th>lo_A_ret</th>\n",
       "      <th>se_A_ret</th>\n",
       "      <th>volume_A_ret</th>\n",
       "      <th>oi_A_ret</th>\n",
       "      <th>hi_A_ret</th>\n",
       "    </tr>\n",
       "  </thead>\n",
       "  <tbody>\n",
       "    <tr>\n",
       "      <th>count</th>\n",
       "      <td>7423.000000</td>\n",
       "      <td>7423.000000</td>\n",
       "      <td>7423.000000</td>\n",
       "      <td>7423.000000</td>\n",
       "      <td>7423.000000</td>\n",
       "      <td>7423.000000</td>\n",
       "    </tr>\n",
       "    <tr>\n",
       "      <th>mean</th>\n",
       "      <td>0.000112</td>\n",
       "      <td>0.000112</td>\n",
       "      <td>0.000112</td>\n",
       "      <td>0.173972</td>\n",
       "      <td>0.007094</td>\n",
       "      <td>0.000112</td>\n",
       "    </tr>\n",
       "    <tr>\n",
       "      <th>std</th>\n",
       "      <td>0.002599</td>\n",
       "      <td>0.002385</td>\n",
       "      <td>0.002519</td>\n",
       "      <td>1.384731</td>\n",
       "      <td>0.391756</td>\n",
       "      <td>0.002468</td>\n",
       "    </tr>\n",
       "    <tr>\n",
       "      <th>min</th>\n",
       "      <td>-0.017423</td>\n",
       "      <td>-0.017679</td>\n",
       "      <td>-0.019006</td>\n",
       "      <td>-0.999949</td>\n",
       "      <td>-0.971345</td>\n",
       "      <td>-0.016938</td>\n",
       "    </tr>\n",
       "    <tr>\n",
       "      <th>25%</th>\n",
       "      <td>-0.001341</td>\n",
       "      <td>-0.001093</td>\n",
       "      <td>-0.001258</td>\n",
       "      <td>-0.231088</td>\n",
       "      <td>-0.009297</td>\n",
       "      <td>-0.001113</td>\n",
       "    </tr>\n",
       "    <tr>\n",
       "      <th>50%</th>\n",
       "      <td>0.000141</td>\n",
       "      <td>0.000146</td>\n",
       "      <td>0.000128</td>\n",
       "      <td>0.002941</td>\n",
       "      <td>0.001130</td>\n",
       "      <td>0.000063</td>\n",
       "    </tr>\n",
       "    <tr>\n",
       "      <th>75%</th>\n",
       "      <td>0.001582</td>\n",
       "      <td>0.001363</td>\n",
       "      <td>0.001529</td>\n",
       "      <td>0.309608</td>\n",
       "      <td>0.013352</td>\n",
       "      <td>0.001366</td>\n",
       "    </tr>\n",
       "    <tr>\n",
       "      <th>max</th>\n",
       "      <td>0.018204</td>\n",
       "      <td>0.015206</td>\n",
       "      <td>0.019735</td>\n",
       "      <td>59.771923</td>\n",
       "      <td>33.385878</td>\n",
       "      <td>0.019126</td>\n",
       "    </tr>\n",
       "  </tbody>\n",
       "</table>\n",
       "</div>"
      ],
      "text/plain": [
       "          cl_A_ret     lo_A_ret     se_A_ret  volume_A_ret     oi_A_ret  \\\n",
       "count  7423.000000  7423.000000  7423.000000   7423.000000  7423.000000   \n",
       "mean      0.000112     0.000112     0.000112      0.173972     0.007094   \n",
       "std       0.002599     0.002385     0.002519      1.384731     0.391756   \n",
       "min      -0.017423    -0.017679    -0.019006     -0.999949    -0.971345   \n",
       "25%      -0.001341    -0.001093    -0.001258     -0.231088    -0.009297   \n",
       "50%       0.000141     0.000146     0.000128      0.002941     0.001130   \n",
       "75%       0.001582     0.001363     0.001529      0.309608     0.013352   \n",
       "max       0.018204     0.015206     0.019735     59.771923    33.385878   \n",
       "\n",
       "          hi_A_ret  \n",
       "count  7423.000000  \n",
       "mean      0.000112  \n",
       "std       0.002468  \n",
       "min      -0.016938  \n",
       "25%      -0.001113  \n",
       "50%       0.000063  \n",
       "75%       0.001366  \n",
       "max       0.019126  "
      ]
     },
     "execution_count": 947,
     "metadata": {},
     "output_type": "execute_result"
    }
   ],
   "source": [
    "A_ret.describe()"
   ]
  },
  {
   "cell_type": "markdown",
   "metadata": {},
   "source": [
    "We plot the autocorrelation function for the returns series - A_ret"
   ]
  },
  {
   "cell_type": "code",
   "execution_count": 948,
   "metadata": {},
   "outputs": [
    {
     "data": {
      "image/png": "[encoded data removed]",
      "text/plain": [
       "<matplotlib.figure.Figure at 0x1c1c6b30f0>"
      ]
     },
     "execution_count": 948,
     "metadata": {},
     "output_type": "execute_result"
    }
   ],
   "source": [
    "plot_acf(A_ret['cl_A_ret'],lags = 60,alpha = 0.5)"
   ]
  },
  {
   "cell_type": "markdown",
   "metadata": {},
   "source": [
    "It looks like the series is a white noise process because we do not see any non trivial auto correlations beyond lag 0. \n",
    "\n",
    "We make test quickly if this observation is accurate using the Dicky-Fuller test on the series A_ret. "
   ]
  },
  {
   "cell_type": "code",
   "execution_count": 949,
   "metadata": {},
   "outputs": [
    {
     "name": "stdout",
     "output_type": "stream",
     "text": [
      "The p-value is 0.950321143027\n"
     ]
    }
   ],
   "source": [
    "ad_fuller_test(A['cl_A'])"
   ]
  },
  {
   "cell_type": "markdown",
   "metadata": {},
   "source": [
    "The test implies that A is a random walk. "
   ]
  },
  {
   "cell_type": "markdown",
   "metadata": {},
   "source": [
    "We fit ARIMA(p,d,q) models to predict the opening price of the asset A given its previous opening prices. \n",
    "\n",
    "We begin by finding the most suitable p,d and q using the AIC and BIC scores. "
   ]
  },
  {
   "cell_type": "code",
   "execution_count": 950,
   "metadata": {},
   "outputs": [
    {
     "name": "stdout",
     "output_type": "stream",
     "text": [
      "The AIC list is \n",
      "[6367.204734102899, 6352.779344174587, 6354.529740009555, 6355.675267806924, 6355.755810134089]\n",
      "The BIC list is \n",
      "[6387.2721170688701, 6379.5358547958822, 6387.9753782861735, 6395.8100337388669, 6402.5797037213551]\n"
     ]
    }
   ],
   "source": [
    "ARIMA_fitting_AIC_BIC_list(A['cl_A'])"
   ]
  },
  {
   "cell_type": "markdown",
   "metadata": {},
   "source": [
    "The AIC and BIC scores tell us that a ARIMA(2,1,0) is a reasonable choice to make. We compute the MSE of the ARIMA(2,1,0) model as follows and find that on average the model has an error of 0.2024 using a Rolling forecast. "
   ]
  },
  {
   "cell_type": "markdown",
   "metadata": {},
   "source": [
    "Rolling forecast error calculation :"
   ]
  },
  {
   "cell_type": "code",
   "execution_count": 951,
   "metadata": {},
   "outputs": [
    {
     "name": "stderr",
     "output_type": "stream",
     "text": [
      "/Users/Welliareetil/anaconda3/lib/python3.6/site-packages/statsmodels/base/model.py:496: ConvergenceWarning: Maximum Likelihood optimization failed to converge. Check mle_retvals\n",
      "  \"Check mle_retvals\", ConvergenceWarning)\n",
      "/Users/Welliareetil/anaconda3/lib/python3.6/site-packages/statsmodels/base/model.py:496: ConvergenceWarning: Maximum Likelihood optimization failed to converge. Check mle_retvals\n",
      "  \"Check mle_retvals\", ConvergenceWarning)\n",
      "/Users/Welliareetil/anaconda3/lib/python3.6/site-packages/statsmodels/base/model.py:496: ConvergenceWarning: Maximum Likelihood optimization failed to converge. Check mle_retvals\n",
      "  \"Check mle_retvals\", ConvergenceWarning)\n"
     ]
    }
   ],
   "source": [
    "testA,predictions_A210 = ARIMA_rolling_forecast(A['cl_A'],2,1,0)"
   ]
  },
  {
   "cell_type": "markdown",
   "metadata": {},
   "source": [
    "We see in the graph below that the predictions follow the test data almost perfectly. "
   ]
  },
  {
   "cell_type": "code",
   "execution_count": 1273,
   "metadata": {},
   "outputs": [
    {
     "data": {
      "image/png": "[encoded data removed]",
      "text/plain": [
       "<matplotlib.figure.Figure at 0x1c2032f518>"
      ]
     },
     "metadata": {},
     "output_type": "display_data"
    }
   ],
   "source": [
    "plot_predictions(testA,predictions_A210)"
   ]
  },
  {
   "cell_type": "code",
   "execution_count": 953,
   "metadata": {},
   "outputs": [
    {
     "data": {
      "text/plain": [
       "0.15339644446267098"
      ]
     },
     "execution_count": 953,
     "metadata": {},
     "output_type": "execute_result"
    }
   ],
   "source": [
    "MSE(testA,predictions_A210)"
   ]
  },
  {
   "cell_type": "code",
   "execution_count": 954,
   "metadata": {
    "collapsed": true
   },
   "outputs": [],
   "source": [
    "a = MSE(testA,predictions_A210)\n",
    "Final_results_MSE[0][0] = a"
   ]
  },
  {
   "cell_type": "markdown",
   "metadata": {},
   "source": [
    "We calculate the mean absolute scaled error so as to be able to compare the models for the different series. "
   ]
  },
  {
   "cell_type": "code",
   "execution_count": 956,
   "metadata": {},
   "outputs": [
    {
     "data": {
      "text/plain": [
       "0.99708340743680879"
      ]
     },
     "execution_count": 956,
     "metadata": {},
     "output_type": "execute_result"
    }
   ],
   "source": [
    "MASE(testA,predictions_A210)"
   ]
  },
  {
   "cell_type": "code",
   "execution_count": 957,
   "metadata": {
    "collapsed": true
   },
   "outputs": [],
   "source": [
    "a1 = MASE(testA,predictions_A210)"
   ]
  },
  {
   "cell_type": "code",
   "execution_count": 958,
   "metadata": {
    "collapsed": true
   },
   "outputs": [],
   "source": [
    "Final_results_MASE[0][0] = a1"
   ]
  },
  {
   "cell_type": "markdown",
   "metadata": {},
   "source": [
    "We also test an ARIMA(5,1,0) model."
   ]
  },
  {
   "cell_type": "code",
   "execution_count": 960,
   "metadata": {},
   "outputs": [],
   "source": [
    "testA,predictions_A510 = ARIMA_rolling_forecast(A['cl_A'],5,1,0)  "
   ]
  },
  {
   "cell_type": "code",
   "execution_count": 961,
   "metadata": {},
   "outputs": [
    {
     "data": {
      "text/plain": [
       "0.15322001187149034"
      ]
     },
     "execution_count": 961,
     "metadata": {},
     "output_type": "execute_result"
    }
   ],
   "source": [
    "MSE(testA,predictions_A510)"
   ]
  },
  {
   "cell_type": "code",
   "execution_count": 962,
   "metadata": {},
   "outputs": [
    {
     "data": {
      "text/plain": [
       "0.99693765619143582"
      ]
     },
     "execution_count": 962,
     "metadata": {},
     "output_type": "execute_result"
    }
   ],
   "source": [
    "MASE(testA,predictions_A510)"
   ]
  },
  {
   "cell_type": "markdown",
   "metadata": {},
   "source": [
    "# VAR models for closing price of asset A"
   ]
  },
  {
   "cell_type": "markdown",
   "metadata": {},
   "source": [
    "We begin by selecting a suitable model for prediction. We do so in two ways. Firstly, \n",
    "by selecting according to the BIC score. "
   ]
  },
  {
   "cell_type": "code",
   "execution_count": 963,
   "metadata": {},
   "outputs": [
    {
     "name": "stdout",
     "output_type": "stream",
     "text": [
      "                 VAR Order Selection                  \n",
      "======================================================\n",
      "            aic          bic          fpe         hqic\n",
      "------------------------------------------------------\n",
      "0        -50.72       -50.71    9.410e-23       -50.71\n",
      "1        -52.42       -52.37    1.716e-23       -52.40\n",
      "2        -52.84       -52.74    1.128e-23       -52.80\n",
      "3        -53.07       -52.92    8.979e-24       -53.02\n",
      "4        -53.20       -53.01    7.828e-24       -53.14\n",
      "5        -53.28       -53.04    7.257e-24       -53.20\n",
      "6        -53.35       -53.07    6.783e-24       -53.25\n",
      "7        -53.39      -53.07*    6.479e-24       -53.28\n",
      "8        -53.43       -53.06    6.248e-24       -53.30\n",
      "9        -53.46       -53.04    6.067e-24       -53.31\n",
      "10       -53.48       -53.02    5.918e-24      -53.32*\n",
      "11       -53.49       -52.98    5.869e-24       -53.31\n",
      "12       -53.50       -52.95    5.819e-24       -53.31\n",
      "13       -53.52       -52.92    5.727e-24       -53.31\n",
      "14       -53.52       -52.87    5.716e-24       -53.29\n",
      "15       -53.52       -52.83    5.717e-24       -53.28\n",
      "16       -53.53       -52.79    5.678e-24       -53.27\n",
      "17       -53.53       -52.74    5.672e-24       -53.25\n",
      "18      -53.53*       -52.70   5.636e-24*       -53.24\n",
      "19       -53.53       -52.65    5.670e-24       -53.22\n",
      "20       -53.52       -52.60    5.689e-24       -53.20\n",
      "21       -53.52       -52.56    5.690e-24       -53.19\n",
      "22       -53.52       -52.51    5.706e-24       -53.17\n",
      "23       -53.52       -52.47    5.695e-24       -53.15\n",
      "24       -53.52       -52.42    5.711e-24       -53.13\n",
      "25       -53.51       -52.36    5.750e-24       -53.11\n",
      "26       -53.51       -52.31    5.778e-24       -53.09\n",
      "27       -53.50       -52.26    5.819e-24       -53.07\n",
      "28       -53.50       -52.21    5.832e-24       -53.05\n",
      "29       -53.49       -52.16    5.861e-24       -53.03\n",
      "30       -53.49       -52.12    5.867e-24       -53.01\n",
      "======================================================\n",
      "* Minimum\n",
      "\n"
     ]
    },
    {
     "data": {
      "text/plain": [
       "{'aic': 18, 'bic': 7, 'fpe': 18, 'hqic': 10}"
      ]
     },
     "execution_count": 963,
     "metadata": {},
     "output_type": "execute_result"
    }
   ],
   "source": [
    "selecting_model(A_ret,['cl_A_ret','hi_A_ret', 'lo_A_ret', 'se_A_ret', 'volume_A_ret', 'oi_A_ret'])"
   ]
  },
  {
   "cell_type": "markdown",
   "metadata": {},
   "source": [
    "We now write a function that tests the model using a rolling forecast for the given data. \n",
    "\n",
    "** Make sure the date column has already been removed.\n",
    "\n",
    "** Make sure the first element of the list l is the column 'cl_A_ret'"
   ]
  },
  {
   "cell_type": "code",
   "execution_count": 964,
   "metadata": {
    "collapsed": true
   },
   "outputs": [],
   "source": [
    "l = ['cl_A_ret','hi_A_ret', 'lo_A_ret', 'se_A_ret', 'volume_A_ret', 'oi_A_ret']\n",
    "test, predictions = VAR_rolling_forecast(A_ret,l,7,split = 0.8)"
   ]
  },
  {
   "cell_type": "code",
   "execution_count": 965,
   "metadata": {
    "collapsed": true
   },
   "outputs": [],
   "source": [
    "size = int(len(A_ret)*0.8)\n",
    "test,predictions = recover_asset_predictions(A['cl_A'],size,testB,predictions)"
   ]
  },
  {
   "cell_type": "code",
   "execution_count": 966,
   "metadata": {},
   "outputs": [
    {
     "data": {
      "text/plain": [
       "0.15416406067127819"
      ]
     },
     "execution_count": 966,
     "metadata": {},
     "output_type": "execute_result"
    }
   ],
   "source": [
    "MSE(test,predictions)"
   ]
  },
  {
   "cell_type": "code",
   "execution_count": 967,
   "metadata": {},
   "outputs": [
    {
     "data": {
      "text/plain": [
       "0.99934240716961165"
      ]
     },
     "execution_count": 967,
     "metadata": {},
     "output_type": "execute_result"
    }
   ],
   "source": [
    "MASE(test,predictions)"
   ]
  },
  {
   "cell_type": "markdown",
   "metadata": {},
   "source": [
    "We observe that we don't beat the previous  use another approach when tuning the hyper-parameter p. We split into three segments [0:a], [a+1:b] and [b+1:]. For a given p, \n",
    "we fit a VAR(p) on the data in the segment [0:a] and then test this on [a+1:b]. We then choose the best \n",
    "such p and test on [b+1:]. We choose 'a' so that the segment [0:a] represents roughly 64% of the data, and we choose \n",
    "'b' so that [b+1,:] contains approximates 20% of the data. "
   ]
  },
  {
   "cell_type": "code",
   "execution_count": 968,
   "metadata": {
    "collapsed": true
   },
   "outputs": [],
   "source": [
    "MASE_list = []\n",
    "MSE_list = []\n",
    "for p in range(1,4):\n",
    "    size1 = int(len(A_ret)*.8)\n",
    "    test, predictions = VAR_rolling_forecast(A_ret[0:size1],l,p,0.8) \n",
    "    size = int(len(A_ret[0:size1])*0.80)\n",
    "    test,predictions = recover_asset_predictions(A[0:size1+1]['cl_A'],size,test,predictions) \n",
    "    MSE_list.append(MSE(test,predictions))\n",
    "    MASE_list.append(MASE(test,predictions))"
   ]
  },
  {
   "cell_type": "code",
   "execution_count": 969,
   "metadata": {},
   "outputs": [
    {
     "data": {
      "text/plain": [
       "[0.3605325267243199, 0.35923642497468405, 0.36041877053542021]"
      ]
     },
     "execution_count": 969,
     "metadata": {},
     "output_type": "execute_result"
    }
   ],
   "source": [
    "MSE_list"
   ]
  },
  {
   "cell_type": "code",
   "execution_count": 970,
   "metadata": {},
   "outputs": [
    {
     "data": {
      "text/plain": [
       "[0.99626454109461049, 0.9960144308495289, 0.99648105974401247]"
      ]
     },
     "execution_count": 970,
     "metadata": {},
     "output_type": "execute_result"
    }
   ],
   "source": [
    "MASE_list"
   ]
  },
  {
   "cell_type": "code",
   "execution_count": 971,
   "metadata": {},
   "outputs": [
    {
     "name": "stdout",
     "output_type": "stream",
     "text": [
      "The MSE is 0.15317573829\n",
      "The MASE is 0.996208228973\n"
     ]
    }
   ],
   "source": [
    "test, predictions = VAR_rolling_forecast(A_ret,l,2,0.8) \n",
    "size = int(len(A_ret)*0.80)\n",
    "test,predictions = recover_asset_predictions(A['cl_A'],size,test,predictions) \n",
    "print(\"The MSE is \" + str(MSE(test,predictions)))\n",
    "print(\"The MASE is \" + str(MASE(test,predictions)))"
   ]
  },
  {
   "cell_type": "code",
   "execution_count": 972,
   "metadata": {},
   "outputs": [],
   "source": [
    "Final_results_MASE[0][1] = MASE(test,predictions)\n",
    "Final_results_MSE[0][1] = MSE(test,predictions)"
   ]
  },
  {
   "cell_type": "code",
   "execution_count": 974,
   "metadata": {},
   "outputs": [],
   "source": [
    "tst,prd = naive_model(A['cl_A'])\n",
    "Final_results_MSE[0][2] = MSE(tst,prd)\n",
    "Final_results_MASE[0][2] = MASE(tst,prd)"
   ]
  },
  {
   "cell_type": "markdown",
   "metadata": {},
   "source": [
    "# We predict the closing price of asset B"
   ]
  },
  {
   "cell_type": "markdown",
   "metadata": {},
   "source": [
    "We will study the returns dataframe associated to the asset B. Before doing so,\n",
    "we make minor adjustments to the dataframe B to rectify issues with the column\n",
    "volume_B_ret as seen below. "
   ]
  },
  {
   "cell_type": "code",
   "execution_count": 975,
   "metadata": {},
   "outputs": [
    {
     "data": {
      "text/html": [
       "<div>\n",
       "<style>\n",
       "    .dataframe thead tr:only-child th {\n",
       "        text-align: right;\n",
       "    }\n",
       "\n",
       "    .dataframe thead th {\n",
       "        text-align: left;\n",
       "    }\n",
       "\n",
       "    .dataframe tbody tr th {\n",
       "        vertical-align: top;\n",
       "    }\n",
       "</style>\n",
       "<table border=\"1\" class=\"dataframe\">\n",
       "  <thead>\n",
       "    <tr style=\"text-align: right;\">\n",
       "      <th></th>\n",
       "      <th>cl_B</th>\n",
       "      <th>lo_B</th>\n",
       "      <th>se_B</th>\n",
       "      <th>volume_B</th>\n",
       "      <th>oi_B</th>\n",
       "      <th>hi_B</th>\n",
       "    </tr>\n",
       "  </thead>\n",
       "  <tbody>\n",
       "    <tr>\n",
       "      <th>count</th>\n",
       "      <td>8957.000000</td>\n",
       "      <td>8957.000000</td>\n",
       "      <td>8957.000000</td>\n",
       "      <td>8957.000000</td>\n",
       "      <td>8957.000000</td>\n",
       "      <td>8957.000000</td>\n",
       "    </tr>\n",
       "    <tr>\n",
       "      <th>mean</th>\n",
       "      <td>0.000188</td>\n",
       "      <td>0.000187</td>\n",
       "      <td>0.000187</td>\n",
       "      <td>inf</td>\n",
       "      <td>0.020019</td>\n",
       "      <td>0.000186</td>\n",
       "    </tr>\n",
       "    <tr>\n",
       "      <th>std</th>\n",
       "      <td>0.004550</td>\n",
       "      <td>0.003997</td>\n",
       "      <td>0.004231</td>\n",
       "      <td>NaN</td>\n",
       "      <td>1.625826</td>\n",
       "      <td>0.004039</td>\n",
       "    </tr>\n",
       "    <tr>\n",
       "      <th>min</th>\n",
       "      <td>-0.030137</td>\n",
       "      <td>-0.025499</td>\n",
       "      <td>-0.024001</td>\n",
       "      <td>-1.000000</td>\n",
       "      <td>-0.992675</td>\n",
       "      <td>-0.022499</td>\n",
       "    </tr>\n",
       "    <tr>\n",
       "      <th>25%</th>\n",
       "      <td>-0.002288</td>\n",
       "      <td>-0.001829</td>\n",
       "      <td>-0.002102</td>\n",
       "      <td>-0.225134</td>\n",
       "      <td>-0.010818</td>\n",
       "      <td>-0.001830</td>\n",
       "    </tr>\n",
       "    <tr>\n",
       "      <th>50%</th>\n",
       "      <td>0.000126</td>\n",
       "      <td>0.000276</td>\n",
       "      <td>0.000150</td>\n",
       "      <td>0.004957</td>\n",
       "      <td>0.001439</td>\n",
       "      <td>0.000118</td>\n",
       "    </tr>\n",
       "    <tr>\n",
       "      <th>75%</th>\n",
       "      <td>0.002668</td>\n",
       "      <td>0.002230</td>\n",
       "      <td>0.002513</td>\n",
       "      <td>0.303968</td>\n",
       "      <td>0.014950</td>\n",
       "      <td>0.002216</td>\n",
       "    </tr>\n",
       "    <tr>\n",
       "      <th>max</th>\n",
       "      <td>0.044639</td>\n",
       "      <td>0.042678</td>\n",
       "      <td>0.036305</td>\n",
       "      <td>inf</td>\n",
       "      <td>153.604520</td>\n",
       "      <td>0.035004</td>\n",
       "    </tr>\n",
       "  </tbody>\n",
       "</table>\n",
       "</div>"
      ],
      "text/plain": [
       "              cl_B         lo_B         se_B     volume_B         oi_B  \\\n",
       "count  8957.000000  8957.000000  8957.000000  8957.000000  8957.000000   \n",
       "mean      0.000188     0.000187     0.000187          inf     0.020019   \n",
       "std       0.004550     0.003997     0.004231          NaN     1.625826   \n",
       "min      -0.030137    -0.025499    -0.024001    -1.000000    -0.992675   \n",
       "25%      -0.002288    -0.001829    -0.002102    -0.225134    -0.010818   \n",
       "50%       0.000126     0.000276     0.000150     0.004957     0.001439   \n",
       "75%       0.002668     0.002230     0.002513     0.303968     0.014950   \n",
       "max       0.044639     0.042678     0.036305          inf   153.604520   \n",
       "\n",
       "              hi_B  \n",
       "count  8957.000000  \n",
       "mean      0.000186  \n",
       "std       0.004039  \n",
       "min      -0.022499  \n",
       "25%      -0.001830  \n",
       "50%       0.000118  \n",
       "75%       0.002216  \n",
       "max       0.035004  "
      ]
     },
     "execution_count": 975,
     "metadata": {},
     "output_type": "execute_result"
    }
   ],
   "source": [
    "B_ret.describe()"
   ]
  },
  {
   "cell_type": "code",
   "execution_count": 976,
   "metadata": {
    "collapsed": true
   },
   "outputs": [],
   "source": [
    "mean_volume_B = B['volume_B'].mean()\n",
    "B['volume_B']= B.volume_B.mask(B.volume_B == 0,mean_volume_B)\n",
    "mean_oi_B = B['oi_B'].mean()\n",
    "B['oi_B']= B.oi_B.mask(B.oi_B == 0,mean_oi_B)"
   ]
  },
  {
   "cell_type": "code",
   "execution_count": 977,
   "metadata": {},
   "outputs": [],
   "source": [
    "\"\"\"Since we have changed the dataframe D, we redefine D_ret\"\"\"\n",
    "B_ret = B.copy()\n",
    "del(B_ret['date'])\n",
    "B_ret = B_ret.pct_change()\n",
    "B_ret = B_ret.dropna(axis = 0)"
   ]
  },
  {
   "cell_type": "code",
   "execution_count": 978,
   "metadata": {
    "scrolled": true
   },
   "outputs": [
    {
     "data": {
      "text/html": [
       "<div>\n",
       "<style>\n",
       "    .dataframe thead tr:only-child th {\n",
       "        text-align: right;\n",
       "    }\n",
       "\n",
       "    .dataframe thead th {\n",
       "        text-align: left;\n",
       "    }\n",
       "\n",
       "    .dataframe tbody tr th {\n",
       "        vertical-align: top;\n",
       "    }\n",
       "</style>\n",
       "<table border=\"1\" class=\"dataframe\">\n",
       "  <thead>\n",
       "    <tr style=\"text-align: right;\">\n",
       "      <th></th>\n",
       "      <th>cl_B</th>\n",
       "      <th>lo_B</th>\n",
       "      <th>se_B</th>\n",
       "      <th>volume_B</th>\n",
       "      <th>oi_B</th>\n",
       "      <th>hi_B</th>\n",
       "    </tr>\n",
       "  </thead>\n",
       "  <tbody>\n",
       "    <tr>\n",
       "      <th>count</th>\n",
       "      <td>8957.000000</td>\n",
       "      <td>8957.000000</td>\n",
       "      <td>8957.000000</td>\n",
       "      <td>8957.000000</td>\n",
       "      <td>8957.000000</td>\n",
       "      <td>8957.000000</td>\n",
       "    </tr>\n",
       "    <tr>\n",
       "      <th>mean</th>\n",
       "      <td>0.000188</td>\n",
       "      <td>0.000187</td>\n",
       "      <td>0.000187</td>\n",
       "      <td>0.243783</td>\n",
       "      <td>0.020019</td>\n",
       "      <td>0.000186</td>\n",
       "    </tr>\n",
       "    <tr>\n",
       "      <th>std</th>\n",
       "      <td>0.004550</td>\n",
       "      <td>0.003997</td>\n",
       "      <td>0.004231</td>\n",
       "      <td>7.118005</td>\n",
       "      <td>1.625826</td>\n",
       "      <td>0.004039</td>\n",
       "    </tr>\n",
       "    <tr>\n",
       "      <th>min</th>\n",
       "      <td>-0.030137</td>\n",
       "      <td>-0.025499</td>\n",
       "      <td>-0.024001</td>\n",
       "      <td>-0.998411</td>\n",
       "      <td>-0.992675</td>\n",
       "      <td>-0.022499</td>\n",
       "    </tr>\n",
       "    <tr>\n",
       "      <th>25%</th>\n",
       "      <td>-0.002288</td>\n",
       "      <td>-0.001829</td>\n",
       "      <td>-0.002102</td>\n",
       "      <td>-0.225134</td>\n",
       "      <td>-0.010818</td>\n",
       "      <td>-0.001830</td>\n",
       "    </tr>\n",
       "    <tr>\n",
       "      <th>50%</th>\n",
       "      <td>0.000126</td>\n",
       "      <td>0.000276</td>\n",
       "      <td>0.000150</td>\n",
       "      <td>0.004957</td>\n",
       "      <td>0.001439</td>\n",
       "      <td>0.000118</td>\n",
       "    </tr>\n",
       "    <tr>\n",
       "      <th>75%</th>\n",
       "      <td>0.002668</td>\n",
       "      <td>0.002230</td>\n",
       "      <td>0.002513</td>\n",
       "      <td>0.303968</td>\n",
       "      <td>0.014950</td>\n",
       "      <td>0.002216</td>\n",
       "    </tr>\n",
       "    <tr>\n",
       "      <th>max</th>\n",
       "      <td>0.044639</td>\n",
       "      <td>0.042678</td>\n",
       "      <td>0.036305</td>\n",
       "      <td>645.428571</td>\n",
       "      <td>153.604520</td>\n",
       "      <td>0.035004</td>\n",
       "    </tr>\n",
       "  </tbody>\n",
       "</table>\n",
       "</div>"
      ],
      "text/plain": [
       "              cl_B         lo_B         se_B     volume_B         oi_B  \\\n",
       "count  8957.000000  8957.000000  8957.000000  8957.000000  8957.000000   \n",
       "mean      0.000188     0.000187     0.000187     0.243783     0.020019   \n",
       "std       0.004550     0.003997     0.004231     7.118005     1.625826   \n",
       "min      -0.030137    -0.025499    -0.024001    -0.998411    -0.992675   \n",
       "25%      -0.002288    -0.001829    -0.002102    -0.225134    -0.010818   \n",
       "50%       0.000126     0.000276     0.000150     0.004957     0.001439   \n",
       "75%       0.002668     0.002230     0.002513     0.303968     0.014950   \n",
       "max       0.044639     0.042678     0.036305   645.428571   153.604520   \n",
       "\n",
       "              hi_B  \n",
       "count  8957.000000  \n",
       "mean      0.000186  \n",
       "std       0.004039  \n",
       "min      -0.022499  \n",
       "25%      -0.001830  \n",
       "50%       0.000118  \n",
       "75%       0.002216  \n",
       "max       0.035004  "
      ]
     },
     "execution_count": 978,
     "metadata": {},
     "output_type": "execute_result"
    }
   ],
   "source": [
    "B_ret.describe()"
   ]
  },
  {
   "cell_type": "markdown",
   "metadata": {},
   "source": [
    "We observe that the standard deviation of the feature volume_B is \n",
    "larger than the other features. "
   ]
  },
  {
   "cell_type": "code",
   "execution_count": 979,
   "metadata": {
    "collapsed": true
   },
   "outputs": [],
   "source": [
    "add_ret(B_ret)"
   ]
  },
  {
   "cell_type": "code",
   "execution_count": 980,
   "metadata": {},
   "outputs": [
    {
     "data": {
      "image/png": "[encoded data removed]",
      "text/plain": [
       "<matplotlib.figure.Figure at 0x1c1c6977b8>"
      ]
     },
     "metadata": {},
     "output_type": "display_data"
    }
   ],
   "source": [
    "plt.plot(B_ret['volume_B_ret'])\n",
    "plt.show()"
   ]
  },
  {
   "cell_type": "markdown",
   "metadata": {},
   "source": [
    "We observe certain anomalies in the volume data and try to identify the precise points at which these anomalies occurred. "
   ]
  },
  {
   "cell_type": "code",
   "execution_count": 981,
   "metadata": {},
   "outputs": [
    {
     "name": "stdout",
     "output_type": "stream",
     "text": [
      "[797, 1285, 4454]\n"
     ]
    }
   ],
   "source": [
    "outliersB = []\n",
    "for j in range(len(B_ret)):\n",
    "    if B_ret['volume_B_ret'][j] > 100:\n",
    "        outliersB.append(j)\n",
    "print(outliersB)  "
   ]
  },
  {
   "cell_type": "markdown",
   "metadata": {},
   "source": [
    "There are two days which had significant volume changes - 05/06/1985 - 645%, 28/06/2001 - 132%. We consider these extreme outliers and hence alter the information here by replace the values with the mean of the volume changes of the days before and after. "
   ]
  },
  {
   "cell_type": "code",
   "execution_count": 982,
   "metadata": {
    "collapsed": true
   },
   "outputs": [],
   "source": [
    "for j in outliersB:\n",
    "    B_ret['volume_B_ret'][j] = B_ret['volume_B_ret'].mean()"
   ]
  },
  {
   "cell_type": "code",
   "execution_count": 983,
   "metadata": {},
   "outputs": [
    {
     "data": {
      "text/html": [
       "<div>\n",
       "<style>\n",
       "    .dataframe thead tr:only-child th {\n",
       "        text-align: right;\n",
       "    }\n",
       "\n",
       "    .dataframe thead th {\n",
       "        text-align: left;\n",
       "    }\n",
       "\n",
       "    .dataframe tbody tr th {\n",
       "        vertical-align: top;\n",
       "    }\n",
       "</style>\n",
       "<table border=\"1\" class=\"dataframe\">\n",
       "  <thead>\n",
       "    <tr style=\"text-align: right;\">\n",
       "      <th></th>\n",
       "      <th>cl_B_ret</th>\n",
       "      <th>lo_B_ret</th>\n",
       "      <th>se_B_ret</th>\n",
       "      <th>volume_B_ret</th>\n",
       "      <th>oi_B_ret</th>\n",
       "      <th>hi_B_ret</th>\n",
       "    </tr>\n",
       "  </thead>\n",
       "  <tbody>\n",
       "    <tr>\n",
       "      <th>count</th>\n",
       "      <td>8957.000000</td>\n",
       "      <td>8957.000000</td>\n",
       "      <td>8957.000000</td>\n",
       "      <td>8957.000000</td>\n",
       "      <td>8957.000000</td>\n",
       "      <td>8957.000000</td>\n",
       "    </tr>\n",
       "    <tr>\n",
       "      <th>mean</th>\n",
       "      <td>0.000188</td>\n",
       "      <td>0.000187</td>\n",
       "      <td>0.000187</td>\n",
       "      <td>0.145215</td>\n",
       "      <td>0.020019</td>\n",
       "      <td>0.000186</td>\n",
       "    </tr>\n",
       "    <tr>\n",
       "      <th>std</th>\n",
       "      <td>0.004550</td>\n",
       "      <td>0.003997</td>\n",
       "      <td>0.004231</td>\n",
       "      <td>0.992099</td>\n",
       "      <td>1.625826</td>\n",
       "      <td>0.004039</td>\n",
       "    </tr>\n",
       "    <tr>\n",
       "      <th>min</th>\n",
       "      <td>-0.030137</td>\n",
       "      <td>-0.025499</td>\n",
       "      <td>-0.024001</td>\n",
       "      <td>-0.998411</td>\n",
       "      <td>-0.992675</td>\n",
       "      <td>-0.022499</td>\n",
       "    </tr>\n",
       "    <tr>\n",
       "      <th>25%</th>\n",
       "      <td>-0.002288</td>\n",
       "      <td>-0.001829</td>\n",
       "      <td>-0.002102</td>\n",
       "      <td>-0.225134</td>\n",
       "      <td>-0.010818</td>\n",
       "      <td>-0.001830</td>\n",
       "    </tr>\n",
       "    <tr>\n",
       "      <th>50%</th>\n",
       "      <td>0.000126</td>\n",
       "      <td>0.000276</td>\n",
       "      <td>0.000150</td>\n",
       "      <td>0.004957</td>\n",
       "      <td>0.001439</td>\n",
       "      <td>0.000118</td>\n",
       "    </tr>\n",
       "    <tr>\n",
       "      <th>75%</th>\n",
       "      <td>0.002668</td>\n",
       "      <td>0.002230</td>\n",
       "      <td>0.002513</td>\n",
       "      <td>0.303225</td>\n",
       "      <td>0.014950</td>\n",
       "      <td>0.002216</td>\n",
       "    </tr>\n",
       "    <tr>\n",
       "      <th>max</th>\n",
       "      <td>0.044639</td>\n",
       "      <td>0.042678</td>\n",
       "      <td>0.036305</td>\n",
       "      <td>32.110540</td>\n",
       "      <td>153.604520</td>\n",
       "      <td>0.035004</td>\n",
       "    </tr>\n",
       "  </tbody>\n",
       "</table>\n",
       "</div>"
      ],
      "text/plain": [
       "          cl_B_ret     lo_B_ret     se_B_ret  volume_B_ret     oi_B_ret  \\\n",
       "count  8957.000000  8957.000000  8957.000000   8957.000000  8957.000000   \n",
       "mean      0.000188     0.000187     0.000187      0.145215     0.020019   \n",
       "std       0.004550     0.003997     0.004231      0.992099     1.625826   \n",
       "min      -0.030137    -0.025499    -0.024001     -0.998411    -0.992675   \n",
       "25%      -0.002288    -0.001829    -0.002102     -0.225134    -0.010818   \n",
       "50%       0.000126     0.000276     0.000150      0.004957     0.001439   \n",
       "75%       0.002668     0.002230     0.002513      0.303225     0.014950   \n",
       "max       0.044639     0.042678     0.036305     32.110540   153.604520   \n",
       "\n",
       "          hi_B_ret  \n",
       "count  8957.000000  \n",
       "mean      0.000186  \n",
       "std       0.004039  \n",
       "min      -0.022499  \n",
       "25%      -0.001830  \n",
       "50%       0.000118  \n",
       "75%       0.002216  \n",
       "max       0.035004  "
      ]
     },
     "execution_count": 983,
     "metadata": {},
     "output_type": "execute_result"
    }
   ],
   "source": [
    "B_ret.describe()"
   ]
  },
  {
   "cell_type": "markdown",
   "metadata": {},
   "source": [
    "We plot the ACF for the returns series of B which is stationary. "
   ]
  },
  {
   "cell_type": "code",
   "execution_count": 984,
   "metadata": {},
   "outputs": [
    {
     "data": {
      "image/png": "[encoded data removed]",
      "text/plain": [
       "<matplotlib.figure.Figure at 0x1c1c0e4748>"
      ]
     },
     "execution_count": 984,
     "metadata": {},
     "output_type": "execute_result"
    }
   ],
   "source": [
    "plot_acf(B_ret['cl_B_ret'],lags = 60,alpha = 0.5)"
   ]
  },
  {
   "cell_type": "code",
   "execution_count": 985,
   "metadata": {},
   "outputs": [
    {
     "name": "stdout",
     "output_type": "stream",
     "text": [
      "The p-value is 0.962604036252\n"
     ]
    }
   ],
   "source": [
    "ad_fuller_test(B['cl_B'])"
   ]
  },
  {
   "cell_type": "markdown",
   "metadata": {},
   "source": [
    "It is extremely likely that B is a random walk."
   ]
  },
  {
   "cell_type": "code",
   "execution_count": 986,
   "metadata": {},
   "outputs": [
    {
     "name": "stdout",
     "output_type": "stream",
     "text": [
      "The AIC list is \n",
      "[21541.39964972225, 21531.6183016243, 21533.617490389217, 21534.75229594119, 21535.181237305533]\n",
      "The BIC list is \n",
      "[21562.030539743038, 21559.126154985352, 21568.00230709053, 21576.014075982763, 21583.319980687367]\n"
     ]
    }
   ],
   "source": [
    "ARIMA_fitting_AIC_BIC_list(B['cl_B'])"
   ]
  },
  {
   "cell_type": "markdown",
   "metadata": {},
   "source": [
    "Selection in this case is slightly more difficult. We choose the ARIMA(1,1,0) model. We will also test the ARIMA(4,1,0) model and the ARIMA(2,1,0) model. "
   ]
  },
  {
   "cell_type": "code",
   "execution_count": 987,
   "metadata": {},
   "outputs": [
    {
     "name": "stderr",
     "output_type": "stream",
     "text": [
      "/Users/Welliareetil/anaconda3/lib/python3.6/site-packages/statsmodels/base/model.py:496: ConvergenceWarning: Maximum Likelihood optimization failed to converge. Check mle_retvals\n",
      "  \"Check mle_retvals\", ConvergenceWarning)\n"
     ]
    }
   ],
   "source": [
    "testB,predictions_B110 = ARIMA_rolling_forecast(B['cl_B'],1,1,0)"
   ]
  },
  {
   "cell_type": "code",
   "execution_count": 1272,
   "metadata": {},
   "outputs": [],
   "source": [
    "#plot_predictions(testB,predictions_B110)"
   ]
  },
  {
   "cell_type": "code",
   "execution_count": 989,
   "metadata": {},
   "outputs": [
    {
     "name": "stdout",
     "output_type": "stream",
     "text": [
      "2.28790773263\n"
     ]
    }
   ],
   "source": [
    "errorB110 = mean_squared_error(testB,predictions_B110)\n",
    "print(errorB110)"
   ]
  },
  {
   "cell_type": "code",
   "execution_count": 990,
   "metadata": {
    "collapsed": true
   },
   "outputs": [],
   "source": [
    "Final_results_MSE[1][0] = errorB110"
   ]
  },
  {
   "cell_type": "code",
   "execution_count": 991,
   "metadata": {},
   "outputs": [
    {
     "data": {
      "text/plain": [
       "0.99485922209537103"
      ]
     },
     "execution_count": 991,
     "metadata": {},
     "output_type": "execute_result"
    }
   ],
   "source": [
    "MASE(testB,predictions_B110)"
   ]
  },
  {
   "cell_type": "code",
   "execution_count": 992,
   "metadata": {
    "collapsed": true
   },
   "outputs": [],
   "source": [
    "h1 = MASE(testB,predictions_B110)\n",
    "Final_results_MASE[1][0] = h1"
   ]
  },
  {
   "cell_type": "markdown",
   "metadata": {},
   "source": [
    "We see that the mean absolute scaled error in this case indicates that the model performs WORSE than \n",
    "a model which predicts tomorrows opening price as todays price. To be sure we employ an ARIMA(2,1,0) model as well. "
   ]
  },
  {
   "cell_type": "code",
   "execution_count": 994,
   "metadata": {},
   "outputs": [
    {
     "name": "stderr",
     "output_type": "stream",
     "text": [
      "/Users/Welliareetil/anaconda3/lib/python3.6/site-packages/statsmodels/base/model.py:496: ConvergenceWarning: Maximum Likelihood optimization failed to converge. Check mle_retvals\n",
      "  \"Check mle_retvals\", ConvergenceWarning)\n"
     ]
    }
   ],
   "source": [
    "testB,predictions_B210 = ARIMA_rolling_forecast(B['cl_B'],2,1,0)"
   ]
  },
  {
   "cell_type": "code",
   "execution_count": 995,
   "metadata": {},
   "outputs": [
    {
     "data": {
      "image/png": "[encoded data removed]",
      "text/plain": [
       "<matplotlib.figure.Figure at 0x1c142a8160>"
      ]
     },
     "metadata": {},
     "output_type": "display_data"
    }
   ],
   "source": [
    "plot_predictions(testB,predictions_B210)"
   ]
  },
  {
   "cell_type": "markdown",
   "metadata": {},
   "source": [
    " We calculate the MSE below."
   ]
  },
  {
   "cell_type": "code",
   "execution_count": 996,
   "metadata": {},
   "outputs": [
    {
     "name": "stdout",
     "output_type": "stream",
     "text": [
      "2.29235353532\n"
     ]
    }
   ],
   "source": [
    "errorB210 = mean_squared_error(testB,predictions_B210)\n",
    "print(errorB210)"
   ]
  },
  {
   "cell_type": "code",
   "execution_count": 997,
   "metadata": {},
   "outputs": [
    {
     "data": {
      "text/plain": [
       "0.99573934266998332"
      ]
     },
     "execution_count": 997,
     "metadata": {},
     "output_type": "execute_result"
    }
   ],
   "source": [
    "MASE(testB,predictions_B210)"
   ]
  },
  {
   "cell_type": "markdown",
   "metadata": {},
   "source": [
    "# VAR models for asset B"
   ]
  },
  {
   "cell_type": "markdown",
   "metadata": {},
   "source": [
    "To reduce the scaled error, we look to fit VAR models for the asset B. "
   ]
  },
  {
   "cell_type": "code",
   "execution_count": 998,
   "metadata": {
    "collapsed": true
   },
   "outputs": [],
   "source": [
    "#CCF(B_ret['op_B_ret'],B_ret['hi_B_ret'],'op_B_ret vs hi_B_ret')\n",
    "#CCF(B_ret['op_B_ret'],B_ret['lo_B_ret'],'op_B_ret vs lo_B_ret')"
   ]
  },
  {
   "cell_type": "markdown",
   "metadata": {},
   "source": [
    "We begin by selecting a suitable model for prediction. We do so by selecting according to the BIC score. "
   ]
  },
  {
   "cell_type": "code",
   "execution_count": 999,
   "metadata": {},
   "outputs": [
    {
     "name": "stdout",
     "output_type": "stream",
     "text": [
      "                 VAR Order Selection                  \n",
      "======================================================\n",
      "            aic          bic          fpe         hqic\n",
      "------------------------------------------------------\n",
      "0        -44.52       -44.51    4.636e-20       -44.52\n",
      "1        -46.53       -46.49    6.192e-21       -46.52\n",
      "2        -46.96       -46.88    4.018e-21       -46.93\n",
      "3        -47.19       -47.06    3.213e-21       -47.14\n",
      "4        -47.31       -47.14    2.855e-21       -47.25\n",
      "5        -47.39       -47.19    2.613e-21       -47.32\n",
      "6        -47.46       -47.22    2.436e-21       -47.38\n",
      "7        -47.51       -47.23    2.324e-21       -47.41\n",
      "8        -47.55      -47.23*    2.232e-21       -47.44\n",
      "9        -47.58       -47.22    2.176e-21       -47.45\n",
      "10       -47.60       -47.20    2.134e-21       -47.46\n",
      "11       -47.61       -47.18    2.104e-21       -47.46\n",
      "12       -47.62       -47.15    2.078e-21       -47.46\n",
      "13       -47.64       -47.13    2.036e-21      -47.47*\n",
      "14       -47.65       -47.10    2.013e-21       -47.46\n",
      "15       -47.66       -47.07    2.006e-21       -47.45\n",
      "16       -47.66       -47.03    2.007e-21       -47.44\n",
      "17       -47.66       -47.00    1.994e-21       -47.43\n",
      "18       -47.67       -46.96    1.984e-21       -47.42\n",
      "19       -47.67       -46.92    1.988e-21       -47.41\n",
      "20       -47.67       -46.88    1.986e-21       -47.40\n",
      "21       -47.67       -46.85    1.984e-21       -47.38\n",
      "22       -47.67       -46.80    1.990e-21       -47.37\n",
      "23       -47.67       -46.77    1.979e-21       -47.36\n",
      "24       -47.67       -46.74    1.973e-21       -47.35\n",
      "25       -47.67       -46.70    1.973e-21       -47.34\n",
      "26       -47.67       -46.65    1.980e-21       -47.32\n",
      "27       -47.67       -46.61    1.983e-21       -47.30\n",
      "28      -47.68*       -46.59   1.962e-21*       -47.30\n",
      "29       -47.68       -46.54    1.969e-21       -47.28\n",
      "30       -47.68       -46.50    1.972e-21       -47.27\n",
      "======================================================\n",
      "* Minimum\n",
      "\n"
     ]
    },
    {
     "data": {
      "text/plain": [
       "{'aic': 28, 'bic': 8, 'fpe': 28, 'hqic': 13}"
      ]
     },
     "execution_count": 999,
     "metadata": {},
     "output_type": "execute_result"
    }
   ],
   "source": [
    "selecting_model(B_ret,['cl_B_ret','hi_B_ret', 'lo_B_ret', 'se_B_ret', 'volume_B_ret', 'oi_B_ret'])"
   ]
  },
  {
   "cell_type": "markdown",
   "metadata": {},
   "source": [
    "As before we test the model using a rolling forecast for the given data. "
   ]
  },
  {
   "cell_type": "code",
   "execution_count": 1000,
   "metadata": {},
   "outputs": [],
   "source": [
    "l = ['cl_B_ret','hi_B_ret', 'lo_B_ret', 'se_B_ret', 'volume_B_ret', 'oi_B_ret']\n",
    "testB, predictions_BVAR8 = VAR_rolling_forecast(B_ret,l,8,split = 0.8)"
   ]
  },
  {
   "cell_type": "code",
   "execution_count": 1001,
   "metadata": {},
   "outputs": [],
   "source": [
    "size = int(len(B_ret)*0.8)\n",
    "testB_adj,predictions_BVAR8_adj = recover_asset_predictions(B['cl_B'],size,testB,predictions_BVAR8)"
   ]
  },
  {
   "cell_type": "code",
   "execution_count": 1002,
   "metadata": {},
   "outputs": [
    {
     "data": {
      "text/plain": [
       "2.2828285286768062"
      ]
     },
     "execution_count": 1002,
     "metadata": {},
     "output_type": "execute_result"
    }
   ],
   "source": [
    "MSE(testB_adj,predictions_BVAR8_adj)"
   ]
  },
  {
   "cell_type": "code",
   "execution_count": 1003,
   "metadata": {},
   "outputs": [
    {
     "data": {
      "text/plain": [
       "0.99546429130119429"
      ]
     },
     "execution_count": 1003,
     "metadata": {},
     "output_type": "execute_result"
    }
   ],
   "source": [
    "MASE(testB_adj,predictions_BVAR8_adj)"
   ]
  },
  {
   "cell_type": "markdown",
   "metadata": {},
   "source": [
    "We find that the scores obtained are not better than the previous ARIMA(1,1,0) model. It follows that we must change \n",
    "our approach when tuning the hyper-parameter p. We split into three segments [0:a], [a+1:b] and [b+1:]. For a given p, \n",
    "we fit a VAR(p) on the data in the segment [0:a] and then test this on [a+1:b]. We then choose the best \n",
    "such p and test on [b+1:]. We choose 'a' so that the segment [0:a] represents roughly 64% of the data, and we choose \n",
    "'b' so that [b+1,:] contains approximates 20% of the data. "
   ]
  },
  {
   "cell_type": "code",
   "execution_count": 1004,
   "metadata": {},
   "outputs": [],
   "source": [
    "MASE_list = []\n",
    "MSE_list = []\n",
    "for p in range(1,4):\n",
    "    size1 = int(len(B_ret)*.8)\n",
    "    test, predictions = VAR_rolling_forecast(B_ret[0:size1],l,p,0.8) \n",
    "    size = int(len(B_ret[0:size1])*0.80)\n",
    "    test,predictions = recover_asset_predictions(B[0:size1+1]['cl_B'],size,test,predictions) \n",
    "    MSE_list.append(MSE(test,predictions))\n",
    "    MASE_list.append(MASE(test,predictions))"
   ]
  },
  {
   "cell_type": "code",
   "execution_count": 1005,
   "metadata": {},
   "outputs": [
    {
     "data": {
      "text/plain": [
       "[2.4541430808865923, 2.4491812805290376, 2.4691141199200737]"
      ]
     },
     "execution_count": 1005,
     "metadata": {},
     "output_type": "execute_result"
    }
   ],
   "source": [
    "MSE_list"
   ]
  },
  {
   "cell_type": "code",
   "execution_count": 1006,
   "metadata": {},
   "outputs": [
    {
     "data": {
      "text/plain": [
       "[1.0008676113816228, 1.000108681247015, 1.0041123885044327]"
      ]
     },
     "execution_count": 1006,
     "metadata": {},
     "output_type": "execute_result"
    }
   ],
   "source": [
    "MASE_list"
   ]
  },
  {
   "cell_type": "markdown",
   "metadata": {},
   "source": [
    "We see that the VAR(2) model outperforms the other models. We test this model on the remaining data. "
   ]
  },
  {
   "cell_type": "code",
   "execution_count": 1007,
   "metadata": {},
   "outputs": [
    {
     "name": "stdout",
     "output_type": "stream",
     "text": [
      "The MSE is2.27941438888\n",
      "The MASE is0.991335340699\n"
     ]
    }
   ],
   "source": [
    "test, predictions = VAR_rolling_forecast(B_ret,l,3,0.8) \n",
    "size = int(len(B_ret)*0.80)\n",
    "test,predictions = recover_asset_predictions(B['cl_B'],size,test,predictions) \n",
    "print(\"The MSE is\" + str(MSE(test,predictions)))\n",
    "print(\"The MASE is\" + str(MASE(test,predictions)))"
   ]
  },
  {
   "cell_type": "code",
   "execution_count": 1008,
   "metadata": {
    "collapsed": true
   },
   "outputs": [],
   "source": [
    "Final_results_MSE[1][1] = MSE(test,predictions)\n",
    "Final_results_MASE[1][1] = MASE(test,predictions)"
   ]
  },
  {
   "cell_type": "markdown",
   "metadata": {},
   "source": [
    "We see that we marginally beat the previous ARIMA scores.  "
   ]
  },
  {
   "cell_type": "code",
   "execution_count": 1009,
   "metadata": {},
   "outputs": [
    {
     "data": {
      "image/png": "[encoded data removed]",
      "text/plain": [
       "<matplotlib.figure.Figure at 0x1c13960630>"
      ]
     },
     "metadata": {},
     "output_type": "display_data"
    }
   ],
   "source": [
    "plot_predictions(test,predictions)"
   ]
  },
  {
   "cell_type": "code",
   "execution_count": 1010,
   "metadata": {
    "collapsed": true
   },
   "outputs": [],
   "source": [
    "tst,prd = naive_model(B['cl_B'])\n",
    "Final_results_MSE[1][2] = MSE(tst,prd)\n",
    "Final_results_MASE[1][2] = MASE(tst,prd)"
   ]
  },
  {
   "cell_type": "markdown",
   "metadata": {},
   "source": [
    "# We predict the closing price of asset C"
   ]
  },
  {
   "cell_type": "markdown",
   "metadata": {},
   "source": [
    "We will study the returns dataframe associated to the asset C. Before doing so,\n",
    "we make minor adjustments to the dataframe C_ret."
   ]
  },
  {
   "cell_type": "code",
   "execution_count": 1011,
   "metadata": {},
   "outputs": [
    {
     "data": {
      "text/html": [
       "<div>\n",
       "<style>\n",
       "    .dataframe thead tr:only-child th {\n",
       "        text-align: right;\n",
       "    }\n",
       "\n",
       "    .dataframe thead th {\n",
       "        text-align: left;\n",
       "    }\n",
       "\n",
       "    .dataframe tbody tr th {\n",
       "        vertical-align: top;\n",
       "    }\n",
       "</style>\n",
       "<table border=\"1\" class=\"dataframe\">\n",
       "  <thead>\n",
       "    <tr style=\"text-align: right;\">\n",
       "      <th></th>\n",
       "      <th>cl_C</th>\n",
       "      <th>lo_C</th>\n",
       "      <th>se_C</th>\n",
       "      <th>volume_C</th>\n",
       "      <th>oi_C</th>\n",
       "      <th>hi_C</th>\n",
       "    </tr>\n",
       "  </thead>\n",
       "  <tbody>\n",
       "    <tr>\n",
       "      <th>count</th>\n",
       "      <td>6822.000000</td>\n",
       "      <td>6822.000000</td>\n",
       "      <td>6822.000000</td>\n",
       "      <td>6822.000000</td>\n",
       "      <td>6822.000000</td>\n",
       "      <td>6822.000000</td>\n",
       "    </tr>\n",
       "    <tr>\n",
       "      <th>mean</th>\n",
       "      <td>0.000059</td>\n",
       "      <td>0.000058</td>\n",
       "      <td>0.000058</td>\n",
       "      <td>0.274278</td>\n",
       "      <td>0.002201</td>\n",
       "      <td>0.000058</td>\n",
       "    </tr>\n",
       "    <tr>\n",
       "      <th>std</th>\n",
       "      <td>0.001083</td>\n",
       "      <td>0.000985</td>\n",
       "      <td>0.001021</td>\n",
       "      <td>1.521008</td>\n",
       "      <td>0.051717</td>\n",
       "      <td>0.001025</td>\n",
       "    </tr>\n",
       "    <tr>\n",
       "      <th>min</th>\n",
       "      <td>-0.007143</td>\n",
       "      <td>-0.009263</td>\n",
       "      <td>-0.009231</td>\n",
       "      <td>-0.984305</td>\n",
       "      <td>-0.315962</td>\n",
       "      <td>-0.007571</td>\n",
       "    </tr>\n",
       "    <tr>\n",
       "      <th>25%</th>\n",
       "      <td>-0.000461</td>\n",
       "      <td>-0.000385</td>\n",
       "      <td>-0.000430</td>\n",
       "      <td>-0.290468</td>\n",
       "      <td>-0.009697</td>\n",
       "      <td>-0.000383</td>\n",
       "    </tr>\n",
       "    <tr>\n",
       "      <th>50%</th>\n",
       "      <td>0.000000</td>\n",
       "      <td>0.000000</td>\n",
       "      <td>0.000000</td>\n",
       "      <td>-0.000942</td>\n",
       "      <td>0.001623</td>\n",
       "      <td>0.000000</td>\n",
       "    </tr>\n",
       "    <tr>\n",
       "      <th>75%</th>\n",
       "      <td>0.000587</td>\n",
       "      <td>0.000502</td>\n",
       "      <td>0.000546</td>\n",
       "      <td>0.406833</td>\n",
       "      <td>0.014493</td>\n",
       "      <td>0.000478</td>\n",
       "    </tr>\n",
       "    <tr>\n",
       "      <th>max</th>\n",
       "      <td>0.007069</td>\n",
       "      <td>0.007599</td>\n",
       "      <td>0.008664</td>\n",
       "      <td>56.071429</td>\n",
       "      <td>0.489942</td>\n",
       "      <td>0.009767</td>\n",
       "    </tr>\n",
       "  </tbody>\n",
       "</table>\n",
       "</div>"
      ],
      "text/plain": [
       "              cl_C         lo_C         se_C     volume_C         oi_C  \\\n",
       "count  6822.000000  6822.000000  6822.000000  6822.000000  6822.000000   \n",
       "mean      0.000059     0.000058     0.000058     0.274278     0.002201   \n",
       "std       0.001083     0.000985     0.001021     1.521008     0.051717   \n",
       "min      -0.007143    -0.009263    -0.009231    -0.984305    -0.315962   \n",
       "25%      -0.000461    -0.000385    -0.000430    -0.290468    -0.009697   \n",
       "50%       0.000000     0.000000     0.000000    -0.000942     0.001623   \n",
       "75%       0.000587     0.000502     0.000546     0.406833     0.014493   \n",
       "max       0.007069     0.007599     0.008664    56.071429     0.489942   \n",
       "\n",
       "              hi_C  \n",
       "count  6822.000000  \n",
       "mean      0.000058  \n",
       "std       0.001025  \n",
       "min      -0.007571  \n",
       "25%      -0.000383  \n",
       "50%       0.000000  \n",
       "75%       0.000478  \n",
       "max       0.009767  "
      ]
     },
     "execution_count": 1011,
     "metadata": {},
     "output_type": "execute_result"
    }
   ],
   "source": [
    "C_ret.describe()"
   ]
  },
  {
   "cell_type": "code",
   "execution_count": 1012,
   "metadata": {
    "collapsed": true
   },
   "outputs": [],
   "source": [
    "add_ret(C_ret)"
   ]
  },
  {
   "cell_type": "code",
   "execution_count": 1013,
   "metadata": {},
   "outputs": [
    {
     "data": {
      "image/png": "[encoded data removed]",
      "text/plain": [
       "<matplotlib.figure.Figure at 0x1c13c6d1d0>"
      ]
     },
     "execution_count": 1013,
     "metadata": {},
     "output_type": "execute_result"
    }
   ],
   "source": [
    "plot_acf(C_ret['cl_C_ret'],lags = 60,alpha = 0.5)"
   ]
  },
  {
   "cell_type": "code",
   "execution_count": 1014,
   "metadata": {},
   "outputs": [
    {
     "name": "stdout",
     "output_type": "stream",
     "text": [
      "The p-value is 0.494953457692\n"
     ]
    }
   ],
   "source": [
    "ad_fuller_test(C['cl_C'])"
   ]
  },
  {
   "cell_type": "markdown",
   "metadata": {},
   "source": [
    "We see that the p-value indicates that there is a high chance that C is a random walk. "
   ]
  },
  {
   "cell_type": "code",
   "execution_count": 1017,
   "metadata": {},
   "outputs": [
    {
     "name": "stdout",
     "output_type": "stream",
     "text": [
      "The AIC list is \n",
      "[-5574.7984884682755, -5581.111399167434, -5579.608265122153, -5579.608938610623, -5577.671238003646]\n",
      "The BIC list is \n",
      "[-5554.9845250667167, -5554.6927812986887, -5546.5849927862218, -5539.9810118075056, -5531.4386567333422]\n"
     ]
    }
   ],
   "source": [
    "ARIMA_fitting_AIC_BIC_list(C['cl_C'])"
   ]
  },
  {
   "cell_type": "code",
   "execution_count": 1018,
   "metadata": {},
   "outputs": [
    {
     "name": "stderr",
     "output_type": "stream",
     "text": [
      "/Users/Welliareetil/anaconda3/lib/python3.6/site-packages/statsmodels/base/model.py:496: ConvergenceWarning: Maximum Likelihood optimization failed to converge. Check mle_retvals\n",
      "  \"Check mle_retvals\", ConvergenceWarning)\n"
     ]
    }
   ],
   "source": [
    "testC,predictions_C210 = ARIMA_rolling_forecast(C['cl_C'],2,1,0)"
   ]
  },
  {
   "cell_type": "code",
   "execution_count": 1267,
   "metadata": {},
   "outputs": [
    {
     "data": {
      "image/png": "[encoded data removed]",
      "text/plain": [
       "<matplotlib.figure.Figure at 0x1c1fa6ba90>"
      ]
     },
     "metadata": {},
     "output_type": "display_data"
    }
   ],
   "source": [
    "plot_predictions(testC,predictions_C210)"
   ]
  },
  {
   "cell_type": "code",
   "execution_count": 1020,
   "metadata": {},
   "outputs": [
    {
     "name": "stdout",
     "output_type": "stream",
     "text": [
      "0.00534066763861\n"
     ]
    }
   ],
   "source": [
    "errorC210 = mean_squared_error(testC,predictions_C210)\n",
    "print(errorC210)"
   ]
  },
  {
   "cell_type": "code",
   "execution_count": 1021,
   "metadata": {
    "collapsed": true
   },
   "outputs": [],
   "source": [
    "Final_results_MSE[2][0] = errorC210"
   ]
  },
  {
   "cell_type": "code",
   "execution_count": 1022,
   "metadata": {},
   "outputs": [
    {
     "data": {
      "text/plain": [
       "1.0092707897689566"
      ]
     },
     "execution_count": 1022,
     "metadata": {},
     "output_type": "execute_result"
    }
   ],
   "source": [
    "MASE(testC,predictions_C210)"
   ]
  },
  {
   "cell_type": "code",
   "execution_count": 1023,
   "metadata": {},
   "outputs": [],
   "source": [
    "Final_results_MASE[2][0] = MASE(testC,predictions_C210)"
   ]
  },
  {
   "cell_type": "markdown",
   "metadata": {},
   "source": [
    "# VAR models to predict the closing price of C"
   ]
  },
  {
   "cell_type": "markdown",
   "metadata": {},
   "source": [
    "To reduce the scaled error, we look to fit VAR models for the asset C. \n",
    "We begin by selecting a suitable model for prediction. We do so by selecting according to the BIC score. "
   ]
  },
  {
   "cell_type": "code",
   "execution_count": 1024,
   "metadata": {},
   "outputs": [
    {
     "name": "stdout",
     "output_type": "stream",
     "text": [
      "                 VAR Order Selection                  \n",
      "======================================================\n",
      "            aic          bic          fpe         hqic\n",
      "------------------------------------------------------\n",
      "0        -60.97       -60.97    3.306e-27       -60.97\n",
      "1        -62.81       -62.75    5.273e-28       -62.79\n",
      "2        -63.20       -63.10    3.555e-28       -63.17\n",
      "3        -63.42       -63.27    2.859e-28       -63.37\n",
      "4        -63.57       -63.36    2.473e-28       -63.50\n",
      "5        -63.65       -63.39    2.281e-28       -63.56\n",
      "6        -63.72      -63.42*    2.122e-28       -63.61\n",
      "7        -63.77       -63.42    2.021e-28       -63.65\n",
      "8        -63.79       -63.39    1.972e-28       -63.65\n",
      "9        -63.82       -63.37    1.917e-28       -63.66\n",
      "10       -63.84       -63.34    1.877e-28      -63.67*\n",
      "11       -63.85       -63.31    1.855e-28       -63.66\n",
      "12       -63.87       -63.27    1.826e-28       -63.66\n",
      "13       -63.87       -63.23    1.820e-28       -63.65\n",
      "14       -63.88       -63.18    1.813e-28       -63.63\n",
      "15       -63.88       -63.13    1.814e-28       -63.62\n",
      "16       -63.89       -63.10    1.792e-28       -63.61\n",
      "17       -63.89       -63.05    1.786e-28       -63.60\n",
      "18       -63.90       -63.01    1.774e-28       -63.59\n",
      "19       -63.90       -62.96    1.780e-28       -63.57\n",
      "20      -63.90*       -62.91   1.774e-28*       -63.55\n",
      "21       -63.90       -62.86    1.777e-28       -63.53\n",
      "22       -63.90       -62.81    1.781e-28       -63.51\n",
      "23       -63.90       -62.76    1.780e-28       -63.50\n",
      "24       -63.89       -62.71    1.788e-28       -63.47\n",
      "25       -63.89       -62.65    1.796e-28       -63.45\n",
      "26       -63.88       -62.60    1.806e-28       -63.43\n",
      "27       -63.88       -62.55    1.802e-28       -63.42\n",
      "28       -63.88       -62.50    1.808e-28       -63.39\n",
      "29       -63.88       -62.45    1.815e-28       -63.37\n",
      "30       -63.87       -62.39    1.825e-28       -63.35\n",
      "======================================================\n",
      "* Minimum\n",
      "\n"
     ]
    },
    {
     "data": {
      "text/plain": [
       "{'aic': 20, 'bic': 6, 'fpe': 20, 'hqic': 10}"
      ]
     },
     "execution_count": 1024,
     "metadata": {},
     "output_type": "execute_result"
    }
   ],
   "source": [
    "selecting_model(C_ret,['cl_C_ret','hi_C_ret', 'lo_C_ret', 'se_C_ret', 'volume_C_ret', 'oi_C_ret'])"
   ]
  },
  {
   "cell_type": "markdown",
   "metadata": {},
   "source": [
    "As before we test the model using a rolling forecast for the given data. "
   ]
  },
  {
   "cell_type": "code",
   "execution_count": 1025,
   "metadata": {
    "collapsed": true
   },
   "outputs": [],
   "source": [
    "l = list(C_ret.columns)\n",
    "test, predictions = VAR_rolling_forecast(C_ret,l,8,split = 0.8)"
   ]
  },
  {
   "cell_type": "code",
   "execution_count": 1026,
   "metadata": {
    "collapsed": true
   },
   "outputs": [],
   "source": [
    "size = int(len(C_ret)*0.8)\n",
    "test,predictions = recover_asset_predictions(C['cl_C'],size,test,predictions)"
   ]
  },
  {
   "cell_type": "code",
   "execution_count": 1027,
   "metadata": {},
   "outputs": [
    {
     "data": {
      "text/plain": [
       "0.0053664032561036275"
      ]
     },
     "execution_count": 1027,
     "metadata": {},
     "output_type": "execute_result"
    }
   ],
   "source": [
    "MSE(test,predictions)"
   ]
  },
  {
   "cell_type": "code",
   "execution_count": 1028,
   "metadata": {},
   "outputs": [
    {
     "data": {
      "text/plain": [
       "1.0156999528257247"
      ]
     },
     "execution_count": 1028,
     "metadata": {},
     "output_type": "execute_result"
    }
   ],
   "source": [
    "MASE(test,predictions)"
   ]
  },
  {
   "cell_type": "markdown",
   "metadata": {},
   "source": [
    "The scores dont beat the ARIMA model and hence as before we tune our parameters a little differently. "
   ]
  },
  {
   "cell_type": "code",
   "execution_count": 1029,
   "metadata": {
    "collapsed": true
   },
   "outputs": [],
   "source": [
    "MASE_list = []\n",
    "MSE_list = []\n",
    "for p in range(1,4):\n",
    "    size1 = int(len(C_ret)*.8)\n",
    "    test, predictions = VAR_rolling_forecast(C_ret[0:size1],l,p,0.8) \n",
    "    size = int(len(C_ret[0:size1])*0.80)\n",
    "    test,predictions = recover_asset_predictions(C[0:size1+1]['cl_C'],size,test,predictions) \n",
    "    MSE_list.append(MSE(test,predictions))\n",
    "    MASE_list.append(MASE(test,predictions))"
   ]
  },
  {
   "cell_type": "code",
   "execution_count": 1030,
   "metadata": {},
   "outputs": [
    {
     "data": {
      "text/plain": [
       "[0.025736212245157174, 0.02563450133973098, 0.025611945048193214]"
      ]
     },
     "execution_count": 1030,
     "metadata": {},
     "output_type": "execute_result"
    }
   ],
   "source": [
    "MSE_list"
   ]
  },
  {
   "cell_type": "code",
   "execution_count": 1031,
   "metadata": {},
   "outputs": [
    {
     "data": {
      "text/plain": [
       "[0.99785959828429316, 0.99758151260205707, 0.99734227027959155]"
      ]
     },
     "execution_count": 1031,
     "metadata": {},
     "output_type": "execute_result"
    }
   ],
   "source": [
    "MASE_list"
   ]
  },
  {
   "cell_type": "markdown",
   "metadata": {},
   "source": [
    "We see that the VAR(3) model outperforms the other models. We tested this model on the remaining data but found it doesn't not outperform the ARIMA model. Hence, we test the Var(2) model to see if we can beat the ARIMA(2,1,0) model\n",
    "from before. "
   ]
  },
  {
   "cell_type": "code",
   "execution_count": 1032,
   "metadata": {},
   "outputs": [
    {
     "name": "stdout",
     "output_type": "stream",
     "text": [
      "The MSE is 0.00535723653469\n",
      "The MASE is 1.00878089932\n"
     ]
    }
   ],
   "source": [
    "test, predictions = VAR_rolling_forecast(C_ret,l,2,0.8) \n",
    "size = int(len(C_ret)*0.80)\n",
    "test,predictions = recover_asset_predictions(C['cl_C'],size,test,predictions) \n",
    "print(\"The MSE is \" + str(MSE(test,predictions)))\n",
    "print(\"The MASE is \" + str(MASE(test,predictions)))"
   ]
  },
  {
   "cell_type": "code",
   "execution_count": 1034,
   "metadata": {},
   "outputs": [],
   "source": [
    "Final_results_MSE[2][1] = MSE(test,predictions)\n",
    "Final_results_MASE[2][1] = MASE(test,predictions)"
   ]
  },
  {
   "cell_type": "code",
   "execution_count": 1035,
   "metadata": {
    "collapsed": true
   },
   "outputs": [],
   "source": [
    "tst,prd = naive_model(C['cl_C'])\n",
    "Final_results_MSE[2][2] = MSE(tst,prd)\n",
    "Final_results_MASE[2][2] = MASE(tst,prd)"
   ]
  },
  {
   "cell_type": "markdown",
   "metadata": {},
   "source": [
    "We observe a slight improvement in model performance. "
   ]
  },
  {
   "cell_type": "code",
   "execution_count": 1038,
   "metadata": {},
   "outputs": [
    {
     "data": {
      "image/png": "[encoded data removed]",
      "text/plain": [
       "<matplotlib.figure.Figure at 0x1c13d40550>"
      ]
     },
     "metadata": {},
     "output_type": "display_data"
    }
   ],
   "source": [
    "plot_predictions(test,predictions)"
   ]
  },
  {
   "cell_type": "markdown",
   "metadata": {},
   "source": [
    "# We predict the closing price of asset D"
   ]
  },
  {
   "cell_type": "code",
   "execution_count": 1039,
   "metadata": {},
   "outputs": [
    {
     "data": {
      "text/plain": [
       "date         0\n",
       "cl_D         6\n",
       "lo_D         6\n",
       "se_D         0\n",
       "volume_D     8\n",
       "oi_D        11\n",
       "hi_D         6\n",
       "dtype: int64"
      ]
     },
     "execution_count": 1039,
     "metadata": {},
     "output_type": "execute_result"
    }
   ],
   "source": [
    "D.isnull().sum()"
   ]
  },
  {
   "cell_type": "code",
   "execution_count": 1040,
   "metadata": {
    "collapsed": true
   },
   "outputs": [],
   "source": [
    "D = D.fillna(D.mean())"
   ]
  },
  {
   "cell_type": "code",
   "execution_count": 1041,
   "metadata": {
    "collapsed": true
   },
   "outputs": [],
   "source": [
    "mean_volume_D = D['volume_D'].mean()\n",
    "D['volume_D']= D.volume_D.mask(D.volume_D == 0,mean_volume_D)\n",
    "mean_oi_D = D['oi_D'].mean()\n",
    "D['oi_D']= D.oi_D.mask(D.oi_D == 0,mean_oi_D)"
   ]
  },
  {
   "cell_type": "code",
   "execution_count": 1042,
   "metadata": {},
   "outputs": [],
   "source": [
    "\"\"\"Since we have changed the dataframe D, we redefine D_ret\"\"\"\n",
    "D_ret = D.copy()\n",
    "del(D_ret['date'])\n",
    "D_ret = D_ret.pct_change()\n",
    "D_ret = D_ret.dropna(axis = 0)"
   ]
  },
  {
   "cell_type": "code",
   "execution_count": 1043,
   "metadata": {
    "collapsed": true
   },
   "outputs": [],
   "source": [
    "add_ret(D_ret)"
   ]
  },
  {
   "cell_type": "code",
   "execution_count": 1044,
   "metadata": {},
   "outputs": [
    {
     "data": {
      "text/html": [
       "<div>\n",
       "<style>\n",
       "    .dataframe thead tr:only-child th {\n",
       "        text-align: right;\n",
       "    }\n",
       "\n",
       "    .dataframe thead th {\n",
       "        text-align: left;\n",
       "    }\n",
       "\n",
       "    .dataframe tbody tr th {\n",
       "        vertical-align: top;\n",
       "    }\n",
       "</style>\n",
       "<table border=\"1\" class=\"dataframe\">\n",
       "  <thead>\n",
       "    <tr style=\"text-align: right;\">\n",
       "      <th></th>\n",
       "      <th>cl_D_ret</th>\n",
       "      <th>lo_D_ret</th>\n",
       "      <th>se_D_ret</th>\n",
       "      <th>volume_D_ret</th>\n",
       "      <th>oi_D_ret</th>\n",
       "      <th>hi_D_ret</th>\n",
       "    </tr>\n",
       "  </thead>\n",
       "  <tbody>\n",
       "    <tr>\n",
       "      <th>count</th>\n",
       "      <td>10024.000000</td>\n",
       "      <td>10024.000000</td>\n",
       "      <td>10024.000000</td>\n",
       "      <td>10024.000000</td>\n",
       "      <td>10024.000000</td>\n",
       "      <td>10024.000000</td>\n",
       "    </tr>\n",
       "    <tr>\n",
       "      <th>mean</th>\n",
       "      <td>0.000184</td>\n",
       "      <td>0.000177</td>\n",
       "      <td>0.000169</td>\n",
       "      <td>23.366408</td>\n",
       "      <td>0.006579</td>\n",
       "      <td>0.000177</td>\n",
       "    </tr>\n",
       "    <tr>\n",
       "      <th>std</th>\n",
       "      <td>0.008950</td>\n",
       "      <td>0.008093</td>\n",
       "      <td>0.007047</td>\n",
       "      <td>2252.308801</td>\n",
       "      <td>0.262218</td>\n",
       "      <td>0.008088</td>\n",
       "    </tr>\n",
       "    <tr>\n",
       "      <th>min</th>\n",
       "      <td>-0.184909</td>\n",
       "      <td>-0.184259</td>\n",
       "      <td>-0.032905</td>\n",
       "      <td>-0.999998</td>\n",
       "      <td>-0.957955</td>\n",
       "      <td>-0.184553</td>\n",
       "    </tr>\n",
       "    <tr>\n",
       "      <th>25%</th>\n",
       "      <td>-0.003918</td>\n",
       "      <td>-0.003032</td>\n",
       "      <td>-0.003646</td>\n",
       "      <td>-0.222465</td>\n",
       "      <td>-0.012464</td>\n",
       "      <td>-0.003045</td>\n",
       "    </tr>\n",
       "    <tr>\n",
       "      <th>50%</th>\n",
       "      <td>0.000277</td>\n",
       "      <td>0.000277</td>\n",
       "      <td>0.000273</td>\n",
       "      <td>0.003471</td>\n",
       "      <td>0.000886</td>\n",
       "      <td>0.000000</td>\n",
       "    </tr>\n",
       "    <tr>\n",
       "      <th>75%</th>\n",
       "      <td>0.004278</td>\n",
       "      <td>0.003446</td>\n",
       "      <td>0.004084</td>\n",
       "      <td>0.297815</td>\n",
       "      <td>0.016089</td>\n",
       "      <td>0.003434</td>\n",
       "    </tr>\n",
       "    <tr>\n",
       "      <th>max</th>\n",
       "      <td>0.229256</td>\n",
       "      <td>0.234833</td>\n",
       "      <td>0.040624</td>\n",
       "      <td>225446.000000</td>\n",
       "      <td>21.371707</td>\n",
       "      <td>0.231097</td>\n",
       "    </tr>\n",
       "  </tbody>\n",
       "</table>\n",
       "</div>"
      ],
      "text/plain": [
       "           cl_D_ret      lo_D_ret      se_D_ret   volume_D_ret      oi_D_ret  \\\n",
       "count  10024.000000  10024.000000  10024.000000   10024.000000  10024.000000   \n",
       "mean       0.000184      0.000177      0.000169      23.366408      0.006579   \n",
       "std        0.008950      0.008093      0.007047    2252.308801      0.262218   \n",
       "min       -0.184909     -0.184259     -0.032905      -0.999998     -0.957955   \n",
       "25%       -0.003918     -0.003032     -0.003646      -0.222465     -0.012464   \n",
       "50%        0.000277      0.000277      0.000273       0.003471      0.000886   \n",
       "75%        0.004278      0.003446      0.004084       0.297815      0.016089   \n",
       "max        0.229256      0.234833      0.040624  225446.000000     21.371707   \n",
       "\n",
       "           hi_D_ret  \n",
       "count  10024.000000  \n",
       "mean       0.000177  \n",
       "std        0.008088  \n",
       "min       -0.184553  \n",
       "25%       -0.003045  \n",
       "50%        0.000000  \n",
       "75%        0.003434  \n",
       "max        0.231097  "
      ]
     },
     "execution_count": 1044,
     "metadata": {},
     "output_type": "execute_result"
    }
   ],
   "source": [
    "D_ret.describe()"
   ]
  },
  {
   "cell_type": "markdown",
   "metadata": {},
   "source": [
    "We observe that the feature 'volume_D_ret' has some issues with it, in that the standard deviation is extremely \n",
    "large compared to the mean. We fix this by adjusting the values at the outliers. "
   ]
  },
  {
   "cell_type": "code",
   "execution_count": 1045,
   "metadata": {},
   "outputs": [
    {
     "data": {
      "image/png": "[encoded data removed]",
      "text/plain": [
       "<matplotlib.figure.Figure at 0x1c1cc0aef0>"
      ]
     },
     "metadata": {},
     "output_type": "display_data"
    }
   ],
   "source": [
    "plt.plot(D_ret['volume_D_ret'])\n",
    "plt.show()"
   ]
  },
  {
   "cell_type": "code",
   "execution_count": 1046,
   "metadata": {},
   "outputs": [
    {
     "name": "stdout",
     "output_type": "stream",
     "text": [
      "[2328, 4315, 5516, 6716, 6739]\n"
     ]
    }
   ],
   "source": [
    "outliers = []\n",
    "for j in range(len(D_ret)):\n",
    "    if D_ret['volume_D_ret'][j] > 100:\n",
    "        outliers.append(j)\n",
    "print(outliers)        "
   ]
  },
  {
   "cell_type": "code",
   "execution_count": 1047,
   "metadata": {
    "collapsed": true
   },
   "outputs": [],
   "source": [
    "for j in outliers:\n",
    "    D_ret['volume_D_ret'][j] = D_ret['volume_D_ret'].mean()"
   ]
  },
  {
   "cell_type": "code",
   "execution_count": 1048,
   "metadata": {},
   "outputs": [
    {
     "data": {
      "text/html": [
       "<div>\n",
       "<style>\n",
       "    .dataframe thead tr:only-child th {\n",
       "        text-align: right;\n",
       "    }\n",
       "\n",
       "    .dataframe thead th {\n",
       "        text-align: left;\n",
       "    }\n",
       "\n",
       "    .dataframe tbody tr th {\n",
       "        vertical-align: top;\n",
       "    }\n",
       "</style>\n",
       "<table border=\"1\" class=\"dataframe\">\n",
       "  <thead>\n",
       "    <tr style=\"text-align: right;\">\n",
       "      <th></th>\n",
       "      <th>cl_D_ret</th>\n",
       "      <th>lo_D_ret</th>\n",
       "      <th>se_D_ret</th>\n",
       "      <th>volume_D_ret</th>\n",
       "      <th>oi_D_ret</th>\n",
       "      <th>hi_D_ret</th>\n",
       "    </tr>\n",
       "  </thead>\n",
       "  <tbody>\n",
       "    <tr>\n",
       "      <th>count</th>\n",
       "      <td>10024.000000</td>\n",
       "      <td>10024.000000</td>\n",
       "      <td>10024.000000</td>\n",
       "      <td>10024.000000</td>\n",
       "      <td>10024.000000</td>\n",
       "      <td>10024.000000</td>\n",
       "    </tr>\n",
       "    <tr>\n",
       "      <th>mean</th>\n",
       "      <td>0.000184</td>\n",
       "      <td>0.000177</td>\n",
       "      <td>0.000169</td>\n",
       "      <td>0.156140</td>\n",
       "      <td>0.006579</td>\n",
       "      <td>0.000177</td>\n",
       "    </tr>\n",
       "    <tr>\n",
       "      <th>std</th>\n",
       "      <td>0.008950</td>\n",
       "      <td>0.008093</td>\n",
       "      <td>0.007047</td>\n",
       "      <td>1.163974</td>\n",
       "      <td>0.262218</td>\n",
       "      <td>0.008088</td>\n",
       "    </tr>\n",
       "    <tr>\n",
       "      <th>min</th>\n",
       "      <td>-0.184909</td>\n",
       "      <td>-0.184259</td>\n",
       "      <td>-0.032905</td>\n",
       "      <td>-0.999998</td>\n",
       "      <td>-0.957955</td>\n",
       "      <td>-0.184553</td>\n",
       "    </tr>\n",
       "    <tr>\n",
       "      <th>25%</th>\n",
       "      <td>-0.003918</td>\n",
       "      <td>-0.003032</td>\n",
       "      <td>-0.003646</td>\n",
       "      <td>-0.222465</td>\n",
       "      <td>-0.012464</td>\n",
       "      <td>-0.003045</td>\n",
       "    </tr>\n",
       "    <tr>\n",
       "      <th>50%</th>\n",
       "      <td>0.000277</td>\n",
       "      <td>0.000277</td>\n",
       "      <td>0.000273</td>\n",
       "      <td>0.003471</td>\n",
       "      <td>0.000886</td>\n",
       "      <td>0.000000</td>\n",
       "    </tr>\n",
       "    <tr>\n",
       "      <th>75%</th>\n",
       "      <td>0.004278</td>\n",
       "      <td>0.003446</td>\n",
       "      <td>0.004084</td>\n",
       "      <td>0.297636</td>\n",
       "      <td>0.016089</td>\n",
       "      <td>0.003434</td>\n",
       "    </tr>\n",
       "    <tr>\n",
       "      <th>max</th>\n",
       "      <td>0.229256</td>\n",
       "      <td>0.234833</td>\n",
       "      <td>0.040624</td>\n",
       "      <td>52.438596</td>\n",
       "      <td>21.371707</td>\n",
       "      <td>0.231097</td>\n",
       "    </tr>\n",
       "  </tbody>\n",
       "</table>\n",
       "</div>"
      ],
      "text/plain": [
       "           cl_D_ret      lo_D_ret      se_D_ret  volume_D_ret      oi_D_ret  \\\n",
       "count  10024.000000  10024.000000  10024.000000  10024.000000  10024.000000   \n",
       "mean       0.000184      0.000177      0.000169      0.156140      0.006579   \n",
       "std        0.008950      0.008093      0.007047      1.163974      0.262218   \n",
       "min       -0.184909     -0.184259     -0.032905     -0.999998     -0.957955   \n",
       "25%       -0.003918     -0.003032     -0.003646     -0.222465     -0.012464   \n",
       "50%        0.000277      0.000277      0.000273      0.003471      0.000886   \n",
       "75%        0.004278      0.003446      0.004084      0.297636      0.016089   \n",
       "max        0.229256      0.234833      0.040624     52.438596     21.371707   \n",
       "\n",
       "           hi_D_ret  \n",
       "count  10024.000000  \n",
       "mean       0.000177  \n",
       "std        0.008088  \n",
       "min       -0.184553  \n",
       "25%       -0.003045  \n",
       "50%        0.000000  \n",
       "75%        0.003434  \n",
       "max        0.231097  "
      ]
     },
     "execution_count": 1048,
     "metadata": {},
     "output_type": "execute_result"
    }
   ],
   "source": [
    "D_ret.describe()"
   ]
  },
  {
   "cell_type": "code",
   "execution_count": 1049,
   "metadata": {
    "scrolled": true
   },
   "outputs": [
    {
     "data": {
      "image/png": "[encoded data removed]",
      "text/plain": [
       "<matplotlib.figure.Figure at 0x1c1cbf93c8>"
      ]
     },
     "execution_count": 1049,
     "metadata": {},
     "output_type": "execute_result"
    }
   ],
   "source": [
    "plot_acf(D_ret['cl_D_ret'],lags = 60,alpha = 0.5)"
   ]
  },
  {
   "cell_type": "markdown",
   "metadata": {},
   "source": [
    "We observe a lag 1,22,23 and 24 auto correlation."
   ]
  },
  {
   "cell_type": "code",
   "execution_count": 1050,
   "metadata": {},
   "outputs": [
    {
     "name": "stdout",
     "output_type": "stream",
     "text": [
      "The AIC list is \n",
      "[29946.645917331523, 29881.34861843575, 29878.690206779807, 29879.986834983632, 29880.76469433135]\n",
      "The BIC list is \n",
      "[29967.614624345944, 29909.306894454978, 29913.638051803842, 29921.924249012474, 29929.691677364997]\n"
     ]
    }
   ],
   "source": [
    "ARIMA_fitting_AIC_BIC_list(D['cl_D'])"
   ]
  },
  {
   "cell_type": "code",
   "execution_count": 1051,
   "metadata": {},
   "outputs": [
    {
     "name": "stderr",
     "output_type": "stream",
     "text": [
      "/Users/Welliareetil/anaconda3/lib/python3.6/site-packages/statsmodels/base/model.py:496: ConvergenceWarning: Maximum Likelihood optimization failed to converge. Check mle_retvals\n",
      "  \"Check mle_retvals\", ConvergenceWarning)\n"
     ]
    }
   ],
   "source": [
    "testD, predictions_D110 = ARIMA_rolling_forecast(D['cl_D'],1,1,0)"
   ]
  },
  {
   "cell_type": "code",
   "execution_count": 1266,
   "metadata": {},
   "outputs": [
    {
     "data": {
      "image/png": "[encoded data removed]",
      "text/plain": [
       "<matplotlib.figure.Figure at 0x1c1db26ba8>"
      ]
     },
     "metadata": {},
     "output_type": "display_data"
    }
   ],
   "source": [
    "plot_predictions(testD,predictions_D110)"
   ]
  },
  {
   "cell_type": "code",
   "execution_count": 1053,
   "metadata": {},
   "outputs": [
    {
     "data": {
      "text/plain": [
       "5.7487408213961366"
      ]
     },
     "execution_count": 1053,
     "metadata": {},
     "output_type": "execute_result"
    }
   ],
   "source": [
    "MSE(testD,predictions_D110)"
   ]
  },
  {
   "cell_type": "code",
   "execution_count": 1054,
   "metadata": {
    "collapsed": true
   },
   "outputs": [],
   "source": [
    "Final_results_MASE[3][0] = MASE(testD,predictions_D110)\n",
    "Final_results_MSE[3][0] = MSE(testD,predictions_D110)"
   ]
  },
  {
   "cell_type": "code",
   "execution_count": 1055,
   "metadata": {},
   "outputs": [
    {
     "data": {
      "text/plain": [
       "0.99947200671807124"
      ]
     },
     "execution_count": 1055,
     "metadata": {},
     "output_type": "execute_result"
    }
   ],
   "source": [
    "MASE(testD,predictions_D110)"
   ]
  },
  {
   "cell_type": "code",
   "execution_count": 1056,
   "metadata": {
    "collapsed": true
   },
   "outputs": [],
   "source": [
    "#The MASE indicates that the ARIMA model is a very poor predictor in this case. "
   ]
  },
  {
   "cell_type": "markdown",
   "metadata": {},
   "source": [
    "# VAR models for asset D"
   ]
  },
  {
   "cell_type": "code",
   "execution_count": 1065,
   "metadata": {},
   "outputs": [],
   "source": [
    "#u = []\n",
    "#for j in list(D_ret.columns):\n",
    "#    u.append(j[0:-4]) #"
   ]
  },
  {
   "cell_type": "code",
   "execution_count": 1067,
   "metadata": {},
   "outputs": [],
   "source": [
    "#D_ret.columns = u"
   ]
  },
  {
   "cell_type": "code",
   "execution_count": 1069,
   "metadata": {},
   "outputs": [
    {
     "name": "stdout",
     "output_type": "stream",
     "text": [
      "                 VAR Order Selection                  \n",
      "======================================================\n",
      "            aic          bic          fpe         hqic\n",
      "------------------------------------------------------\n",
      "0        -41.97       -41.96    5.941e-19       -41.97\n",
      "1        -44.36       -44.32    5.416e-20       -44.35\n",
      "2        -44.81       -44.74    3.444e-20       -44.79\n",
      "3        -45.02       -44.91    2.805e-20       -44.98\n",
      "4        -45.15       -45.01    2.456e-20       -45.10\n",
      "5        -45.21       -45.03    2.317e-20       -45.15\n",
      "6        -45.26      -45.05*    2.199e-20       -45.19\n",
      "7        -45.30       -45.04    2.128e-20       -45.21\n",
      "8        -45.33       -45.04    2.057e-20       -45.23\n",
      "9        -45.35       -45.02    2.020e-20       -45.24\n",
      "10       -45.36       -45.01    1.988e-20      -45.24*\n",
      "11       -45.37       -44.98    1.970e-20       -45.24\n",
      "12       -45.38       -44.95    1.953e-20       -45.23\n",
      "13       -45.38       -44.92    1.948e-20       -45.22\n",
      "14       -45.39       -44.89    1.940e-20       -45.22\n",
      "15       -45.39       -44.85    1.945e-20       -45.20\n",
      "16       -45.39       -44.82    1.943e-20       -45.19\n",
      "17       -45.38       -44.78    1.948e-20       -45.18\n",
      "18       -45.39       -44.75    1.936e-20       -45.17\n",
      "19       -45.39       -44.72    1.932e-20       -45.16\n",
      "20       -45.39       -44.68    1.936e-20       -45.15\n",
      "21       -45.43       -44.69    1.857e-20       -45.18\n",
      "22       -45.46       -44.68    1.803e-20       -45.19\n",
      "23       -45.48       -44.66    1.771e-20       -45.20\n",
      "24       -45.48       -44.63    1.772e-20       -45.19\n",
      "25       -45.48       -44.59    1.774e-20       -45.17\n",
      "26      -45.48*       -44.56   1.767e-20*       -45.16\n",
      "27       -45.48       -44.52    1.773e-20       -45.15\n",
      "28       -45.48       -44.49    1.768e-20       -45.14\n",
      "29       -45.48       -44.45    1.775e-20       -45.12\n",
      "30       -45.48       -44.41    1.778e-20       -45.11\n",
      "======================================================\n",
      "* Minimum\n",
      "\n"
     ]
    },
    {
     "data": {
      "text/plain": [
       "{'aic': 26, 'bic': 6, 'fpe': 26, 'hqic': 10}"
      ]
     },
     "execution_count": 1069,
     "metadata": {},
     "output_type": "execute_result"
    }
   ],
   "source": [
    "selecting_model(D_ret,['cl_D_ret','hi_D_ret', 'lo_D_ret', 'se_D_ret', 'volume_D_ret', 'oi_D_ret'])"
   ]
  },
  {
   "cell_type": "code",
   "execution_count": 1070,
   "metadata": {
    "collapsed": true
   },
   "outputs": [],
   "source": [
    "lD = ['cl_D_ret','hi_D_ret', 'lo_D_ret', 'se_D_ret', 'volume_D_ret', 'oi_D_ret']\n",
    "test, predictions = VAR_rolling_forecast(D_ret,lD,25,split = 0.8)"
   ]
  },
  {
   "cell_type": "code",
   "execution_count": 1071,
   "metadata": {},
   "outputs": [],
   "source": [
    "size = int(len(D_ret)*0.8)\n",
    "test,predictions = recover_asset_predictions(D['cl_D'],size,test,predictions)"
   ]
  },
  {
   "cell_type": "code",
   "execution_count": 1072,
   "metadata": {},
   "outputs": [
    {
     "data": {
      "text/plain": [
       "5.7644992665449131"
      ]
     },
     "execution_count": 1072,
     "metadata": {},
     "output_type": "execute_result"
    }
   ],
   "source": [
    "MSE(test,predictions)"
   ]
  },
  {
   "cell_type": "code",
   "execution_count": 1073,
   "metadata": {},
   "outputs": [
    {
     "data": {
      "text/plain": [
       "1.0075378542850073"
      ]
     },
     "execution_count": 1073,
     "metadata": {},
     "output_type": "execute_result"
    }
   ],
   "source": [
    "MASE(test,predictions)"
   ]
  },
  {
   "cell_type": "markdown",
   "metadata": {},
   "source": [
    "We use another method other than simply looking at the BIC/AIC score to tune\n",
    "parameters. We are restricted computationaly and cannot tune in this way for large p. "
   ]
  },
  {
   "cell_type": "code",
   "execution_count": 1074,
   "metadata": {},
   "outputs": [],
   "source": [
    "MASE_list = []\n",
    "MSE_list = []\n",
    "for p in range(1,4):\n",
    "    size1 = int(len(D_ret)*.8)\n",
    "    test, predictions = VAR_rolling_forecast(D_ret[0:size1],lD,p,0.8) \n",
    "    size = int(len(D_ret[0:size1])*0.80)\n",
    "    test,predictions = recover_asset_predictions(D[0:size1+1]['cl_D'],size,test,predictions) \n",
    "    MSE_list.append(MSE(test,predictions))\n",
    "    MASE_list.append(MASE(test,predictions))"
   ]
  },
  {
   "cell_type": "code",
   "execution_count": 1075,
   "metadata": {},
   "outputs": [
    {
     "data": {
      "text/plain": [
       "[8.384365491663047, 8.1799299237406196, 8.1657964264485958]"
      ]
     },
     "execution_count": 1075,
     "metadata": {},
     "output_type": "execute_result"
    }
   ],
   "source": [
    "MSE_list"
   ]
  },
  {
   "cell_type": "code",
   "execution_count": 1076,
   "metadata": {},
   "outputs": [
    {
     "data": {
      "text/plain": [
       "[1.021741555900139, 1.0176172694821368, 1.0232394360229018]"
      ]
     },
     "execution_count": 1076,
     "metadata": {},
     "output_type": "execute_result"
    }
   ],
   "source": [
    "MASE_list"
   ]
  },
  {
   "cell_type": "markdown",
   "metadata": {},
   "source": [
    "We test the VAR(2) model on the remaining data. "
   ]
  },
  {
   "cell_type": "code",
   "execution_count": 1077,
   "metadata": {},
   "outputs": [
    {
     "name": "stdout",
     "output_type": "stream",
     "text": [
      "The MSE is 5.74067088399\n",
      "The MASE is 1.0063872243\n"
     ]
    }
   ],
   "source": [
    "test, predictions = VAR_rolling_forecast(D_ret,lD,1,0.8) \n",
    "size = int(len(D_ret)*0.80)\n",
    "test,predictions = recover_asset_predictions(D['cl_D'],size,test,predictions) \n",
    "print(\"The MSE is \" + str(MSE(test,predictions)))\n",
    "print(\"The MASE is \" + str(MASE(test,predictions)))"
   ]
  },
  {
   "cell_type": "code",
   "execution_count": 1078,
   "metadata": {
    "collapsed": true
   },
   "outputs": [],
   "source": [
    "Final_results_MASE[3][1] = MASE(test,predictions)"
   ]
  },
  {
   "cell_type": "code",
   "execution_count": 1079,
   "metadata": {
    "collapsed": true
   },
   "outputs": [],
   "source": [
    "Final_results_MSE[3][1] = MSE(test,predictions)"
   ]
  },
  {
   "cell_type": "code",
   "execution_count": 1080,
   "metadata": {},
   "outputs": [
    {
     "data": {
      "image/png": "[encoded data removed]",
      "text/plain": [
       "<matplotlib.figure.Figure at 0x1c13c9ac18>"
      ]
     },
     "metadata": {},
     "output_type": "display_data"
    }
   ],
   "source": [
    "plot_predictions(test,predictions)"
   ]
  },
  {
   "cell_type": "code",
   "execution_count": 1081,
   "metadata": {
    "collapsed": true
   },
   "outputs": [],
   "source": [
    "tst,prd = naive_model(D['cl_D'])\n",
    "Final_results_MSE[3][2] = MSE(tst,prd)\n",
    "Final_results_MASE[3][2] = MASE(tst,prd)"
   ]
  },
  {
   "cell_type": "markdown",
   "metadata": {},
   "source": [
    "# Joint VAR models for A,B,C and D"
   ]
  },
  {
   "cell_type": "code",
   "execution_count": 1082,
   "metadata": {},
   "outputs": [],
   "source": [
    "returns = A_ret.join(B_ret,how = 'inner')\n",
    "returns = returns.join(C_ret,how = \"inner\")\n",
    "returns = returns.join(D_ret,how = 'inner')"
   ]
  },
  {
   "cell_type": "code",
   "execution_count": 1083,
   "metadata": {},
   "outputs": [],
   "source": [
    "combined_data = A.merge(B,on = 'date')\n",
    "combined_data = combined_data.merge(C,on = 'date')\n",
    "combined_data = combined_data.merge(D,on = 'date')"
   ]
  },
  {
   "cell_type": "code",
   "execution_count": 1084,
   "metadata": {},
   "outputs": [
    {
     "name": "stdout",
     "output_type": "stream",
     "text": [
      "                 VAR Order Selection                  \n",
      "======================================================\n",
      "            aic          bic          fpe         hqic\n",
      "------------------------------------------------------\n",
      "0        -71.10       -71.08    1.326e-31       -71.09\n",
      "1        -71.86      -71.65*    6.158e-32      -71.79*\n",
      "2        -71.90       -71.49    5.940e-32       -71.76\n",
      "3       -71.90*       -71.30   5.936e-32*       -71.69\n",
      "4        -71.87       -71.07    6.111e-32       -71.59\n",
      "5        -71.85       -70.85    6.264e-32       -71.50\n",
      "6        -71.81       -70.62    6.490e-32       -71.39\n",
      "7        -71.79       -70.40    6.668e-32       -71.30\n",
      "8        -71.75       -70.17    6.891e-32       -71.20\n",
      "9        -71.72       -69.94    7.112e-32       -71.09\n",
      "10       -71.69       -69.72    7.305e-32       -71.00\n",
      "11       -71.66       -69.49    7.524e-32       -70.90\n",
      "12       -71.66       -69.29    7.533e-32       -70.83\n",
      "13       -71.63       -69.06    7.825e-32       -70.72\n",
      "14       -71.59       -68.83    8.086e-32       -70.62\n",
      "15       -71.57       -68.60    8.314e-32       -70.52\n",
      "16       -71.57       -68.41    8.289e-32       -70.46\n",
      "17       -71.54       -68.18    8.567e-32       -70.36\n",
      "18       -71.50       -67.95    8.882e-32       -70.25\n",
      "19       -71.46       -67.72    9.212e-32       -70.15\n",
      "20       -71.43       -67.48    9.569e-32       -70.04\n",
      "21       -71.40       -67.26    9.830e-32       -69.94\n",
      "22       -71.48       -67.15    9.029e-32       -69.96\n",
      "23       -71.46       -66.93    9.279e-32       -69.86\n",
      "24       -71.43       -66.70    9.575e-32       -69.76\n",
      "25       -71.39       -66.47    9.876e-32       -69.66\n",
      "26       -71.36       -66.24    1.027e-31       -69.56\n",
      "27       -71.34       -66.02    1.045e-31       -69.47\n",
      "28       -71.32       -65.81    1.064e-31       -69.38\n",
      "29       -71.30       -65.59    1.088e-31       -69.29\n",
      "30       -71.27       -65.37    1.115e-31       -69.20\n",
      "======================================================\n",
      "* Minimum\n",
      "\n"
     ]
    },
    {
     "data": {
      "text/plain": [
       "{'aic': 3, 'bic': 1, 'fpe': 3, 'hqic': 1}"
      ]
     },
     "execution_count": 1084,
     "metadata": {},
     "output_type": "execute_result"
    }
   ],
   "source": [
    "l = ['cl_A_ret','volume_A_ret','oi_A_ret',\n",
    "     'cl_B_ret','volume_B_ret','oi_B_ret',\n",
    "     'cl_C_ret','volume_C_ret','oi_C_ret','cl_D_ret','volume_D_ret','oi_D_ret']\n",
    "selecting_model(returns,l)"
   ]
  },
  {
   "cell_type": "code",
   "execution_count": 1085,
   "metadata": {},
   "outputs": [],
   "source": [
    "l1 = ['cl_A_ret','cl_B_ret','cl_C_ret','cl_D_ret']\n",
    "test,predictions = VAR_rolling_forecast_general(returns,l,1,l1,1)"
   ]
  },
  {
   "cell_type": "code",
   "execution_count": 1086,
   "metadata": {},
   "outputs": [],
   "source": [
    "l2 = ['cl_A','cl_B','cl_C','cl_D']\n",
    "MASE_d = {}\n",
    "MSE_d = {} \n",
    "size = int(len(returns)*0.80)\n",
    "for j in range(4):\n",
    "    test1,predictions1 = recover_asset_predictions(combined_data[l2[j]],size,test[(l1[j],1)],predictions[(l1[j],1)]) \n",
    "    MASE_d[l2[j]] = MASE(test1,predictions1)\n",
    "    MSE_d[l2[j]] = MSE(test1,predictions1)"
   ]
  },
  {
   "cell_type": "code",
   "execution_count": 1087,
   "metadata": {},
   "outputs": [
    {
     "data": {
      "text/plain": [
       "{'cl_A': 0.99483933154731952,\n",
       " 'cl_B': 0.99267040741737556,\n",
       " 'cl_C': 1.0117033058817724,\n",
       " 'cl_D': 0.99589276762044365}"
      ]
     },
     "execution_count": 1087,
     "metadata": {},
     "output_type": "execute_result"
    }
   ],
   "source": [
    "MASE_d"
   ]
  },
  {
   "cell_type": "code",
   "execution_count": 1088,
   "metadata": {},
   "outputs": [
    {
     "data": {
      "text/plain": [
       "{'cl_A': 0.15796224218396185,\n",
       " 'cl_B': 2.1398937964468634,\n",
       " 'cl_C': 0.0053818950125045914,\n",
       " 'cl_D': 5.7037512269962942}"
      ]
     },
     "execution_count": 1088,
     "metadata": {},
     "output_type": "execute_result"
    }
   ],
   "source": [
    "MSE_d"
   ]
  },
  {
   "cell_type": "code",
   "execution_count": 1089,
   "metadata": {
    "collapsed": true
   },
   "outputs": [],
   "source": [
    "for j in range(4):\n",
    "    Final_results_MASE[j][3] = MASE_d[l2[j]]\n",
    "    Final_results_MSE[j][3] = MSE_d[l2[j]]"
   ]
  },
  {
   "cell_type": "markdown",
   "metadata": {},
   "source": [
    "# Dimension reduction + VAR for the combined series"
   ]
  },
  {
   "cell_type": "code",
   "execution_count": 1185,
   "metadata": {
    "collapsed": true
   },
   "outputs": [],
   "source": [
    "pca_returns = PCA(n_components = 6)"
   ]
  },
  {
   "cell_type": "code",
   "execution_count": 1102,
   "metadata": {
    "collapsed": true
   },
   "outputs": [],
   "source": [
    "l = returns.columns\n",
    "l1 = ['cl_A_ret','cl_B_ret','cl_C_ret','cl_D_ret']\n",
    "#l = [x for x in l if x not in ['cl_A_ret','cl_B_ret','cl_C_ret','cl_D_ret']]"
   ]
  },
  {
   "cell_type": "code",
   "execution_count": 1193,
   "metadata": {},
   "outputs": [],
   "source": [
    "l3 = [j for j in l if j not in l1]\n",
    "returns_ret = pd.DataFrame(pca_returns.fit_transform(returns[l3]))"
   ]
  },
  {
   "cell_type": "code",
   "execution_count": 1194,
   "metadata": {},
   "outputs": [
    {
     "data": {
      "text/plain": [
       "array([ 0.52984171,  0.26950419,  0.10980426,  0.08720913,  0.00224024,\n",
       "        0.0007216 ])"
      ]
     },
     "execution_count": 1194,
     "metadata": {},
     "output_type": "execute_result"
    }
   ],
   "source": [
    "pca_returns.explained_variance_ratio_"
   ]
  },
  {
   "cell_type": "markdown",
   "metadata": {},
   "source": [
    "We see that the first three features of the reduced_ret dataframe contributes to nearly 86% of the total variance \n",
    "amongst all features."
   ]
  },
  {
   "cell_type": "code",
   "execution_count": 1165,
   "metadata": {},
   "outputs": [],
   "source": [
    "\"\"\"This is an adaptation of the VAR models we built previously. We use it to tune the PCA parameter n. Our method as\n",
    "before is to split the time interval into three segments [0:a], [a+1,b] and then [b+1,:]. We then fit our model on \n",
    "[0:a] and use a rolling forecast to test several candidate PCA parameters.\"\"\"\n",
    "\n",
    "def pca_VAR_rolling_forecast_general(df,l,l1,n):\n",
    "    predictions = {}\n",
    "    test = {}\n",
    "    for i in range(1,n+1):\n",
    "        for j in l1:\n",
    "            predictions[(j,i)] = []\n",
    "            test[(j,i)] = [] \n",
    "    for i in range(1,n+1):\n",
    "        size = int(len(df)*0.80)\n",
    "        pca_mod = PCA(n_components = n)\n",
    "        l3 = [j for j in l if j not in l1]\n",
    "        df_red = pd.DataFrame(pca_mod.fit_transform(df[l3]))\n",
    "        df_red.index = df.index\n",
    "        df_red = pd.merge(df_red,df[l1],left_index = True,right_index = True)\n",
    "        t = list(df_red.columns)\n",
    "        while size <= len(df)-1:\n",
    "              data = df_red[0:size]\n",
    "              model = VAR(data)\n",
    "              model_fit = model.fit(maxlags = 5,ic = 'aic')\n",
    "              output = model_fit.forecast(data.values,1)\n",
    "              for j in l1:\n",
    "                  k = t.index(j)\n",
    "                  yhat = output[0][k]\n",
    "                  predictions[(j,i)].append(yhat)\n",
    "                  test[(j,i)].append(df[j][size])\n",
    "              size = size + 1\n",
    "    return(test,predictions)"
   ]
  },
  {
   "cell_type": "code",
   "execution_count": 1253,
   "metadata": {},
   "outputs": [],
   "source": [
    "\"\"\"We call this function to test the final PCA+VAR model.\"\"\"\n",
    "\n",
    "def pca_var(df,l,l1,n):\n",
    "    test = {}\n",
    "    predictions = {}\n",
    "    for j in l1:\n",
    "        predictions[j] = []\n",
    "        test[j] = [] \n",
    "    size = int(len(df)*0.8)    \n",
    "    pca_mod = PCA(n_components = n)\n",
    "    l3 = [j for j in l if j not in l1]\n",
    "    df_red = pd.DataFrame(pca_mod.fit_transform(df[l3]))\n",
    "    df_red.index = df.index\n",
    "    df_red = pd.merge(df_red,df[l1],left_index = True,right_index = True)\n",
    "    t = list(df_red.columns)\n",
    "    while size <= len(df)-1:\n",
    "          data = df_red[0:size]\n",
    "          model = VAR(data)\n",
    "          model_fit = model.fit(maxlags = 5,ic = 'aic')\n",
    "          output = model_fit.forecast(data.values,1)\n",
    "          for j in l1:\n",
    "              k = t.index(j)\n",
    "              yhat = output[0][k]\n",
    "              predictions[j].append(yhat)\n",
    "              test[j].append(df[j][size])\n",
    "          size = size + 1 \n",
    "    return(test,predictions)"
   ]
  },
  {
   "cell_type": "code",
   "execution_count": 1167,
   "metadata": {},
   "outputs": [],
   "source": [
    "size = int(len(returns)*0.8)\n",
    "n = 8\n",
    "test,predictions = pca_VAR_rolling_forecast_general(returns[0:size],l,l1,n)"
   ]
  },
  {
   "cell_type": "code",
   "execution_count": 1248,
   "metadata": {},
   "outputs": [],
   "source": [
    "pca_mod = PCA(n_components = 6)\n",
    "df = returns\n",
    "df_red = pd.DataFrame(pca_mod.fit_transform(df[l3]))\n",
    "df_red.index = df.index\n",
    "df_red = pd.merge(df_red,df[l1],left_index = True,right_index = True)\n"
   ]
  },
  {
   "cell_type": "code",
   "execution_count": 1179,
   "metadata": {},
   "outputs": [],
   "source": [
    "l2 = ['cl_A','cl_B','cl_C','cl_D']\n",
    "MASE_d = {}\n",
    "MSE_d = {} \n",
    "s = int(len(returns)*0.80)\n",
    "size = int(len(returns[0:s])*0.80)\n",
    "for j in range(4):\n",
    "    for i in range(1,n+1):\n",
    "        test1,predictions1 = recover_asset_predictions(combined_data[0:s+1][l2[j]],size,test[(l1[j],i)],predictions[(l1[j],i)]) \n",
    "        MASE_d[(l2[j],i)] = MASE(test1,predictions1)\n",
    "        MSE_d[(l2[j],i)] = MSE(test1,predictions1)"
   ]
  },
  {
   "cell_type": "code",
   "execution_count": 1291,
   "metadata": {},
   "outputs": [
    {
     "data": {
      "text/plain": [
       "{('cl_A', 1): 0.99837757167304209,\n",
       " ('cl_A', 2): 0.99837757167304064,\n",
       " ('cl_A', 3): 0.99837757167302432,\n",
       " ('cl_A', 4): 0.99837757167302665,\n",
       " ('cl_A', 5): 0.99837757167303065,\n",
       " ('cl_A', 6): 0.99837757167301555,\n",
       " ('cl_A', 7): 0.99837757167302876,\n",
       " ('cl_A', 8): 0.99837757167303876,\n",
       " ('cl_B', 1): 1.0015624272534998,\n",
       " ('cl_B', 2): 1.001562427253504,\n",
       " ('cl_B', 3): 1.0015624272534949,\n",
       " ('cl_B', 4): 1.0015624272534951,\n",
       " ('cl_B', 5): 1.0015624272535009,\n",
       " ('cl_B', 6): 1.0015624272534911,\n",
       " ('cl_B', 7): 1.0015624272534944,\n",
       " ('cl_B', 8): 1.001562427253508,\n",
       " ('cl_C', 1): 1.0053911518594387,\n",
       " ('cl_C', 2): 1.0053911518594347,\n",
       " ('cl_C', 3): 1.0053911518594465,\n",
       " ('cl_C', 4): 1.0053911518594447,\n",
       " ('cl_C', 5): 1.0053911518594367,\n",
       " ('cl_C', 6): 1.0053911518594443,\n",
       " ('cl_C', 7): 1.0053911518594381,\n",
       " ('cl_C', 8): 1.0053911518594296,\n",
       " ('cl_D', 1): 1.0017754910183982,\n",
       " ('cl_D', 2): 1.001775491018398,\n",
       " ('cl_D', 3): 1.0017754910183903,\n",
       " ('cl_D', 4): 1.001775491018392,\n",
       " ('cl_D', 5): 1.0017754910183949,\n",
       " ('cl_D', 6): 1.0017754910183863,\n",
       " ('cl_D', 7): 1.0017754910183903,\n",
       " ('cl_D', 8): 1.0017754910184011}"
      ]
     },
     "execution_count": 1291,
     "metadata": {},
     "output_type": "execute_result"
    }
   ],
   "source": [
    "MASE_d"
   ]
  },
  {
   "cell_type": "code",
   "execution_count": 1290,
   "metadata": {},
   "outputs": [
    {
     "data": {
      "text/plain": [
       "{('cl_A', 1): 0.37078704920885625,\n",
       " ('cl_A', 2): 0.37078704920885858,\n",
       " ('cl_A', 3): 0.37078704920884675,\n",
       " ('cl_A', 4): 0.37078704920884359,\n",
       " ('cl_A', 5): 0.37078704920884864,\n",
       " ('cl_A', 6): 0.37078704920884059,\n",
       " ('cl_A', 7): 0.37078704920884759,\n",
       " ('cl_A', 8): 0.37078704920885674,\n",
       " ('cl_B', 1): 3.7214126249715842,\n",
       " ('cl_B', 2): 3.7214126249715851,\n",
       " ('cl_B', 3): 3.7214126249715203,\n",
       " ('cl_B', 4): 3.7214126249714941,\n",
       " ('cl_B', 5): 3.7214126249715127,\n",
       " ('cl_B', 6): 3.7214126249714856,\n",
       " ('cl_B', 7): 3.7214126249715025,\n",
       " ('cl_B', 8): 3.7214126249716122,\n",
       " ('cl_C', 1): 0.025853170858748841,\n",
       " ('cl_C', 2): 0.025853170858748841,\n",
       " ('cl_C', 3): 0.02585317085874925,\n",
       " ('cl_C', 4): 0.025853170858749649,\n",
       " ('cl_C', 5): 0.025853170858749063,\n",
       " ('cl_C', 6): 0.025853170858749282,\n",
       " ('cl_C', 7): 0.025853170858749198,\n",
       " ('cl_C', 8): 0.025853170858748765,\n",
       " ('cl_D', 1): 6.2058833522426848,\n",
       " ('cl_D', 2): 6.2058833522426893,\n",
       " ('cl_D', 3): 6.2058833522425783,\n",
       " ('cl_D', 4): 6.2058833522425791,\n",
       " ('cl_D', 5): 6.2058833522426076,\n",
       " ('cl_D', 6): 6.2058833522425543,\n",
       " ('cl_D', 7): 6.205883352242604,\n",
       " ('cl_D', 8): 6.2058833522427275}"
      ]
     },
     "execution_count": 1290,
     "metadata": {},
     "output_type": "execute_result"
    }
   ],
   "source": [
    "MSE_d"
   ]
  },
  {
   "cell_type": "markdown",
   "metadata": {},
   "source": [
    "The values above suggest that a PCA parameter n = 6 might be optimum. "
   ]
  },
  {
   "cell_type": "code",
   "execution_count": 1261,
   "metadata": {},
   "outputs": [],
   "source": [
    "tst,prd = pca_var(returns,l,l1,6)"
   ]
  },
  {
   "cell_type": "code",
   "execution_count": 1257,
   "metadata": {},
   "outputs": [],
   "source": [
    "\"\"\"Calculate the MASE scores for PCA n = 6\"\"\"\n",
    "\n",
    "l2 = ['cl_A','cl_B','cl_C','cl_D']\n",
    "MASE_d_final = {}\n",
    "MSE_d_final = {} \n",
    "size = int(len(returns)*0.80)\n",
    "for j in range(4):\n",
    "    test1,predictions1 = recover_asset_predictions(combined_data[l2[j]],size,tst[l1[j]],prd[l1[j]]) \n",
    "    MASE_d_final[l2[j]] = MASE(test1,predictions1)\n",
    "    MSE_d_final[l2[j]] = MSE(test1,predictions1)"
   ]
  },
  {
   "cell_type": "code",
   "execution_count": 1259,
   "metadata": {
    "collapsed": true
   },
   "outputs": [],
   "source": [
    "for j in range(4):\n",
    "    Final_results_MASE[j].append(MASE_d_final[l2[j]])\n",
    "    Final_results_MSE[j].append(MSE_d_final[l2[j]])\n"
   ]
  },
  {
   "cell_type": "code",
   "execution_count": 1262,
   "metadata": {},
   "outputs": [],
   "source": [
    "Final_results_MASE = pd.DataFrame(Final_results_MASE)\n",
    "Final_results_MSE = pd.DataFrame(Final_results_MSE)"
   ]
  },
  {
   "cell_type": "code",
   "execution_count": 1263,
   "metadata": {
    "collapsed": true
   },
   "outputs": [],
   "source": [
    "l4 = ['ARIMA','VAR','Naive','VAR Combined','VAR + PCA']\n",
    "Final_results_MASE.columns = l4\n",
    "Final_results_MSE.columns = l4\n",
    "Final_results_MASE.index = ['A','B','C','D']\n",
    "Final_results_MSE.index = ['A','B','C','D']"
   ]
  },
  {
   "cell_type": "code",
   "execution_count": 1265,
   "metadata": {},
   "outputs": [
    {
     "data": {
      "text/html": [
       "<div>\n",
       "<style>\n",
       "    .dataframe thead tr:only-child th {\n",
       "        text-align: right;\n",
       "    }\n",
       "\n",
       "    .dataframe thead th {\n",
       "        text-align: left;\n",
       "    }\n",
       "\n",
       "    .dataframe tbody tr th {\n",
       "        vertical-align: top;\n",
       "    }\n",
       "</style>\n",
       "<table border=\"1\" class=\"dataframe\">\n",
       "  <thead>\n",
       "    <tr style=\"text-align: right;\">\n",
       "      <th></th>\n",
       "      <th>ARIMA</th>\n",
       "      <th>VAR</th>\n",
       "      <th>Naive</th>\n",
       "      <th>VAR Combined</th>\n",
       "      <th>VAR + PCA</th>\n",
       "    </tr>\n",
       "  </thead>\n",
       "  <tbody>\n",
       "    <tr>\n",
       "      <th>A</th>\n",
       "      <td>0.997083</td>\n",
       "      <td>0.996208</td>\n",
       "      <td>1.0</td>\n",
       "      <td>0.994839</td>\n",
       "      <td>0.998305</td>\n",
       "    </tr>\n",
       "    <tr>\n",
       "      <th>B</th>\n",
       "      <td>0.994859</td>\n",
       "      <td>0.991335</td>\n",
       "      <td>1.0</td>\n",
       "      <td>0.992670</td>\n",
       "      <td>0.992507</td>\n",
       "    </tr>\n",
       "    <tr>\n",
       "      <th>C</th>\n",
       "      <td>1.009271</td>\n",
       "      <td>1.008781</td>\n",
       "      <td>1.0</td>\n",
       "      <td>1.011703</td>\n",
       "      <td>1.015820</td>\n",
       "    </tr>\n",
       "    <tr>\n",
       "      <th>D</th>\n",
       "      <td>0.999472</td>\n",
       "      <td>1.006387</td>\n",
       "      <td>1.0</td>\n",
       "      <td>0.995893</td>\n",
       "      <td>0.996674</td>\n",
       "    </tr>\n",
       "  </tbody>\n",
       "</table>\n",
       "</div>"
      ],
      "text/plain": [
       "      ARIMA       VAR  Naive  VAR Combined  VAR + PCA\n",
       "A  0.997083  0.996208    1.0      0.994839   0.998305\n",
       "B  0.994859  0.991335    1.0      0.992670   0.992507\n",
       "C  1.009271  1.008781    1.0      1.011703   1.015820\n",
       "D  0.999472  1.006387    1.0      0.995893   0.996674"
      ]
     },
     "execution_count": 1265,
     "metadata": {},
     "output_type": "execute_result"
    }
   ],
   "source": [
    "Final_results_MASE.head()"
   ]
  },
  {
   "cell_type": "code",
   "execution_count": null,
   "metadata": {
    "collapsed": true
   },
   "outputs": [],
   "source": []
  },
  {
   "cell_type": "code",
   "execution_count": null,
   "metadata": {
    "collapsed": true
   },
   "outputs": [],
   "source": []
  },
  {
   "cell_type": "code",
   "execution_count": null,
   "metadata": {
    "collapsed": true
   },
   "outputs": [],
   "source": []
  },
  {
   "cell_type": "code",
   "execution_count": null,
   "metadata": {
    "collapsed": true
   },
   "outputs": [],
   "source": []
  },
  {
   "cell_type": "code",
   "execution_count": null,
   "metadata": {
    "collapsed": true
   },
   "outputs": [],
   "source": []
  },
  {
   "cell_type": "code",
   "execution_count": null,
   "metadata": {
    "collapsed": true
   },
   "outputs": [],
   "source": []
  },
  {
   "cell_type": "code",
   "execution_count": null,
   "metadata": {
    "collapsed": true
   },
   "outputs": [],
   "source": []
  },
  {
   "cell_type": "code",
   "execution_count": null,
   "metadata": {
    "collapsed": true
   },
   "outputs": [],
   "source": []
  },
  {
   "cell_type": "code",
   "execution_count": null,
   "metadata": {
    "collapsed": true
   },
   "outputs": [],
   "source": []
  },
  {
   "cell_type": "code",
   "execution_count": null,
   "metadata": {
    "collapsed": true
   },
   "outputs": [],
   "source": []
  },
  {
   "cell_type": "code",
   "execution_count": null,
   "metadata": {
    "collapsed": true
   },
   "outputs": [],
   "source": []
  },
  {
   "cell_type": "code",
   "execution_count": null,
   "metadata": {
    "collapsed": true
   },
   "outputs": [],
   "source": []
  },
  {
   "cell_type": "code",
   "execution_count": null,
   "metadata": {
    "collapsed": true
   },
   "outputs": [],
   "source": []
  },
  {
   "cell_type": "code",
   "execution_count": null,
   "metadata": {
    "collapsed": true
   },
   "outputs": [],
   "source": []
  },
  {
   "cell_type": "code",
   "execution_count": null,
   "metadata": {
    "collapsed": true
   },
   "outputs": [],
   "source": []
  },
  {
   "cell_type": "code",
   "execution_count": null,
   "metadata": {
    "collapsed": true
   },
   "outputs": [],
   "source": []
  },
  {
   "cell_type": "code",
   "execution_count": null,
   "metadata": {
    "collapsed": true
   },
   "outputs": [],
   "source": []
  },
  {
   "cell_type": "code",
   "execution_count": null,
   "metadata": {
    "collapsed": true
   },
   "outputs": [],
   "source": []
  },
  {
   "cell_type": "code",
   "execution_count": null,
   "metadata": {
    "collapsed": true
   },
   "outputs": [],
   "source": []
  },
  {
   "cell_type": "code",
   "execution_count": null,
   "metadata": {
    "collapsed": true
   },
   "outputs": [],
   "source": []
  },
  {
   "cell_type": "code",
   "execution_count": null,
   "metadata": {
    "collapsed": true
   },
   "outputs": [],
   "source": []
  },
  {
   "cell_type": "code",
   "execution_count": null,
   "metadata": {
    "collapsed": true
   },
   "outputs": [],
   "source": []
  },
  {
   "cell_type": "code",
   "execution_count": null,
   "metadata": {
    "collapsed": true
   },
   "outputs": [],
   "source": []
  }
 ],
 "metadata": {
  "kernelspec": {
   "display_name": "Python 3",
   "language": "python",
   "name": "python3"
  },
  "language_info": {
   "codemirror_mode": {
    "name": "ipython",
    "version": 3
   },
   "file_extension": ".py",
   "mimetype": "text/x-python",
   "name": "python",
   "nbconvert_exporter": "python",
   "pygments_lexer": "ipython3",
   "version": "3.6.3"
  }
 },
 "nbformat": 4,
 "nbformat_minor": 2
}
