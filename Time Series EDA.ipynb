{
 "cells": [
  {
   "cell_type": "markdown",
   "metadata": {},
   "source": [
    "# Exploratory Data Analysis  "
   ]
  },
  {
   "cell_type": "code",
   "execution_count": 1,
   "metadata": {},
   "outputs": [
    {
     "name": "stderr",
     "output_type": "stream",
     "text": [
      "/Users/Welliareetil/anaconda3/lib/python3.6/site-packages/statsmodels/compat/pandas.py:56: FutureWarning: The pandas.core.datetools module is deprecated and will be removed in a future version. Please use the pandas.tseries module instead.\n",
      "  from pandas.core import datetools\n"
     ]
    }
   ],
   "source": [
    "import pandas as pd\n",
    "import numpy as np\n",
    "import matplotlib.pyplot as plt\n",
    "import matplotlib.dates as mdates\n",
    "from pandas.plotting import scatter_matrix\n",
    "import seaborn as sns\n",
    "from statsmodels.tsa.stattools import acf\n",
    "from statsmodels.tsa.stattools import coint\n",
    "from statsmodels.graphics.tsaplots import plot_acf\n",
    "from statsmodels.tsa.stattools import adfuller\n",
    "from statsmodels.tsa.arima_model import ARMA\n",
    "from statsmodels.tsa.arima_model import ARIMA\n",
    "from sklearn.metrics import mean_squared_error\n",
    "from statsmodels.tsa.stattools import ccf\n",
    "from statsmodels.tsa.vector_ar.var_model import VAR\n"
   ]
  },
  {
   "cell_type": "code",
   "execution_count": 2,
   "metadata": {
    "collapsed": true
   },
   "outputs": [],
   "source": [
    "pathA = '/Users/Welliareetil/Documents/Cabestan-technical challenge/WelliaveetilDataset/A.csv'\n",
    "pathB = '/Users/Welliareetil/Documents/Cabestan-technical challenge/WelliaveetilDataset/B.csv'\n",
    "pathC = '/Users/Welliareetil/Documents/Cabestan-technical challenge/WelliaveetilDataset/C.csv'\n",
    "pathD = '/Users/Welliareetil/Documents/Cabestan-technical challenge/WelliaveetilDataset/D.csv'"
   ]
  },
  {
   "cell_type": "code",
   "execution_count": 3,
   "metadata": {
    "collapsed": true
   },
   "outputs": [],
   "source": [
    "A = pd.read_csv(pathA)\n",
    "B = pd.read_csv(pathB)\n",
    "C = pd.read_csv(pathC)\n",
    "D = pd.read_csv(pathD)"
   ]
  },
  {
   "cell_type": "code",
   "execution_count": 4,
   "metadata": {
    "collapsed": true
   },
   "outputs": [],
   "source": [
    "A.columns = [\"date\",'op_A', 'hi_A', 'lo_A', 'se_A', 'volume_A', 'oi_A']\n",
    "B.columns = [\"date\",'op_B', 'hi_B', 'lo_B', 'se_B', 'volume_B', 'oi_B']\n",
    "C.columns = [\"date\",'op_C', 'hi_C', 'lo_C', 'se_C', 'volume_C', 'oi_C']\n",
    "D.columns = [\"date\",'op_D', 'hi_D', 'lo_D', 'se_D', 'volume_D', 'oi_D']"
   ]
  },
  {
   "cell_type": "code",
   "execution_count": 5,
   "metadata": {
    "collapsed": true
   },
   "outputs": [],
   "source": [
    "A[\"date\"] = pd.to_datetime(A[\"date\"])\n",
    "B[\"date\"] = pd.to_datetime(B[\"date\"])\n",
    "C[\"date\"] = pd.to_datetime(C[\"date\"])\n",
    "D[\"date\"] = pd.to_datetime(D[\"date\"])"
   ]
  },
  {
   "cell_type": "code",
   "execution_count": 6,
   "metadata": {
    "collapsed": true
   },
   "outputs": [],
   "source": [
    "#We make note of the start and end dates of the 4 time series. This will be useful when making plot comparisons. \n",
    "\n",
    "a_start = A['date'][0]\n",
    "a_end = A['date'][len(A['date'])-1]\n",
    "b_start = B['date'][0]\n",
    "b_end = B['date'][len(B[\"date\"])-1]\n",
    "c_start = C['date'][0]\n",
    "c_end = C['date'][6823]\n",
    "d_start = D['date'][0]\n",
    "d_end = D['date'][10025]"
   ]
  },
  {
   "cell_type": "code",
   "execution_count": 7,
   "metadata": {
    "collapsed": true
   },
   "outputs": [],
   "source": [
    "A.index = A[\"date\"]\n",
    "#del(A['date'])\n",
    "B.index = B[\"date\"]\n",
    "#del(B['date'])\n",
    "C.index = C['date']\n",
    "#del(C['date'])\n",
    "D.index = D['date']\n",
    "#del(D['date'])\n"
   ]
  },
  {
   "cell_type": "code",
   "execution_count": 8,
   "metadata": {
    "collapsed": true
   },
   "outputs": [],
   "source": [
    "#We add a column \"closing price\" to a given dataframe. We feel this is a more natural variable to predict.\n",
    "\n",
    "def closing_price_column(df,op,s):\n",
    "    l = pd.Series([df[op][j+1] for j in range(len(df)-1)] + [0])\n",
    "    df = df.assign(cl = l.values)\n",
    "    df = df.drop(df.index[-1])\n",
    "    df.rename(columns = {'cl':s},inplace = True)\n",
    "    return(df)"
   ]
  },
  {
   "cell_type": "code",
   "execution_count": 9,
   "metadata": {},
   "outputs": [],
   "source": [
    "A = closing_price_column(A,\"op_A\",\"cl_A\")\n",
    "B = closing_price_column(B,\"op_B\",\"cl_B\")\n",
    "C = closing_price_column(C,\"op_C\",\"cl_C\")\n",
    "D = closing_price_column(D,\"op_D\",\"cl_D\")"
   ]
  },
  {
   "cell_type": "markdown",
   "metadata": {},
   "source": [
    "# Missing Values and dates"
   ]
  },
  {
   "cell_type": "markdown",
   "metadata": {},
   "source": [
    "Checking for missing values and any unusual behaviour. "
   ]
  },
  {
   "cell_type": "code",
   "execution_count": 10,
   "metadata": {},
   "outputs": [
    {
     "data": {
      "text/plain": [
       "[[0, 0, 0, 0, 0, 0, 0, 0],\n",
       " [0, 0, 0, 0, 0, 0, 0, 0],\n",
       " [0, 0, 0, 0, 0, 0, 0, 0],\n",
       " [0, 6, 6, 6, 0, 8, 11, 6]]"
      ]
     },
     "execution_count": 10,
     "metadata": {},
     "output_type": "execute_result"
    }
   ],
   "source": [
    "null_list = []\n",
    "null_list.append(list(A.isnull().sum()))\n",
    "null_list.append(list(B.isnull().sum()))\n",
    "null_list.append(list(C.isnull().sum()))\n",
    "null_list.append(list(D.isnull().sum()))\n",
    "null_list"
   ]
  },
  {
   "cell_type": "markdown",
   "metadata": {},
   "source": [
    "We see that the series D has some missing values. "
   ]
  },
  {
   "cell_type": "markdown",
   "metadata": {},
   "source": [
    "We check if the data has certain dates missing. We do so by counting \n",
    "the number of days between the start and end dates of \n",
    "the different series and then multiplying this by (251/365) since 251 is a rough estimate of the number of\n",
    "working days per year. We then subtract the length of the various series which we assume\n",
    "counts the actual working days \n",
    "of the year and then normalize the error by dividing by the number of days between the start and end date. We see that \n",
    "this error rate is pretty much constant over all series."
   ]
  },
  {
   "cell_type": "code",
   "execution_count": 11,
   "metadata": {
    "collapsed": true
   },
   "outputs": [],
   "source": [
    "def missing_days(A):\n",
    "    a_start = A['date'][0]\n",
    "    a_end = A['date'][len(A['date'])-1]\n",
    "    deltaA = a_end - a_start\n",
    "    e1 = deltaA.days*(251/365) - len(A)\n",
    "    print(e1/deltaA.days)"
   ]
  },
  {
   "cell_type": "code",
   "execution_count": 12,
   "metadata": {},
   "outputs": [
    {
     "name": "stdout",
     "output_type": "stream",
     "text": [
      "-0.00126714871200338\n"
     ]
    }
   ],
   "source": [
    "missing_days(A)"
   ]
  },
  {
   "cell_type": "code",
   "execution_count": 13,
   "metadata": {},
   "outputs": [
    {
     "name": "stdout",
     "output_type": "stream",
     "text": [
      "-0.0020423488910734306\n"
     ]
    }
   ],
   "source": [
    "missing_days(B)"
   ]
  },
  {
   "cell_type": "code",
   "execution_count": 14,
   "metadata": {},
   "outputs": [
    {
     "name": "stdout",
     "output_type": "stream",
     "text": [
      "-0.001242337397924194\n"
     ]
    }
   ],
   "source": [
    "missing_days(C)"
   ]
  },
  {
   "cell_type": "code",
   "execution_count": 15,
   "metadata": {},
   "outputs": [
    {
     "name": "stdout",
     "output_type": "stream",
     "text": [
      "-0.00237557329068854\n"
     ]
    }
   ],
   "source": [
    "missing_days(D)"
   ]
  },
  {
   "cell_type": "markdown",
   "metadata": {},
   "source": [
    "# Relationship between the opening prices of the 4 assets"
   ]
  },
  {
   "cell_type": "code",
   "execution_count": 16,
   "metadata": {
    "collapsed": true
   },
   "outputs": [],
   "source": [
    "a = max(a_start,b_start,c_start,d_start)\n",
    "b = min(a_end,b_end,c_end,d_end)"
   ]
  },
  {
   "cell_type": "code",
   "execution_count": 17,
   "metadata": {
    "collapsed": true
   },
   "outputs": [],
   "source": [
    "b = '2017/08/29'\n",
    "a = \"1990/07/17\""
   ]
  },
  {
   "cell_type": "code",
   "execution_count": 18,
   "metadata": {
    "collapsed": true
   },
   "outputs": [],
   "source": [
    "#A.set_index(\"date\")\n",
    "#B.set_index(\"date\")\n",
    "#C.set_index('date')\n",
    "#D.set_index('date')\n",
    "#a_start = A['date'][0]\n",
    "#a_end = A['date'][len(A['date'])-1]\n",
    "#b_start = B['date'][0]\n",
    "#b_end = B['date'][len(B[\"date\"])-1]\n",
    "#c_start = C['date'][0]\n",
    "#c_end = C['date'][6823]\n",
    "#d_start = D['date'][0]\n",
    "#d_end = D['date'][10025]"
   ]
  },
  {
   "cell_type": "code",
   "execution_count": 19,
   "metadata": {
    "collapsed": true
   },
   "outputs": [],
   "source": [
    "a = max(a_start,b_start,c_start,d_start)\n",
    "b = min(a_end,b_end,c_end,d_end)"
   ]
  },
  {
   "cell_type": "markdown",
   "metadata": {},
   "source": [
    "A comparison plot of the opening prices of A,B,C and D during the relevant time periods. "
   ]
  },
  {
   "cell_type": "code",
   "execution_count": 20,
   "metadata": {
    "scrolled": false
   },
   "outputs": [
    {
     "data": {
      "image/png": "[encoded data removed]",
      "text/plain": [
       "<matplotlib.figure.Figure at 0x1052084a8>"
      ]
     },
     "metadata": {},
     "output_type": "display_data"
    }
   ],
   "source": [
    "fig,ax = plt.subplots()\n",
    "ax.plot(A[\"date\"][a:b],A[a:b]['op_A'])\n",
    "ax.plot(B[\"date\"][a:b],B[a:b]['op_B'])\n",
    "ax.plot(C[\"date\"],C['op_C'])\n",
    "ax.plot(D[\"date\"][3135:9964],D[3135:9964]['op_D'])\n",
    "ax.xaxis.set_major_locator(mdates.YearLocator(2,month = 2,day = 2))\n",
    "ax.xaxis.set_major_formatter(mdates.DateFormatter(\"%Y\"))\n",
    "ax.legend()\n",
    "_=plt.xticks(rotation=90) \n",
    "plt.show()"
   ]
  },
  {
   "cell_type": "markdown",
   "metadata": {},
   "source": [
    "We observe a very strong relationship between the series op_B and op_D. To be sure we calculate correlations between the returns (or in this case day to day changes) between the series. "
   ]
  },
  {
   "cell_type": "code",
   "execution_count": 21,
   "metadata": {
    "collapsed": true
   },
   "outputs": [],
   "source": [
    "A_ret = A.copy()\n",
    "del(A_ret['date'])\n",
    "A_ret = A_ret.pct_change()\n",
    "A_ret = A_ret.dropna(axis = 0)\n",
    "\n",
    "B_ret = B.copy()\n",
    "del(B_ret['date'])\n",
    "B_ret = B_ret.pct_change()\n",
    "B_ret = B_ret.dropna(axis = 0)\n",
    "\n",
    "C_ret = C.copy()\n",
    "del(C_ret['date'])\n",
    "C_ret = C_ret.pct_change()\n",
    "C_ret = C_ret.dropna(axis = 0)\n",
    "\n",
    "D_ret = D.copy()\n",
    "del(D_ret['date'])\n",
    "D_ret = D_ret.pct_change()\n",
    "D_ret = D_ret.dropna(axis = 0)\n"
   ]
  },
  {
   "cell_type": "markdown",
   "metadata": {},
   "source": [
    "We create a database that includes all the data from the 4 series A,B,C and D. We study the correlations between series. "
   ]
  },
  {
   "cell_type": "code",
   "execution_count": 22,
   "metadata": {
    "collapsed": true
   },
   "outputs": [],
   "source": [
    "returns = A_ret.join(B_ret,how = 'inner')\n",
    "returns = returns.join(C_ret,how = \"inner\")\n",
    "returns = returns.join(D_ret,how = 'inner')"
   ]
  },
  {
   "cell_type": "code",
   "execution_count": 23,
   "metadata": {
    "collapsed": true
   },
   "outputs": [],
   "source": [
    "l = []\n",
    "for j in list(returns.columns):\n",
    "    j = j + '_ret'    \n",
    "    l.append(j)\n",
    "returns.columns = l    "
   ]
  },
  {
   "cell_type": "code",
   "execution_count": 24,
   "metadata": {},
   "outputs": [
    {
     "data": {
      "text/plain": [
       "Index(['op_A_ret', 'hi_A_ret', 'lo_A_ret', 'se_A_ret', 'volume_A_ret',\n",
       "       'oi_A_ret', 'cl_A_ret', 'op_B_ret', 'hi_B_ret', 'lo_B_ret', 'se_B_ret',\n",
       "       'volume_B_ret', 'oi_B_ret', 'cl_B_ret', 'op_C_ret', 'hi_C_ret',\n",
       "       'lo_C_ret', 'se_C_ret', 'volume_C_ret', 'oi_C_ret', 'cl_C_ret',\n",
       "       'op_D_ret', 'hi_D_ret', 'lo_D_ret', 'se_D_ret', 'volume_D_ret',\n",
       "       'oi_D_ret', 'cl_D_ret'],\n",
       "      dtype='object')"
      ]
     },
     "execution_count": 24,
     "metadata": {},
     "output_type": "execute_result"
    }
   ],
   "source": [
    "returns.columns"
   ]
  },
  {
   "cell_type": "code",
   "execution_count": 25,
   "metadata": {},
   "outputs": [
    {
     "name": "stdout",
     "output_type": "stream",
     "text": [
      "          op_A_ret  op_B_ret  op_C_ret  op_D_ret\n",
      "op_A_ret  1.000000  0.946647  0.822561  0.850240\n",
      "op_B_ret  0.946647  1.000000  0.755454  0.929769\n",
      "op_C_ret  0.822561  0.755454  1.000000  0.644977\n",
      "op_D_ret  0.850240  0.929769  0.644977  1.000000\n"
     ]
    }
   ],
   "source": [
    "correlations_op = returns[['op_A_ret','op_B_ret','op_C_ret','op_D_ret']].corr()\n",
    "print(correlations_op)"
   ]
  },
  {
   "cell_type": "code",
   "execution_count": 26,
   "metadata": {
    "collapsed": true
   },
   "outputs": [],
   "source": [
    "#scatter_matrix(returns[['op_A_ret','op_B_ret','op_C_ret','op_D_ret']])\n",
    "#plt.show()"
   ]
  },
  {
   "cell_type": "code",
   "execution_count": 27,
   "metadata": {
    "collapsed": true
   },
   "outputs": [],
   "source": [
    "dims = (12,7.5)\n",
    "#fig,ax = plt.subplots(figsize = dims)\n",
    "correlations = returns.corr()\n",
    "#sns.heatmap(ax = ax, data = correlations)\n",
    "#plt.show()\n",
    "#plt.savefig('correlation_matrix.png')"
   ]
  },
  {
   "cell_type": "markdown",
   "metadata": {},
   "source": [
    "We make the following observations : \n",
    "\n",
    "1) The volume changes and changes in open interest from day to day show little correlation with the day to day changes of the other features (hi_ret,lo_ret,se_ret,op_ret) within the same series and\n",
    "the other series.\n",
    "\n",
    "2) For any two series, say A and B, we have strong correlations between op_A_ret and op_B_ret, hi_A_ret and hi_B_ret,\n",
    "lo_A_ret and lo_B_ret, se_A_ret and se_B_ret. "
   ]
  },
  {
   "cell_type": "markdown",
   "metadata": {},
   "source": [
    "#  Functions we will use : "
   ]
  },
  {
   "cell_type": "markdown",
   "metadata": {},
   "source": [
    "We now list the functions we will call subsequently to process the data, clean it and also build models for it. "
   ]
  },
  {
   "cell_type": "markdown",
   "metadata": {},
   "source": [
    "# Preprocessing functions :"
   ]
  },
  {
   "cell_type": "code",
   "execution_count": 28,
   "metadata": {},
   "outputs": [],
   "source": [
    "#Rename the columns so that they differ from those of A\n",
    "\n",
    "def add_ret(B):\n",
    "    t = []\n",
    "    for j in list(B.columns):\n",
    "        j = j + '_ret'    \n",
    "        t.append(j)\n",
    "    B.columns = t"
   ]
  },
  {
   "cell_type": "code",
   "execution_count": 29,
   "metadata": {
    "collapsed": true
   },
   "outputs": [],
   "source": [
    "#Function to correct missing values and outliers in a given entry of a column in a dataframe.\n",
    "\n",
    "def insert_mean(S,i):\n",
    "    S[i] = (S[i-1]+S[i+1])/2"
   ]
  },
  {
   "cell_type": "code",
   "execution_count": 30,
   "metadata": {
    "collapsed": true
   },
   "outputs": [],
   "source": [
    "\"\"\"Function checks for missing values and then fills them in.\"\"\"\n",
    "\n",
    "def rectify(df):\n",
    "    cols = list(df.columns)\n",
    "    for c in cols:\n",
    "         S = df[c]\n",
    "         nl = []\n",
    "         A = S.isnull()\n",
    "         for j in range(len(A)):\n",
    "              if A[j] == True:\n",
    "                nl.append(j)\n",
    "         for j in nl:\n",
    "             insert_mean(S,j)"
   ]
  },
  {
   "cell_type": "code",
   "execution_count": 31,
   "metadata": {
    "collapsed": true
   },
   "outputs": [],
   "source": [
    "\"\"\"check if series is random walk or not. Necessary since in \n",
    "many cases we are restricted to working with stationary series.\"\"\"\n",
    "def ad_fuller_test(S):\n",
    "    results = adfuller(S)\n",
    "    print(\"The p-value is \" + str(results[1]))"
   ]
  },
  {
   "cell_type": "code",
   "execution_count": 32,
   "metadata": {
    "collapsed": true
   },
   "outputs": [],
   "source": [
    "#function to plot the cross correlation for stationary series X and Y.\n",
    "\n",
    "def CCF(X,Y,s1):\n",
    "    cross_corr = ccf(X,Y)\n",
    "    plt.plot(cross_corr[0:250])\n",
    "    plt.xlabel(s1)\n",
    "    plt.show()"
   ]
  },
  {
   "cell_type": "markdown",
   "metadata": {},
   "source": [
    "# Functions to build and test models :"
   ]
  },
  {
   "cell_type": "markdown",
   "metadata": {},
   "source": [
    "We begin by building ARIMA models to get a measure of how noisy the various series are. "
   ]
  },
  {
   "cell_type": "code",
   "execution_count": 33,
   "metadata": {
    "collapsed": true
   },
   "outputs": [],
   "source": [
    "\"\"\"The following function acts on a given time series and builds a ARIMA models at several parameter values.\n",
    "It then outputs the AIC and BIC scores. We use these scores to choose a suitable model at a later stage.\n",
    "In our case, we restrict our attention to just 5 ARIMA models and find that in some cases reasonable\n",
    "accuracy can be achieved with this.\"\"\"\n",
    "\n",
    "def ARIMA_fitting_AIC_BIC_list(A):\n",
    "    X = A.values\n",
    "    size = int(len(X)*0.70)\n",
    "    train = X[0:size]\n",
    "    test = X[size:len(X)]\n",
    "    AIC = []\n",
    "    BIC = []\n",
    "    for i in range(1,6):\n",
    "        model = ARIMA(train,order = (i,1,0))\n",
    "        model_fit = model.fit(disp=0)\n",
    "        AIC.append(model_fit.aic)\n",
    "        BIC.append(model_fit.bic)\n",
    "    print('The AIC list is ' )\n",
    "    print(AIC)\n",
    "    print('The BIC list is ')\n",
    "    print(BIC)"
   ]
  },
  {
   "cell_type": "code",
   "execution_count": 34,
   "metadata": {
    "collapsed": true
   },
   "outputs": [],
   "source": [
    "\"\"\"Given an ARIMA(p,d,q)-model, we test its predictive power by means of a rolling forecast. This function inputs \n",
    "a time series and the parameters of an ARIMA model and outputs a test series and predictions which the model makes.\"\"\"\n",
    "\n",
    "def ARIMA_rolling_forecast(A,p,d,q):\n",
    "    X = A.values\n",
    "    size = int(len(X)*0.70)\n",
    "    train = X[0:size]\n",
    "    test = X[size:len(X)]\n",
    "    history = [x for x in train]\n",
    "    predictions = list()\n",
    "    for t in range(len(test)):\n",
    "        model = ARIMA(history, order=(p,d,q))\n",
    "        model_fit = model.fit(disp=0)\n",
    "        output = model_fit.forecast()\n",
    "        yhat = output[0]\n",
    "        predictions.append(yhat)\n",
    "        obs = test[t]\n",
    "        history.append(obs)\n",
    "    return(test, predictions) "
   ]
  },
  {
   "cell_type": "code",
   "execution_count": 35,
   "metadata": {
    "collapsed": true
   },
   "outputs": [],
   "source": [
    "\"\"\"We plot the predictions from the rolling forecast.\"\"\"\n",
    "\n",
    "def plot_predictions(test,predictions):\n",
    "    plt.plot(predictions)\n",
    "    plt.plot(test)\n",
    "    plt.xlabel('Index of data point of test set')\n",
    "    plt.ylabel('price')\n",
    "    plt.legend()\n",
    "    plt.show()"
   ]
  },
  {
   "cell_type": "code",
   "execution_count": 36,
   "metadata": {
    "collapsed": true
   },
   "outputs": [],
   "source": [
    "\"\"\"Mean squared error calculation\"\"\"\n",
    "\n",
    "def MSE(test,predictions):\n",
    "    error = mean_squared_error(test,predictions)\n",
    "    print(error)"
   ]
  },
  {
   "cell_type": "code",
   "execution_count": 37,
   "metadata": {
    "collapsed": true
   },
   "outputs": [],
   "source": [
    "\"\"\"The mean squared error might be misleading in this case. We hence define the mean absolute scaled error. \n",
    "The MASE tells us how much better or worse the given model is when compared to the very naive model which predicts\n",
    "tomorrows value as todays value. An MASE which is greater than 1 implies that the model is worse than the naive model\n",
    "while an MASE which is less than 1 implies that the model is better.\"\"\"\n",
    "\n",
    "def MASE(test,predictions):\n",
    "    err = [test[j] - predictions[j] for j in range(len(test))]\n",
    "    #Naive error calculation : \n",
    "    T = len(test)\n",
    "    naive_error = 0\n",
    "    for j in range(1,T):\n",
    "        naive_error = naive_error + abs(test[j] - test[j-1])\n",
    "    naive_error = (1/(T-1))*naive_error \n",
    "    scaled_errors = [x*naive_error for x in err]\n",
    "    MASE = np.mean([abs(x) for x in scaled_errors])\n",
    "    print(\"The mean absolute scaled error is \" + str(MASE))"
   ]
  },
  {
   "cell_type": "markdown",
   "metadata": {},
   "source": [
    "We now build VAR models to make full use of the given data."
   ]
  },
  {
   "cell_type": "code",
   "execution_count": 38,
   "metadata": {
    "collapsed": true
   },
   "outputs": [],
   "source": [
    "\"\"\"Function inputs a dataframe and a list of columns, and outputs a list of AIC and BIC scores for VAR(p) models \n",
    "(where p is the lag parameter). The columns indicated must be stationary series.\"\"\" \n",
    "\n",
    "def selecting_model(df,l):\n",
    "    size = int(len(df)*0.7)\n",
    "    data = df[l][0:size]\n",
    "    model = VAR(data)\n",
    "    return(model.select_order(20))"
   ]
  },
  {
   "cell_type": "code",
   "execution_count": 39,
   "metadata": {
    "collapsed": true
   },
   "outputs": [],
   "source": [
    "\"\"\"We test our VAR model using a rolling forecast. The function outputs \n",
    "a test series and a prediction series. An important point to note is that VAR models can only work \n",
    "with stationary series.\"\"\"\n",
    "\n",
    "def VAR_rolling_forecast(df,l,p):\n",
    "    size = int(len(df)*0.70)\n",
    "    predictions = list()\n",
    "    test = []\n",
    "    while size <= len(df)-1:\n",
    "        data = df[0:size][l]\n",
    "        model = VAR(data)\n",
    "        model_fit = model.fit(p)\n",
    "        output = model_fit.forecast(data.values,1)\n",
    "        yhat = output[0][0]\n",
    "        predictions.append(yhat)\n",
    "        test.append(df[l[0]][size])\n",
    "        size = size + 1\n",
    "    return(test,predictions)"
   ]
  },
  {
   "cell_type": "code",
   "execution_count": 89,
   "metadata": {
    "collapsed": true
   },
   "outputs": [],
   "source": [
    "\"\"\"Since the VAR model predicts the stationary returns series, we write a function\n",
    "that recovers predictions for the original series.\"\"\"\n",
    "\n",
    "def recover_asset_B_predictions(S,size,test,predictions):\n",
    "    test_adj = []\n",
    "    for j in range(size+1,len(S)):\n",
    "        test_adj.append(S[j])\n",
    "    predictions_adj = []\n",
    "    j = size\n",
    "    t = 0\n",
    "    while t <= len(predictions)-1 and j <= len(S)-1:\n",
    "        predictions_adj.append(S[j] + predictions[t])\n",
    "        t = t + 1\n",
    "        j = j + 1\n",
    "    return(test_adj,predictions_adj)"
   ]
  },
  {
   "cell_type": "markdown",
   "metadata": {},
   "source": [
    "# We predict the opening prices of asset A."
   ]
  },
  {
   "cell_type": "markdown",
   "metadata": {},
   "source": [
    "We start by plotting the autocorrelation function for the returns series - A_ret"
   ]
  },
  {
   "cell_type": "code",
   "execution_count": 40,
   "metadata": {},
   "outputs": [
    {
     "data": {
      "text/html": [
       "<div>\n",
       "<style>\n",
       "    .dataframe thead tr:only-child th {\n",
       "        text-align: right;\n",
       "    }\n",
       "\n",
       "    .dataframe thead th {\n",
       "        text-align: left;\n",
       "    }\n",
       "\n",
       "    .dataframe tbody tr th {\n",
       "        vertical-align: top;\n",
       "    }\n",
       "</style>\n",
       "<table border=\"1\" class=\"dataframe\">\n",
       "  <thead>\n",
       "    <tr style=\"text-align: right;\">\n",
       "      <th></th>\n",
       "      <th>op_A</th>\n",
       "      <th>hi_A</th>\n",
       "      <th>lo_A</th>\n",
       "      <th>se_A</th>\n",
       "      <th>volume_A</th>\n",
       "      <th>oi_A</th>\n",
       "      <th>cl_A</th>\n",
       "    </tr>\n",
       "  </thead>\n",
       "  <tbody>\n",
       "    <tr>\n",
       "      <th>count</th>\n",
       "      <td>7423.000000</td>\n",
       "      <td>7423.000000</td>\n",
       "      <td>7423.000000</td>\n",
       "      <td>7423.000000</td>\n",
       "      <td>7423.000000</td>\n",
       "      <td>7423.000000</td>\n",
       "      <td>7423.000000</td>\n",
       "    </tr>\n",
       "    <tr>\n",
       "      <th>mean</th>\n",
       "      <td>0.000113</td>\n",
       "      <td>0.000112</td>\n",
       "      <td>0.000112</td>\n",
       "      <td>0.000112</td>\n",
       "      <td>inf</td>\n",
       "      <td>0.007094</td>\n",
       "      <td>0.000112</td>\n",
       "    </tr>\n",
       "    <tr>\n",
       "      <th>std</th>\n",
       "      <td>0.002599</td>\n",
       "      <td>0.002468</td>\n",
       "      <td>0.002385</td>\n",
       "      <td>0.002519</td>\n",
       "      <td>NaN</td>\n",
       "      <td>0.391756</td>\n",
       "      <td>0.002599</td>\n",
       "    </tr>\n",
       "    <tr>\n",
       "      <th>min</th>\n",
       "      <td>-0.017423</td>\n",
       "      <td>-0.016938</td>\n",
       "      <td>-0.017679</td>\n",
       "      <td>-0.019006</td>\n",
       "      <td>-1.000000</td>\n",
       "      <td>-0.971345</td>\n",
       "      <td>-0.017423</td>\n",
       "    </tr>\n",
       "    <tr>\n",
       "      <th>25%</th>\n",
       "      <td>-0.001341</td>\n",
       "      <td>-0.001113</td>\n",
       "      <td>-0.001093</td>\n",
       "      <td>-0.001258</td>\n",
       "      <td>-0.231088</td>\n",
       "      <td>-0.009297</td>\n",
       "      <td>-0.001341</td>\n",
       "    </tr>\n",
       "    <tr>\n",
       "      <th>50%</th>\n",
       "      <td>0.000141</td>\n",
       "      <td>0.000063</td>\n",
       "      <td>0.000146</td>\n",
       "      <td>0.000128</td>\n",
       "      <td>0.002941</td>\n",
       "      <td>0.001130</td>\n",
       "      <td>0.000141</td>\n",
       "    </tr>\n",
       "    <tr>\n",
       "      <th>75%</th>\n",
       "      <td>0.001582</td>\n",
       "      <td>0.001366</td>\n",
       "      <td>0.001363</td>\n",
       "      <td>0.001529</td>\n",
       "      <td>0.309608</td>\n",
       "      <td>0.013352</td>\n",
       "      <td>0.001582</td>\n",
       "    </tr>\n",
       "    <tr>\n",
       "      <th>max</th>\n",
       "      <td>0.018204</td>\n",
       "      <td>0.019126</td>\n",
       "      <td>0.015206</td>\n",
       "      <td>0.019735</td>\n",
       "      <td>inf</td>\n",
       "      <td>33.385878</td>\n",
       "      <td>0.018204</td>\n",
       "    </tr>\n",
       "  </tbody>\n",
       "</table>\n",
       "</div>"
      ],
      "text/plain": [
       "              op_A         hi_A         lo_A         se_A     volume_A  \\\n",
       "count  7423.000000  7423.000000  7423.000000  7423.000000  7423.000000   \n",
       "mean      0.000113     0.000112     0.000112     0.000112          inf   \n",
       "std       0.002599     0.002468     0.002385     0.002519          NaN   \n",
       "min      -0.017423    -0.016938    -0.017679    -0.019006    -1.000000   \n",
       "25%      -0.001341    -0.001113    -0.001093    -0.001258    -0.231088   \n",
       "50%       0.000141     0.000063     0.000146     0.000128     0.002941   \n",
       "75%       0.001582     0.001366     0.001363     0.001529     0.309608   \n",
       "max       0.018204     0.019126     0.015206     0.019735          inf   \n",
       "\n",
       "              oi_A         cl_A  \n",
       "count  7423.000000  7423.000000  \n",
       "mean      0.007094     0.000112  \n",
       "std       0.391756     0.002599  \n",
       "min      -0.971345    -0.017423  \n",
       "25%      -0.009297    -0.001341  \n",
       "50%       0.001130     0.000141  \n",
       "75%       0.013352     0.001582  \n",
       "max      33.385878     0.018204  "
      ]
     },
     "execution_count": 40,
     "metadata": {},
     "output_type": "execute_result"
    }
   ],
   "source": [
    "A_ret.describe()"
   ]
  },
  {
   "cell_type": "code",
   "execution_count": 41,
   "metadata": {
    "collapsed": true
   },
   "outputs": [],
   "source": [
    "add_ret(A_ret)"
   ]
  },
  {
   "cell_type": "code",
   "execution_count": 42,
   "metadata": {},
   "outputs": [
    {
     "data": {
      "image/png": "[encoded data removed]",
      "text/plain": [
       "<matplotlib.figure.Figure at 0x1c0b9349e8>"
      ]
     },
     "execution_count": 42,
     "metadata": {},
     "output_type": "execute_result"
    }
   ],
   "source": [
    "plot_acf(A_ret['op_A_ret'],lags = 60,alpha = 0.5)"
   ]
  },
  {
   "cell_type": "markdown",
   "metadata": {},
   "source": [
    "It looks like the series is a white noise process because we do not see any non trivial auto correlations beyond lag 0. \n",
    "\n",
    "We make test quickly if this observation is accurate using the Dicky-Fuller test on the series A_ret. "
   ]
  },
  {
   "cell_type": "code",
   "execution_count": 43,
   "metadata": {},
   "outputs": [
    {
     "name": "stdout",
     "output_type": "stream",
     "text": [
      "The p-value is 0.95256999961\n"
     ]
    }
   ],
   "source": [
    "ad_fuller_test(A['op_A'])"
   ]
  },
  {
   "cell_type": "markdown",
   "metadata": {},
   "source": [
    "The test implies that A is a random walk. "
   ]
  },
  {
   "cell_type": "markdown",
   "metadata": {},
   "source": [
    "We fit ARIMA(p,d,q) models to predict the opening price of the asset A given its previous opening prices. \n",
    "\n",
    "We begin by finding the most suitable p,d and q using the AIC and BIC scores. "
   ]
  },
  {
   "cell_type": "code",
   "execution_count": 44,
   "metadata": {},
   "outputs": [
    {
     "name": "stdout",
     "output_type": "stream",
     "text": [
      "The AIC list is \n",
      "[4960.014493545428, 4953.843898623396, 4955.737559571606, 4948.606587814758, 4950.412753975161]\n",
      "The BIC list is \n",
      "[4979.6808492560285, 4980.0657062375294, 4988.5148190892724, 4987.9392992359581, 4996.3009172998936]\n"
     ]
    }
   ],
   "source": [
    "ARIMA_fitting_AIC_BIC_list(A['op_A'])"
   ]
  },
  {
   "cell_type": "markdown",
   "metadata": {},
   "source": [
    "The AIC and BIC scores tell us that a ARIMA(2,1,0) is a reasonable choice to make. We compute the MSE of the ARIMA(2,1,0) model as follows and find that on average the model has an error of 0.2024 using a Rolling forecast. "
   ]
  },
  {
   "cell_type": "markdown",
   "metadata": {},
   "source": [
    "Rolling forecast error calculation :"
   ]
  },
  {
   "cell_type": "code",
   "execution_count": 45,
   "metadata": {},
   "outputs": [
    {
     "name": "stderr",
     "output_type": "stream",
     "text": [
      "/Users/Welliareetil/anaconda3/lib/python3.6/site-packages/statsmodels/base/model.py:496: ConvergenceWarning: Maximum Likelihood optimization failed to converge. Check mle_retvals\n",
      "  \"Check mle_retvals\", ConvergenceWarning)\n"
     ]
    }
   ],
   "source": [
    "testA,predictions_A210 = ARIMA_rolling_forecast(A['op_A'],2,1,0)"
   ]
  },
  {
   "cell_type": "markdown",
   "metadata": {},
   "source": [
    "We see in the graph below that the predictions follow the test data almost perfectly. "
   ]
  },
  {
   "cell_type": "code",
   "execution_count": 50,
   "metadata": {},
   "outputs": [
    {
     "data": {
      "image/png": "[encoded data removed]",
      "text/plain": [
       "<matplotlib.figure.Figure at 0x1c0bb1af60>"
      ]
     },
     "metadata": {},
     "output_type": "display_data"
    }
   ],
   "source": [
    "plot_predictions(testA,predictions_A210)"
   ]
  },
  {
   "cell_type": "code",
   "execution_count": 47,
   "metadata": {},
   "outputs": [
    {
     "name": "stdout",
     "output_type": "stream",
     "text": [
      "0.202857272149\n"
     ]
    }
   ],
   "source": [
    "MSE(testA,predictions_A210)"
   ]
  },
  {
   "cell_type": "markdown",
   "metadata": {},
   "source": [
    "We calculate the mean absolute scaled error so as to be able to compare the models for the different series. "
   ]
  },
  {
   "cell_type": "code",
   "execution_count": 48,
   "metadata": {},
   "outputs": [
    {
     "name": "stdout",
     "output_type": "stream",
     "text": [
      "The mean absolute scaled error is 0.115669239301\n"
     ]
    }
   ],
   "source": [
    "MASE(testA,predictions_A210)"
   ]
  },
  {
   "cell_type": "markdown",
   "metadata": {},
   "source": [
    "We also test an ARIMA(5,1,0) model."
   ]
  },
  {
   "cell_type": "code",
   "execution_count": 51,
   "metadata": {},
   "outputs": [
    {
     "name": "stderr",
     "output_type": "stream",
     "text": [
      "/Users/Welliareetil/anaconda3/lib/python3.6/site-packages/statsmodels/base/model.py:496: ConvergenceWarning: Maximum Likelihood optimization failed to converge. Check mle_retvals\n",
      "  \"Check mle_retvals\", ConvergenceWarning)\n"
     ]
    }
   ],
   "source": [
    "testA,predictions_A510 = ARIMA_rolling_forecast(A['op_A'],5,1,0)  "
   ]
  },
  {
   "cell_type": "code",
   "execution_count": 54,
   "metadata": {},
   "outputs": [
    {
     "name": "stdout",
     "output_type": "stream",
     "text": [
      "0.203271100825\n"
     ]
    }
   ],
   "source": [
    "MSE(testA,predictions_A510)"
   ]
  },
  {
   "cell_type": "code",
   "execution_count": 55,
   "metadata": {},
   "outputs": [
    {
     "name": "stdout",
     "output_type": "stream",
     "text": [
      "The mean absolute scaled error is 0.11575193168\n"
     ]
    }
   ],
   "source": [
    "MASE(testA,predictions_A510)"
   ]
  },
  {
   "cell_type": "markdown",
   "metadata": {},
   "source": [
    "# We predict the opening price of asset B"
   ]
  },
  {
   "cell_type": "code",
   "execution_count": 56,
   "metadata": {
    "scrolled": true
   },
   "outputs": [
    {
     "data": {
      "text/html": [
       "<div>\n",
       "<style>\n",
       "    .dataframe thead tr:only-child th {\n",
       "        text-align: right;\n",
       "    }\n",
       "\n",
       "    .dataframe thead th {\n",
       "        text-align: left;\n",
       "    }\n",
       "\n",
       "    .dataframe tbody tr th {\n",
       "        vertical-align: top;\n",
       "    }\n",
       "</style>\n",
       "<table border=\"1\" class=\"dataframe\">\n",
       "  <thead>\n",
       "    <tr style=\"text-align: right;\">\n",
       "      <th></th>\n",
       "      <th>op_B</th>\n",
       "      <th>hi_B</th>\n",
       "      <th>lo_B</th>\n",
       "      <th>se_B</th>\n",
       "      <th>volume_B</th>\n",
       "      <th>oi_B</th>\n",
       "      <th>cl_B</th>\n",
       "    </tr>\n",
       "  </thead>\n",
       "  <tbody>\n",
       "    <tr>\n",
       "      <th>count</th>\n",
       "      <td>8957.000000</td>\n",
       "      <td>8957.000000</td>\n",
       "      <td>8957.000000</td>\n",
       "      <td>8957.000000</td>\n",
       "      <td>8957.000000</td>\n",
       "      <td>8957.000000</td>\n",
       "      <td>8957.000000</td>\n",
       "    </tr>\n",
       "    <tr>\n",
       "      <th>mean</th>\n",
       "      <td>0.000189</td>\n",
       "      <td>0.000186</td>\n",
       "      <td>0.000187</td>\n",
       "      <td>0.000187</td>\n",
       "      <td>inf</td>\n",
       "      <td>0.020019</td>\n",
       "      <td>0.000188</td>\n",
       "    </tr>\n",
       "    <tr>\n",
       "      <th>std</th>\n",
       "      <td>0.004552</td>\n",
       "      <td>0.004039</td>\n",
       "      <td>0.003997</td>\n",
       "      <td>0.004231</td>\n",
       "      <td>NaN</td>\n",
       "      <td>1.625826</td>\n",
       "      <td>0.004550</td>\n",
       "    </tr>\n",
       "    <tr>\n",
       "      <th>min</th>\n",
       "      <td>-0.030137</td>\n",
       "      <td>-0.022499</td>\n",
       "      <td>-0.025499</td>\n",
       "      <td>-0.024001</td>\n",
       "      <td>-1.000000</td>\n",
       "      <td>-0.992675</td>\n",
       "      <td>-0.030137</td>\n",
       "    </tr>\n",
       "    <tr>\n",
       "      <th>25%</th>\n",
       "      <td>-0.002288</td>\n",
       "      <td>-0.001830</td>\n",
       "      <td>-0.001829</td>\n",
       "      <td>-0.002102</td>\n",
       "      <td>-0.225134</td>\n",
       "      <td>-0.010818</td>\n",
       "      <td>-0.002288</td>\n",
       "    </tr>\n",
       "    <tr>\n",
       "      <th>50%</th>\n",
       "      <td>0.000127</td>\n",
       "      <td>0.000118</td>\n",
       "      <td>0.000276</td>\n",
       "      <td>0.000150</td>\n",
       "      <td>0.004957</td>\n",
       "      <td>0.001439</td>\n",
       "      <td>0.000126</td>\n",
       "    </tr>\n",
       "    <tr>\n",
       "      <th>75%</th>\n",
       "      <td>0.002670</td>\n",
       "      <td>0.002216</td>\n",
       "      <td>0.002230</td>\n",
       "      <td>0.002513</td>\n",
       "      <td>0.303968</td>\n",
       "      <td>0.014950</td>\n",
       "      <td>0.002668</td>\n",
       "    </tr>\n",
       "    <tr>\n",
       "      <th>max</th>\n",
       "      <td>0.044639</td>\n",
       "      <td>0.035004</td>\n",
       "      <td>0.042678</td>\n",
       "      <td>0.036305</td>\n",
       "      <td>inf</td>\n",
       "      <td>153.604520</td>\n",
       "      <td>0.044639</td>\n",
       "    </tr>\n",
       "  </tbody>\n",
       "</table>\n",
       "</div>"
      ],
      "text/plain": [
       "              op_B         hi_B         lo_B         se_B     volume_B  \\\n",
       "count  8957.000000  8957.000000  8957.000000  8957.000000  8957.000000   \n",
       "mean      0.000189     0.000186     0.000187     0.000187          inf   \n",
       "std       0.004552     0.004039     0.003997     0.004231          NaN   \n",
       "min      -0.030137    -0.022499    -0.025499    -0.024001    -1.000000   \n",
       "25%      -0.002288    -0.001830    -0.001829    -0.002102    -0.225134   \n",
       "50%       0.000127     0.000118     0.000276     0.000150     0.004957   \n",
       "75%       0.002670     0.002216     0.002230     0.002513     0.303968   \n",
       "max       0.044639     0.035004     0.042678     0.036305          inf   \n",
       "\n",
       "              oi_B         cl_B  \n",
       "count  8957.000000  8957.000000  \n",
       "mean      0.020019     0.000188  \n",
       "std       1.625826     0.004550  \n",
       "min      -0.992675    -0.030137  \n",
       "25%      -0.010818    -0.002288  \n",
       "50%       0.001439     0.000126  \n",
       "75%       0.014950     0.002668  \n",
       "max     153.604520     0.044639  "
      ]
     },
     "execution_count": 56,
     "metadata": {},
     "output_type": "execute_result"
    }
   ],
   "source": [
    "B_ret.describe()"
   ]
  },
  {
   "cell_type": "code",
   "execution_count": 57,
   "metadata": {
    "collapsed": true
   },
   "outputs": [],
   "source": [
    "add_ret(B_ret)"
   ]
  },
  {
   "cell_type": "markdown",
   "metadata": {},
   "source": [
    "We plot the ACF for the returns series of B which is stationary. "
   ]
  },
  {
   "cell_type": "code",
   "execution_count": 58,
   "metadata": {},
   "outputs": [
    {
     "data": {
      "image/png": "[encoded data removed]",
      "text/plain": [
       "<matplotlib.figure.Figure at 0x1c14cdc320>"
      ]
     },
     "execution_count": 58,
     "metadata": {},
     "output_type": "execute_result"
    }
   ],
   "source": [
    "plot_acf(B_ret['op_B_ret'],lags = 60,alpha = 0.5)"
   ]
  },
  {
   "cell_type": "code",
   "execution_count": 59,
   "metadata": {},
   "outputs": [
    {
     "name": "stdout",
     "output_type": "stream",
     "text": [
      "The p-value is 0.962914807573\n"
     ]
    }
   ],
   "source": [
    "ad_fuller_test(B['op_B'])"
   ]
  },
  {
   "cell_type": "markdown",
   "metadata": {},
   "source": [
    "It is extremely likely that B is a random walk."
   ]
  },
  {
   "cell_type": "code",
   "execution_count": 60,
   "metadata": {},
   "outputs": [
    {
     "name": "stdout",
     "output_type": "stream",
     "text": [
      "The AIC list is \n",
      "[16815.765743433352, 16817.41412391165, 16813.466413239144, 16815.012563148564, 16816.123094492246]\n",
      "The BIC list is \n",
      "[16835.995859827173, 16844.387612436745, 16847.183273895513, 16855.47279593621, 16863.326699411165]\n"
     ]
    }
   ],
   "source": [
    "ARIMA_fitting_AIC_BIC_list(B['op_B'])"
   ]
  },
  {
   "cell_type": "markdown",
   "metadata": {},
   "source": [
    "Selection in this case is slightly more difficult. We choose the ARIMA(1,1,0) model. We will also test the ARIMA(4,1,0) model and the ARIMA(2,1,0) model. "
   ]
  },
  {
   "cell_type": "code",
   "execution_count": 61,
   "metadata": {},
   "outputs": [
    {
     "name": "stderr",
     "output_type": "stream",
     "text": [
      "/Users/Welliareetil/anaconda3/lib/python3.6/site-packages/statsmodels/base/model.py:496: ConvergenceWarning: Maximum Likelihood optimization failed to converge. Check mle_retvals\n",
      "  \"Check mle_retvals\", ConvergenceWarning)\n",
      "/Users/Welliareetil/anaconda3/lib/python3.6/site-packages/statsmodels/base/model.py:496: ConvergenceWarning: Maximum Likelihood optimization failed to converge. Check mle_retvals\n",
      "  \"Check mle_retvals\", ConvergenceWarning)\n",
      "/Users/Welliareetil/anaconda3/lib/python3.6/site-packages/statsmodels/base/model.py:496: ConvergenceWarning: Maximum Likelihood optimization failed to converge. Check mle_retvals\n",
      "  \"Check mle_retvals\", ConvergenceWarning)\n",
      "/Users/Welliareetil/anaconda3/lib/python3.6/site-packages/statsmodels/base/model.py:496: ConvergenceWarning: Maximum Likelihood optimization failed to converge. Check mle_retvals\n",
      "  \"Check mle_retvals\", ConvergenceWarning)\n"
     ]
    }
   ],
   "source": [
    "testB,predictions_B110 = ARIMA_rolling_forecast(B['op_B'],1,1,0)"
   ]
  },
  {
   "cell_type": "code",
   "execution_count": 65,
   "metadata": {},
   "outputs": [
    {
     "data": {
      "image/png": "[encoded data removed]",
      "text/plain": [
       "<matplotlib.figure.Figure at 0x1c14e4f198>"
      ]
     },
     "metadata": {},
     "output_type": "display_data"
    }
   ],
   "source": [
    "plot_predictions(testB,predictions_B110)"
   ]
  },
  {
   "cell_type": "code",
   "execution_count": 63,
   "metadata": {},
   "outputs": [
    {
     "name": "stdout",
     "output_type": "stream",
     "text": [
      "2.68469583124\n"
     ]
    }
   ],
   "source": [
    "errorB110 = mean_squared_error(testB,predictions_B110)\n",
    "print(errorB110)"
   ]
  },
  {
   "cell_type": "code",
   "execution_count": 64,
   "metadata": {},
   "outputs": [
    {
     "name": "stdout",
     "output_type": "stream",
     "text": [
      "The mean absolute scaled error is 1.5472763319\n"
     ]
    }
   ],
   "source": [
    "MASE(testB,predictions_B110)"
   ]
  },
  {
   "cell_type": "markdown",
   "metadata": {},
   "source": [
    "We see that the mean absolute scaled error in this case indicates that the model performs WORSE than \n",
    "a model which predicts tomorrows opening price as todays price. To be sure we employ an ARIMA(2,1,0) model as well. "
   ]
  },
  {
   "cell_type": "code",
   "execution_count": 66,
   "metadata": {},
   "outputs": [
    {
     "name": "stderr",
     "output_type": "stream",
     "text": [
      "/Users/Welliareetil/anaconda3/lib/python3.6/site-packages/statsmodels/base/model.py:496: ConvergenceWarning: Maximum Likelihood optimization failed to converge. Check mle_retvals\n",
      "  \"Check mle_retvals\", ConvergenceWarning)\n",
      "/Users/Welliareetil/anaconda3/lib/python3.6/site-packages/statsmodels/base/model.py:496: ConvergenceWarning: Maximum Likelihood optimization failed to converge. Check mle_retvals\n",
      "  \"Check mle_retvals\", ConvergenceWarning)\n"
     ]
    }
   ],
   "source": [
    "testB,predictions_B210 = ARIMA_rolling_forecast(B['op_B'],2,1,0)"
   ]
  },
  {
   "cell_type": "code",
   "execution_count": 67,
   "metadata": {},
   "outputs": [
    {
     "data": {
      "image/png": "[encoded data removed]",
      "text/plain": [
       "<matplotlib.figure.Figure at 0x1c0b977400>"
      ]
     },
     "metadata": {},
     "output_type": "display_data"
    }
   ],
   "source": [
    "plot_predictions(testB,predictions_B210)"
   ]
  },
  {
   "cell_type": "markdown",
   "metadata": {},
   "source": [
    " We calculate the MSE below."
   ]
  },
  {
   "cell_type": "code",
   "execution_count": 69,
   "metadata": {},
   "outputs": [
    {
     "name": "stdout",
     "output_type": "stream",
     "text": [
      "2.6832802102\n"
     ]
    }
   ],
   "source": [
    "errorB210 = mean_squared_error(testB,predictions_B210)\n",
    "print(errorB210)"
   ]
  },
  {
   "cell_type": "code",
   "execution_count": 71,
   "metadata": {},
   "outputs": [
    {
     "name": "stdout",
     "output_type": "stream",
     "text": [
      "The mean absolute scaled error is 1.54671884084\n"
     ]
    }
   ],
   "source": [
    "MASE(testB,predictions_B210)"
   ]
  },
  {
   "cell_type": "markdown",
   "metadata": {},
   "source": [
    "# VAR models for asset B"
   ]
  },
  {
   "cell_type": "markdown",
   "metadata": {},
   "source": [
    "To reduce the scaled error, we look to fit VAR models for the asset B. "
   ]
  },
  {
   "cell_type": "code",
   "execution_count": 73,
   "metadata": {
    "collapsed": true
   },
   "outputs": [],
   "source": [
    "#CCF(B_ret['op_B_ret'],B_ret['hi_B_ret'],'op_B_ret vs hi_B_ret')\n",
    "#CCF(B_ret['op_B_ret'],B_ret['lo_B_ret'],'op_B_ret vs lo_B_ret')"
   ]
  },
  {
   "cell_type": "markdown",
   "metadata": {},
   "source": [
    "Looking at the summary statistics above, we see that the feature volume_B_ret has some issues."
   ]
  },
  {
   "cell_type": "code",
   "execution_count": 74,
   "metadata": {},
   "outputs": [
    {
     "data": {
      "image/png": "[encoded data removed]",
      "text/plain": [
       "<matplotlib.figure.Figure at 0x1c14534048>"
      ]
     },
     "metadata": {},
     "output_type": "display_data"
    }
   ],
   "source": [
    "plt.plot(B_ret['volume_B_ret'])      \n",
    "plt.show()"
   ]
  },
  {
   "cell_type": "markdown",
   "metadata": {},
   "source": [
    "We observe certain anomalies in the volume data and try to identify the precise points at which these anomalies occurred. "
   ]
  },
  {
   "cell_type": "code",
   "execution_count": 75,
   "metadata": {},
   "outputs": [
    {
     "name": "stdout",
     "output_type": "stream",
     "text": [
      "[798, 1285, 3319, 4157, 4454, 4828]\n"
     ]
    }
   ],
   "source": [
    "s = []\n",
    "for j in range(len(B_ret)):\n",
    "    if B_ret['volume_B_ret'][j] > 50:\n",
    "        s.append(j)\n",
    "print(s) \n",
    "strange_dates_B = []\n",
    "for j in s:\n",
    "    strange_dates_B.append(B['date'][j])"
   ]
  },
  {
   "cell_type": "markdown",
   "metadata": {},
   "source": [
    "There are two days which had significant volume changes - 05/06/1985 - 645%, 28/06/2001 - 132%. We consider these extreme outliers and hence alter the information here by replace the values with the mean of the volume changes of the days before and after. "
   ]
  },
  {
   "cell_type": "code",
   "execution_count": 76,
   "metadata": {
    "collapsed": true
   },
   "outputs": [],
   "source": [
    "B_clean = B.copy()"
   ]
  },
  {
   "cell_type": "code",
   "execution_count": 77,
   "metadata": {},
   "outputs": [
    {
     "name": "stderr",
     "output_type": "stream",
     "text": [
      "/Users/Welliareetil/anaconda3/lib/python3.6/site-packages/ipykernel_launcher.py:4: SettingWithCopyWarning: \n",
      "A value is trying to be set on a copy of a slice from a DataFrame\n",
      "\n",
      "See the caveats in the documentation: http://pandas.pydata.org/pandas-docs/stable/indexing.html#indexing-view-versus-copy\n",
      "  after removing the cwd from sys.path.\n"
     ]
    }
   ],
   "source": [
    "for j in s:\n",
    "    insert_mean(B_clean['volume_B'],j)"
   ]
  },
  {
   "cell_type": "code",
   "execution_count": 78,
   "metadata": {},
   "outputs": [
    {
     "data": {
      "text/html": [
       "<div>\n",
       "<style>\n",
       "    .dataframe thead tr:only-child th {\n",
       "        text-align: right;\n",
       "    }\n",
       "\n",
       "    .dataframe thead th {\n",
       "        text-align: left;\n",
       "    }\n",
       "\n",
       "    .dataframe tbody tr th {\n",
       "        vertical-align: top;\n",
       "    }\n",
       "</style>\n",
       "<table border=\"1\" class=\"dataframe\">\n",
       "  <thead>\n",
       "    <tr style=\"text-align: right;\">\n",
       "      <th></th>\n",
       "      <th>op_B</th>\n",
       "      <th>hi_B</th>\n",
       "      <th>lo_B</th>\n",
       "      <th>se_B</th>\n",
       "      <th>volume_B</th>\n",
       "      <th>oi_B</th>\n",
       "      <th>cl_B</th>\n",
       "    </tr>\n",
       "  </thead>\n",
       "  <tbody>\n",
       "    <tr>\n",
       "      <th>count</th>\n",
       "      <td>8957.000000</td>\n",
       "      <td>8957.000000</td>\n",
       "      <td>8957.000000</td>\n",
       "      <td>8957.000000</td>\n",
       "      <td>8957.000000</td>\n",
       "      <td>8957.000000</td>\n",
       "      <td>8957.000000</td>\n",
       "    </tr>\n",
       "    <tr>\n",
       "      <th>mean</th>\n",
       "      <td>0.000189</td>\n",
       "      <td>0.000186</td>\n",
       "      <td>0.000187</td>\n",
       "      <td>0.000187</td>\n",
       "      <td>0.144126</td>\n",
       "      <td>0.020019</td>\n",
       "      <td>0.000188</td>\n",
       "    </tr>\n",
       "    <tr>\n",
       "      <th>std</th>\n",
       "      <td>0.004552</td>\n",
       "      <td>0.004039</td>\n",
       "      <td>0.003997</td>\n",
       "      <td>0.004231</td>\n",
       "      <td>0.985401</td>\n",
       "      <td>1.625826</td>\n",
       "      <td>0.004550</td>\n",
       "    </tr>\n",
       "    <tr>\n",
       "      <th>min</th>\n",
       "      <td>-0.030137</td>\n",
       "      <td>-0.022499</td>\n",
       "      <td>-0.025499</td>\n",
       "      <td>-0.024001</td>\n",
       "      <td>-0.995715</td>\n",
       "      <td>-0.992675</td>\n",
       "      <td>-0.030137</td>\n",
       "    </tr>\n",
       "    <tr>\n",
       "      <th>25%</th>\n",
       "      <td>-0.002288</td>\n",
       "      <td>-0.001830</td>\n",
       "      <td>-0.001829</td>\n",
       "      <td>-0.002102</td>\n",
       "      <td>-0.224580</td>\n",
       "      <td>-0.010818</td>\n",
       "      <td>-0.002288</td>\n",
       "    </tr>\n",
       "    <tr>\n",
       "      <th>50%</th>\n",
       "      <td>0.000127</td>\n",
       "      <td>0.000118</td>\n",
       "      <td>0.000276</td>\n",
       "      <td>0.000150</td>\n",
       "      <td>0.005415</td>\n",
       "      <td>0.001439</td>\n",
       "      <td>0.000126</td>\n",
       "    </tr>\n",
       "    <tr>\n",
       "      <th>75%</th>\n",
       "      <td>0.002670</td>\n",
       "      <td>0.002216</td>\n",
       "      <td>0.002230</td>\n",
       "      <td>0.002513</td>\n",
       "      <td>0.302769</td>\n",
       "      <td>0.014950</td>\n",
       "      <td>0.002668</td>\n",
       "    </tr>\n",
       "    <tr>\n",
       "      <th>max</th>\n",
       "      <td>0.044639</td>\n",
       "      <td>0.035004</td>\n",
       "      <td>0.042678</td>\n",
       "      <td>0.036305</td>\n",
       "      <td>32.110540</td>\n",
       "      <td>153.604520</td>\n",
       "      <td>0.044639</td>\n",
       "    </tr>\n",
       "  </tbody>\n",
       "</table>\n",
       "</div>"
      ],
      "text/plain": [
       "              op_B         hi_B         lo_B         se_B     volume_B  \\\n",
       "count  8957.000000  8957.000000  8957.000000  8957.000000  8957.000000   \n",
       "mean      0.000189     0.000186     0.000187     0.000187     0.144126   \n",
       "std       0.004552     0.004039     0.003997     0.004231     0.985401   \n",
       "min      -0.030137    -0.022499    -0.025499    -0.024001    -0.995715   \n",
       "25%      -0.002288    -0.001830    -0.001829    -0.002102    -0.224580   \n",
       "50%       0.000127     0.000118     0.000276     0.000150     0.005415   \n",
       "75%       0.002670     0.002216     0.002230     0.002513     0.302769   \n",
       "max       0.044639     0.035004     0.042678     0.036305    32.110540   \n",
       "\n",
       "              oi_B         cl_B  \n",
       "count  8957.000000  8957.000000  \n",
       "mean      0.020019     0.000188  \n",
       "std       1.625826     0.004550  \n",
       "min      -0.992675    -0.030137  \n",
       "25%      -0.010818    -0.002288  \n",
       "50%       0.001439     0.000126  \n",
       "75%       0.014950     0.002668  \n",
       "max     153.604520     0.044639  "
      ]
     },
     "execution_count": 78,
     "metadata": {},
     "output_type": "execute_result"
    }
   ],
   "source": [
    "B_clean_ret = B_clean.copy()\n",
    "del(B_clean_ret['date'])\n",
    "B_clean_ret = B_clean_ret.pct_change()\n",
    "#delete first row of cleaned returns dataframe. \n",
    "B_clean_ret = B_clean_ret.dropna()\n",
    "B_clean_ret.describe()"
   ]
  },
  {
   "cell_type": "code",
   "execution_count": 79,
   "metadata": {
    "collapsed": true
   },
   "outputs": [],
   "source": [
    "#rename the columns of B_clean_ret\n",
    "add_ret(B_clean_ret)"
   ]
  },
  {
   "cell_type": "code",
   "execution_count": 80,
   "metadata": {},
   "outputs": [
    {
     "data": {
      "text/html": [
       "<div>\n",
       "<style>\n",
       "    .dataframe thead tr:only-child th {\n",
       "        text-align: right;\n",
       "    }\n",
       "\n",
       "    .dataframe thead th {\n",
       "        text-align: left;\n",
       "    }\n",
       "\n",
       "    .dataframe tbody tr th {\n",
       "        vertical-align: top;\n",
       "    }\n",
       "</style>\n",
       "<table border=\"1\" class=\"dataframe\">\n",
       "  <thead>\n",
       "    <tr style=\"text-align: right;\">\n",
       "      <th></th>\n",
       "      <th>op_B_ret</th>\n",
       "      <th>hi_B_ret</th>\n",
       "      <th>lo_B_ret</th>\n",
       "      <th>se_B_ret</th>\n",
       "      <th>volume_B_ret</th>\n",
       "      <th>oi_B_ret</th>\n",
       "      <th>cl_B_ret</th>\n",
       "    </tr>\n",
       "    <tr>\n",
       "      <th>date</th>\n",
       "      <th></th>\n",
       "      <th></th>\n",
       "      <th></th>\n",
       "      <th></th>\n",
       "      <th></th>\n",
       "      <th></th>\n",
       "      <th></th>\n",
       "    </tr>\n",
       "  </thead>\n",
       "  <tbody>\n",
       "    <tr>\n",
       "      <th>1982-05-05</th>\n",
       "      <td>0.011853</td>\n",
       "      <td>0.004344</td>\n",
       "      <td>0.009670</td>\n",
       "      <td>0.001741</td>\n",
       "      <td>0.233079</td>\n",
       "      <td>0.181867</td>\n",
       "      <td>0.006941</td>\n",
       "    </tr>\n",
       "    <tr>\n",
       "      <th>1982-05-06</th>\n",
       "      <td>0.006941</td>\n",
       "      <td>0.010381</td>\n",
       "      <td>0.009142</td>\n",
       "      <td>0.014335</td>\n",
       "      <td>-0.332529</td>\n",
       "      <td>-0.126201</td>\n",
       "      <td>0.009910</td>\n",
       "    </tr>\n",
       "    <tr>\n",
       "      <th>1982-05-07</th>\n",
       "      <td>0.009910</td>\n",
       "      <td>0.004281</td>\n",
       "      <td>0.005608</td>\n",
       "      <td>0.003854</td>\n",
       "      <td>-0.305745</td>\n",
       "      <td>0.003491</td>\n",
       "      <td>-0.002560</td>\n",
       "    </tr>\n",
       "    <tr>\n",
       "      <th>1982-05-10</th>\n",
       "      <td>-0.002560</td>\n",
       "      <td>0.000426</td>\n",
       "      <td>0.001716</td>\n",
       "      <td>-0.001706</td>\n",
       "      <td>-0.351364</td>\n",
       "      <td>-0.003479</td>\n",
       "      <td>-0.002139</td>\n",
       "    </tr>\n",
       "    <tr>\n",
       "      <th>1982-05-11</th>\n",
       "      <td>-0.002139</td>\n",
       "      <td>0.000426</td>\n",
       "      <td>-0.001713</td>\n",
       "      <td>0.001709</td>\n",
       "      <td>0.261280</td>\n",
       "      <td>-0.050703</td>\n",
       "      <td>0.004286</td>\n",
       "    </tr>\n",
       "  </tbody>\n",
       "</table>\n",
       "</div>"
      ],
      "text/plain": [
       "            op_B_ret  hi_B_ret  lo_B_ret  se_B_ret  volume_B_ret  oi_B_ret  \\\n",
       "date                                                                         \n",
       "1982-05-05  0.011853  0.004344  0.009670  0.001741      0.233079  0.181867   \n",
       "1982-05-06  0.006941  0.010381  0.009142  0.014335     -0.332529 -0.126201   \n",
       "1982-05-07  0.009910  0.004281  0.005608  0.003854     -0.305745  0.003491   \n",
       "1982-05-10 -0.002560  0.000426  0.001716 -0.001706     -0.351364 -0.003479   \n",
       "1982-05-11 -0.002139  0.000426 -0.001713  0.001709      0.261280 -0.050703   \n",
       "\n",
       "            cl_B_ret  \n",
       "date                  \n",
       "1982-05-05  0.006941  \n",
       "1982-05-06  0.009910  \n",
       "1982-05-07 -0.002560  \n",
       "1982-05-10 -0.002139  \n",
       "1982-05-11  0.004286  "
      ]
     },
     "execution_count": 80,
     "metadata": {},
     "output_type": "execute_result"
    }
   ],
   "source": [
    "B_clean_ret.head()"
   ]
  },
  {
   "cell_type": "code",
   "execution_count": null,
   "metadata": {},
   "outputs": [],
   "source": [
    "#B_clean_ret = closing_price_column(B_clean_ret,'op_B_ret','cl_B_ret')"
   ]
  },
  {
   "cell_type": "code",
   "execution_count": null,
   "metadata": {},
   "outputs": [],
   "source": [
    "#B = closing_price_column(B,'op_B','cl_B')"
   ]
  },
  {
   "cell_type": "markdown",
   "metadata": {},
   "source": [
    "We begin by selecting a suitable model for prediction. We do so by selecting according to the BIC score. "
   ]
  },
  {
   "cell_type": "code",
   "execution_count": 81,
   "metadata": {},
   "outputs": [
    {
     "name": "stdout",
     "output_type": "stream",
     "text": [
      "                 VAR Order Selection                  \n",
      "======================================================\n",
      "            aic          bic          fpe         hqic\n",
      "------------------------------------------------------\n",
      "0        -44.54       -44.53    4.554e-20       -44.53\n",
      "1        -46.55       -46.51    6.065e-21       -46.54\n",
      "2        -46.98       -46.90    3.933e-21       -46.96\n",
      "3        -47.21       -47.09    3.145e-21       -47.17\n",
      "4        -47.33       -47.16    2.796e-21       -47.27\n",
      "5        -47.41       -47.21    2.562e-21       -47.34\n",
      "6        -47.48       -47.24    2.387e-21       -47.40\n",
      "7        -47.53       -47.25    2.278e-21       -47.43\n",
      "8        -47.57      -47.25*    2.188e-21       -47.46\n",
      "9        -47.60       -47.24    2.132e-21       -47.47\n",
      "10       -47.62       -47.22    2.091e-21       -47.48\n",
      "11       -47.63       -47.20    2.062e-21       -47.48\n",
      "12       -47.64       -47.17    2.036e-21       -47.48\n",
      "13       -47.66       -47.15    1.997e-21      -47.49*\n",
      "14       -47.67       -47.12    1.974e-21       -47.48\n",
      "15       -47.68       -47.09    1.968e-21       -47.47\n",
      "16       -47.68       -47.05    1.968e-21       -47.46\n",
      "17       -47.68       -47.02    1.955e-21       -47.45\n",
      "18      -47.69*       -46.98   1.945e-21*       -47.44\n",
      "19       -47.69       -46.94    1.949e-21       -47.43\n",
      "20       -47.69       -46.91    1.946e-21       -47.42\n",
      "======================================================\n",
      "* Minimum\n",
      "\n"
     ]
    },
    {
     "data": {
      "text/plain": [
       "{'aic': 18, 'bic': 8, 'fpe': 18, 'hqic': 13}"
      ]
     },
     "execution_count": 81,
     "metadata": {},
     "output_type": "execute_result"
    }
   ],
   "source": [
    "selecting_model(B_clean_ret,['cl_B_ret','hi_B_ret', 'lo_B_ret', 'se_B_ret', 'volume_B_ret', 'oi_B_ret'])"
   ]
  },
  {
   "cell_type": "markdown",
   "metadata": {},
   "source": [
    "We now write a function that tests the model using a rolling forecast for the given data. \n",
    "\n",
    "** Make sure the date columns has already been removed.\n",
    "\n",
    "** Make sure the first element of the list l is the column 'cl_B_ret'"
   ]
  },
  {
   "cell_type": "code",
   "execution_count": 82,
   "metadata": {},
   "outputs": [],
   "source": [
    "l = ['cl_B_ret','hi_B_ret', 'lo_B_ret', 'se_B_ret', 'volume_B_ret', 'oi_B_ret']\n",
    "testB, predictions_BVAR8 = VAR_rolling_forecast(B_clean_ret,l,8)"
   ]
  },
  {
   "cell_type": "code",
   "execution_count": 83,
   "metadata": {},
   "outputs": [
    {
     "name": "stdout",
     "output_type": "stream",
     "text": [
      "The mean absolute scaled error is 1.29451065465e-05\n"
     ]
    }
   ],
   "source": [
    "MASE(testB,predictions_BVAR8)"
   ]
  },
  {
   "cell_type": "markdown",
   "metadata": {},
   "source": [
    "We observe a massive improvement in MASE"
   ]
  },
  {
   "cell_type": "code",
   "execution_count": 84,
   "metadata": {},
   "outputs": [
    {
     "data": {
      "text/plain": [
       "1.6075044568510769e-05"
      ]
     },
     "execution_count": 84,
     "metadata": {},
     "output_type": "execute_result"
    }
   ],
   "source": [
    "mean_squared_error(testB,predictions_BVAR8)"
   ]
  },
  {
   "cell_type": "markdown",
   "metadata": {},
   "source": [
    "We recover the predictions for the closing price of asset B"
   ]
  },
  {
   "cell_type": "code",
   "execution_count": 90,
   "metadata": {},
   "outputs": [],
   "source": [
    "size = int(len(B_clean_ret)*0.70)\n",
    "testB_adj,predictions_BVAR8_adj = recover_asset_B_predictions(B['cl_B'],size,testB,predictions_BVAR8)"
   ]
  },
  {
   "cell_type": "code",
   "execution_count": 91,
   "metadata": {},
   "outputs": [
    {
     "data": {
      "image/png": "[encoded data removed]",
      "text/plain": [
       "<matplotlib.figure.Figure at 0x1c145ac908>"
      ]
     },
     "metadata": {},
     "output_type": "display_data"
    }
   ],
   "source": [
    "plot_predictions(testB_adj,predictions_BVAR8_adj)"
   ]
  },
  {
   "cell_type": "markdown",
   "metadata": {},
   "source": [
    "# We predict the opening price of asset C"
   ]
  },
  {
   "cell_type": "code",
   "execution_count": 92,
   "metadata": {},
   "outputs": [
    {
     "data": {
      "text/html": [
       "<div>\n",
       "<style>\n",
       "    .dataframe thead tr:only-child th {\n",
       "        text-align: right;\n",
       "    }\n",
       "\n",
       "    .dataframe thead th {\n",
       "        text-align: left;\n",
       "    }\n",
       "\n",
       "    .dataframe tbody tr th {\n",
       "        vertical-align: top;\n",
       "    }\n",
       "</style>\n",
       "<table border=\"1\" class=\"dataframe\">\n",
       "  <thead>\n",
       "    <tr style=\"text-align: right;\">\n",
       "      <th></th>\n",
       "      <th>op_C</th>\n",
       "      <th>hi_C</th>\n",
       "      <th>lo_C</th>\n",
       "      <th>se_C</th>\n",
       "      <th>volume_C</th>\n",
       "      <th>oi_C</th>\n",
       "      <th>cl_C</th>\n",
       "    </tr>\n",
       "  </thead>\n",
       "  <tbody>\n",
       "    <tr>\n",
       "      <th>count</th>\n",
       "      <td>6822.000000</td>\n",
       "      <td>6822.000000</td>\n",
       "      <td>6822.000000</td>\n",
       "      <td>6822.000000</td>\n",
       "      <td>6822.000000</td>\n",
       "      <td>6822.000000</td>\n",
       "      <td>6822.000000</td>\n",
       "    </tr>\n",
       "    <tr>\n",
       "      <th>mean</th>\n",
       "      <td>0.000058</td>\n",
       "      <td>0.000058</td>\n",
       "      <td>0.000058</td>\n",
       "      <td>0.000058</td>\n",
       "      <td>0.274278</td>\n",
       "      <td>0.002201</td>\n",
       "      <td>0.000059</td>\n",
       "    </tr>\n",
       "    <tr>\n",
       "      <th>std</th>\n",
       "      <td>0.001083</td>\n",
       "      <td>0.001025</td>\n",
       "      <td>0.000985</td>\n",
       "      <td>0.001021</td>\n",
       "      <td>1.521008</td>\n",
       "      <td>0.051717</td>\n",
       "      <td>0.001083</td>\n",
       "    </tr>\n",
       "    <tr>\n",
       "      <th>min</th>\n",
       "      <td>-0.007143</td>\n",
       "      <td>-0.007571</td>\n",
       "      <td>-0.009263</td>\n",
       "      <td>-0.009231</td>\n",
       "      <td>-0.984305</td>\n",
       "      <td>-0.315962</td>\n",
       "      <td>-0.007143</td>\n",
       "    </tr>\n",
       "    <tr>\n",
       "      <th>25%</th>\n",
       "      <td>-0.000461</td>\n",
       "      <td>-0.000383</td>\n",
       "      <td>-0.000385</td>\n",
       "      <td>-0.000430</td>\n",
       "      <td>-0.290468</td>\n",
       "      <td>-0.009697</td>\n",
       "      <td>-0.000461</td>\n",
       "    </tr>\n",
       "    <tr>\n",
       "      <th>50%</th>\n",
       "      <td>0.000000</td>\n",
       "      <td>0.000000</td>\n",
       "      <td>0.000000</td>\n",
       "      <td>0.000000</td>\n",
       "      <td>-0.000942</td>\n",
       "      <td>0.001623</td>\n",
       "      <td>0.000000</td>\n",
       "    </tr>\n",
       "    <tr>\n",
       "      <th>75%</th>\n",
       "      <td>0.000587</td>\n",
       "      <td>0.000478</td>\n",
       "      <td>0.000502</td>\n",
       "      <td>0.000546</td>\n",
       "      <td>0.406833</td>\n",
       "      <td>0.014493</td>\n",
       "      <td>0.000587</td>\n",
       "    </tr>\n",
       "    <tr>\n",
       "      <th>max</th>\n",
       "      <td>0.007069</td>\n",
       "      <td>0.009767</td>\n",
       "      <td>0.007599</td>\n",
       "      <td>0.008664</td>\n",
       "      <td>56.071429</td>\n",
       "      <td>0.489942</td>\n",
       "      <td>0.007069</td>\n",
       "    </tr>\n",
       "  </tbody>\n",
       "</table>\n",
       "</div>"
      ],
      "text/plain": [
       "              op_C         hi_C         lo_C         se_C     volume_C  \\\n",
       "count  6822.000000  6822.000000  6822.000000  6822.000000  6822.000000   \n",
       "mean      0.000058     0.000058     0.000058     0.000058     0.274278   \n",
       "std       0.001083     0.001025     0.000985     0.001021     1.521008   \n",
       "min      -0.007143    -0.007571    -0.009263    -0.009231    -0.984305   \n",
       "25%      -0.000461    -0.000383    -0.000385    -0.000430    -0.290468   \n",
       "50%       0.000000     0.000000     0.000000     0.000000    -0.000942   \n",
       "75%       0.000587     0.000478     0.000502     0.000546     0.406833   \n",
       "max       0.007069     0.009767     0.007599     0.008664    56.071429   \n",
       "\n",
       "              oi_C         cl_C  \n",
       "count  6822.000000  6822.000000  \n",
       "mean      0.002201     0.000059  \n",
       "std       0.051717     0.001083  \n",
       "min      -0.315962    -0.007143  \n",
       "25%      -0.009697    -0.000461  \n",
       "50%       0.001623     0.000000  \n",
       "75%       0.014493     0.000587  \n",
       "max       0.489942     0.007069  "
      ]
     },
     "execution_count": 92,
     "metadata": {},
     "output_type": "execute_result"
    }
   ],
   "source": [
    "C_ret.describe()"
   ]
  },
  {
   "cell_type": "code",
   "execution_count": 94,
   "metadata": {
    "collapsed": true
   },
   "outputs": [],
   "source": [
    "add_ret(C_ret)"
   ]
  },
  {
   "cell_type": "code",
   "execution_count": 95,
   "metadata": {},
   "outputs": [
    {
     "data": {
      "image/png": "[encoded data removed]",
      "text/plain": [
       "<matplotlib.figure.Figure at 0x1c0bd66588>"
      ]
     },
     "execution_count": 95,
     "metadata": {},
     "output_type": "execute_result"
    }
   ],
   "source": [
    "plot_acf(C_ret['op_C_ret'],lags = 60,alpha = 0.5)"
   ]
  },
  {
   "cell_type": "code",
   "execution_count": 97,
   "metadata": {},
   "outputs": [
    {
     "name": "stdout",
     "output_type": "stream",
     "text": [
      "The p-value is 0.493232730647\n"
     ]
    }
   ],
   "source": [
    "ad_fuller_test(C['op_C'])"
   ]
  },
  {
   "cell_type": "markdown",
   "metadata": {},
   "source": [
    "We see that the p-value indicates that there is a high chance that C is a random walk. "
   ]
  },
  {
   "cell_type": "code",
   "execution_count": 98,
   "metadata": {},
   "outputs": [
    {
     "name": "stdout",
     "output_type": "stream",
     "text": [
      "The AIC list is \n",
      "[-4503.827592841331, -4507.7979488948695, -4506.2245057312175, -4507.27249312184, -4505.339098590113]\n",
      "The BIC list is \n",
      "[-4484.4141450825873, -4481.9133518832105, -4473.8687594666435, -4468.445597604351, -4460.0410538197093]\n"
     ]
    }
   ],
   "source": [
    "ARIMA_fitting_AIC_BIC_list(C['op_C'])"
   ]
  },
  {
   "cell_type": "code",
   "execution_count": 99,
   "metadata": {},
   "outputs": [
    {
     "name": "stderr",
     "output_type": "stream",
     "text": [
      "/Users/Welliareetil/anaconda3/lib/python3.6/site-packages/statsmodels/base/model.py:496: ConvergenceWarning: Maximum Likelihood optimization failed to converge. Check mle_retvals\n",
      "  \"Check mle_retvals\", ConvergenceWarning)\n"
     ]
    }
   ],
   "source": [
    "testC,predictions_C210 = ARIMA_rolling_forecast(C['op_C'],2,1,0)"
   ]
  },
  {
   "cell_type": "code",
   "execution_count": 100,
   "metadata": {},
   "outputs": [
    {
     "data": {
      "image/png": "[encoded data removed]",
      "text/plain": [
       "<matplotlib.figure.Figure at 0x1c0bd66588>"
      ]
     },
     "metadata": {},
     "output_type": "display_data"
    }
   ],
   "source": [
    "plot_predictions(testC,predictions_C210)"
   ]
  },
  {
   "cell_type": "code",
   "execution_count": 101,
   "metadata": {},
   "outputs": [
    {
     "name": "stdout",
     "output_type": "stream",
     "text": [
      "0.00656176273054\n"
     ]
    }
   ],
   "source": [
    "errorC210 = mean_squared_error(testC,predictions_C210)\n",
    "print(errorC210)"
   ]
  },
  {
   "cell_type": "code",
   "execution_count": 102,
   "metadata": {},
   "outputs": [
    {
     "name": "stdout",
     "output_type": "stream",
     "text": [
      "The mean absolute scaled error is 0.00338127179786\n"
     ]
    }
   ],
   "source": [
    "MASE(testC,predictions_C210)"
   ]
  },
  {
   "cell_type": "markdown",
   "metadata": {},
   "source": [
    "# We predict the opening price of asset D"
   ]
  },
  {
   "cell_type": "code",
   "execution_count": 186,
   "metadata": {},
   "outputs": [
    {
     "data": {
      "text/plain": [
       "date        0\n",
       "op_D        0\n",
       "hi_D        0\n",
       "lo_D        0\n",
       "se_D        0\n",
       "volume_D    0\n",
       "oi_D        0\n",
       "cl_D        0\n",
       "dtype: int64"
      ]
     },
     "execution_count": 186,
     "metadata": {},
     "output_type": "execute_result"
    }
   ],
   "source": [
    "D.isnull().sum()"
   ]
  },
  {
   "cell_type": "code",
   "execution_count": 187,
   "metadata": {
    "collapsed": true
   },
   "outputs": [],
   "source": [
    "D = D.fillna(D.mean())"
   ]
  },
  {
   "cell_type": "code",
   "execution_count": 188,
   "metadata": {},
   "outputs": [],
   "source": [
    "mean_volume_D = D['volume_D'].mean()\n",
    "D['volume_D']= D.volume_D.mask(D.volume_D == 0,mean_volume_D)\n",
    "mean_oi_D = D['oi_D'].mean()\n",
    "D['oi_D']= D.oi_D.mask(D.oi_D == 0,mean_oi_D)"
   ]
  },
  {
   "cell_type": "code",
   "execution_count": 189,
   "metadata": {},
   "outputs": [],
   "source": [
    "\"\"\"Since we have changed the dataframe D, we redefine D_ret\"\"\"\n",
    "D_ret = D.copy()\n",
    "del(D_ret['date'])\n",
    "D_ret = D_ret.pct_change()\n",
    "D_ret = D_ret.dropna(axis = 0)"
   ]
  },
  {
   "cell_type": "code",
   "execution_count": 190,
   "metadata": {},
   "outputs": [],
   "source": [
    "add_ret(D_ret)"
   ]
  },
  {
   "cell_type": "code",
   "execution_count": 191,
   "metadata": {},
   "outputs": [
    {
     "data": {
      "text/html": [
       "<div>\n",
       "<style>\n",
       "    .dataframe thead tr:only-child th {\n",
       "        text-align: right;\n",
       "    }\n",
       "\n",
       "    .dataframe thead th {\n",
       "        text-align: left;\n",
       "    }\n",
       "\n",
       "    .dataframe tbody tr th {\n",
       "        vertical-align: top;\n",
       "    }\n",
       "</style>\n",
       "<table border=\"1\" class=\"dataframe\">\n",
       "  <thead>\n",
       "    <tr style=\"text-align: right;\">\n",
       "      <th></th>\n",
       "      <th>op_D_ret</th>\n",
       "      <th>hi_D_ret</th>\n",
       "      <th>lo_D_ret</th>\n",
       "      <th>se_D_ret</th>\n",
       "      <th>volume_D_ret</th>\n",
       "      <th>oi_D_ret</th>\n",
       "      <th>cl_D_ret</th>\n",
       "    </tr>\n",
       "  </thead>\n",
       "  <tbody>\n",
       "    <tr>\n",
       "      <th>count</th>\n",
       "      <td>10024.000000</td>\n",
       "      <td>10024.000000</td>\n",
       "      <td>10024.000000</td>\n",
       "      <td>10024.000000</td>\n",
       "      <td>10024.000000</td>\n",
       "      <td>10024.000000</td>\n",
       "      <td>10024.000000</td>\n",
       "    </tr>\n",
       "    <tr>\n",
       "      <th>mean</th>\n",
       "      <td>0.000173</td>\n",
       "      <td>0.000166</td>\n",
       "      <td>0.000165</td>\n",
       "      <td>0.000169</td>\n",
       "      <td>23.363956</td>\n",
       "      <td>0.004048</td>\n",
       "      <td>0.000173</td>\n",
       "    </tr>\n",
       "    <tr>\n",
       "      <th>std</th>\n",
       "      <td>0.007566</td>\n",
       "      <td>0.006482</td>\n",
       "      <td>0.006487</td>\n",
       "      <td>0.007047</td>\n",
       "      <td>2252.308814</td>\n",
       "      <td>0.147295</td>\n",
       "      <td>0.007566</td>\n",
       "    </tr>\n",
       "    <tr>\n",
       "      <th>min</th>\n",
       "      <td>-0.059296</td>\n",
       "      <td>-0.047258</td>\n",
       "      <td>-0.040884</td>\n",
       "      <td>-0.032905</td>\n",
       "      <td>-0.999998</td>\n",
       "      <td>-0.930381</td>\n",
       "      <td>-0.059296</td>\n",
       "    </tr>\n",
       "    <tr>\n",
       "      <th>25%</th>\n",
       "      <td>-0.003911</td>\n",
       "      <td>-0.003042</td>\n",
       "      <td>-0.003031</td>\n",
       "      <td>-0.003646</td>\n",
       "      <td>-0.222217</td>\n",
       "      <td>-0.012464</td>\n",
       "      <td>-0.003911</td>\n",
       "    </tr>\n",
       "    <tr>\n",
       "      <th>50%</th>\n",
       "      <td>0.000277</td>\n",
       "      <td>0.000000</td>\n",
       "      <td>0.000277</td>\n",
       "      <td>0.000273</td>\n",
       "      <td>0.003471</td>\n",
       "      <td>0.000871</td>\n",
       "      <td>0.000277</td>\n",
       "    </tr>\n",
       "    <tr>\n",
       "      <th>75%</th>\n",
       "      <td>0.004269</td>\n",
       "      <td>0.003420</td>\n",
       "      <td>0.003440</td>\n",
       "      <td>0.004084</td>\n",
       "      <td>0.297636</td>\n",
       "      <td>0.016027</td>\n",
       "      <td>0.004269</td>\n",
       "    </tr>\n",
       "    <tr>\n",
       "      <th>max</th>\n",
       "      <td>0.059129</td>\n",
       "      <td>0.053608</td>\n",
       "      <td>0.049610</td>\n",
       "      <td>0.040624</td>\n",
       "      <td>225446.000000</td>\n",
       "      <td>11.905247</td>\n",
       "      <td>0.059129</td>\n",
       "    </tr>\n",
       "  </tbody>\n",
       "</table>\n",
       "</div>"
      ],
      "text/plain": [
       "           op_D_ret      hi_D_ret      lo_D_ret      se_D_ret   volume_D_ret  \\\n",
       "count  10024.000000  10024.000000  10024.000000  10024.000000   10024.000000   \n",
       "mean       0.000173      0.000166      0.000165      0.000169      23.363956   \n",
       "std        0.007566      0.006482      0.006487      0.007047    2252.308814   \n",
       "min       -0.059296     -0.047258     -0.040884     -0.032905      -0.999998   \n",
       "25%       -0.003911     -0.003042     -0.003031     -0.003646      -0.222217   \n",
       "50%        0.000277      0.000000      0.000277      0.000273       0.003471   \n",
       "75%        0.004269      0.003420      0.003440      0.004084       0.297636   \n",
       "max        0.059129      0.053608      0.049610      0.040624  225446.000000   \n",
       "\n",
       "           oi_D_ret      cl_D_ret  \n",
       "count  10024.000000  10024.000000  \n",
       "mean       0.004048      0.000173  \n",
       "std        0.147295      0.007566  \n",
       "min       -0.930381     -0.059296  \n",
       "25%       -0.012464     -0.003911  \n",
       "50%        0.000871      0.000277  \n",
       "75%        0.016027      0.004269  \n",
       "max       11.905247      0.059129  "
      ]
     },
     "execution_count": 191,
     "metadata": {},
     "output_type": "execute_result"
    }
   ],
   "source": [
    "D_ret.describe()"
   ]
  },
  {
   "cell_type": "markdown",
   "metadata": {},
   "source": [
    "We observe that the feature 'volume_D_ret' has some issues with it, in that the standard deviation is extremely \n",
    "large compared to the mean. "
   ]
  },
  {
   "cell_type": "code",
   "execution_count": 192,
   "metadata": {},
   "outputs": [
    {
     "data": {
      "image/png": "[encoded data removed]",
      "text/plain": [
       "<matplotlib.figure.Figure at 0x1c15dcc2e8>"
      ]
     },
     "metadata": {},
     "output_type": "display_data"
    }
   ],
   "source": [
    "plt.plot(D_ret['volume_D_ret'])\n",
    "plt.show()"
   ]
  },
  {
   "cell_type": "code",
   "execution_count": 193,
   "metadata": {},
   "outputs": [
    {
     "name": "stdout",
     "output_type": "stream",
     "text": [
      "[2328, 4315, 5516, 6716, 6739]\n"
     ]
    }
   ],
   "source": [
    "outliers = []\n",
    "for j in range(len(D_ret)):\n",
    "    if D_ret['volume_D_ret'][j] > 100:\n",
    "        outliers.append(j)\n",
    "print(outliers)        "
   ]
  },
  {
   "cell_type": "code",
   "execution_count": 194,
   "metadata": {},
   "outputs": [],
   "source": [
    "for j in outliers:\n",
    "    D_ret['volume_D_ret'][j] = D_ret['volume_D_ret'].mean()"
   ]
  },
  {
   "cell_type": "code",
   "execution_count": 195,
   "metadata": {},
   "outputs": [
    {
     "data": {
      "text/html": [
       "<div>\n",
       "<style>\n",
       "    .dataframe thead tr:only-child th {\n",
       "        text-align: right;\n",
       "    }\n",
       "\n",
       "    .dataframe thead th {\n",
       "        text-align: left;\n",
       "    }\n",
       "\n",
       "    .dataframe tbody tr th {\n",
       "        vertical-align: top;\n",
       "    }\n",
       "</style>\n",
       "<table border=\"1\" class=\"dataframe\">\n",
       "  <thead>\n",
       "    <tr style=\"text-align: right;\">\n",
       "      <th></th>\n",
       "      <th>op_D_ret</th>\n",
       "      <th>hi_D_ret</th>\n",
       "      <th>lo_D_ret</th>\n",
       "      <th>se_D_ret</th>\n",
       "      <th>volume_D_ret</th>\n",
       "      <th>oi_D_ret</th>\n",
       "      <th>cl_D_ret</th>\n",
       "    </tr>\n",
       "  </thead>\n",
       "  <tbody>\n",
       "    <tr>\n",
       "      <th>count</th>\n",
       "      <td>10024.000000</td>\n",
       "      <td>10024.000000</td>\n",
       "      <td>10024.000000</td>\n",
       "      <td>10024.000000</td>\n",
       "      <td>10024.000000</td>\n",
       "      <td>10024.000000</td>\n",
       "      <td>10024.000000</td>\n",
       "    </tr>\n",
       "    <tr>\n",
       "      <th>mean</th>\n",
       "      <td>0.000173</td>\n",
       "      <td>0.000166</td>\n",
       "      <td>0.000165</td>\n",
       "      <td>0.000169</td>\n",
       "      <td>0.153686</td>\n",
       "      <td>0.004048</td>\n",
       "      <td>0.000173</td>\n",
       "    </tr>\n",
       "    <tr>\n",
       "      <th>std</th>\n",
       "      <td>0.007566</td>\n",
       "      <td>0.006482</td>\n",
       "      <td>0.006487</td>\n",
       "      <td>0.007047</td>\n",
       "      <td>1.140311</td>\n",
       "      <td>0.147295</td>\n",
       "      <td>0.007566</td>\n",
       "    </tr>\n",
       "    <tr>\n",
       "      <th>min</th>\n",
       "      <td>-0.059296</td>\n",
       "      <td>-0.047258</td>\n",
       "      <td>-0.040884</td>\n",
       "      <td>-0.032905</td>\n",
       "      <td>-0.999998</td>\n",
       "      <td>-0.930381</td>\n",
       "      <td>-0.059296</td>\n",
       "    </tr>\n",
       "    <tr>\n",
       "      <th>25%</th>\n",
       "      <td>-0.003911</td>\n",
       "      <td>-0.003042</td>\n",
       "      <td>-0.003031</td>\n",
       "      <td>-0.003646</td>\n",
       "      <td>-0.222217</td>\n",
       "      <td>-0.012464</td>\n",
       "      <td>-0.003911</td>\n",
       "    </tr>\n",
       "    <tr>\n",
       "      <th>50%</th>\n",
       "      <td>0.000277</td>\n",
       "      <td>0.000000</td>\n",
       "      <td>0.000277</td>\n",
       "      <td>0.000273</td>\n",
       "      <td>0.003471</td>\n",
       "      <td>0.000871</td>\n",
       "      <td>0.000277</td>\n",
       "    </tr>\n",
       "    <tr>\n",
       "      <th>75%</th>\n",
       "      <td>0.004269</td>\n",
       "      <td>0.003420</td>\n",
       "      <td>0.003440</td>\n",
       "      <td>0.004084</td>\n",
       "      <td>0.297586</td>\n",
       "      <td>0.016027</td>\n",
       "      <td>0.004269</td>\n",
       "    </tr>\n",
       "    <tr>\n",
       "      <th>max</th>\n",
       "      <td>0.059129</td>\n",
       "      <td>0.053608</td>\n",
       "      <td>0.049610</td>\n",
       "      <td>0.040624</td>\n",
       "      <td>52.438596</td>\n",
       "      <td>11.905247</td>\n",
       "      <td>0.059129</td>\n",
       "    </tr>\n",
       "  </tbody>\n",
       "</table>\n",
       "</div>"
      ],
      "text/plain": [
       "           op_D_ret      hi_D_ret      lo_D_ret      se_D_ret  volume_D_ret  \\\n",
       "count  10024.000000  10024.000000  10024.000000  10024.000000  10024.000000   \n",
       "mean       0.000173      0.000166      0.000165      0.000169      0.153686   \n",
       "std        0.007566      0.006482      0.006487      0.007047      1.140311   \n",
       "min       -0.059296     -0.047258     -0.040884     -0.032905     -0.999998   \n",
       "25%       -0.003911     -0.003042     -0.003031     -0.003646     -0.222217   \n",
       "50%        0.000277      0.000000      0.000277      0.000273      0.003471   \n",
       "75%        0.004269      0.003420      0.003440      0.004084      0.297586   \n",
       "max        0.059129      0.053608      0.049610      0.040624     52.438596   \n",
       "\n",
       "           oi_D_ret      cl_D_ret  \n",
       "count  10024.000000  10024.000000  \n",
       "mean       0.004048      0.000173  \n",
       "std        0.147295      0.007566  \n",
       "min       -0.930381     -0.059296  \n",
       "25%       -0.012464     -0.003911  \n",
       "50%        0.000871      0.000277  \n",
       "75%        0.016027      0.004269  \n",
       "max       11.905247      0.059129  "
      ]
     },
     "execution_count": 195,
     "metadata": {},
     "output_type": "execute_result"
    }
   ],
   "source": [
    "D_ret.describe()"
   ]
  },
  {
   "cell_type": "code",
   "execution_count": 196,
   "metadata": {
    "scrolled": true
   },
   "outputs": [
    {
     "data": {
      "image/png": "[encoded data removed]",
      "text/plain": [
       "<matplotlib.figure.Figure at 0x1c15add470>"
      ]
     },
     "execution_count": 196,
     "metadata": {},
     "output_type": "execute_result"
    }
   ],
   "source": [
    "plot_acf(D_ret['op_D_ret'],lags = 60,alpha = 0.5)"
   ]
  },
  {
   "cell_type": "code",
   "execution_count": 112,
   "metadata": {},
   "outputs": [],
   "source": []
  },
  {
   "cell_type": "code",
   "execution_count": 197,
   "metadata": {},
   "outputs": [
    {
     "name": "stdout",
     "output_type": "stream",
     "text": [
      "The AIC list is \n",
      "[19568.046089126517, 19569.72591228275, 19570.395459004045, 19572.08550001464, 19574.076109728492]\n",
      "The BIC list is \n",
      "[19588.613934728673, 19597.149706418957, 19604.675201674305, 19613.221191218952, 19622.067749466856]\n"
     ]
    }
   ],
   "source": [
    "ARIMA_fitting_AIC_BIC_list(D['op_D'])"
   ]
  },
  {
   "cell_type": "code",
   "execution_count": 198,
   "metadata": {},
   "outputs": [],
   "source": [
    "testD, predictions_D110 = ARIMA_rolling_forecast(D['op_D'],1,1,0)"
   ]
  },
  {
   "cell_type": "code",
   "execution_count": 202,
   "metadata": {},
   "outputs": [
    {
     "data": {
      "image/png": "[encoded data removed]",
      "text/plain": [
       "<matplotlib.figure.Figure at 0x1c15d9cfd0>"
      ]
     },
     "metadata": {},
     "output_type": "display_data"
    }
   ],
   "source": [
    "plot_predictions(testD,predictions_D110)"
   ]
  },
  {
   "cell_type": "code",
   "execution_count": null,
   "metadata": {
    "collapsed": true
   },
   "outputs": [],
   "source": []
  },
  {
   "cell_type": "code",
   "execution_count": 203,
   "metadata": {},
   "outputs": [
    {
     "name": "stdout",
     "output_type": "stream",
     "text": [
      "5.05740953847\n"
     ]
    }
   ],
   "source": [
    "MSE(testD,predictions_D110)"
   ]
  },
  {
   "cell_type": "code",
   "execution_count": 204,
   "metadata": {},
   "outputs": [
    {
     "name": "stdout",
     "output_type": "stream",
     "text": [
      "The mean absolute scaled error is 2.83227648473\n"
     ]
    }
   ],
   "source": [
    "MASE(testD,predictions_D110)"
   ]
  },
  {
   "cell_type": "code",
   "execution_count": 122,
   "metadata": {},
   "outputs": [
    {
     "data": {
      "text/plain": [
       "op_D_ret        0\n",
       "hi_D_ret        0\n",
       "lo_D_ret        0\n",
       "se_D_ret        0\n",
       "volume_D_ret    0\n",
       "oi_D_ret        0\n",
       "cl_D_ret        0\n",
       "dtype: int64"
      ]
     },
     "execution_count": 122,
     "metadata": {},
     "output_type": "execute_result"
    }
   ],
   "source": [
    "D_ret.isnull().sum()"
   ]
  },
  {
   "cell_type": "code",
   "execution_count": null,
   "metadata": {},
   "outputs": [],
   "source": []
  },
  {
   "cell_type": "code",
   "execution_count": null,
   "metadata": {},
   "outputs": [],
   "source": []
  },
  {
   "cell_type": "code",
   "execution_count": null,
   "metadata": {},
   "outputs": [],
   "source": [
    "residuals = pd.DataFrame(mod.resid)\n",
    "residuals.plot()\n",
    "plt.show()\n",
    "residuals.plot(kind='kde')\n",
    "plt.show()\n",
    "print(residuals.describe())"
   ]
  },
  {
   "cell_type": "code",
   "execution_count": null,
   "metadata": {
    "scrolled": false
   },
   "outputs": [],
   "source": [
    "y_pred = mod.forecast(steps = 100)\n",
    "y_pred[0]"
   ]
  },
  {
   "cell_type": "code",
   "execution_count": null,
   "metadata": {},
   "outputs": [],
   "source": [
    "plt.plot(y_pred[0])\n",
    "plt.show()"
   ]
  },
  {
   "cell_type": "code",
   "execution_count": null,
   "metadata": {
    "collapsed": true,
    "scrolled": true
   },
   "outputs": [],
   "source": []
  },
  {
   "cell_type": "code",
   "execution_count": null,
   "metadata": {},
   "outputs": [],
   "source": [
    "W = set(C[a:b]['date'])\n",
    "X = set(A[a:b]['date'])\n",
    "Y = set(B[a:b]['date'])\n",
    "Z = set(D[a:b]['date'])\n",
    "print(Z-X)"
   ]
  },
  {
   "cell_type": "code",
   "execution_count": null,
   "metadata": {},
   "outputs": [],
   "source": [
    "B.describe()"
   ]
  },
  {
   "cell_type": "code",
   "execution_count": null,
   "metadata": {},
   "outputs": [],
   "source": []
  },
  {
   "cell_type": "code",
   "execution_count": null,
   "metadata": {
    "collapsed": true
   },
   "outputs": [],
   "source": []
  },
  {
   "cell_type": "code",
   "execution_count": null,
   "metadata": {
    "collapsed": true
   },
   "outputs": [],
   "source": []
  },
  {
   "cell_type": "code",
   "execution_count": null,
   "metadata": {
    "collapsed": true
   },
   "outputs": [],
   "source": []
  },
  {
   "cell_type": "code",
   "execution_count": null,
   "metadata": {
    "collapsed": true
   },
   "outputs": [],
   "source": []
  },
  {
   "cell_type": "code",
   "execution_count": null,
   "metadata": {
    "collapsed": true
   },
   "outputs": [],
   "source": []
  },
  {
   "cell_type": "code",
   "execution_count": null,
   "metadata": {
    "collapsed": true
   },
   "outputs": [],
   "source": []
  },
  {
   "cell_type": "code",
   "execution_count": null,
   "metadata": {
    "collapsed": true
   },
   "outputs": [],
   "source": []
  },
  {
   "cell_type": "code",
   "execution_count": null,
   "metadata": {
    "collapsed": true
   },
   "outputs": [],
   "source": []
  },
  {
   "cell_type": "code",
   "execution_count": null,
   "metadata": {
    "collapsed": true
   },
   "outputs": [],
   "source": []
  },
  {
   "cell_type": "code",
   "execution_count": null,
   "metadata": {
    "collapsed": true
   },
   "outputs": [],
   "source": []
  },
  {
   "cell_type": "code",
   "execution_count": null,
   "metadata": {
    "collapsed": true
   },
   "outputs": [],
   "source": []
  },
  {
   "cell_type": "code",
   "execution_count": null,
   "metadata": {
    "collapsed": true
   },
   "outputs": [],
   "source": []
  },
  {
   "cell_type": "code",
   "execution_count": null,
   "metadata": {
    "collapsed": true
   },
   "outputs": [],
   "source": []
  },
  {
   "cell_type": "code",
   "execution_count": null,
   "metadata": {
    "collapsed": true
   },
   "outputs": [],
   "source": []
  },
  {
   "cell_type": "code",
   "execution_count": null,
   "metadata": {
    "collapsed": true
   },
   "outputs": [],
   "source": []
  },
  {
   "cell_type": "code",
   "execution_count": null,
   "metadata": {
    "collapsed": true
   },
   "outputs": [],
   "source": []
  },
  {
   "cell_type": "code",
   "execution_count": null,
   "metadata": {
    "collapsed": true
   },
   "outputs": [],
   "source": []
  },
  {
   "cell_type": "code",
   "execution_count": null,
   "metadata": {
    "collapsed": true
   },
   "outputs": [],
   "source": []
  },
  {
   "cell_type": "code",
   "execution_count": null,
   "metadata": {
    "collapsed": true
   },
   "outputs": [],
   "source": []
  },
  {
   "cell_type": "code",
   "execution_count": null,
   "metadata": {
    "collapsed": true
   },
   "outputs": [],
   "source": []
  },
  {
   "cell_type": "code",
   "execution_count": null,
   "metadata": {
    "collapsed": true
   },
   "outputs": [],
   "source": []
  },
  {
   "cell_type": "code",
   "execution_count": null,
   "metadata": {
    "collapsed": true
   },
   "outputs": [],
   "source": []
  }
 ],
 "metadata": {
  "kernelspec": {
   "display_name": "Python 3",
   "language": "python",
   "name": "python3"
  },
  "language_info": {
   "codemirror_mode": {
    "name": "ipython",
    "version": 3
   },
   "file_extension": ".py",
   "mimetype": "text/x-python",
   "name": "python",
   "nbconvert_exporter": "python",
   "pygments_lexer": "ipython3",
   "version": "3.6.3"
  }
 },
 "nbformat": 4,
 "nbformat_minor": 2
}
