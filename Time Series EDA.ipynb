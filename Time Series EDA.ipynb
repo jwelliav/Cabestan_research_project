{
 "cells": [
  {
   "cell_type": "markdown",
   "metadata": {},
   "source": [
    "# A Study of four financial time series. "
   ]
  },
  {
   "cell_type": "markdown",
   "metadata": {},
   "source": [
    "# Introduction : "
   ]
  },
  {
   "cell_type": "markdown",
   "metadata": {},
   "source": [
    "We are given four assets : A,B,C and D and will show that we can predict the opening/closing prices of these assets using ARIMA and VAR models. We fit models at first for just the data coming from each asset, we will then run the combined data through the models after employing a dimensionality reduction to obtain slightly better scores. In all cases, our models are tested using a rolling forecast test, which is a form of Cross Validation for time series data. "
   ]
  },
  {
   "cell_type": "markdown",
   "metadata": {},
   "source": [
    "# Exploratory Data Analysis  "
   ]
  },
  {
   "cell_type": "code",
   "execution_count": 681,
   "metadata": {},
   "outputs": [],
   "source": [
    "#Importing necessary packages\n",
    "\n",
    "import pandas as pd\n",
    "import numpy as np\n",
    "import matplotlib.pyplot as plt\n",
    "import matplotlib.dates as mdates\n",
    "from pandas.plotting import scatter_matrix\n",
    "import seaborn as sns\n",
    "from statsmodels.tsa.stattools import acf\n",
    "from statsmodels.tsa.stattools import coint\n",
    "from statsmodels.graphics.tsaplots import plot_acf\n",
    "from statsmodels.tsa.stattools import adfuller\n",
    "from statsmodels.tsa.arima_model import ARMA\n",
    "from statsmodels.tsa.arima_model import ARIMA\n",
    "from sklearn.metrics import mean_squared_error\n",
    "from statsmodels.tsa.stattools import ccf\n",
    "from statsmodels.tsa.vector_ar.var_model import VAR\n",
    "from sklearn.decomposition import PCA"
   ]
  },
  {
   "cell_type": "code",
   "execution_count": 682,
   "metadata": {
    "collapsed": true
   },
   "outputs": [],
   "source": [
    "# We load the given data onto 4 pandas dataframes.\n",
    "\n",
    "pathA = '/Users/Welliareetil/Documents/Cabestan-technical challenge/WelliaveetilDataset/A.csv'\n",
    "pathB = '/Users/Welliareetil/Documents/Cabestan-technical challenge/WelliaveetilDataset/B.csv'\n",
    "pathC = '/Users/Welliareetil/Documents/Cabestan-technical challenge/WelliaveetilDataset/C.csv'\n",
    "pathD = '/Users/Welliareetil/Documents/Cabestan-technical challenge/WelliaveetilDataset/D.csv'"
   ]
  },
  {
   "cell_type": "code",
   "execution_count": 683,
   "metadata": {
    "collapsed": true
   },
   "outputs": [],
   "source": [
    "A = pd.read_csv(pathA)\n",
    "B = pd.read_csv(pathB)\n",
    "C = pd.read_csv(pathC)\n",
    "D = pd.read_csv(pathD)"
   ]
  },
  {
   "cell_type": "code",
   "execution_count": 684,
   "metadata": {
    "collapsed": true
   },
   "outputs": [],
   "source": [
    "#We rename the columns which will come in handy later when studying multiple assets simultaneously.\n",
    "\n",
    "A.columns = [\"date\",'op_A', 'hi_A', 'lo_A', 'se_A', 'volume_A', 'oi_A']\n",
    "B.columns = [\"date\",'op_B', 'hi_B', 'lo_B', 'se_B', 'volume_B', 'oi_B']\n",
    "C.columns = [\"date\",'op_C', 'hi_C', 'lo_C', 'se_C', 'volume_C', 'oi_C']\n",
    "D.columns = [\"date\",'op_D', 'hi_D', 'lo_D', 'se_D', 'volume_D', 'oi_D']"
   ]
  },
  {
   "cell_type": "code",
   "execution_count": 685,
   "metadata": {
    "collapsed": true
   },
   "outputs": [],
   "source": [
    "# We convert the date columns to timestamps.\n",
    "\n",
    "A[\"date\"] = pd.to_datetime(A[\"date\"])\n",
    "B[\"date\"] = pd.to_datetime(B[\"date\"])\n",
    "C[\"date\"] = pd.to_datetime(C[\"date\"])\n",
    "D[\"date\"] = pd.to_datetime(D[\"date\"])"
   ]
  },
  {
   "cell_type": "code",
   "execution_count": 686,
   "metadata": {},
   "outputs": [],
   "source": [
    "#We make note of the start and end dates of the 4 time series. This will be useful when making plot comparisons. \n",
    "\n",
    "a_start = A['date'][0]\n",
    "a_end = A['date'][len(A['date'])-1]\n",
    "b_start = B['date'][0]\n",
    "b_end = B['date'][len(B[\"date\"])-1]\n",
    "c_start = C['date'][0]\n",
    "c_end = C['date'][6823]\n",
    "d_start = D['date'][0]\n",
    "d_end = D['date'][10025]"
   ]
  },
  {
   "cell_type": "code",
   "execution_count": 687,
   "metadata": {
    "collapsed": true
   },
   "outputs": [],
   "source": [
    "#We set the index of the 4 dataframes to be the date column. \n",
    "\n",
    "A.index = A[\"date\"]\n",
    "#del(A['date'])\n",
    "B.index = B[\"date\"]\n",
    "#del(B['date'])\n",
    "C.index = C['date']\n",
    "#del(C['date'])\n",
    "D.index = D['date']\n",
    "#del(D['date'])\n"
   ]
  },
  {
   "cell_type": "markdown",
   "metadata": {},
   "source": [
    "We will add a column for each time series which is the closing price of the asset for that day. \n",
    "We feel that for a particular asset, the features 'op', 'hi',\n",
    "'lo', 'se', 'volume', 'oi' and 'cl', are known to us only at the close of business each day and hence it makes more\n",
    "sense to check if this information (and all past values of the features) can then be employed to predict the closing price for the next day. \n"
   ]
  },
  {
   "cell_type": "code",
   "execution_count": 688,
   "metadata": {
    "collapsed": true
   },
   "outputs": [],
   "source": [
    "#We add a column \"closing price\" to a given dataframe. We feel this is a more natural variable to predict.\n",
    "\n",
    "def closing_price_column(df,op,s):\n",
    "    l = pd.Series([df[op][j+1] for j in range(len(df)-1)] + [0])\n",
    "    df = df.assign(cl = l.values)\n",
    "    df = df.drop(df.index[-1])\n",
    "    df.rename(columns = {'cl':s},inplace = True)\n",
    "    df.drop(op, axis = 1,inplace = True)\n",
    "    return(df)"
   ]
  },
  {
   "cell_type": "code",
   "execution_count": 689,
   "metadata": {},
   "outputs": [],
   "source": [
    "A = closing_price_column(A,\"op_A\",\"cl_A\")\n",
    "B = closing_price_column(B,\"op_B\",\"cl_B\")\n",
    "C = closing_price_column(C,\"op_C\",\"cl_C\")\n",
    "D = closing_price_column(D,\"op_D\",\"cl_D\")"
   ]
  },
  {
   "cell_type": "code",
   "execution_count": 690,
   "metadata": {
    "collapsed": true
   },
   "outputs": [],
   "source": [
    "#Rearrange the columns of the dataframe.\n",
    "\n",
    "def rearrange(df,s):\n",
    "    cols = list(df.columns)\n",
    "    k = cols.index(s)\n",
    "    t = cols[1]\n",
    "    cols[k] = t\n",
    "    cols[1] = s\n",
    "    df = df[cols]\n",
    "    return(df)"
   ]
  },
  {
   "cell_type": "code",
   "execution_count": 691,
   "metadata": {},
   "outputs": [],
   "source": [
    "A = rearrange(A,'cl_A')\n",
    "B = rearrange(B,'cl_B')\n",
    "C = rearrange(C,'cl_C')\n",
    "D = rearrange(D,'cl_D')"
   ]
  },
  {
   "cell_type": "markdown",
   "metadata": {},
   "source": [
    "# Missing Values and dates"
   ]
  },
  {
   "cell_type": "markdown",
   "metadata": {},
   "source": [
    "Checking for missing values and any unusual behaviour. We will go into a closer examination when building models \n",
    "below."
   ]
  },
  {
   "cell_type": "code",
   "execution_count": 692,
   "metadata": {},
   "outputs": [
    {
     "data": {
      "text/plain": [
       "[[0, 0, 0, 0, 0, 0, 0],\n",
       " [0, 0, 0, 0, 0, 0, 0],\n",
       " [0, 0, 0, 0, 0, 0, 0],\n",
       " [0, 6, 6, 0, 8, 11, 6]]"
      ]
     },
     "execution_count": 692,
     "metadata": {},
     "output_type": "execute_result"
    }
   ],
   "source": [
    "#A list of lists which gives the column count of missing values for each of the 4 assets\n",
    "\n",
    "null_list = []\n",
    "null_list.append(list(A.isnull().sum()))\n",
    "null_list.append(list(B.isnull().sum()))\n",
    "null_list.append(list(C.isnull().sum()))\n",
    "null_list.append(list(D.isnull().sum()))\n",
    "null_list"
   ]
  },
  {
   "cell_type": "markdown",
   "metadata": {},
   "source": [
    "We see that the series D has some missing values. "
   ]
  },
  {
   "cell_type": "markdown",
   "metadata": {},
   "source": [
    "We check if the data has certain dates missing. We do so by counting \n",
    "the number of days between the start and end dates of \n",
    "the different series and then multiplying this by (251/365) since 251 is a rough estimate of the number of\n",
    "working days per year. We then subtract the length of the various series which we assume\n",
    "counts the actual working days \n",
    "of the year and then normalize the error by dividing by the number of days between the start and end date. We see that \n",
    "this error rate is pretty much constant over all series."
   ]
  },
  {
   "cell_type": "code",
   "execution_count": 693,
   "metadata": {
    "collapsed": true
   },
   "outputs": [],
   "source": [
    "\"\"\"A rough estimate of the number of days to expect is 251 out of 365. Hence for a given range x:y we \n",
    "calculate the number of calendar days in this range and then multiply by (251/365) to get a rough estimate of the\n",
    "number of trading days. We compare this to the size of each data frame to make sure that data isn't\n",
    "missing.\"\"\"\n",
    "\n",
    "def missing_days(A):\n",
    "    a_start = A['date'][0]\n",
    "    a_end = A['date'][len(A['date'])-1]\n",
    "    deltaA = a_end - a_start\n",
    "    e1 = deltaA.days*(251/365) - len(A)\n",
    "    print(e1/deltaA.days)"
   ]
  },
  {
   "cell_type": "code",
   "execution_count": 694,
   "metadata": {},
   "outputs": [
    {
     "name": "stdout",
     "output_type": "stream",
     "text": [
      "-0.00126714871200338\n"
     ]
    }
   ],
   "source": [
    "missing_days(A)"
   ]
  },
  {
   "cell_type": "code",
   "execution_count": 695,
   "metadata": {},
   "outputs": [
    {
     "name": "stdout",
     "output_type": "stream",
     "text": [
      "-0.0020423488910734306\n"
     ]
    }
   ],
   "source": [
    "missing_days(B)"
   ]
  },
  {
   "cell_type": "code",
   "execution_count": 696,
   "metadata": {},
   "outputs": [
    {
     "name": "stdout",
     "output_type": "stream",
     "text": [
      "-0.001242337397924194\n"
     ]
    }
   ],
   "source": [
    "missing_days(C)"
   ]
  },
  {
   "cell_type": "code",
   "execution_count": 697,
   "metadata": {},
   "outputs": [
    {
     "name": "stdout",
     "output_type": "stream",
     "text": [
      "-0.00237557329068854\n"
     ]
    }
   ],
   "source": [
    "missing_days(D)"
   ]
  },
  {
   "cell_type": "markdown",
   "metadata": {},
   "source": [
    "# Relationship between the closing price data of the 4 assets"
   ]
  },
  {
   "cell_type": "code",
   "execution_count": 698,
   "metadata": {
    "collapsed": true
   },
   "outputs": [],
   "source": [
    "#A.set_index(\"date\")\n",
    "#B.set_index(\"date\")\n",
    "#C.set_index('date')\n",
    "#D.set_index('date')\n",
    "#a_start = A['date'][0]\n",
    "#a_end = A['date'][len(A['date'])-1]\n",
    "#b_start = B['date'][0]\n",
    "#b_end = B['date'][len(B[\"date\"])-1]\n",
    "#c_start = C['date'][0]\n",
    "#c_end = C['date'][6823]\n",
    "#d_start = D['date'][0]\n",
    "#d_end = D['date'][10025]"
   ]
  },
  {
   "cell_type": "code",
   "execution_count": 699,
   "metadata": {
    "collapsed": true
   },
   "outputs": [],
   "source": [
    "a = max(a_start,b_start,c_start,d_start)\n",
    "b = min(a_end,b_end,c_end,d_end)"
   ]
  },
  {
   "cell_type": "markdown",
   "metadata": {},
   "source": [
    "A comparison plot of the opening prices of A,B,C and D during the relevant time periods. "
   ]
  },
  {
   "cell_type": "code",
   "execution_count": 700,
   "metadata": {
    "scrolled": false
   },
   "outputs": [
    {
     "data": {
      "image/png": "[encoded data removed]",
      "text/plain": [
       "<matplotlib.figure.Figure at 0x1c1e1bb128>"
      ]
     },
     "metadata": {},
     "output_type": "display_data"
    }
   ],
   "source": [
    "fig,ax = plt.subplots()\n",
    "ax.plot(A[\"date\"][a:b],A[a:b]['cl_A'])\n",
    "ax.plot(B[\"date\"][a:b],B[a:b]['cl_B'])\n",
    "ax.plot(C[\"date\"],C['cl_C'])\n",
    "ax.plot(D[\"date\"][3135:9964],D[3135:9964]['cl_D'])\n",
    "ax.xaxis.set_major_locator(mdates.YearLocator(2,month = 2,day = 2))\n",
    "ax.xaxis.set_major_formatter(mdates.DateFormatter(\"%Y\"))\n",
    "ax.legend()\n",
    "_=plt.xticks(rotation=90) \n",
    "plt.show()"
   ]
  },
  {
   "cell_type": "markdown",
   "metadata": {},
   "source": [
    "We observe a very strong relationship between the series op_B and op_D. To be sure we calculate correlations between the returns (or in this case day to day changes) between the series. \n",
    "\n",
    "More precisely, for each asset, we create a data frame which captures the day to day change in price of each asset. This is necessary because estimates (Auto Correlations and Cross Correlations) are usually possible only for stationary series. "
   ]
  },
  {
   "cell_type": "code",
   "execution_count": 701,
   "metadata": {
    "collapsed": true
   },
   "outputs": [],
   "source": [
    "A_ret = A.copy()\n",
    "del(A_ret['date'])\n",
    "A_ret = A_ret.pct_change()\n",
    "A_ret = A_ret.dropna(axis = 0)\n",
    "\n",
    "B_ret = B.copy()\n",
    "del(B_ret['date'])\n",
    "B_ret = B_ret.pct_change()\n",
    "B_ret = B_ret.dropna(axis = 0)\n",
    "\n",
    "C_ret = C.copy()\n",
    "del(C_ret['date'])\n",
    "C_ret = C_ret.pct_change()\n",
    "C_ret = C_ret.dropna(axis = 0)\n",
    "\n",
    "D_ret = D.copy()\n",
    "del(D_ret['date'])\n",
    "D_ret = D_ret.pct_change()\n",
    "D_ret = D_ret.dropna(axis = 0)\n"
   ]
  },
  {
   "cell_type": "markdown",
   "metadata": {},
   "source": [
    "We create a database that includes all the data from the 4 series A,B,C and D. We study the correlations between series. "
   ]
  },
  {
   "cell_type": "code",
   "execution_count": 702,
   "metadata": {
    "collapsed": true
   },
   "outputs": [],
   "source": [
    "returns = A_ret.join(B_ret,how = 'inner')\n",
    "returns = returns.join(C_ret,how = \"inner\")\n",
    "returns = returns.join(D_ret,how = 'inner')"
   ]
  },
  {
   "cell_type": "code",
   "execution_count": 703,
   "metadata": {
    "collapsed": true
   },
   "outputs": [],
   "source": [
    "# We name the columns of return appropriately\n",
    "\n",
    "l = []\n",
    "for j in list(returns.columns):\n",
    "    j = j + '_ret'    \n",
    "    l.append(j)\n",
    "returns.columns = l    "
   ]
  },
  {
   "cell_type": "code",
   "execution_count": null,
   "metadata": {},
   "outputs": [],
   "source": []
  },
  {
   "cell_type": "code",
   "execution_count": 704,
   "metadata": {},
   "outputs": [
    {
     "name": "stdout",
     "output_type": "stream",
     "text": [
      "          cl_A_ret  cl_B_ret  cl_C_ret  cl_D_ret\n",
      "cl_A_ret  1.000000  0.945473  0.823172  0.848949\n",
      "cl_B_ret  0.945473  1.000000  0.754613  0.929732\n",
      "cl_C_ret  0.823172  0.754613  1.000000  0.643761\n",
      "cl_D_ret  0.848949  0.929732  0.643761  1.000000\n"
     ]
    }
   ],
   "source": [
    "correlations_op = returns[['cl_A_ret','cl_B_ret','cl_C_ret','cl_D_ret']].corr()\n",
    "print(correlations_op)"
   ]
  },
  {
   "cell_type": "markdown",
   "metadata": {},
   "source": [
    "We observe a very strong relation between A and B as well as D and B. The correlation matrix suggests that\n",
    "all four assets are \n",
    "closely related to each other. "
   ]
  },
  {
   "cell_type": "code",
   "execution_count": 705,
   "metadata": {},
   "outputs": [
    {
     "data": {
      "image/png": "[encoded data removed]",
      "text/plain": [
       "<matplotlib.figure.Figure at 0x1c13feb2e8>"
      ]
     },
     "metadata": {},
     "output_type": "display_data"
    }
   ],
   "source": [
    "scatter_matrix(returns[['cl_A_ret','cl_B_ret','cl_C_ret','cl_D_ret']])\n",
    "plt.show()"
   ]
  },
  {
   "cell_type": "markdown",
   "metadata": {},
   "source": [
    "The scatter matrix suggest that there is a linear relationship between closing price data \n",
    "of the four assets."
   ]
  },
  {
   "cell_type": "code",
   "execution_count": 706,
   "metadata": {},
   "outputs": [
    {
     "data": {
      "image/png": "[encoded data removed]",
      "text/plain": [
       "<matplotlib.figure.Figure at 0x1c1cdc4fd0>"
      ]
     },
     "metadata": {},
     "output_type": "display_data"
    }
   ],
   "source": [
    "dims = (12,7.5)\n",
    "fig,ax = plt.subplots(figsize = dims)\n",
    "correlations = returns.corr()\n",
    "sns.heatmap(ax = ax, data = correlations)\n",
    "plt.show()\n",
    "plt.savefig('correlation_matrix.png')"
   ]
  },
  {
   "cell_type": "markdown",
   "metadata": {},
   "source": [
    "We make the following observations : \n",
    "\n",
    "1) The volume changes and changes in open interest from day to day show little correlation with the day to day changes of the other features (hi_ret,lo_ret,se_ret,op_ret) within the same series and\n",
    "the other series.\n",
    "\n",
    "2) For any two series, say A and B, we have strong correlations between cl_A_ret and cl_B_ret, hi_A_ret and hi_B_ret,\n",
    "lo_A_ret and lo_B_ret, se_A_ret and se_B_ret. "
   ]
  },
  {
   "cell_type": "markdown",
   "metadata": {},
   "source": [
    "#  Functions we will use : "
   ]
  },
  {
   "cell_type": "markdown",
   "metadata": {},
   "source": [
    "We now list the functions we will call subsequently to process the data, clean it and also build models for it. "
   ]
  },
  {
   "cell_type": "markdown",
   "metadata": {},
   "source": [
    "# Preprocessing functions :"
   ]
  },
  {
   "cell_type": "code",
   "execution_count": 435,
   "metadata": {
    "collapsed": true
   },
   "outputs": [],
   "source": [
    "#Rename the columns so that they differ from those of A\n",
    "\n",
    "def add_ret(B):\n",
    "    t = []\n",
    "    for j in list(B.columns):\n",
    "        j = j + '_ret'    \n",
    "        t.append(j)\n",
    "    B.columns = t"
   ]
  },
  {
   "cell_type": "code",
   "execution_count": 436,
   "metadata": {
    "collapsed": true
   },
   "outputs": [],
   "source": [
    "#Function to correct missing values and outliers in a given entry of a column in a dataframe.\n",
    "\n",
    "def insert_mean(S,i):\n",
    "    S[i] = (S[i-1]+S[i+1])/2"
   ]
  },
  {
   "cell_type": "code",
   "execution_count": 437,
   "metadata": {
    "collapsed": true
   },
   "outputs": [],
   "source": [
    "\"\"\"Function checks for missing values and then fills them in.\"\"\"\n",
    "\n",
    "def rectify(df):\n",
    "    cols = list(df.columns)\n",
    "    for c in cols:\n",
    "         S = df[c]\n",
    "         nl = []\n",
    "         A = S.isnull()\n",
    "         for j in range(len(A)):\n",
    "              if A[j] == True:\n",
    "                nl.append(j)\n",
    "         for j in nl:\n",
    "             insert_mean(S,j)"
   ]
  },
  {
   "cell_type": "code",
   "execution_count": 438,
   "metadata": {
    "collapsed": true
   },
   "outputs": [],
   "source": [
    "\"\"\"check if series is random walk or not. Necessary since in \n",
    "many cases we are restricted to working with stationary series.\"\"\"\n",
    "def ad_fuller_test(S):\n",
    "    results = adfuller(S)\n",
    "    print(\"The p-value is \" + str(results[1]))"
   ]
  },
  {
   "cell_type": "code",
   "execution_count": 439,
   "metadata": {
    "collapsed": true
   },
   "outputs": [],
   "source": [
    "\"\"\"function to plot the cross correlation for stationary series X and Y.\"\"\"\n",
    "\n",
    "def CCF(X,Y,s1):\n",
    "    cross_corr = ccf(X,Y)\n",
    "    plt.plot(cross_corr[0:250])\n",
    "    plt.xlabel(s1)\n",
    "    plt.show()"
   ]
  },
  {
   "cell_type": "markdown",
   "metadata": {},
   "source": [
    "# Functions to build and test models :"
   ]
  },
  {
   "cell_type": "markdown",
   "metadata": {},
   "source": [
    "We begin by building ARIMA models to get a measure of how noisy the various series are. "
   ]
  },
  {
   "cell_type": "code",
   "execution_count": 532,
   "metadata": {
    "collapsed": true
   },
   "outputs": [],
   "source": [
    "\"\"\"The following function acts on a given time series and builds a ARIMA models at several parameter values.\n",
    "It then outputs the AIC and BIC scores. We use these scores to choose a suitable model at a later stage.\n",
    "In our case, we restrict our attention to just 5 ARIMA models and find that in some cases reasonable\n",
    "accuracy can be achieved with this.\"\"\"\n",
    "\n",
    "def ARIMA_fitting_AIC_BIC_list(A):\n",
    "    X = A.values\n",
    "    size = int(len(X)*0.80)\n",
    "    train = X[0:size]\n",
    "    test = X[size:len(X)]\n",
    "    AIC = []\n",
    "    BIC = []\n",
    "    for i in range(1,6):\n",
    "        model = ARIMA(train,order = (i,1,0))\n",
    "        model_fit = model.fit(disp=0)\n",
    "        AIC.append(model_fit.aic)\n",
    "        BIC.append(model_fit.bic)\n",
    "    print('The AIC list is ' )\n",
    "    print(AIC)\n",
    "    print('The BIC list is ')\n",
    "    print(BIC)"
   ]
  },
  {
   "cell_type": "code",
   "execution_count": 533,
   "metadata": {
    "collapsed": true
   },
   "outputs": [],
   "source": [
    "\"\"\"Given an ARIMA(p,d,q)-model, we test its predictive power by means of a rolling forecast. This function inputs \n",
    "a time series and the parameters of an ARIMA model and outputs a test series and predictions which the model makes.\"\"\"\n",
    "\n",
    "def ARIMA_rolling_forecast(A,p,d,q):\n",
    "    X = A.values\n",
    "    size = int(len(X)*0.80)\n",
    "    train = X[0:size]\n",
    "    test = X[size:len(X)]\n",
    "    history = [x for x in train]\n",
    "    predictions = list()\n",
    "    for t in range(len(test)):\n",
    "        model = ARIMA(history, order=(p,d,q))\n",
    "        model_fit = model.fit(disp=0)\n",
    "        output = model_fit.forecast()\n",
    "        yhat = output[0]\n",
    "        predictions.append(yhat)\n",
    "        obs = test[t]\n",
    "        history.append(obs)\n",
    "    return(test, predictions) "
   ]
  },
  {
   "cell_type": "code",
   "execution_count": 442,
   "metadata": {
    "collapsed": true
   },
   "outputs": [],
   "source": [
    "\"\"\"We plot the predictions from the rolling forecast.\"\"\"\n",
    "\n",
    "def plot_predictions(test,predictions):\n",
    "    plt.plot(predictions)\n",
    "    plt.plot(test)\n",
    "    plt.xlabel('Index of data point of test set')\n",
    "    plt.ylabel('price')\n",
    "    plt.legend()\n",
    "    plt.show()"
   ]
  },
  {
   "cell_type": "code",
   "execution_count": 443,
   "metadata": {
    "collapsed": true
   },
   "outputs": [],
   "source": [
    "\"\"\"Mean squared error calculation\"\"\"\n",
    "\n",
    "def MSE(test,predictions):\n",
    "    error = mean_squared_error(test,predictions)\n",
    "    return(error)\n",
    "    #print(error)"
   ]
  },
  {
   "cell_type": "code",
   "execution_count": 444,
   "metadata": {
    "collapsed": true
   },
   "outputs": [],
   "source": [
    "\"\"\"The mean squared error might be misleading in this case. We hence define the mean absolute scaled error. \n",
    "The MASE tells us how much better or worse the given model is when compared to the very naive model which predicts\n",
    "tomorrows value as todays value. An MASE which is greater than 1 implies that the model is worse than the naive model\n",
    "while an MASE which is less than 1 implies that the model is better.\"\"\"\n",
    "\n",
    "def MASE(test,predictions):\n",
    "    err = [test[j] - predictions[j] for j in range(len(test))]\n",
    "    #Naive error calculation : \n",
    "    T = len(test)\n",
    "    naive_error = 0\n",
    "    for j in range(1,T):\n",
    "        naive_error = naive_error + abs(test[j] - test[j-1])\n",
    "    naive_error = (1/(T-1))*naive_error \n",
    "    scaled_errors = [x*naive_error for x in err]\n",
    "    MASE = np.mean([abs(x) for x in scaled_errors])\n",
    "    #print(\"The mean absolute scaled error is \" + str(MASE))\n",
    "    return(MASE)"
   ]
  },
  {
   "cell_type": "markdown",
   "metadata": {},
   "source": [
    "We now build VAR models to make full use of the given data."
   ]
  },
  {
   "cell_type": "code",
   "execution_count": 445,
   "metadata": {
    "collapsed": true
   },
   "outputs": [],
   "source": [
    "\"\"\"Function inputs a dataframe and a list of columns, and outputs a list of AIC and BIC scores for VAR(p) models \n",
    "(where p is the lag parameter). The columns indicated must be stationary series.\"\"\" \n",
    "\n",
    "def selecting_model(df,l):\n",
    "    size = int(len(df)*0.7)\n",
    "    data = df[l][0:size]\n",
    "    model = VAR(data)\n",
    "    return(model.select_order(30))"
   ]
  },
  {
   "cell_type": "code",
   "execution_count": 502,
   "metadata": {
    "collapsed": true
   },
   "outputs": [],
   "source": [
    "\"\"\"We test our VAR model using a rolling forecast. The input data is df - a dataframe, a list of columns\n",
    "which are the set of variables of interest. The function outputs a test series and a prediction series.\n",
    "An important point to note is that VAR models can only work with stationary series.\"\"\"\n",
    "\n",
    "def VAR_rolling_forecast(df,l,p,split):\n",
    "    size = int(len(df)*split)\n",
    "    predictions = list()\n",
    "    test = []\n",
    "    while size <= len(df)-1:\n",
    "        data = df[0:size][l]\n",
    "        model = VAR(data)\n",
    "        model_fit = model.fit(p)\n",
    "        output = model_fit.forecast(data.values,1)\n",
    "        yhat = output[0][0]\n",
    "        predictions.append(yhat)\n",
    "        test.append(df[l[0]][size])\n",
    "        size = size + 1\n",
    "    return(test,predictions)"
   ]
  },
  {
   "cell_type": "code",
   "execution_count": 447,
   "metadata": {
    "collapsed": true
   },
   "outputs": [],
   "source": [
    "\"\"\"This is similar to the function above. We will use it when we build a model using multiple series as input data. \n",
    "For instance both A and B...In the function below, l is a list of column names, p is the lag parameter for the VAR model, h is the \n",
    "maximum amount of time in the future for which you wish to forecast, l1 is the list of columns which you \n",
    "wish to predict for. The output in this case are two dictionaries - one called test and the other called \n",
    "predictions.\"\"\"\n",
    "\n",
    "def VAR_rolling_forecast_general(df,l,p,l1,h):\n",
    "    size = int(len(df)*0.70)\n",
    "    predictions = {}\n",
    "    test = {}\n",
    "    for i in range(1,h+1):\n",
    "        for j in l1:\n",
    "            predictions[(j,i)] = []\n",
    "            test[(j,i)] = []\n",
    "    while size <= len(df)-h:\n",
    "          data = df[0:size][l]\n",
    "          model = VAR(data)\n",
    "          model_fit = model.fit(p)\n",
    "          output = model_fit.forecast(data.values,h)\n",
    "          for j in l1:\n",
    "            for i in range(1,h+1):\n",
    "                k = l.index(j)\n",
    "                yhat = output[i-1][k]\n",
    "                predictions[(j,i)].append(yhat)\n",
    "                test[(j,i)].append(df[j][size + i - 1])\n",
    "          size = size + 1\n",
    "    return(test,predictions)"
   ]
  },
  {
   "cell_type": "code",
   "execution_count": 314,
   "metadata": {
    "collapsed": true
   },
   "outputs": [],
   "source": [
    "\"\"\"Since the VAR model predicts the stationary returns series, we write a function\n",
    "that recovers predictions for the original series.\"\"\"\n",
    "\n",
    "def recover_asset_predictions(S,size,test,predictions):\n",
    "    test_adj = []\n",
    "    for j in range(size+1,len(S)):\n",
    "        test_adj.append(S[j])\n",
    "    predictions_adj = []\n",
    "    j = size\n",
    "    t = 0\n",
    "    while t <= len(predictions)-1 and j <= len(S)-1:\n",
    "        predictions_adj.append(S[j]*(predictions[t]+1))\n",
    "        t = t + 1\n",
    "        j = j + 1\n",
    "    return(test_adj,predictions_adj)"
   ]
  },
  {
   "cell_type": "markdown",
   "metadata": {},
   "source": [
    "# We predict the opening prices of asset A."
   ]
  },
  {
   "cell_type": "code",
   "execution_count": 707,
   "metadata": {},
   "outputs": [
    {
     "data": {
      "text/html": [
       "<div>\n",
       "<style>\n",
       "    .dataframe thead tr:only-child th {\n",
       "        text-align: right;\n",
       "    }\n",
       "\n",
       "    .dataframe thead th {\n",
       "        text-align: left;\n",
       "    }\n",
       "\n",
       "    .dataframe tbody tr th {\n",
       "        vertical-align: top;\n",
       "    }\n",
       "</style>\n",
       "<table border=\"1\" class=\"dataframe\">\n",
       "  <thead>\n",
       "    <tr style=\"text-align: right;\">\n",
       "      <th></th>\n",
       "      <th>cl_A</th>\n",
       "      <th>lo_A</th>\n",
       "      <th>se_A</th>\n",
       "      <th>volume_A</th>\n",
       "      <th>oi_A</th>\n",
       "      <th>hi_A</th>\n",
       "    </tr>\n",
       "  </thead>\n",
       "  <tbody>\n",
       "    <tr>\n",
       "      <th>count</th>\n",
       "      <td>7423.000000</td>\n",
       "      <td>7423.000000</td>\n",
       "      <td>7423.000000</td>\n",
       "      <td>7423.000000</td>\n",
       "      <td>7423.000000</td>\n",
       "      <td>7423.000000</td>\n",
       "    </tr>\n",
       "    <tr>\n",
       "      <th>mean</th>\n",
       "      <td>0.000112</td>\n",
       "      <td>0.000112</td>\n",
       "      <td>0.000112</td>\n",
       "      <td>inf</td>\n",
       "      <td>0.007094</td>\n",
       "      <td>0.000112</td>\n",
       "    </tr>\n",
       "    <tr>\n",
       "      <th>std</th>\n",
       "      <td>0.002599</td>\n",
       "      <td>0.002385</td>\n",
       "      <td>0.002519</td>\n",
       "      <td>NaN</td>\n",
       "      <td>0.391756</td>\n",
       "      <td>0.002468</td>\n",
       "    </tr>\n",
       "    <tr>\n",
       "      <th>min</th>\n",
       "      <td>-0.017423</td>\n",
       "      <td>-0.017679</td>\n",
       "      <td>-0.019006</td>\n",
       "      <td>-1.000000</td>\n",
       "      <td>-0.971345</td>\n",
       "      <td>-0.016938</td>\n",
       "    </tr>\n",
       "    <tr>\n",
       "      <th>25%</th>\n",
       "      <td>-0.001341</td>\n",
       "      <td>-0.001093</td>\n",
       "      <td>-0.001258</td>\n",
       "      <td>-0.231088</td>\n",
       "      <td>-0.009297</td>\n",
       "      <td>-0.001113</td>\n",
       "    </tr>\n",
       "    <tr>\n",
       "      <th>50%</th>\n",
       "      <td>0.000141</td>\n",
       "      <td>0.000146</td>\n",
       "      <td>0.000128</td>\n",
       "      <td>0.002941</td>\n",
       "      <td>0.001130</td>\n",
       "      <td>0.000063</td>\n",
       "    </tr>\n",
       "    <tr>\n",
       "      <th>75%</th>\n",
       "      <td>0.001582</td>\n",
       "      <td>0.001363</td>\n",
       "      <td>0.001529</td>\n",
       "      <td>0.309608</td>\n",
       "      <td>0.013352</td>\n",
       "      <td>0.001366</td>\n",
       "    </tr>\n",
       "    <tr>\n",
       "      <th>max</th>\n",
       "      <td>0.018204</td>\n",
       "      <td>0.015206</td>\n",
       "      <td>0.019735</td>\n",
       "      <td>inf</td>\n",
       "      <td>33.385878</td>\n",
       "      <td>0.019126</td>\n",
       "    </tr>\n",
       "  </tbody>\n",
       "</table>\n",
       "</div>"
      ],
      "text/plain": [
       "              cl_A         lo_A         se_A     volume_A         oi_A  \\\n",
       "count  7423.000000  7423.000000  7423.000000  7423.000000  7423.000000   \n",
       "mean      0.000112     0.000112     0.000112          inf     0.007094   \n",
       "std       0.002599     0.002385     0.002519          NaN     0.391756   \n",
       "min      -0.017423    -0.017679    -0.019006    -1.000000    -0.971345   \n",
       "25%      -0.001341    -0.001093    -0.001258    -0.231088    -0.009297   \n",
       "50%       0.000141     0.000146     0.000128     0.002941     0.001130   \n",
       "75%       0.001582     0.001363     0.001529     0.309608     0.013352   \n",
       "max       0.018204     0.015206     0.019735          inf    33.385878   \n",
       "\n",
       "              hi_A  \n",
       "count  7423.000000  \n",
       "mean      0.000112  \n",
       "std       0.002468  \n",
       "min      -0.016938  \n",
       "25%      -0.001113  \n",
       "50%       0.000063  \n",
       "75%       0.001366  \n",
       "max       0.019126  "
      ]
     },
     "execution_count": 707,
     "metadata": {},
     "output_type": "execute_result"
    }
   ],
   "source": [
    "A_ret.describe()"
   ]
  },
  {
   "cell_type": "markdown",
   "metadata": {},
   "source": [
    "Observe that the summary statistics for the columns volume_A_ret and oi_A_ret present certain missing information. \n",
    "We correct this by making changes to the original dataframe."
   ]
  },
  {
   "cell_type": "code",
   "execution_count": 708,
   "metadata": {
    "collapsed": true
   },
   "outputs": [],
   "source": [
    "mean_volume_A = A['volume_A'].mean()\n",
    "A['volume_A']= A.volume_A.mask(A.volume_A == 0,mean_volume_A)\n",
    "mean_oi_A = A['oi_A'].mean()\n",
    "A['oi_A']= A.oi_A.mask(A.oi_A == 0,mean_oi_A)"
   ]
  },
  {
   "cell_type": "code",
   "execution_count": 709,
   "metadata": {
    "collapsed": true
   },
   "outputs": [],
   "source": [
    "\"\"\"Since we have changed the dataframe A, we redefine A_ret\"\"\"\n",
    "A_ret = A.copy()\n",
    "del(A_ret['date'])\n",
    "A_ret = A_ret.pct_change()\n",
    "A_ret = A_ret.dropna(axis = 0)"
   ]
  },
  {
   "cell_type": "code",
   "execution_count": 710,
   "metadata": {
    "collapsed": true
   },
   "outputs": [],
   "source": [
    "add_ret(A_ret)"
   ]
  },
  {
   "cell_type": "code",
   "execution_count": 711,
   "metadata": {},
   "outputs": [
    {
     "data": {
      "text/html": [
       "<div>\n",
       "<style>\n",
       "    .dataframe thead tr:only-child th {\n",
       "        text-align: right;\n",
       "    }\n",
       "\n",
       "    .dataframe thead th {\n",
       "        text-align: left;\n",
       "    }\n",
       "\n",
       "    .dataframe tbody tr th {\n",
       "        vertical-align: top;\n",
       "    }\n",
       "</style>\n",
       "<table border=\"1\" class=\"dataframe\">\n",
       "  <thead>\n",
       "    <tr style=\"text-align: right;\">\n",
       "      <th></th>\n",
       "      <th>cl_A_ret</th>\n",
       "      <th>lo_A_ret</th>\n",
       "      <th>se_A_ret</th>\n",
       "      <th>volume_A_ret</th>\n",
       "      <th>oi_A_ret</th>\n",
       "      <th>hi_A_ret</th>\n",
       "    </tr>\n",
       "  </thead>\n",
       "  <tbody>\n",
       "    <tr>\n",
       "      <th>count</th>\n",
       "      <td>7423.000000</td>\n",
       "      <td>7423.000000</td>\n",
       "      <td>7423.000000</td>\n",
       "      <td>7423.000000</td>\n",
       "      <td>7423.000000</td>\n",
       "      <td>7423.000000</td>\n",
       "    </tr>\n",
       "    <tr>\n",
       "      <th>mean</th>\n",
       "      <td>0.000112</td>\n",
       "      <td>0.000112</td>\n",
       "      <td>0.000112</td>\n",
       "      <td>9.495339</td>\n",
       "      <td>0.007094</td>\n",
       "      <td>0.000112</td>\n",
       "    </tr>\n",
       "    <tr>\n",
       "      <th>std</th>\n",
       "      <td>0.002599</td>\n",
       "      <td>0.002385</td>\n",
       "      <td>0.002519</td>\n",
       "      <td>803.208829</td>\n",
       "      <td>0.391756</td>\n",
       "      <td>0.002468</td>\n",
       "    </tr>\n",
       "    <tr>\n",
       "      <th>min</th>\n",
       "      <td>-0.017423</td>\n",
       "      <td>-0.017679</td>\n",
       "      <td>-0.019006</td>\n",
       "      <td>-0.999949</td>\n",
       "      <td>-0.971345</td>\n",
       "      <td>-0.016938</td>\n",
       "    </tr>\n",
       "    <tr>\n",
       "      <th>25%</th>\n",
       "      <td>-0.001341</td>\n",
       "      <td>-0.001093</td>\n",
       "      <td>-0.001258</td>\n",
       "      <td>-0.231088</td>\n",
       "      <td>-0.009297</td>\n",
       "      <td>-0.001113</td>\n",
       "    </tr>\n",
       "    <tr>\n",
       "      <th>50%</th>\n",
       "      <td>0.000141</td>\n",
       "      <td>0.000146</td>\n",
       "      <td>0.000128</td>\n",
       "      <td>0.002941</td>\n",
       "      <td>0.001130</td>\n",
       "      <td>0.000063</td>\n",
       "    </tr>\n",
       "    <tr>\n",
       "      <th>75%</th>\n",
       "      <td>0.001582</td>\n",
       "      <td>0.001363</td>\n",
       "      <td>0.001529</td>\n",
       "      <td>0.309608</td>\n",
       "      <td>0.013352</td>\n",
       "      <td>0.001366</td>\n",
       "    </tr>\n",
       "    <tr>\n",
       "      <th>max</th>\n",
       "      <td>0.018204</td>\n",
       "      <td>0.015206</td>\n",
       "      <td>0.019735</td>\n",
       "      <td>69202.000000</td>\n",
       "      <td>33.385878</td>\n",
       "      <td>0.019126</td>\n",
       "    </tr>\n",
       "  </tbody>\n",
       "</table>\n",
       "</div>"
      ],
      "text/plain": [
       "          cl_A_ret     lo_A_ret     se_A_ret  volume_A_ret     oi_A_ret  \\\n",
       "count  7423.000000  7423.000000  7423.000000   7423.000000  7423.000000   \n",
       "mean      0.000112     0.000112     0.000112      9.495339     0.007094   \n",
       "std       0.002599     0.002385     0.002519    803.208829     0.391756   \n",
       "min      -0.017423    -0.017679    -0.019006     -0.999949    -0.971345   \n",
       "25%      -0.001341    -0.001093    -0.001258     -0.231088    -0.009297   \n",
       "50%       0.000141     0.000146     0.000128      0.002941     0.001130   \n",
       "75%       0.001582     0.001363     0.001529      0.309608     0.013352   \n",
       "max       0.018204     0.015206     0.019735  69202.000000    33.385878   \n",
       "\n",
       "          hi_A_ret  \n",
       "count  7423.000000  \n",
       "mean      0.000112  \n",
       "std       0.002468  \n",
       "min      -0.016938  \n",
       "25%      -0.001113  \n",
       "50%       0.000063  \n",
       "75%       0.001366  \n",
       "max       0.019126  "
      ]
     },
     "execution_count": 711,
     "metadata": {},
     "output_type": "execute_result"
    }
   ],
   "source": [
    "A_ret.describe()"
   ]
  },
  {
   "cell_type": "markdown",
   "metadata": {},
   "source": [
    "We observe that the standard deviation of the feature volume_B is \n",
    "larger than the other features. "
   ]
  },
  {
   "cell_type": "code",
   "execution_count": 712,
   "metadata": {},
   "outputs": [
    {
     "data": {
      "image/png": "[encoded data removed]",
      "text/plain": [
       "<matplotlib.figure.Figure at 0x1c1390e208>"
      ]
     },
     "metadata": {},
     "output_type": "display_data"
    }
   ],
   "source": [
    "plt.plot(A_ret['volume_A_ret'])\n",
    "plt.show()"
   ]
  },
  {
   "cell_type": "markdown",
   "metadata": {},
   "source": [
    "We observe certain anomalies in the volume data and try to identify the precise points at which these anomalies occurred. "
   ]
  },
  {
   "cell_type": "code",
   "execution_count": 713,
   "metadata": {},
   "outputs": [
    {
     "name": "stdout",
     "output_type": "stream",
     "text": [
      "[2923]\n"
     ]
    }
   ],
   "source": [
    "outliersA = []\n",
    "for j in range(len(A_ret)):\n",
    "    if A_ret['volume_A_ret'][j] > 100:\n",
    "        outliersA.append(j)\n",
    "print(outliersA) "
   ]
  },
  {
   "cell_type": "markdown",
   "metadata": {},
   "source": [
    "We alter the volume data at the index 2923 as it is an extreme outlier and\n",
    "replace it with the values of the mean and the volume changes of the days before and after."
   ]
  },
  {
   "cell_type": "code",
   "execution_count": 714,
   "metadata": {
    "collapsed": true
   },
   "outputs": [],
   "source": [
    "for j in outliersA:\n",
    "    A_ret['volume_A_ret'][j] = A_ret['volume_A_ret'].mean()"
   ]
  },
  {
   "cell_type": "code",
   "execution_count": 715,
   "metadata": {},
   "outputs": [
    {
     "data": {
      "text/html": [
       "<div>\n",
       "<style>\n",
       "    .dataframe thead tr:only-child th {\n",
       "        text-align: right;\n",
       "    }\n",
       "\n",
       "    .dataframe thead th {\n",
       "        text-align: left;\n",
       "    }\n",
       "\n",
       "    .dataframe tbody tr th {\n",
       "        vertical-align: top;\n",
       "    }\n",
       "</style>\n",
       "<table border=\"1\" class=\"dataframe\">\n",
       "  <thead>\n",
       "    <tr style=\"text-align: right;\">\n",
       "      <th></th>\n",
       "      <th>cl_A_ret</th>\n",
       "      <th>lo_A_ret</th>\n",
       "      <th>se_A_ret</th>\n",
       "      <th>volume_A_ret</th>\n",
       "      <th>oi_A_ret</th>\n",
       "      <th>hi_A_ret</th>\n",
       "    </tr>\n",
       "  </thead>\n",
       "  <tbody>\n",
       "    <tr>\n",
       "      <th>count</th>\n",
       "      <td>7423.000000</td>\n",
       "      <td>7423.000000</td>\n",
       "      <td>7423.000000</td>\n",
       "      <td>7423.000000</td>\n",
       "      <td>7423.000000</td>\n",
       "      <td>7423.000000</td>\n",
       "    </tr>\n",
       "    <tr>\n",
       "      <th>mean</th>\n",
       "      <td>0.000112</td>\n",
       "      <td>0.000112</td>\n",
       "      <td>0.000112</td>\n",
       "      <td>0.173972</td>\n",
       "      <td>0.007094</td>\n",
       "      <td>0.000112</td>\n",
       "    </tr>\n",
       "    <tr>\n",
       "      <th>std</th>\n",
       "      <td>0.002599</td>\n",
       "      <td>0.002385</td>\n",
       "      <td>0.002519</td>\n",
       "      <td>1.384731</td>\n",
       "      <td>0.391756</td>\n",
       "      <td>0.002468</td>\n",
       "    </tr>\n",
       "    <tr>\n",
       "      <th>min</th>\n",
       "      <td>-0.017423</td>\n",
       "      <td>-0.017679</td>\n",
       "      <td>-0.019006</td>\n",
       "      <td>-0.999949</td>\n",
       "      <td>-0.971345</td>\n",
       "      <td>-0.016938</td>\n",
       "    </tr>\n",
       "    <tr>\n",
       "      <th>25%</th>\n",
       "      <td>-0.001341</td>\n",
       "      <td>-0.001093</td>\n",
       "      <td>-0.001258</td>\n",
       "      <td>-0.231088</td>\n",
       "      <td>-0.009297</td>\n",
       "      <td>-0.001113</td>\n",
       "    </tr>\n",
       "    <tr>\n",
       "      <th>50%</th>\n",
       "      <td>0.000141</td>\n",
       "      <td>0.000146</td>\n",
       "      <td>0.000128</td>\n",
       "      <td>0.002941</td>\n",
       "      <td>0.001130</td>\n",
       "      <td>0.000063</td>\n",
       "    </tr>\n",
       "    <tr>\n",
       "      <th>75%</th>\n",
       "      <td>0.001582</td>\n",
       "      <td>0.001363</td>\n",
       "      <td>0.001529</td>\n",
       "      <td>0.309608</td>\n",
       "      <td>0.013352</td>\n",
       "      <td>0.001366</td>\n",
       "    </tr>\n",
       "    <tr>\n",
       "      <th>max</th>\n",
       "      <td>0.018204</td>\n",
       "      <td>0.015206</td>\n",
       "      <td>0.019735</td>\n",
       "      <td>59.771923</td>\n",
       "      <td>33.385878</td>\n",
       "      <td>0.019126</td>\n",
       "    </tr>\n",
       "  </tbody>\n",
       "</table>\n",
       "</div>"
      ],
      "text/plain": [
       "          cl_A_ret     lo_A_ret     se_A_ret  volume_A_ret     oi_A_ret  \\\n",
       "count  7423.000000  7423.000000  7423.000000   7423.000000  7423.000000   \n",
       "mean      0.000112     0.000112     0.000112      0.173972     0.007094   \n",
       "std       0.002599     0.002385     0.002519      1.384731     0.391756   \n",
       "min      -0.017423    -0.017679    -0.019006     -0.999949    -0.971345   \n",
       "25%      -0.001341    -0.001093    -0.001258     -0.231088    -0.009297   \n",
       "50%       0.000141     0.000146     0.000128      0.002941     0.001130   \n",
       "75%       0.001582     0.001363     0.001529      0.309608     0.013352   \n",
       "max       0.018204     0.015206     0.019735     59.771923    33.385878   \n",
       "\n",
       "          hi_A_ret  \n",
       "count  7423.000000  \n",
       "mean      0.000112  \n",
       "std       0.002468  \n",
       "min      -0.016938  \n",
       "25%      -0.001113  \n",
       "50%       0.000063  \n",
       "75%       0.001366  \n",
       "max       0.019126  "
      ]
     },
     "execution_count": 715,
     "metadata": {},
     "output_type": "execute_result"
    }
   ],
   "source": [
    "A_ret.describe()"
   ]
  },
  {
   "cell_type": "markdown",
   "metadata": {},
   "source": [
    "We plot the autocorrelation function for the returns series - A_ret"
   ]
  },
  {
   "cell_type": "code",
   "execution_count": 716,
   "metadata": {},
   "outputs": [
    {
     "data": {
      "image/png": "[encoded data removed]",
      "text/plain": [
       "<matplotlib.figure.Figure at 0x1c13a7be10>"
      ]
     },
     "execution_count": 716,
     "metadata": {},
     "output_type": "execute_result"
    }
   ],
   "source": [
    "plot_acf(A_ret['cl_A_ret'],lags = 60,alpha = 0.5)"
   ]
  },
  {
   "cell_type": "markdown",
   "metadata": {},
   "source": [
    "It looks like the series is a white noise process because we do not see any non trivial auto correlations beyond lag 0. \n",
    "\n",
    "We make test quickly if this observation is accurate using the Dicky-Fuller test on the series A_ret. "
   ]
  },
  {
   "cell_type": "code",
   "execution_count": 717,
   "metadata": {},
   "outputs": [
    {
     "name": "stdout",
     "output_type": "stream",
     "text": [
      "The p-value is 0.950321143027\n"
     ]
    }
   ],
   "source": [
    "ad_fuller_test(A['cl_A'])"
   ]
  },
  {
   "cell_type": "markdown",
   "metadata": {},
   "source": [
    "The test implies that A is a random walk. "
   ]
  },
  {
   "cell_type": "markdown",
   "metadata": {},
   "source": [
    "We fit ARIMA(p,d,q) models to predict the opening price of the asset A given its previous opening prices. \n",
    "\n",
    "We begin by finding the most suitable p,d and q using the AIC and BIC scores. "
   ]
  },
  {
   "cell_type": "code",
   "execution_count": 718,
   "metadata": {},
   "outputs": [
    {
     "name": "stdout",
     "output_type": "stream",
     "text": [
      "The AIC list is \n",
      "[6367.204734102899, 6352.779344174587, 6354.529740009555, 6355.675267806924, 6355.755810134089]\n",
      "The BIC list is \n",
      "[6387.2721170688701, 6379.5358547958822, 6387.9753782861735, 6395.8100337388669, 6402.5797037213551]\n"
     ]
    }
   ],
   "source": [
    "ARIMA_fitting_AIC_BIC_list(A['cl_A'])"
   ]
  },
  {
   "cell_type": "markdown",
   "metadata": {},
   "source": [
    "The AIC and BIC scores tell us that a ARIMA(2,1,0) is a reasonable choice to make. We compute the MSE of the ARIMA(2,1,0) model as follows and find that on average the model has an error of 0.2024 using a Rolling forecast. "
   ]
  },
  {
   "cell_type": "markdown",
   "metadata": {},
   "source": [
    "Rolling forecast error calculation :"
   ]
  },
  {
   "cell_type": "code",
   "execution_count": 576,
   "metadata": {},
   "outputs": [
    {
     "name": "stderr",
     "output_type": "stream",
     "text": [
      "/Users/Welliareetil/anaconda3/lib/python3.6/site-packages/statsmodels/base/model.py:496: ConvergenceWarning: Maximum Likelihood optimization failed to converge. Check mle_retvals\n",
      "  \"Check mle_retvals\", ConvergenceWarning)\n",
      "/Users/Welliareetil/anaconda3/lib/python3.6/site-packages/statsmodels/base/model.py:496: ConvergenceWarning: Maximum Likelihood optimization failed to converge. Check mle_retvals\n",
      "  \"Check mle_retvals\", ConvergenceWarning)\n",
      "/Users/Welliareetil/anaconda3/lib/python3.6/site-packages/statsmodels/base/model.py:496: ConvergenceWarning: Maximum Likelihood optimization failed to converge. Check mle_retvals\n",
      "  \"Check mle_retvals\", ConvergenceWarning)\n"
     ]
    }
   ],
   "source": [
    "testA,predictions_A210 = ARIMA_rolling_forecast(A['cl_A'],2,1,0)"
   ]
  },
  {
   "cell_type": "markdown",
   "metadata": {},
   "source": [
    "We see in the graph below that the predictions follow the test data almost perfectly. "
   ]
  },
  {
   "cell_type": "code",
   "execution_count": 578,
   "metadata": {},
   "outputs": [
    {
     "data": {
      "image/png": "[encoded data removed]",
      "text/plain": [
       "<matplotlib.figure.Figure at 0x1c1ce35b70>"
      ]
     },
     "metadata": {},
     "output_type": "display_data"
    }
   ],
   "source": [
    "plot_predictions(testA,predictions_A210)"
   ]
  },
  {
   "cell_type": "code",
   "execution_count": 579,
   "metadata": {},
   "outputs": [
    {
     "data": {
      "text/plain": [
       "0.15339644446267098"
      ]
     },
     "execution_count": 579,
     "metadata": {},
     "output_type": "execute_result"
    }
   ],
   "source": [
    "MSE(testA,predictions_A210)"
   ]
  },
  {
   "cell_type": "markdown",
   "metadata": {},
   "source": [
    "We calculate the mean absolute scaled error so as to be able to compare the models for the different series. "
   ]
  },
  {
   "cell_type": "code",
   "execution_count": 580,
   "metadata": {},
   "outputs": [
    {
     "data": {
      "text/plain": [
       "0.08774708815758811"
      ]
     },
     "execution_count": 580,
     "metadata": {},
     "output_type": "execute_result"
    }
   ],
   "source": [
    "MASE(testA,predictions_A210)"
   ]
  },
  {
   "cell_type": "markdown",
   "metadata": {},
   "source": [
    "We also test an ARIMA(5,1,0) model."
   ]
  },
  {
   "cell_type": "code",
   "execution_count": 51,
   "metadata": {},
   "outputs": [
    {
     "name": "stderr",
     "output_type": "stream",
     "text": [
      "/Users/Welliareetil/anaconda3/lib/python3.6/site-packages/statsmodels/base/model.py:496: ConvergenceWarning: Maximum Likelihood optimization failed to converge. Check mle_retvals\n",
      "  \"Check mle_retvals\", ConvergenceWarning)\n"
     ]
    }
   ],
   "source": [
    "testA,predictions_A510 = ARIMA_rolling_forecast(A['op_A'],5,1,0)  "
   ]
  },
  {
   "cell_type": "code",
   "execution_count": 54,
   "metadata": {},
   "outputs": [
    {
     "name": "stdout",
     "output_type": "stream",
     "text": [
      "0.203271100825\n"
     ]
    }
   ],
   "source": [
    "MSE(testA,predictions_A510)"
   ]
  },
  {
   "cell_type": "code",
   "execution_count": 55,
   "metadata": {},
   "outputs": [
    {
     "name": "stdout",
     "output_type": "stream",
     "text": [
      "The mean absolute scaled error is 0.11575193168\n"
     ]
    }
   ],
   "source": [
    "MASE(testA,predictions_A510)"
   ]
  },
  {
   "cell_type": "markdown",
   "metadata": {},
   "source": [
    "# VAR models for closing price of asset A"
   ]
  },
  {
   "cell_type": "markdown",
   "metadata": {},
   "source": [
    "We begin by selecting a suitable model for prediction. We do so in two ways. Firstly, \n",
    "by selecting according to the BIC score. "
   ]
  },
  {
   "cell_type": "code",
   "execution_count": 568,
   "metadata": {},
   "outputs": [
    {
     "name": "stdout",
     "output_type": "stream",
     "text": [
      "                 VAR Order Selection                  \n",
      "======================================================\n",
      "            aic          bic          fpe         hqic\n",
      "------------------------------------------------------\n",
      "0        -50.72       -50.71    9.410e-23       -50.71\n",
      "1        -52.42       -52.37    1.716e-23       -52.40\n",
      "2        -52.84       -52.74    1.128e-23       -52.80\n",
      "3        -53.07       -52.92    8.979e-24       -53.02\n",
      "4        -53.20       -53.01    7.828e-24       -53.14\n",
      "5        -53.28       -53.04    7.257e-24       -53.20\n",
      "6        -53.35       -53.07    6.783e-24       -53.25\n",
      "7        -53.39      -53.07*    6.479e-24       -53.28\n",
      "8        -53.43       -53.06    6.248e-24       -53.30\n",
      "9        -53.46       -53.04    6.067e-24       -53.31\n",
      "10       -53.48       -53.02    5.918e-24      -53.32*\n",
      "11       -53.49       -52.98    5.869e-24       -53.31\n",
      "12       -53.50       -52.95    5.819e-24       -53.31\n",
      "13       -53.52       -52.92    5.727e-24       -53.31\n",
      "14       -53.52       -52.87    5.716e-24       -53.29\n",
      "15       -53.52       -52.83    5.717e-24       -53.28\n",
      "16       -53.53       -52.79    5.678e-24       -53.27\n",
      "17       -53.53       -52.74    5.672e-24       -53.25\n",
      "18      -53.53*       -52.70   5.636e-24*       -53.24\n",
      "19       -53.53       -52.65    5.670e-24       -53.22\n",
      "20       -53.52       -52.60    5.689e-24       -53.20\n",
      "21       -53.52       -52.56    5.690e-24       -53.19\n",
      "22       -53.52       -52.51    5.706e-24       -53.17\n",
      "23       -53.52       -52.47    5.695e-24       -53.15\n",
      "24       -53.52       -52.42    5.711e-24       -53.13\n",
      "25       -53.51       -52.36    5.750e-24       -53.11\n",
      "26       -53.51       -52.31    5.778e-24       -53.09\n",
      "27       -53.50       -52.26    5.819e-24       -53.07\n",
      "28       -53.50       -52.21    5.832e-24       -53.05\n",
      "29       -53.49       -52.16    5.861e-24       -53.03\n",
      "30       -53.49       -52.12    5.867e-24       -53.01\n",
      "======================================================\n",
      "* Minimum\n",
      "\n"
     ]
    },
    {
     "data": {
      "text/plain": [
       "{'aic': 18, 'bic': 7, 'fpe': 18, 'hqic': 10}"
      ]
     },
     "execution_count": 568,
     "metadata": {},
     "output_type": "execute_result"
    }
   ],
   "source": [
    "selecting_model(A_ret,['cl_A_ret','hi_A_ret', 'lo_A_ret', 'se_A_ret', 'volume_A_ret', 'oi_A_ret'])"
   ]
  },
  {
   "cell_type": "markdown",
   "metadata": {},
   "source": [
    "We now write a function that tests the model using a rolling forecast for the given data. \n",
    "\n",
    "** Make sure the date column has already been removed.\n",
    "\n",
    "** Make sure the first element of the list l is the column 'cl_A_ret'"
   ]
  },
  {
   "cell_type": "code",
   "execution_count": 570,
   "metadata": {
    "collapsed": true
   },
   "outputs": [],
   "source": [
    "l = ['cl_A_ret','hi_A_ret', 'lo_A_ret', 'se_A_ret', 'volume_A_ret', 'oi_A_ret']\n",
    "test, predictions = VAR_rolling_forecast(A_ret,l,7,split = 0.8)"
   ]
  },
  {
   "cell_type": "code",
   "execution_count": 571,
   "metadata": {
    "collapsed": true
   },
   "outputs": [],
   "source": [
    "size = int(len(A_ret)*0.8)\n",
    "test,predictions = recover_asset_predictions(A['cl_A'],size,testB,predictions)"
   ]
  },
  {
   "cell_type": "code",
   "execution_count": 573,
   "metadata": {},
   "outputs": [
    {
     "data": {
      "text/plain": [
       "0.15416406067127819"
      ]
     },
     "execution_count": 573,
     "metadata": {},
     "output_type": "execute_result"
    }
   ],
   "source": [
    "MSE(test,predictions)"
   ]
  },
  {
   "cell_type": "code",
   "execution_count": 575,
   "metadata": {},
   "outputs": [
    {
     "data": {
      "text/plain": [
       "0.087949125851187901"
      ]
     },
     "execution_count": 575,
     "metadata": {},
     "output_type": "execute_result"
    }
   ],
   "source": [
    "MASE(test,predictions)"
   ]
  },
  {
   "cell_type": "markdown",
   "metadata": {},
   "source": [
    "We observe that we don't beat the previous  use another approach when tuning the hyper-parameter p. We split into three segments [0:a], [a+1:b] and [b+1:]. For a given p, \n",
    "we fit a VAR(p) on the data in the segment [0:a] and then test this on [a+1:b]. We then choose the best \n",
    "such p and test on [b+1:]. We choose 'a' so that the segment [0:a] represents roughly 64% of the data, and we choose \n",
    "'b' so that [b+1,:] contains approximates 20% of the data. "
   ]
  },
  {
   "cell_type": "code",
   "execution_count": 581,
   "metadata": {
    "collapsed": true
   },
   "outputs": [],
   "source": [
    "MASE_list = []\n",
    "MSE_list = []\n",
    "for p in range(1,4):\n",
    "    size1 = int(len(A_ret)*.8)\n",
    "    test, predictions = VAR_rolling_forecast(A_ret[0:size1],l,p,0.8) \n",
    "    size = int(len(A_ret[0:size1])*0.80)\n",
    "    test,predictions = recover_asset_predictions(A[0:size1+1]['cl_A'],size,test,predictions) \n",
    "    MSE_list.append(MSE(test,predictions))\n",
    "    MASE_list.append(MASE(test,predictions))"
   ]
  },
  {
   "cell_type": "code",
   "execution_count": 584,
   "metadata": {},
   "outputs": [
    {
     "data": {
      "text/plain": [
       "[0.3605325267243199, 0.35923642497468405, 0.36041877053542021]"
      ]
     },
     "execution_count": 584,
     "metadata": {},
     "output_type": "execute_result"
    }
   ],
   "source": [
    "MSE_list"
   ]
  },
  {
   "cell_type": "code",
   "execution_count": 583,
   "metadata": {},
   "outputs": [
    {
     "data": {
      "text/plain": [
       "[0.21699166341255446, 0.21693982774488732, 0.21704050599187497]"
      ]
     },
     "execution_count": 583,
     "metadata": {},
     "output_type": "execute_result"
    }
   ],
   "source": [
    "MASE_list"
   ]
  },
  {
   "cell_type": "code",
   "execution_count": 586,
   "metadata": {},
   "outputs": [
    {
     "name": "stdout",
     "output_type": "stream",
     "text": [
      "The MSE is 0.15317573829\n",
      "The MASE is 0.087673787349\n"
     ]
    }
   ],
   "source": [
    "test, predictions = VAR_rolling_forecast(A_ret,l,2,0.8) \n",
    "size = int(len(A_ret)*0.80)\n",
    "test,predictions = recover_asset_predictions(A['cl_A'],size,test,predictions) \n",
    "print(\"The MSE is \" + str(MSE(test,predictions)))\n",
    "print(\"The MASE is \" + str(MASE(test,predictions)))"
   ]
  },
  {
   "cell_type": "markdown",
   "metadata": {},
   "source": [
    "# We predict the closing price of asset B"
   ]
  },
  {
   "cell_type": "markdown",
   "metadata": {},
   "source": [
    "We will study the returns dataframe associated to the asset B. Before doing so,\n",
    "we make minor adjustments to the dataframe B to rectify issues with the column\n",
    "volume_B_ret as seen below. "
   ]
  },
  {
   "cell_type": "code",
   "execution_count": 719,
   "metadata": {},
   "outputs": [
    {
     "data": {
      "text/html": [
       "<div>\n",
       "<style>\n",
       "    .dataframe thead tr:only-child th {\n",
       "        text-align: right;\n",
       "    }\n",
       "\n",
       "    .dataframe thead th {\n",
       "        text-align: left;\n",
       "    }\n",
       "\n",
       "    .dataframe tbody tr th {\n",
       "        vertical-align: top;\n",
       "    }\n",
       "</style>\n",
       "<table border=\"1\" class=\"dataframe\">\n",
       "  <thead>\n",
       "    <tr style=\"text-align: right;\">\n",
       "      <th></th>\n",
       "      <th>cl_B</th>\n",
       "      <th>lo_B</th>\n",
       "      <th>se_B</th>\n",
       "      <th>volume_B</th>\n",
       "      <th>oi_B</th>\n",
       "      <th>hi_B</th>\n",
       "    </tr>\n",
       "  </thead>\n",
       "  <tbody>\n",
       "    <tr>\n",
       "      <th>count</th>\n",
       "      <td>8957.000000</td>\n",
       "      <td>8957.000000</td>\n",
       "      <td>8957.000000</td>\n",
       "      <td>8957.000000</td>\n",
       "      <td>8957.000000</td>\n",
       "      <td>8957.000000</td>\n",
       "    </tr>\n",
       "    <tr>\n",
       "      <th>mean</th>\n",
       "      <td>0.000188</td>\n",
       "      <td>0.000187</td>\n",
       "      <td>0.000187</td>\n",
       "      <td>inf</td>\n",
       "      <td>0.020019</td>\n",
       "      <td>0.000186</td>\n",
       "    </tr>\n",
       "    <tr>\n",
       "      <th>std</th>\n",
       "      <td>0.004550</td>\n",
       "      <td>0.003997</td>\n",
       "      <td>0.004231</td>\n",
       "      <td>NaN</td>\n",
       "      <td>1.625826</td>\n",
       "      <td>0.004039</td>\n",
       "    </tr>\n",
       "    <tr>\n",
       "      <th>min</th>\n",
       "      <td>-0.030137</td>\n",
       "      <td>-0.025499</td>\n",
       "      <td>-0.024001</td>\n",
       "      <td>-1.000000</td>\n",
       "      <td>-0.992675</td>\n",
       "      <td>-0.022499</td>\n",
       "    </tr>\n",
       "    <tr>\n",
       "      <th>25%</th>\n",
       "      <td>-0.002288</td>\n",
       "      <td>-0.001829</td>\n",
       "      <td>-0.002102</td>\n",
       "      <td>-0.225134</td>\n",
       "      <td>-0.010818</td>\n",
       "      <td>-0.001830</td>\n",
       "    </tr>\n",
       "    <tr>\n",
       "      <th>50%</th>\n",
       "      <td>0.000126</td>\n",
       "      <td>0.000276</td>\n",
       "      <td>0.000150</td>\n",
       "      <td>0.004957</td>\n",
       "      <td>0.001439</td>\n",
       "      <td>0.000118</td>\n",
       "    </tr>\n",
       "    <tr>\n",
       "      <th>75%</th>\n",
       "      <td>0.002668</td>\n",
       "      <td>0.002230</td>\n",
       "      <td>0.002513</td>\n",
       "      <td>0.303968</td>\n",
       "      <td>0.014950</td>\n",
       "      <td>0.002216</td>\n",
       "    </tr>\n",
       "    <tr>\n",
       "      <th>max</th>\n",
       "      <td>0.044639</td>\n",
       "      <td>0.042678</td>\n",
       "      <td>0.036305</td>\n",
       "      <td>inf</td>\n",
       "      <td>153.604520</td>\n",
       "      <td>0.035004</td>\n",
       "    </tr>\n",
       "  </tbody>\n",
       "</table>\n",
       "</div>"
      ],
      "text/plain": [
       "              cl_B         lo_B         se_B     volume_B         oi_B  \\\n",
       "count  8957.000000  8957.000000  8957.000000  8957.000000  8957.000000   \n",
       "mean      0.000188     0.000187     0.000187          inf     0.020019   \n",
       "std       0.004550     0.003997     0.004231          NaN     1.625826   \n",
       "min      -0.030137    -0.025499    -0.024001    -1.000000    -0.992675   \n",
       "25%      -0.002288    -0.001829    -0.002102    -0.225134    -0.010818   \n",
       "50%       0.000126     0.000276     0.000150     0.004957     0.001439   \n",
       "75%       0.002668     0.002230     0.002513     0.303968     0.014950   \n",
       "max       0.044639     0.042678     0.036305          inf   153.604520   \n",
       "\n",
       "              hi_B  \n",
       "count  8957.000000  \n",
       "mean      0.000186  \n",
       "std       0.004039  \n",
       "min      -0.022499  \n",
       "25%      -0.001830  \n",
       "50%       0.000118  \n",
       "75%       0.002216  \n",
       "max       0.035004  "
      ]
     },
     "execution_count": 719,
     "metadata": {},
     "output_type": "execute_result"
    }
   ],
   "source": [
    "B_ret.describe()"
   ]
  },
  {
   "cell_type": "code",
   "execution_count": 720,
   "metadata": {
    "collapsed": true
   },
   "outputs": [],
   "source": [
    "mean_volume_B = B['volume_B'].mean()\n",
    "B['volume_B']= B.volume_B.mask(B.volume_B == 0,mean_volume_B)\n",
    "mean_oi_B = B['oi_B'].mean()\n",
    "B['oi_B']= B.oi_B.mask(B.oi_B == 0,mean_oi_B)"
   ]
  },
  {
   "cell_type": "code",
   "execution_count": 721,
   "metadata": {},
   "outputs": [],
   "source": [
    "\"\"\"Since we have changed the dataframe D, we redefine D_ret\"\"\"\n",
    "B_ret = B.copy()\n",
    "del(B_ret['date'])\n",
    "B_ret = B_ret.pct_change()\n",
    "B_ret = B_ret.dropna(axis = 0)"
   ]
  },
  {
   "cell_type": "code",
   "execution_count": 722,
   "metadata": {
    "scrolled": true
   },
   "outputs": [
    {
     "data": {
      "text/html": [
       "<div>\n",
       "<style>\n",
       "    .dataframe thead tr:only-child th {\n",
       "        text-align: right;\n",
       "    }\n",
       "\n",
       "    .dataframe thead th {\n",
       "        text-align: left;\n",
       "    }\n",
       "\n",
       "    .dataframe tbody tr th {\n",
       "        vertical-align: top;\n",
       "    }\n",
       "</style>\n",
       "<table border=\"1\" class=\"dataframe\">\n",
       "  <thead>\n",
       "    <tr style=\"text-align: right;\">\n",
       "      <th></th>\n",
       "      <th>cl_B</th>\n",
       "      <th>lo_B</th>\n",
       "      <th>se_B</th>\n",
       "      <th>volume_B</th>\n",
       "      <th>oi_B</th>\n",
       "      <th>hi_B</th>\n",
       "    </tr>\n",
       "  </thead>\n",
       "  <tbody>\n",
       "    <tr>\n",
       "      <th>count</th>\n",
       "      <td>8957.000000</td>\n",
       "      <td>8957.000000</td>\n",
       "      <td>8957.000000</td>\n",
       "      <td>8957.000000</td>\n",
       "      <td>8957.000000</td>\n",
       "      <td>8957.000000</td>\n",
       "    </tr>\n",
       "    <tr>\n",
       "      <th>mean</th>\n",
       "      <td>0.000188</td>\n",
       "      <td>0.000187</td>\n",
       "      <td>0.000187</td>\n",
       "      <td>0.243783</td>\n",
       "      <td>0.020019</td>\n",
       "      <td>0.000186</td>\n",
       "    </tr>\n",
       "    <tr>\n",
       "      <th>std</th>\n",
       "      <td>0.004550</td>\n",
       "      <td>0.003997</td>\n",
       "      <td>0.004231</td>\n",
       "      <td>7.118005</td>\n",
       "      <td>1.625826</td>\n",
       "      <td>0.004039</td>\n",
       "    </tr>\n",
       "    <tr>\n",
       "      <th>min</th>\n",
       "      <td>-0.030137</td>\n",
       "      <td>-0.025499</td>\n",
       "      <td>-0.024001</td>\n",
       "      <td>-0.998411</td>\n",
       "      <td>-0.992675</td>\n",
       "      <td>-0.022499</td>\n",
       "    </tr>\n",
       "    <tr>\n",
       "      <th>25%</th>\n",
       "      <td>-0.002288</td>\n",
       "      <td>-0.001829</td>\n",
       "      <td>-0.002102</td>\n",
       "      <td>-0.225134</td>\n",
       "      <td>-0.010818</td>\n",
       "      <td>-0.001830</td>\n",
       "    </tr>\n",
       "    <tr>\n",
       "      <th>50%</th>\n",
       "      <td>0.000126</td>\n",
       "      <td>0.000276</td>\n",
       "      <td>0.000150</td>\n",
       "      <td>0.004957</td>\n",
       "      <td>0.001439</td>\n",
       "      <td>0.000118</td>\n",
       "    </tr>\n",
       "    <tr>\n",
       "      <th>75%</th>\n",
       "      <td>0.002668</td>\n",
       "      <td>0.002230</td>\n",
       "      <td>0.002513</td>\n",
       "      <td>0.303968</td>\n",
       "      <td>0.014950</td>\n",
       "      <td>0.002216</td>\n",
       "    </tr>\n",
       "    <tr>\n",
       "      <th>max</th>\n",
       "      <td>0.044639</td>\n",
       "      <td>0.042678</td>\n",
       "      <td>0.036305</td>\n",
       "      <td>645.428571</td>\n",
       "      <td>153.604520</td>\n",
       "      <td>0.035004</td>\n",
       "    </tr>\n",
       "  </tbody>\n",
       "</table>\n",
       "</div>"
      ],
      "text/plain": [
       "              cl_B         lo_B         se_B     volume_B         oi_B  \\\n",
       "count  8957.000000  8957.000000  8957.000000  8957.000000  8957.000000   \n",
       "mean      0.000188     0.000187     0.000187     0.243783     0.020019   \n",
       "std       0.004550     0.003997     0.004231     7.118005     1.625826   \n",
       "min      -0.030137    -0.025499    -0.024001    -0.998411    -0.992675   \n",
       "25%      -0.002288    -0.001829    -0.002102    -0.225134    -0.010818   \n",
       "50%       0.000126     0.000276     0.000150     0.004957     0.001439   \n",
       "75%       0.002668     0.002230     0.002513     0.303968     0.014950   \n",
       "max       0.044639     0.042678     0.036305   645.428571   153.604520   \n",
       "\n",
       "              hi_B  \n",
       "count  8957.000000  \n",
       "mean      0.000186  \n",
       "std       0.004039  \n",
       "min      -0.022499  \n",
       "25%      -0.001830  \n",
       "50%       0.000118  \n",
       "75%       0.002216  \n",
       "max       0.035004  "
      ]
     },
     "execution_count": 722,
     "metadata": {},
     "output_type": "execute_result"
    }
   ],
   "source": [
    "B_ret.describe()"
   ]
  },
  {
   "cell_type": "markdown",
   "metadata": {},
   "source": [
    "We observe that the standard deviation of the feature volume_B is \n",
    "larger than the other features. "
   ]
  },
  {
   "cell_type": "code",
   "execution_count": 723,
   "metadata": {
    "collapsed": true
   },
   "outputs": [],
   "source": [
    "add_ret(B_ret)"
   ]
  },
  {
   "cell_type": "code",
   "execution_count": 725,
   "metadata": {},
   "outputs": [
    {
     "data": {
      "image/png": "[encoded data removed]",
      "text/plain": [
       "<matplotlib.figure.Figure at 0x1c13114588>"
      ]
     },
     "metadata": {},
     "output_type": "display_data"
    }
   ],
   "source": [
    "plt.plot(B_ret['volume_B_ret'])\n",
    "plt.show()"
   ]
  },
  {
   "cell_type": "markdown",
   "metadata": {},
   "source": [
    "We observe certain anomalies in the volume data and try to identify the precise points at which these anomalies occurred. "
   ]
  },
  {
   "cell_type": "code",
   "execution_count": 726,
   "metadata": {},
   "outputs": [
    {
     "name": "stdout",
     "output_type": "stream",
     "text": [
      "[797, 1285, 4454]\n"
     ]
    }
   ],
   "source": [
    "outliersB = []\n",
    "for j in range(len(B_ret)):\n",
    "    if B_ret['volume_B_ret'][j] > 100:\n",
    "        outliersB.append(j)\n",
    "print(outliersB)  "
   ]
  },
  {
   "cell_type": "markdown",
   "metadata": {},
   "source": [
    "There are two days which had significant volume changes - 05/06/1985 - 645%, 28/06/2001 - 132%. We consider these extreme outliers and hence alter the information here by replace the values with the mean of the volume changes of the days before and after. "
   ]
  },
  {
   "cell_type": "code",
   "execution_count": 727,
   "metadata": {
    "collapsed": true
   },
   "outputs": [],
   "source": [
    "for j in outliersB:\n",
    "    B_ret['volume_B_ret'][j] = B_ret['volume_B_ret'].mean()"
   ]
  },
  {
   "cell_type": "code",
   "execution_count": 728,
   "metadata": {},
   "outputs": [
    {
     "data": {
      "text/html": [
       "<div>\n",
       "<style>\n",
       "    .dataframe thead tr:only-child th {\n",
       "        text-align: right;\n",
       "    }\n",
       "\n",
       "    .dataframe thead th {\n",
       "        text-align: left;\n",
       "    }\n",
       "\n",
       "    .dataframe tbody tr th {\n",
       "        vertical-align: top;\n",
       "    }\n",
       "</style>\n",
       "<table border=\"1\" class=\"dataframe\">\n",
       "  <thead>\n",
       "    <tr style=\"text-align: right;\">\n",
       "      <th></th>\n",
       "      <th>cl_B_ret</th>\n",
       "      <th>lo_B_ret</th>\n",
       "      <th>se_B_ret</th>\n",
       "      <th>volume_B_ret</th>\n",
       "      <th>oi_B_ret</th>\n",
       "      <th>hi_B_ret</th>\n",
       "    </tr>\n",
       "  </thead>\n",
       "  <tbody>\n",
       "    <tr>\n",
       "      <th>count</th>\n",
       "      <td>8957.000000</td>\n",
       "      <td>8957.000000</td>\n",
       "      <td>8957.000000</td>\n",
       "      <td>8957.000000</td>\n",
       "      <td>8957.000000</td>\n",
       "      <td>8957.000000</td>\n",
       "    </tr>\n",
       "    <tr>\n",
       "      <th>mean</th>\n",
       "      <td>0.000188</td>\n",
       "      <td>0.000187</td>\n",
       "      <td>0.000187</td>\n",
       "      <td>0.145215</td>\n",
       "      <td>0.020019</td>\n",
       "      <td>0.000186</td>\n",
       "    </tr>\n",
       "    <tr>\n",
       "      <th>std</th>\n",
       "      <td>0.004550</td>\n",
       "      <td>0.003997</td>\n",
       "      <td>0.004231</td>\n",
       "      <td>0.992099</td>\n",
       "      <td>1.625826</td>\n",
       "      <td>0.004039</td>\n",
       "    </tr>\n",
       "    <tr>\n",
       "      <th>min</th>\n",
       "      <td>-0.030137</td>\n",
       "      <td>-0.025499</td>\n",
       "      <td>-0.024001</td>\n",
       "      <td>-0.998411</td>\n",
       "      <td>-0.992675</td>\n",
       "      <td>-0.022499</td>\n",
       "    </tr>\n",
       "    <tr>\n",
       "      <th>25%</th>\n",
       "      <td>-0.002288</td>\n",
       "      <td>-0.001829</td>\n",
       "      <td>-0.002102</td>\n",
       "      <td>-0.225134</td>\n",
       "      <td>-0.010818</td>\n",
       "      <td>-0.001830</td>\n",
       "    </tr>\n",
       "    <tr>\n",
       "      <th>50%</th>\n",
       "      <td>0.000126</td>\n",
       "      <td>0.000276</td>\n",
       "      <td>0.000150</td>\n",
       "      <td>0.004957</td>\n",
       "      <td>0.001439</td>\n",
       "      <td>0.000118</td>\n",
       "    </tr>\n",
       "    <tr>\n",
       "      <th>75%</th>\n",
       "      <td>0.002668</td>\n",
       "      <td>0.002230</td>\n",
       "      <td>0.002513</td>\n",
       "      <td>0.303225</td>\n",
       "      <td>0.014950</td>\n",
       "      <td>0.002216</td>\n",
       "    </tr>\n",
       "    <tr>\n",
       "      <th>max</th>\n",
       "      <td>0.044639</td>\n",
       "      <td>0.042678</td>\n",
       "      <td>0.036305</td>\n",
       "      <td>32.110540</td>\n",
       "      <td>153.604520</td>\n",
       "      <td>0.035004</td>\n",
       "    </tr>\n",
       "  </tbody>\n",
       "</table>\n",
       "</div>"
      ],
      "text/plain": [
       "          cl_B_ret     lo_B_ret     se_B_ret  volume_B_ret     oi_B_ret  \\\n",
       "count  8957.000000  8957.000000  8957.000000   8957.000000  8957.000000   \n",
       "mean      0.000188     0.000187     0.000187      0.145215     0.020019   \n",
       "std       0.004550     0.003997     0.004231      0.992099     1.625826   \n",
       "min      -0.030137    -0.025499    -0.024001     -0.998411    -0.992675   \n",
       "25%      -0.002288    -0.001829    -0.002102     -0.225134    -0.010818   \n",
       "50%       0.000126     0.000276     0.000150      0.004957     0.001439   \n",
       "75%       0.002668     0.002230     0.002513      0.303225     0.014950   \n",
       "max       0.044639     0.042678     0.036305     32.110540   153.604520   \n",
       "\n",
       "          hi_B_ret  \n",
       "count  8957.000000  \n",
       "mean      0.000186  \n",
       "std       0.004039  \n",
       "min      -0.022499  \n",
       "25%      -0.001830  \n",
       "50%       0.000118  \n",
       "75%       0.002216  \n",
       "max       0.035004  "
      ]
     },
     "execution_count": 728,
     "metadata": {},
     "output_type": "execute_result"
    }
   ],
   "source": [
    "B_ret.describe()"
   ]
  },
  {
   "cell_type": "markdown",
   "metadata": {},
   "source": [
    "We plot the ACF for the returns series of B which is stationary. "
   ]
  },
  {
   "cell_type": "code",
   "execution_count": 729,
   "metadata": {},
   "outputs": [
    {
     "data": {
      "image/png": "[encoded data removed]",
      "text/plain": [
       "<matplotlib.figure.Figure at 0x1c12dcb710>"
      ]
     },
     "execution_count": 729,
     "metadata": {},
     "output_type": "execute_result"
    }
   ],
   "source": [
    "plot_acf(B_ret['cl_B_ret'],lags = 60,alpha = 0.5)"
   ]
  },
  {
   "cell_type": "code",
   "execution_count": 730,
   "metadata": {},
   "outputs": [
    {
     "name": "stdout",
     "output_type": "stream",
     "text": [
      "The p-value is 0.962604036252\n"
     ]
    }
   ],
   "source": [
    "ad_fuller_test(B['cl_B'])"
   ]
  },
  {
   "cell_type": "markdown",
   "metadata": {},
   "source": [
    "It is extremely likely that B is a random walk."
   ]
  },
  {
   "cell_type": "code",
   "execution_count": 731,
   "metadata": {},
   "outputs": [
    {
     "name": "stdout",
     "output_type": "stream",
     "text": [
      "The AIC list is \n",
      "[21541.39964972225, 21531.6183016243, 21533.617490389217, 21534.75229594119, 21535.181237305533]\n",
      "The BIC list is \n",
      "[21562.030539743038, 21559.126154985352, 21568.00230709053, 21576.014075982763, 21583.319980687367]\n"
     ]
    }
   ],
   "source": [
    "ARIMA_fitting_AIC_BIC_list(B['cl_B'])"
   ]
  },
  {
   "cell_type": "markdown",
   "metadata": {},
   "source": [
    "Selection in this case is slightly more difficult. We choose the ARIMA(1,1,0) model. We will also test the ARIMA(4,1,0) model and the ARIMA(2,1,0) model. "
   ]
  },
  {
   "cell_type": "code",
   "execution_count": 535,
   "metadata": {},
   "outputs": [
    {
     "name": "stderr",
     "output_type": "stream",
     "text": [
      "/Users/Welliareetil/anaconda3/lib/python3.6/site-packages/statsmodels/base/model.py:496: ConvergenceWarning: Maximum Likelihood optimization failed to converge. Check mle_retvals\n",
      "  \"Check mle_retvals\", ConvergenceWarning)\n"
     ]
    }
   ],
   "source": [
    "testB,predictions_B110 = ARIMA_rolling_forecast(B['cl_B'],1,1,0)"
   ]
  },
  {
   "cell_type": "code",
   "execution_count": 65,
   "metadata": {},
   "outputs": [
    {
     "data": {
      "image/png": "[encoded data removed]",
      "text/plain": [
       "<matplotlib.figure.Figure at 0x1c14e4f198>"
      ]
     },
     "metadata": {},
     "output_type": "display_data"
    }
   ],
   "source": [
    "plot_predictions(testB,predictions_B110)"
   ]
  },
  {
   "cell_type": "code",
   "execution_count": 536,
   "metadata": {},
   "outputs": [
    {
     "name": "stdout",
     "output_type": "stream",
     "text": [
      "2.28790773263\n"
     ]
    }
   ],
   "source": [
    "errorB110 = mean_squared_error(testB,predictions_B110)\n",
    "print(errorB110)"
   ]
  },
  {
   "cell_type": "code",
   "execution_count": 537,
   "metadata": {},
   "outputs": [
    {
     "data": {
      "text/plain": [
       "1.3287768547097691"
      ]
     },
     "execution_count": 537,
     "metadata": {},
     "output_type": "execute_result"
    }
   ],
   "source": [
    "MASE(testB,predictions_B110)"
   ]
  },
  {
   "cell_type": "markdown",
   "metadata": {},
   "source": [
    "We see that the mean absolute scaled error in this case indicates that the model performs WORSE than \n",
    "a model which predicts tomorrows opening price as todays price. To be sure we employ an ARIMA(2,1,0) model as well. "
   ]
  },
  {
   "cell_type": "code",
   "execution_count": 66,
   "metadata": {},
   "outputs": [
    {
     "name": "stderr",
     "output_type": "stream",
     "text": [
      "/Users/Welliareetil/anaconda3/lib/python3.6/site-packages/statsmodels/base/model.py:496: ConvergenceWarning: Maximum Likelihood optimization failed to converge. Check mle_retvals\n",
      "  \"Check mle_retvals\", ConvergenceWarning)\n",
      "/Users/Welliareetil/anaconda3/lib/python3.6/site-packages/statsmodels/base/model.py:496: ConvergenceWarning: Maximum Likelihood optimization failed to converge. Check mle_retvals\n",
      "  \"Check mle_retvals\", ConvergenceWarning)\n"
     ]
    }
   ],
   "source": [
    "testB,predictions_B210 = ARIMA_rolling_forecast(B['op_B'],2,1,0)"
   ]
  },
  {
   "cell_type": "code",
   "execution_count": 67,
   "metadata": {},
   "outputs": [
    {
     "data": {
      "image/png": "[encoded data removed]",
      "text/plain": [
       "<matplotlib.figure.Figure at 0x1c0b977400>"
      ]
     },
     "metadata": {},
     "output_type": "display_data"
    }
   ],
   "source": [
    "plot_predictions(testB,predictions_B210)"
   ]
  },
  {
   "cell_type": "markdown",
   "metadata": {},
   "source": [
    " We calculate the MSE below."
   ]
  },
  {
   "cell_type": "code",
   "execution_count": 69,
   "metadata": {},
   "outputs": [
    {
     "name": "stdout",
     "output_type": "stream",
     "text": [
      "2.6832802102\n"
     ]
    }
   ],
   "source": [
    "errorB210 = mean_squared_error(testB,predictions_B210)\n",
    "print(errorB210)"
   ]
  },
  {
   "cell_type": "code",
   "execution_count": 71,
   "metadata": {},
   "outputs": [
    {
     "name": "stdout",
     "output_type": "stream",
     "text": [
      "The mean absolute scaled error is 1.54671884084\n"
     ]
    }
   ],
   "source": [
    "MASE(testB,predictions_B210)"
   ]
  },
  {
   "cell_type": "markdown",
   "metadata": {},
   "source": [
    "# VAR models for asset B"
   ]
  },
  {
   "cell_type": "markdown",
   "metadata": {},
   "source": [
    "To reduce the scaled error, we look to fit VAR models for the asset B. "
   ]
  },
  {
   "cell_type": "code",
   "execution_count": 73,
   "metadata": {
    "collapsed": true
   },
   "outputs": [],
   "source": [
    "#CCF(B_ret['op_B_ret'],B_ret['hi_B_ret'],'op_B_ret vs hi_B_ret')\n",
    "#CCF(B_ret['op_B_ret'],B_ret['lo_B_ret'],'op_B_ret vs lo_B_ret')"
   ]
  },
  {
   "cell_type": "markdown",
   "metadata": {},
   "source": [
    "We begin by selecting a suitable model for prediction. We do so by selecting according to the BIC score. "
   ]
  },
  {
   "cell_type": "code",
   "execution_count": 471,
   "metadata": {},
   "outputs": [
    {
     "name": "stdout",
     "output_type": "stream",
     "text": [
      "                 VAR Order Selection                  \n",
      "======================================================\n",
      "            aic          bic          fpe         hqic\n",
      "------------------------------------------------------\n",
      "0        -44.52       -44.51    4.636e-20       -44.52\n",
      "1        -46.53       -46.49    6.192e-21       -46.52\n",
      "2        -46.96       -46.88    4.018e-21       -46.93\n",
      "3        -47.19       -47.06    3.213e-21       -47.14\n",
      "4        -47.31       -47.14    2.855e-21       -47.25\n",
      "5        -47.39       -47.19    2.613e-21       -47.32\n",
      "6        -47.46       -47.22    2.436e-21       -47.38\n",
      "7        -47.51       -47.23    2.324e-21       -47.41\n",
      "8        -47.55      -47.23*    2.232e-21       -47.44\n",
      "9        -47.58       -47.22    2.176e-21       -47.45\n",
      "10       -47.60       -47.20    2.134e-21       -47.46\n",
      "11       -47.61       -47.18    2.104e-21       -47.46\n",
      "12       -47.62       -47.15    2.078e-21       -47.46\n",
      "13       -47.64       -47.13    2.036e-21      -47.47*\n",
      "14       -47.65       -47.10    2.013e-21       -47.46\n",
      "15       -47.66       -47.07    2.006e-21       -47.45\n",
      "16       -47.66       -47.03    2.007e-21       -47.44\n",
      "17       -47.66       -47.00    1.994e-21       -47.43\n",
      "18       -47.67       -46.96    1.984e-21       -47.42\n",
      "19       -47.67       -46.92    1.988e-21       -47.41\n",
      "20       -47.67       -46.88    1.986e-21       -47.40\n",
      "21       -47.67       -46.85    1.984e-21       -47.38\n",
      "22       -47.67       -46.80    1.990e-21       -47.37\n",
      "23       -47.67       -46.77    1.979e-21       -47.36\n",
      "24       -47.67       -46.74    1.973e-21       -47.35\n",
      "25       -47.67       -46.70    1.973e-21       -47.34\n",
      "26       -47.67       -46.65    1.980e-21       -47.32\n",
      "27       -47.67       -46.61    1.983e-21       -47.30\n",
      "28      -47.68*       -46.59   1.962e-21*       -47.30\n",
      "29       -47.68       -46.54    1.969e-21       -47.28\n",
      "30       -47.68       -46.50    1.972e-21       -47.27\n",
      "======================================================\n",
      "* Minimum\n",
      "\n"
     ]
    },
    {
     "data": {
      "text/plain": [
       "{'aic': 28, 'bic': 8, 'fpe': 28, 'hqic': 13}"
      ]
     },
     "execution_count": 471,
     "metadata": {},
     "output_type": "execute_result"
    }
   ],
   "source": [
    "selecting_model(B_ret,['cl_B_ret','hi_B_ret', 'lo_B_ret', 'se_B_ret', 'volume_B_ret', 'oi_B_ret'])"
   ]
  },
  {
   "cell_type": "markdown",
   "metadata": {},
   "source": [
    "As before we test the model using a rolling forecast for the given data. "
   ]
  },
  {
   "cell_type": "code",
   "execution_count": 520,
   "metadata": {},
   "outputs": [],
   "source": [
    "l = ['cl_B_ret','hi_B_ret', 'lo_B_ret', 'se_B_ret', 'volume_B_ret', 'oi_B_ret']\n",
    "testB, predictions_BVAR8 = VAR_rolling_forecast(B_ret,l,8,split = 0.8)"
   ]
  },
  {
   "cell_type": "code",
   "execution_count": 523,
   "metadata": {},
   "outputs": [],
   "source": [
    "size = int(len(B_ret)*0.8)\n",
    "testB_adj,predictions_BVAR8_adj = recover_asset_predictions(B['cl_B'],size,testB,predictions_BVAR8)"
   ]
  },
  {
   "cell_type": "code",
   "execution_count": 524,
   "metadata": {},
   "outputs": [
    {
     "data": {
      "text/plain": [
       "2.6895981562577123"
      ]
     },
     "execution_count": 524,
     "metadata": {},
     "output_type": "execute_result"
    }
   ],
   "source": [
    "MSE(testB_adj,predictions_BVAR8_adj)"
   ]
  },
  {
   "cell_type": "code",
   "execution_count": 525,
   "metadata": {},
   "outputs": [
    {
     "data": {
      "text/plain": [
       "1.5508086957661149"
      ]
     },
     "execution_count": 525,
     "metadata": {},
     "output_type": "execute_result"
    }
   ],
   "source": [
    "MASE(testB_adj,predictions_BVAR8_adj)"
   ]
  },
  {
   "cell_type": "markdown",
   "metadata": {},
   "source": [
    "We find that the scores obtained are not better than the previous ARIMA(1,1,0) model. It follows that we must change \n",
    "our approach when tuning the hyper-parameter p. We split into three segments [0:a], [a+1:b] and [b+1:]. For a given p, \n",
    "we fit a VAR(p) on the data in the segment [0:a] and then test this on [a+1:b]. We then choose the best \n",
    "such p and test on [b+1:]. We choose 'a' so that the segment [0:a] represents roughly 64% of the data, and we choose \n",
    "'b' so that [b+1,:] contains approximates 20% of the data. "
   ]
  },
  {
   "cell_type": "code",
   "execution_count": 528,
   "metadata": {},
   "outputs": [],
   "source": [
    "MASE_list = []\n",
    "MSE_list = []\n",
    "for p in range(1,4):\n",
    "    size1 = int(len(B_ret)*.8)\n",
    "    test, predictions = VAR_rolling_forecast(B_ret[0:size1],l,p,0.8) \n",
    "    size = int(len(B_ret[0:size1])*0.80)\n",
    "    test,predictions = recover_asset_predictions(B[0:size1+1]['cl_B'],size,test,predictions) \n",
    "    MSE_list.append(MSE(test,predictions))\n",
    "    MASE_list.append(MASE(test,predictions))"
   ]
  },
  {
   "cell_type": "code",
   "execution_count": 529,
   "metadata": {},
   "outputs": [
    {
     "data": {
      "text/plain": [
       "[2.4541430808865923, 2.4491812805290376, 2.4691141199200737]"
      ]
     },
     "execution_count": 529,
     "metadata": {},
     "output_type": "execute_result"
    }
   ],
   "source": [
    "MSE_list"
   ]
  },
  {
   "cell_type": "code",
   "execution_count": 530,
   "metadata": {},
   "outputs": [
    {
     "data": {
      "text/plain": [
       "[1.3079395063537453, 1.3069516930305969, 1.3122660031816051]"
      ]
     },
     "execution_count": 530,
     "metadata": {},
     "output_type": "execute_result"
    }
   ],
   "source": [
    "MASE_list"
   ]
  },
  {
   "cell_type": "markdown",
   "metadata": {},
   "source": [
    "We see that the VAR(2) model outperforms the other models. We test this model on the remaining data. "
   ]
  },
  {
   "cell_type": "code",
   "execution_count": 531,
   "metadata": {},
   "outputs": [
    {
     "name": "stdout",
     "output_type": "stream",
     "text": [
      "The MSE is2.27941438888\n",
      "The MASE is1.32404913499\n"
     ]
    }
   ],
   "source": [
    "test, predictions = VAR_rolling_forecast(B_ret,l,3,0.8) \n",
    "size = int(len(B_ret)*0.80)\n",
    "test,predictions = recover_asset_predictions(B['cl_B'],size,test,predictions) \n",
    "print(\"The MSE is\" + str(MSE(test,predictions)))\n",
    "print(\"The MASE is\" + str(MASE(test,predictions)))"
   ]
  },
  {
   "cell_type": "markdown",
   "metadata": {},
   "source": [
    "We see that we marginally beat the previous ARIMA scores.  "
   ]
  },
  {
   "cell_type": "code",
   "execution_count": 540,
   "metadata": {},
   "outputs": [
    {
     "data": {
      "image/png": "[encoded data removed]",
      "text/plain": [
       "<matplotlib.figure.Figure at 0x1c1cbccba8>"
      ]
     },
     "metadata": {},
     "output_type": "display_data"
    }
   ],
   "source": [
    "plot_predictions(test,predictions)"
   ]
  },
  {
   "cell_type": "markdown",
   "metadata": {},
   "source": [
    "# We predict the closing price of asset C"
   ]
  },
  {
   "cell_type": "markdown",
   "metadata": {},
   "source": [
    "We will study the returns dataframe associated to the asset C. Before doing so,\n",
    "we make minor adjustments to the dataframe C_ret."
   ]
  },
  {
   "cell_type": "code",
   "execution_count": 732,
   "metadata": {},
   "outputs": [
    {
     "data": {
      "text/html": [
       "<div>\n",
       "<style>\n",
       "    .dataframe thead tr:only-child th {\n",
       "        text-align: right;\n",
       "    }\n",
       "\n",
       "    .dataframe thead th {\n",
       "        text-align: left;\n",
       "    }\n",
       "\n",
       "    .dataframe tbody tr th {\n",
       "        vertical-align: top;\n",
       "    }\n",
       "</style>\n",
       "<table border=\"1\" class=\"dataframe\">\n",
       "  <thead>\n",
       "    <tr style=\"text-align: right;\">\n",
       "      <th></th>\n",
       "      <th>cl_C</th>\n",
       "      <th>lo_C</th>\n",
       "      <th>se_C</th>\n",
       "      <th>volume_C</th>\n",
       "      <th>oi_C</th>\n",
       "      <th>hi_C</th>\n",
       "    </tr>\n",
       "  </thead>\n",
       "  <tbody>\n",
       "    <tr>\n",
       "      <th>count</th>\n",
       "      <td>6822.000000</td>\n",
       "      <td>6822.000000</td>\n",
       "      <td>6822.000000</td>\n",
       "      <td>6822.000000</td>\n",
       "      <td>6822.000000</td>\n",
       "      <td>6822.000000</td>\n",
       "    </tr>\n",
       "    <tr>\n",
       "      <th>mean</th>\n",
       "      <td>0.000059</td>\n",
       "      <td>0.000058</td>\n",
       "      <td>0.000058</td>\n",
       "      <td>0.274278</td>\n",
       "      <td>0.002201</td>\n",
       "      <td>0.000058</td>\n",
       "    </tr>\n",
       "    <tr>\n",
       "      <th>std</th>\n",
       "      <td>0.001083</td>\n",
       "      <td>0.000985</td>\n",
       "      <td>0.001021</td>\n",
       "      <td>1.521008</td>\n",
       "      <td>0.051717</td>\n",
       "      <td>0.001025</td>\n",
       "    </tr>\n",
       "    <tr>\n",
       "      <th>min</th>\n",
       "      <td>-0.007143</td>\n",
       "      <td>-0.009263</td>\n",
       "      <td>-0.009231</td>\n",
       "      <td>-0.984305</td>\n",
       "      <td>-0.315962</td>\n",
       "      <td>-0.007571</td>\n",
       "    </tr>\n",
       "    <tr>\n",
       "      <th>25%</th>\n",
       "      <td>-0.000461</td>\n",
       "      <td>-0.000385</td>\n",
       "      <td>-0.000430</td>\n",
       "      <td>-0.290468</td>\n",
       "      <td>-0.009697</td>\n",
       "      <td>-0.000383</td>\n",
       "    </tr>\n",
       "    <tr>\n",
       "      <th>50%</th>\n",
       "      <td>0.000000</td>\n",
       "      <td>0.000000</td>\n",
       "      <td>0.000000</td>\n",
       "      <td>-0.000942</td>\n",
       "      <td>0.001623</td>\n",
       "      <td>0.000000</td>\n",
       "    </tr>\n",
       "    <tr>\n",
       "      <th>75%</th>\n",
       "      <td>0.000587</td>\n",
       "      <td>0.000502</td>\n",
       "      <td>0.000546</td>\n",
       "      <td>0.406833</td>\n",
       "      <td>0.014493</td>\n",
       "      <td>0.000478</td>\n",
       "    </tr>\n",
       "    <tr>\n",
       "      <th>max</th>\n",
       "      <td>0.007069</td>\n",
       "      <td>0.007599</td>\n",
       "      <td>0.008664</td>\n",
       "      <td>56.071429</td>\n",
       "      <td>0.489942</td>\n",
       "      <td>0.009767</td>\n",
       "    </tr>\n",
       "  </tbody>\n",
       "</table>\n",
       "</div>"
      ],
      "text/plain": [
       "              cl_C         lo_C         se_C     volume_C         oi_C  \\\n",
       "count  6822.000000  6822.000000  6822.000000  6822.000000  6822.000000   \n",
       "mean      0.000059     0.000058     0.000058     0.274278     0.002201   \n",
       "std       0.001083     0.000985     0.001021     1.521008     0.051717   \n",
       "min      -0.007143    -0.009263    -0.009231    -0.984305    -0.315962   \n",
       "25%      -0.000461    -0.000385    -0.000430    -0.290468    -0.009697   \n",
       "50%       0.000000     0.000000     0.000000    -0.000942     0.001623   \n",
       "75%       0.000587     0.000502     0.000546     0.406833     0.014493   \n",
       "max       0.007069     0.007599     0.008664    56.071429     0.489942   \n",
       "\n",
       "              hi_C  \n",
       "count  6822.000000  \n",
       "mean      0.000058  \n",
       "std       0.001025  \n",
       "min      -0.007571  \n",
       "25%      -0.000383  \n",
       "50%       0.000000  \n",
       "75%       0.000478  \n",
       "max       0.009767  "
      ]
     },
     "execution_count": 732,
     "metadata": {},
     "output_type": "execute_result"
    }
   ],
   "source": [
    "C_ret.describe()"
   ]
  },
  {
   "cell_type": "code",
   "execution_count": 733,
   "metadata": {
    "collapsed": true
   },
   "outputs": [],
   "source": [
    "add_ret(C_ret)"
   ]
  },
  {
   "cell_type": "code",
   "execution_count": 734,
   "metadata": {},
   "outputs": [
    {
     "data": {
      "image/png": "[encoded data removed]",
      "text/plain": [
       "<matplotlib.figure.Figure at 0x1c13e1ab70>"
      ]
     },
     "execution_count": 734,
     "metadata": {},
     "output_type": "execute_result"
    }
   ],
   "source": [
    "plot_acf(C_ret['cl_C_ret'],lags = 60,alpha = 0.5)"
   ]
  },
  {
   "cell_type": "code",
   "execution_count": 735,
   "metadata": {},
   "outputs": [
    {
     "name": "stdout",
     "output_type": "stream",
     "text": [
      "The p-value is 0.494953457692\n"
     ]
    }
   ],
   "source": [
    "ad_fuller_test(C['cl_C'])"
   ]
  },
  {
   "cell_type": "markdown",
   "metadata": {},
   "source": [
    "We see that the p-value indicates that there is a high chance that C is a random walk. "
   ]
  },
  {
   "cell_type": "code",
   "execution_count": 736,
   "metadata": {},
   "outputs": [
    {
     "name": "stdout",
     "output_type": "stream",
     "text": [
      "The AIC list is \n",
      "[-5574.7984884682755, -5581.111399167434, -5579.608265122153, -5579.608938610623, -5577.671238003646]\n",
      "The BIC list is \n",
      "[-5554.9845250667167, -5554.6927812986887, -5546.5849927862218, -5539.9810118075056, -5531.4386567333422]\n"
     ]
    }
   ],
   "source": [
    "ARIMA_fitting_AIC_BIC_list(C['cl_C'])"
   ]
  },
  {
   "cell_type": "code",
   "execution_count": 599,
   "metadata": {},
   "outputs": [
    {
     "name": "stderr",
     "output_type": "stream",
     "text": [
      "/Users/Welliareetil/anaconda3/lib/python3.6/site-packages/statsmodels/base/model.py:496: ConvergenceWarning: Maximum Likelihood optimization failed to converge. Check mle_retvals\n",
      "  \"Check mle_retvals\", ConvergenceWarning)\n"
     ]
    }
   ],
   "source": [
    "testC,predictions_C210 = ARIMA_rolling_forecast(C['cl_C'],2,1,0)"
   ]
  },
  {
   "cell_type": "code",
   "execution_count": 604,
   "metadata": {},
   "outputs": [
    {
     "data": {
      "image/png": "[encoded data removed]",
      "text/plain": [
       "<matplotlib.figure.Figure at 0x1c13e338d0>"
      ]
     },
     "metadata": {},
     "output_type": "display_data"
    }
   ],
   "source": [
    "plot_predictions(testC,predictions_C210)"
   ]
  },
  {
   "cell_type": "code",
   "execution_count": 605,
   "metadata": {},
   "outputs": [
    {
     "name": "stdout",
     "output_type": "stream",
     "text": [
      "0.00534066763861\n"
     ]
    }
   ],
   "source": [
    "errorC210 = mean_squared_error(testC,predictions_C210)\n",
    "print(errorC210)"
   ]
  },
  {
   "cell_type": "code",
   "execution_count": 606,
   "metadata": {},
   "outputs": [
    {
     "data": {
      "text/plain": [
       "0.0026496745051256426"
      ]
     },
     "execution_count": 606,
     "metadata": {},
     "output_type": "execute_result"
    }
   ],
   "source": [
    "MASE(testC,predictions_C210)"
   ]
  },
  {
   "cell_type": "markdown",
   "metadata": {},
   "source": [
    "# VAR models to predict the closing price of C"
   ]
  },
  {
   "cell_type": "markdown",
   "metadata": {},
   "source": [
    "To reduce the scaled error, we look to fit VAR models for the asset C. \n",
    "We begin by selecting a suitable model for prediction. We do so by selecting according to the BIC score. "
   ]
  },
  {
   "cell_type": "code",
   "execution_count": 608,
   "metadata": {},
   "outputs": [
    {
     "name": "stdout",
     "output_type": "stream",
     "text": [
      "                 VAR Order Selection                  \n",
      "======================================================\n",
      "            aic          bic          fpe         hqic\n",
      "------------------------------------------------------\n",
      "0        -60.97       -60.97    3.306e-27       -60.97\n",
      "1        -62.81       -62.75    5.273e-28       -62.79\n",
      "2        -63.20       -63.10    3.555e-28       -63.17\n",
      "3        -63.42       -63.27    2.859e-28       -63.37\n",
      "4        -63.57       -63.36    2.473e-28       -63.50\n",
      "5        -63.65       -63.39    2.281e-28       -63.56\n",
      "6        -63.72      -63.42*    2.122e-28       -63.61\n",
      "7        -63.77       -63.42    2.021e-28       -63.65\n",
      "8        -63.79       -63.39    1.972e-28       -63.65\n",
      "9        -63.82       -63.37    1.917e-28       -63.66\n",
      "10       -63.84       -63.34    1.877e-28      -63.67*\n",
      "11       -63.85       -63.31    1.855e-28       -63.66\n",
      "12       -63.87       -63.27    1.826e-28       -63.66\n",
      "13       -63.87       -63.23    1.820e-28       -63.65\n",
      "14       -63.88       -63.18    1.813e-28       -63.63\n",
      "15       -63.88       -63.13    1.814e-28       -63.62\n",
      "16       -63.89       -63.10    1.792e-28       -63.61\n",
      "17       -63.89       -63.05    1.786e-28       -63.60\n",
      "18       -63.90       -63.01    1.774e-28       -63.59\n",
      "19       -63.90       -62.96    1.780e-28       -63.57\n",
      "20      -63.90*       -62.91   1.774e-28*       -63.55\n",
      "21       -63.90       -62.86    1.777e-28       -63.53\n",
      "22       -63.90       -62.81    1.781e-28       -63.51\n",
      "23       -63.90       -62.76    1.780e-28       -63.50\n",
      "24       -63.89       -62.71    1.788e-28       -63.47\n",
      "25       -63.89       -62.65    1.796e-28       -63.45\n",
      "26       -63.88       -62.60    1.806e-28       -63.43\n",
      "27       -63.88       -62.55    1.802e-28       -63.42\n",
      "28       -63.88       -62.50    1.808e-28       -63.39\n",
      "29       -63.88       -62.45    1.815e-28       -63.37\n",
      "30       -63.87       -62.39    1.825e-28       -63.35\n",
      "======================================================\n",
      "* Minimum\n",
      "\n"
     ]
    },
    {
     "data": {
      "text/plain": [
       "{'aic': 20, 'bic': 6, 'fpe': 20, 'hqic': 10}"
      ]
     },
     "execution_count": 608,
     "metadata": {},
     "output_type": "execute_result"
    }
   ],
   "source": [
    "selecting_model(C_ret,['cl_C_ret','hi_C_ret', 'lo_C_ret', 'se_C_ret', 'volume_C_ret', 'oi_C_ret'])"
   ]
  },
  {
   "cell_type": "markdown",
   "metadata": {},
   "source": [
    "As before we test the model using a rolling forecast for the given data. "
   ]
  },
  {
   "cell_type": "code",
   "execution_count": 620,
   "metadata": {
    "collapsed": true
   },
   "outputs": [],
   "source": [
    "l = list(C_ret.columns)\n",
    "test, predictions = VAR_rolling_forecast(C_ret,l,8,split = 0.8)"
   ]
  },
  {
   "cell_type": "code",
   "execution_count": 621,
   "metadata": {
    "collapsed": true
   },
   "outputs": [],
   "source": [
    "size = int(len(C_ret)*0.8)\n",
    "test,predictions = recover_asset_predictions(C['cl_C'],size,test,predictions)"
   ]
  },
  {
   "cell_type": "code",
   "execution_count": 622,
   "metadata": {},
   "outputs": [
    {
     "data": {
      "text/plain": [
       "0.0053664032561036275"
      ]
     },
     "execution_count": 622,
     "metadata": {},
     "output_type": "execute_result"
    }
   ],
   "source": [
    "MSE(test,predictions)"
   ]
  },
  {
   "cell_type": "code",
   "execution_count": 623,
   "metadata": {},
   "outputs": [
    {
     "data": {
      "text/plain": [
       "0.0026665390378986368"
      ]
     },
     "execution_count": 623,
     "metadata": {},
     "output_type": "execute_result"
    }
   ],
   "source": [
    "MASE(test,predictions)"
   ]
  },
  {
   "cell_type": "markdown",
   "metadata": {},
   "source": [
    "The scores dont beat the ARIMA model and hence as before we tune our parameters a little differently. "
   ]
  },
  {
   "cell_type": "code",
   "execution_count": 625,
   "metadata": {
    "collapsed": true
   },
   "outputs": [],
   "source": [
    "MASE_list = []\n",
    "MSE_list = []\n",
    "for p in range(1,4):\n",
    "    size1 = int(len(C_ret)*.8)\n",
    "    test, predictions = VAR_rolling_forecast(C_ret[0:size1],l,p,0.8) \n",
    "    size = int(len(C_ret[0:size1])*0.80)\n",
    "    test,predictions = recover_asset_predictions(C[0:size1+1]['cl_C'],size,test,predictions) \n",
    "    MSE_list.append(MSE(test,predictions))\n",
    "    MASE_list.append(MASE(test,predictions))"
   ]
  },
  {
   "cell_type": "code",
   "execution_count": 626,
   "metadata": {},
   "outputs": [
    {
     "data": {
      "text/plain": [
       "[0.025736212245157174, 0.02563450133973098, 0.025611945048193214]"
      ]
     },
     "execution_count": 626,
     "metadata": {},
     "output_type": "execute_result"
    }
   ],
   "source": [
    "MSE_list"
   ]
  },
  {
   "cell_type": "code",
   "execution_count": 627,
   "metadata": {},
   "outputs": [
    {
     "data": {
      "text/plain": [
       "[0.012152718855116221, 0.012149289443367423, 0.012144735674699349]"
      ]
     },
     "execution_count": 627,
     "metadata": {},
     "output_type": "execute_result"
    }
   ],
   "source": [
    "MASE_list"
   ]
  },
  {
   "cell_type": "markdown",
   "metadata": {},
   "source": [
    "We see that the VAR(3) model outperforms the other models. We tested this model on the remaining data but found it doesn't not outperform the ARIMA model. Hence, we test the Var(2) model to see if we can beat the ARIMA(2,1,0) model\n",
    "from before. "
   ]
  },
  {
   "cell_type": "code",
   "execution_count": 632,
   "metadata": {},
   "outputs": [
    {
     "name": "stdout",
     "output_type": "stream",
     "text": [
      "The MSE is 0.00535723653469\n",
      "The MASE is 0.00264804927587\n"
     ]
    }
   ],
   "source": [
    "test, predictions = VAR_rolling_forecast(C_ret,l,2,0.8) \n",
    "size = int(len(C_ret)*0.80)\n",
    "test,predictions = recover_asset_predictions(C['cl_C'],size,test,predictions) \n",
    "print(\"The MSE is \" + str(MSE(test,predictions)))\n",
    "print(\"The MASE is \" + str(MASE(test,predictions)))"
   ]
  },
  {
   "cell_type": "markdown",
   "metadata": {},
   "source": [
    "We observe a slight improvement in model performance. "
   ]
  },
  {
   "cell_type": "code",
   "execution_count": 633,
   "metadata": {},
   "outputs": [
    {
     "data": {
      "image/png": "[encoded data removed]",
      "text/plain": [
       "<matplotlib.figure.Figure at 0x1c139228d0>"
      ]
     },
     "metadata": {},
     "output_type": "display_data"
    }
   ],
   "source": [
    "plot_predictions(test,predictions)"
   ]
  },
  {
   "cell_type": "markdown",
   "metadata": {},
   "source": [
    "# We predict the closing price of asset D"
   ]
  },
  {
   "cell_type": "code",
   "execution_count": 737,
   "metadata": {},
   "outputs": [
    {
     "data": {
      "text/plain": [
       "date         0\n",
       "cl_D         6\n",
       "lo_D         6\n",
       "se_D         0\n",
       "volume_D     8\n",
       "oi_D        11\n",
       "hi_D         6\n",
       "dtype: int64"
      ]
     },
     "execution_count": 737,
     "metadata": {},
     "output_type": "execute_result"
    }
   ],
   "source": [
    "D.isnull().sum()"
   ]
  },
  {
   "cell_type": "code",
   "execution_count": 738,
   "metadata": {
    "collapsed": true
   },
   "outputs": [],
   "source": [
    "D = D.fillna(D.mean())"
   ]
  },
  {
   "cell_type": "code",
   "execution_count": 739,
   "metadata": {
    "collapsed": true
   },
   "outputs": [],
   "source": [
    "mean_volume_D = D['volume_D'].mean()\n",
    "D['volume_D']= D.volume_D.mask(D.volume_D == 0,mean_volume_D)\n",
    "mean_oi_D = D['oi_D'].mean()\n",
    "D['oi_D']= D.oi_D.mask(D.oi_D == 0,mean_oi_D)"
   ]
  },
  {
   "cell_type": "code",
   "execution_count": 740,
   "metadata": {},
   "outputs": [],
   "source": [
    "\"\"\"Since we have changed the dataframe D, we redefine D_ret\"\"\"\n",
    "D_ret = D.copy()\n",
    "del(D_ret['date'])\n",
    "D_ret = D_ret.pct_change()\n",
    "D_ret = D_ret.dropna(axis = 0)"
   ]
  },
  {
   "cell_type": "code",
   "execution_count": 741,
   "metadata": {
    "collapsed": true
   },
   "outputs": [],
   "source": [
    "add_ret(D_ret)"
   ]
  },
  {
   "cell_type": "code",
   "execution_count": 742,
   "metadata": {},
   "outputs": [
    {
     "data": {
      "text/html": [
       "<div>\n",
       "<style>\n",
       "    .dataframe thead tr:only-child th {\n",
       "        text-align: right;\n",
       "    }\n",
       "\n",
       "    .dataframe thead th {\n",
       "        text-align: left;\n",
       "    }\n",
       "\n",
       "    .dataframe tbody tr th {\n",
       "        vertical-align: top;\n",
       "    }\n",
       "</style>\n",
       "<table border=\"1\" class=\"dataframe\">\n",
       "  <thead>\n",
       "    <tr style=\"text-align: right;\">\n",
       "      <th></th>\n",
       "      <th>cl_D_ret</th>\n",
       "      <th>lo_D_ret</th>\n",
       "      <th>se_D_ret</th>\n",
       "      <th>volume_D_ret</th>\n",
       "      <th>oi_D_ret</th>\n",
       "      <th>hi_D_ret</th>\n",
       "    </tr>\n",
       "  </thead>\n",
       "  <tbody>\n",
       "    <tr>\n",
       "      <th>count</th>\n",
       "      <td>10024.000000</td>\n",
       "      <td>10024.000000</td>\n",
       "      <td>10024.000000</td>\n",
       "      <td>10024.000000</td>\n",
       "      <td>10024.000000</td>\n",
       "      <td>10024.000000</td>\n",
       "    </tr>\n",
       "    <tr>\n",
       "      <th>mean</th>\n",
       "      <td>0.000184</td>\n",
       "      <td>0.000177</td>\n",
       "      <td>0.000169</td>\n",
       "      <td>23.366408</td>\n",
       "      <td>0.006579</td>\n",
       "      <td>0.000177</td>\n",
       "    </tr>\n",
       "    <tr>\n",
       "      <th>std</th>\n",
       "      <td>0.008950</td>\n",
       "      <td>0.008093</td>\n",
       "      <td>0.007047</td>\n",
       "      <td>2252.308801</td>\n",
       "      <td>0.262218</td>\n",
       "      <td>0.008088</td>\n",
       "    </tr>\n",
       "    <tr>\n",
       "      <th>min</th>\n",
       "      <td>-0.184909</td>\n",
       "      <td>-0.184259</td>\n",
       "      <td>-0.032905</td>\n",
       "      <td>-0.999998</td>\n",
       "      <td>-0.957955</td>\n",
       "      <td>-0.184553</td>\n",
       "    </tr>\n",
       "    <tr>\n",
       "      <th>25%</th>\n",
       "      <td>-0.003918</td>\n",
       "      <td>-0.003032</td>\n",
       "      <td>-0.003646</td>\n",
       "      <td>-0.222465</td>\n",
       "      <td>-0.012464</td>\n",
       "      <td>-0.003045</td>\n",
       "    </tr>\n",
       "    <tr>\n",
       "      <th>50%</th>\n",
       "      <td>0.000277</td>\n",
       "      <td>0.000277</td>\n",
       "      <td>0.000273</td>\n",
       "      <td>0.003471</td>\n",
       "      <td>0.000886</td>\n",
       "      <td>0.000000</td>\n",
       "    </tr>\n",
       "    <tr>\n",
       "      <th>75%</th>\n",
       "      <td>0.004278</td>\n",
       "      <td>0.003446</td>\n",
       "      <td>0.004084</td>\n",
       "      <td>0.297815</td>\n",
       "      <td>0.016089</td>\n",
       "      <td>0.003434</td>\n",
       "    </tr>\n",
       "    <tr>\n",
       "      <th>max</th>\n",
       "      <td>0.229256</td>\n",
       "      <td>0.234833</td>\n",
       "      <td>0.040624</td>\n",
       "      <td>225446.000000</td>\n",
       "      <td>21.371707</td>\n",
       "      <td>0.231097</td>\n",
       "    </tr>\n",
       "  </tbody>\n",
       "</table>\n",
       "</div>"
      ],
      "text/plain": [
       "           cl_D_ret      lo_D_ret      se_D_ret   volume_D_ret      oi_D_ret  \\\n",
       "count  10024.000000  10024.000000  10024.000000   10024.000000  10024.000000   \n",
       "mean       0.000184      0.000177      0.000169      23.366408      0.006579   \n",
       "std        0.008950      0.008093      0.007047    2252.308801      0.262218   \n",
       "min       -0.184909     -0.184259     -0.032905      -0.999998     -0.957955   \n",
       "25%       -0.003918     -0.003032     -0.003646      -0.222465     -0.012464   \n",
       "50%        0.000277      0.000277      0.000273       0.003471      0.000886   \n",
       "75%        0.004278      0.003446      0.004084       0.297815      0.016089   \n",
       "max        0.229256      0.234833      0.040624  225446.000000     21.371707   \n",
       "\n",
       "           hi_D_ret  \n",
       "count  10024.000000  \n",
       "mean       0.000177  \n",
       "std        0.008088  \n",
       "min       -0.184553  \n",
       "25%       -0.003045  \n",
       "50%        0.000000  \n",
       "75%        0.003434  \n",
       "max        0.231097  "
      ]
     },
     "execution_count": 742,
     "metadata": {},
     "output_type": "execute_result"
    }
   ],
   "source": [
    "D_ret.describe()"
   ]
  },
  {
   "cell_type": "markdown",
   "metadata": {},
   "source": [
    "We observe that the feature 'volume_D_ret' has some issues with it, in that the standard deviation is extremely \n",
    "large compared to the mean. We fix this by adjusting the values at the outliers. "
   ]
  },
  {
   "cell_type": "code",
   "execution_count": 745,
   "metadata": {},
   "outputs": [
    {
     "data": {
      "image/png": "[encoded data removed]",
      "text/plain": [
       "<matplotlib.figure.Figure at 0x1c1d2315c0>"
      ]
     },
     "metadata": {},
     "output_type": "display_data"
    }
   ],
   "source": [
    "plt.plot(D_ret['volume_D_ret'])\n",
    "plt.show()"
   ]
  },
  {
   "cell_type": "code",
   "execution_count": 746,
   "metadata": {},
   "outputs": [
    {
     "name": "stdout",
     "output_type": "stream",
     "text": [
      "[2328, 4315, 5516, 6716, 6739]\n"
     ]
    }
   ],
   "source": [
    "outliers = []\n",
    "for j in range(len(D_ret)):\n",
    "    if D_ret['volume_D_ret'][j] > 100:\n",
    "        outliers.append(j)\n",
    "print(outliers)        "
   ]
  },
  {
   "cell_type": "code",
   "execution_count": 747,
   "metadata": {
    "collapsed": true
   },
   "outputs": [],
   "source": [
    "for j in outliers:\n",
    "    D_ret['volume_D_ret'][j] = D_ret['volume_D_ret'].mean()"
   ]
  },
  {
   "cell_type": "code",
   "execution_count": 748,
   "metadata": {},
   "outputs": [
    {
     "data": {
      "text/html": [
       "<div>\n",
       "<style>\n",
       "    .dataframe thead tr:only-child th {\n",
       "        text-align: right;\n",
       "    }\n",
       "\n",
       "    .dataframe thead th {\n",
       "        text-align: left;\n",
       "    }\n",
       "\n",
       "    .dataframe tbody tr th {\n",
       "        vertical-align: top;\n",
       "    }\n",
       "</style>\n",
       "<table border=\"1\" class=\"dataframe\">\n",
       "  <thead>\n",
       "    <tr style=\"text-align: right;\">\n",
       "      <th></th>\n",
       "      <th>cl_D_ret</th>\n",
       "      <th>lo_D_ret</th>\n",
       "      <th>se_D_ret</th>\n",
       "      <th>volume_D_ret</th>\n",
       "      <th>oi_D_ret</th>\n",
       "      <th>hi_D_ret</th>\n",
       "    </tr>\n",
       "  </thead>\n",
       "  <tbody>\n",
       "    <tr>\n",
       "      <th>count</th>\n",
       "      <td>10024.000000</td>\n",
       "      <td>10024.000000</td>\n",
       "      <td>10024.000000</td>\n",
       "      <td>10024.000000</td>\n",
       "      <td>10024.000000</td>\n",
       "      <td>10024.000000</td>\n",
       "    </tr>\n",
       "    <tr>\n",
       "      <th>mean</th>\n",
       "      <td>0.000184</td>\n",
       "      <td>0.000177</td>\n",
       "      <td>0.000169</td>\n",
       "      <td>0.156140</td>\n",
       "      <td>0.006579</td>\n",
       "      <td>0.000177</td>\n",
       "    </tr>\n",
       "    <tr>\n",
       "      <th>std</th>\n",
       "      <td>0.008950</td>\n",
       "      <td>0.008093</td>\n",
       "      <td>0.007047</td>\n",
       "      <td>1.163974</td>\n",
       "      <td>0.262218</td>\n",
       "      <td>0.008088</td>\n",
       "    </tr>\n",
       "    <tr>\n",
       "      <th>min</th>\n",
       "      <td>-0.184909</td>\n",
       "      <td>-0.184259</td>\n",
       "      <td>-0.032905</td>\n",
       "      <td>-0.999998</td>\n",
       "      <td>-0.957955</td>\n",
       "      <td>-0.184553</td>\n",
       "    </tr>\n",
       "    <tr>\n",
       "      <th>25%</th>\n",
       "      <td>-0.003918</td>\n",
       "      <td>-0.003032</td>\n",
       "      <td>-0.003646</td>\n",
       "      <td>-0.222465</td>\n",
       "      <td>-0.012464</td>\n",
       "      <td>-0.003045</td>\n",
       "    </tr>\n",
       "    <tr>\n",
       "      <th>50%</th>\n",
       "      <td>0.000277</td>\n",
       "      <td>0.000277</td>\n",
       "      <td>0.000273</td>\n",
       "      <td>0.003471</td>\n",
       "      <td>0.000886</td>\n",
       "      <td>0.000000</td>\n",
       "    </tr>\n",
       "    <tr>\n",
       "      <th>75%</th>\n",
       "      <td>0.004278</td>\n",
       "      <td>0.003446</td>\n",
       "      <td>0.004084</td>\n",
       "      <td>0.297636</td>\n",
       "      <td>0.016089</td>\n",
       "      <td>0.003434</td>\n",
       "    </tr>\n",
       "    <tr>\n",
       "      <th>max</th>\n",
       "      <td>0.229256</td>\n",
       "      <td>0.234833</td>\n",
       "      <td>0.040624</td>\n",
       "      <td>52.438596</td>\n",
       "      <td>21.371707</td>\n",
       "      <td>0.231097</td>\n",
       "    </tr>\n",
       "  </tbody>\n",
       "</table>\n",
       "</div>"
      ],
      "text/plain": [
       "           cl_D_ret      lo_D_ret      se_D_ret  volume_D_ret      oi_D_ret  \\\n",
       "count  10024.000000  10024.000000  10024.000000  10024.000000  10024.000000   \n",
       "mean       0.000184      0.000177      0.000169      0.156140      0.006579   \n",
       "std        0.008950      0.008093      0.007047      1.163974      0.262218   \n",
       "min       -0.184909     -0.184259     -0.032905     -0.999998     -0.957955   \n",
       "25%       -0.003918     -0.003032     -0.003646     -0.222465     -0.012464   \n",
       "50%        0.000277      0.000277      0.000273      0.003471      0.000886   \n",
       "75%        0.004278      0.003446      0.004084      0.297636      0.016089   \n",
       "max        0.229256      0.234833      0.040624     52.438596     21.371707   \n",
       "\n",
       "           hi_D_ret  \n",
       "count  10024.000000  \n",
       "mean       0.000177  \n",
       "std        0.008088  \n",
       "min       -0.184553  \n",
       "25%       -0.003045  \n",
       "50%        0.000000  \n",
       "75%        0.003434  \n",
       "max        0.231097  "
      ]
     },
     "execution_count": 748,
     "metadata": {},
     "output_type": "execute_result"
    }
   ],
   "source": [
    "D_ret.describe()"
   ]
  },
  {
   "cell_type": "code",
   "execution_count": 749,
   "metadata": {
    "scrolled": true
   },
   "outputs": [
    {
     "data": {
      "image/png": "[encoded data removed]",
      "text/plain": [
       "<matplotlib.figure.Figure at 0x1c1dae13c8>"
      ]
     },
     "execution_count": 749,
     "metadata": {},
     "output_type": "execute_result"
    }
   ],
   "source": [
    "plot_acf(D_ret['cl_D_ret'],lags = 60,alpha = 0.5)"
   ]
  },
  {
   "cell_type": "markdown",
   "metadata": {},
   "source": [
    "We observe a lag 1,22,23 and 24 auto correlation."
   ]
  },
  {
   "cell_type": "code",
   "execution_count": 647,
   "metadata": {},
   "outputs": [
    {
     "name": "stdout",
     "output_type": "stream",
     "text": [
      "The AIC list is \n",
      "[29946.645917331523, 29881.34861843575, 29878.690206779807, 29879.986834983632, 29880.76469433135]\n",
      "The BIC list is \n",
      "[29967.614624345944, 29909.306894454978, 29913.638051803842, 29921.924249012474, 29929.691677364997]\n"
     ]
    }
   ],
   "source": [
    "ARIMA_fitting_AIC_BIC_list(D['cl_D'])"
   ]
  },
  {
   "cell_type": "code",
   "execution_count": 649,
   "metadata": {},
   "outputs": [
    {
     "name": "stderr",
     "output_type": "stream",
     "text": [
      "/Users/Welliareetil/anaconda3/lib/python3.6/site-packages/statsmodels/base/model.py:496: ConvergenceWarning: Maximum Likelihood optimization failed to converge. Check mle_retvals\n",
      "  \"Check mle_retvals\", ConvergenceWarning)\n"
     ]
    }
   ],
   "source": [
    "testD, predictions_D110 = ARIMA_rolling_forecast(D['cl_D'],1,1,0)"
   ]
  },
  {
   "cell_type": "code",
   "execution_count": 207,
   "metadata": {},
   "outputs": [
    {
     "data": {
      "image/png": "[encoded data removed]",
      "text/plain": [
       "<matplotlib.figure.Figure at 0x1c153ccc88>"
      ]
     },
     "metadata": {},
     "output_type": "display_data"
    }
   ],
   "source": [
    "plot_predictions(testD,predictions_D110)"
   ]
  },
  {
   "cell_type": "code",
   "execution_count": 203,
   "metadata": {},
   "outputs": [
    {
     "name": "stdout",
     "output_type": "stream",
     "text": [
      "5.05740953847\n"
     ]
    }
   ],
   "source": [
    "MSE(testD,predictions_D110)"
   ]
  },
  {
   "cell_type": "code",
   "execution_count": 204,
   "metadata": {},
   "outputs": [
    {
     "name": "stdout",
     "output_type": "stream",
     "text": [
      "The mean absolute scaled error is 2.83227648473\n"
     ]
    }
   ],
   "source": [
    "MASE(testD,predictions_D110)"
   ]
  },
  {
   "cell_type": "markdown",
   "metadata": {},
   "source": [
    "The MASE indicates that the ARIMA model is a very poor predictor in this case. "
   ]
  },
  {
   "cell_type": "markdown",
   "metadata": {},
   "source": [
    "# VAR models for asset D"
   ]
  },
  {
   "cell_type": "code",
   "execution_count": 274,
   "metadata": {},
   "outputs": [
    {
     "data": {
      "text/html": [
       "<div>\n",
       "<style>\n",
       "    .dataframe thead tr:only-child th {\n",
       "        text-align: right;\n",
       "    }\n",
       "\n",
       "    .dataframe thead th {\n",
       "        text-align: left;\n",
       "    }\n",
       "\n",
       "    .dataframe tbody tr th {\n",
       "        vertical-align: top;\n",
       "    }\n",
       "</style>\n",
       "<table border=\"1\" class=\"dataframe\">\n",
       "  <thead>\n",
       "    <tr style=\"text-align: right;\">\n",
       "      <th></th>\n",
       "      <th>op_D</th>\n",
       "      <th>hi_D</th>\n",
       "      <th>lo_D</th>\n",
       "      <th>se_D</th>\n",
       "      <th>volume_D</th>\n",
       "      <th>oi_D</th>\n",
       "      <th>cl_D</th>\n",
       "    </tr>\n",
       "    <tr>\n",
       "      <th>date</th>\n",
       "      <th></th>\n",
       "      <th></th>\n",
       "      <th></th>\n",
       "      <th></th>\n",
       "      <th></th>\n",
       "      <th></th>\n",
       "      <th></th>\n",
       "    </tr>\n",
       "  </thead>\n",
       "  <tbody>\n",
       "    <tr>\n",
       "      <th>1978-02-14</th>\n",
       "      <td>100.032467</td>\n",
       "      <td>100.064934</td>\n",
       "      <td>99.773147</td>\n",
       "      <td>100.000000</td>\n",
       "      <td>209.530092</td>\n",
       "      <td>1046.0</td>\n",
       "      <td>99.967637</td>\n",
       "    </tr>\n",
       "    <tr>\n",
       "      <th>1978-02-15</th>\n",
       "      <td>99.967637</td>\n",
       "      <td>99.967637</td>\n",
       "      <td>99.708318</td>\n",
       "      <td>99.773147</td>\n",
       "      <td>236.499312</td>\n",
       "      <td>1149.0</td>\n",
       "      <td>99.448998</td>\n",
       "    </tr>\n",
       "    <tr>\n",
       "      <th>1978-02-16</th>\n",
       "      <td>99.448998</td>\n",
       "      <td>99.546295</td>\n",
       "      <td>99.319338</td>\n",
       "      <td>99.416635</td>\n",
       "      <td>290.437752</td>\n",
       "      <td>1218.0</td>\n",
       "      <td>99.708318</td>\n",
       "    </tr>\n",
       "    <tr>\n",
       "      <th>1978-02-17</th>\n",
       "      <td>99.708318</td>\n",
       "      <td>99.805614</td>\n",
       "      <td>99.513828</td>\n",
       "      <td>99.805614</td>\n",
       "      <td>350.599858</td>\n",
       "      <td>1200.0</td>\n",
       "      <td>99.675954</td>\n",
       "    </tr>\n",
       "    <tr>\n",
       "      <th>1978-02-21</th>\n",
       "      <td>99.675954</td>\n",
       "      <td>99.708318</td>\n",
       "      <td>99.448998</td>\n",
       "      <td>99.481361</td>\n",
       "      <td>276.953142</td>\n",
       "      <td>1323.0</td>\n",
       "      <td>99.481361</td>\n",
       "    </tr>\n",
       "  </tbody>\n",
       "</table>\n",
       "</div>"
      ],
      "text/plain": [
       "                  op_D        hi_D       lo_D        se_D    volume_D    oi_D  \\\n",
       "date                                                                            \n",
       "1978-02-14  100.032467  100.064934  99.773147  100.000000  209.530092  1046.0   \n",
       "1978-02-15   99.967637   99.967637  99.708318   99.773147  236.499312  1149.0   \n",
       "1978-02-16   99.448998   99.546295  99.319338   99.416635  290.437752  1218.0   \n",
       "1978-02-17   99.708318   99.805614  99.513828   99.805614  350.599858  1200.0   \n",
       "1978-02-21   99.675954   99.708318  99.448998   99.481361  276.953142  1323.0   \n",
       "\n",
       "                 cl_D  \n",
       "date                   \n",
       "1978-02-14  99.967637  \n",
       "1978-02-15  99.448998  \n",
       "1978-02-16  99.708318  \n",
       "1978-02-17  99.675954  \n",
       "1978-02-21  99.481361  "
      ]
     },
     "execution_count": 274,
     "metadata": {},
     "output_type": "execute_result"
    }
   ],
   "source": [
    "add_ret(D_ret)"
   ]
  },
  {
   "cell_type": "code",
   "execution_count": 277,
   "metadata": {},
   "outputs": [
    {
     "name": "stdout",
     "output_type": "stream",
     "text": [
      "                 VAR Order Selection                  \n",
      "======================================================\n",
      "            aic          bic          fpe         hqic\n",
      "------------------------------------------------------\n",
      "0         50.26        50.26    6.696e+21        50.26\n",
      "1         36.16        36.20    5.072e+15        36.18\n",
      "2         36.02        36.10    4.405e+15        36.05\n",
      "3         35.95        36.06    4.105e+15        35.99\n",
      "4         35.89        36.04    3.854e+15        35.94\n",
      "5         35.82       36.00*    3.594e+15        35.88\n",
      "6         35.80        36.02    3.530e+15       35.87*\n",
      "7         35.79        36.04    3.501e+15        35.88\n",
      "8         35.79        36.07    3.480e+15        35.89\n",
      "9         35.77        36.10    3.437e+15        35.88\n",
      "10        35.76        36.12    3.407e+15        35.89\n",
      "11        35.76        36.16    3.397e+15        35.90\n",
      "12        35.76        36.19    3.406e+15        35.91\n",
      "13        35.76        36.23    3.403e+15        35.92\n",
      "14        35.76        36.26    3.396e+15        35.93\n",
      "15        35.76        36.29    3.377e+15        35.94\n",
      "16        35.76        36.33    3.380e+15        35.95\n",
      "17        35.76        36.36    3.386e+15        35.97\n",
      "18        35.76        36.40    3.399e+15        35.98\n",
      "19        35.76        36.43    3.382e+15        35.99\n",
      "20        35.76        36.47    3.379e+15        36.00\n",
      "21        35.75        36.50    3.360e+15        36.01\n",
      "22        35.75        36.54    3.370e+15        36.02\n",
      "23        35.75        36.57    3.354e+15        36.03\n",
      "24        35.74        36.59    3.319e+15        36.03\n",
      "25       35.74*        36.62   3.311e+15*        36.04\n",
      "26        35.74        36.66    3.317e+15        36.06\n",
      "27        35.74        36.70    3.330e+15        36.07\n",
      "28        35.74        36.74    3.340e+15        36.09\n",
      "29        35.75        36.78    3.346e+15        36.10\n",
      "30        35.75        36.81    3.352e+15        36.12\n",
      "======================================================\n",
      "* Minimum\n",
      "\n"
     ]
    },
    {
     "data": {
      "text/plain": [
       "{'aic': 25, 'bic': 5, 'fpe': 25, 'hqic': 6}"
      ]
     },
     "execution_count": 277,
     "metadata": {},
     "output_type": "execute_result"
    }
   ],
   "source": [
    "selecting_model(D_ret,['cl_D_ret','hi_D_ret', 'lo_D_ret', 'se_D_ret', 'volume_D_ret', 'oi_D_ret'])"
   ]
  },
  {
   "cell_type": "code",
   "execution_count": 665,
   "metadata": {
    "collapsed": true
   },
   "outputs": [],
   "source": [
    "lD = ['cl_D_ret','hi_D_ret', 'lo_D_ret', 'se_D_ret', 'volume_D_ret', 'oi_D_ret']\n",
    "test, predictions = VAR_rolling_forecast(D_ret,lD,25,split = 0.8)"
   ]
  },
  {
   "cell_type": "code",
   "execution_count": 666,
   "metadata": {},
   "outputs": [],
   "source": [
    "size = int(len(D_ret)*0.8)\n",
    "test,predictions = recover_asset_predictions(D['cl_D'],size,test,predictions)"
   ]
  },
  {
   "cell_type": "code",
   "execution_count": 667,
   "metadata": {},
   "outputs": [
    {
     "data": {
      "text/plain": [
       "5.764499266544922"
      ]
     },
     "execution_count": 667,
     "metadata": {},
     "output_type": "execute_result"
    }
   ],
   "source": [
    "MSE(test,predictions)"
   ]
  },
  {
   "cell_type": "code",
   "execution_count": 668,
   "metadata": {},
   "outputs": [
    {
     "data": {
      "text/plain": [
       "3.3377526042249217"
      ]
     },
     "execution_count": 668,
     "metadata": {},
     "output_type": "execute_result"
    }
   ],
   "source": [
    "MASE(test,predictions)"
   ]
  },
  {
   "cell_type": "markdown",
   "metadata": {},
   "source": [
    "We use another method other than simply looking at the BIC/AIC score to tune\n",
    "parameters. We are restricted computationaly and cannot tune in this way for large p. "
   ]
  },
  {
   "cell_type": "code",
   "execution_count": 671,
   "metadata": {},
   "outputs": [],
   "source": [
    "MASE_list = []\n",
    "MSE_list = []\n",
    "for p in range(1,4):\n",
    "    size1 = int(len(D_ret)*.8)\n",
    "    test, predictions = VAR_rolling_forecast(D_ret[0:size1],lD,p,0.8) \n",
    "    size = int(len(D_ret[0:size1])*0.80)\n",
    "    test,predictions = recover_asset_predictions(D[0:size1+1]['cl_D'],size,test,predictions) \n",
    "    MSE_list.append(MSE(test,predictions))\n",
    "    MASE_list.append(MASE(test,predictions))"
   ]
  },
  {
   "cell_type": "code",
   "execution_count": 672,
   "metadata": {},
   "outputs": [
    {
     "data": {
      "text/plain": [
       "[8.384365491663047, 8.1799299237406196, 8.1657964264485958]"
      ]
     },
     "execution_count": 672,
     "metadata": {},
     "output_type": "execute_result"
    }
   ],
   "source": [
    "MSE_list"
   ]
  },
  {
   "cell_type": "code",
   "execution_count": 673,
   "metadata": {},
   "outputs": [
    {
     "data": {
      "text/plain": [
       "[2.1223588938750706, 2.1136704770296002, 2.1253696863717657]"
      ]
     },
     "execution_count": 673,
     "metadata": {},
     "output_type": "execute_result"
    }
   ],
   "source": [
    "MASE_list"
   ]
  },
  {
   "cell_type": "markdown",
   "metadata": {},
   "source": [
    "We test the VAR(2) model on the remaining data. "
   ]
  },
  {
   "cell_type": "code",
   "execution_count": 676,
   "metadata": {},
   "outputs": [
    {
     "name": "stdout",
     "output_type": "stream",
     "text": [
      "The MSE is5.68279760294\n",
      "The MASE is3.31630850974\n"
     ]
    }
   ],
   "source": [
    "test, predictions = VAR_rolling_forecast(D_ret,lD,2,0.8) \n",
    "size = int(len(D_ret)*0.80)\n",
    "test,predictions = recover_asset_predictions(D['cl_D'],size,test,predictions) \n",
    "print(\"The MSE is \" + str(MSE(test,predictions)))\n",
    "print(\"The MASE is \" + str(MASE(test,predictions)))"
   ]
  },
  {
   "cell_type": "code",
   "execution_count": 678,
   "metadata": {},
   "outputs": [
    {
     "data": {
      "image/png": "[encoded data removed]",
      "text/plain": [
       "<matplotlib.figure.Figure at 0x1c1d100d30>"
      ]
     },
     "metadata": {},
     "output_type": "display_data"
    }
   ],
   "source": [
    "plot_predictions(test,predictions)"
   ]
  },
  {
   "cell_type": "code",
   "execution_count": null,
   "metadata": {
    "collapsed": true
   },
   "outputs": [],
   "source": [
    "We observe that the simple ARIMA(1,1,0) model performs better in this case."
   ]
  },
  {
   "cell_type": "markdown",
   "metadata": {},
   "source": [
    "# Joint VAR models for A,B,C and D"
   ]
  },
  {
   "cell_type": "code",
   "execution_count": 751,
   "metadata": {},
   "outputs": [],
   "source": [
    "returns = A_ret.join(B_ret,how = 'inner')\n",
    "returns = returns.join(C_ret,how = \"inner\")\n",
    "returns = returns.join(D_ret,how = 'inner')"
   ]
  },
  {
   "cell_type": "code",
   "execution_count": 775,
   "metadata": {},
   "outputs": [],
   "source": [
    "combined_data = A.merge(B,on = 'date')\n",
    "combined_data = combined_data.merge(C,on = 'date')\n",
    "combined_data = combined_data.merge(D,on = 'date')"
   ]
  },
  {
   "cell_type": "code",
   "execution_count": 790,
   "metadata": {},
   "outputs": [
    {
     "data": {
      "text/plain": [
       "6820"
      ]
     },
     "execution_count": 790,
     "metadata": {},
     "output_type": "execute_result"
    }
   ],
   "source": [
    "len(combined_data)"
   ]
  },
  {
   "cell_type": "code",
   "execution_count": 791,
   "metadata": {},
   "outputs": [
    {
     "data": {
      "text/plain": [
       "6819"
      ]
     },
     "execution_count": 791,
     "metadata": {},
     "output_type": "execute_result"
    }
   ],
   "source": [
    "len(returns)"
   ]
  },
  {
   "cell_type": "code",
   "execution_count": 753,
   "metadata": {},
   "outputs": [
    {
     "name": "stdout",
     "output_type": "stream",
     "text": [
      "                 VAR Order Selection                  \n",
      "======================================================\n",
      "            aic          bic          fpe         hqic\n",
      "------------------------------------------------------\n",
      "0        -71.10       -71.08    1.326e-31       -71.09\n",
      "1        -71.86      -71.65*    6.158e-32      -71.79*\n",
      "2        -71.90       -71.49    5.940e-32       -71.76\n",
      "3       -71.90*       -71.30   5.936e-32*       -71.69\n",
      "4        -71.87       -71.07    6.111e-32       -71.59\n",
      "5        -71.85       -70.85    6.264e-32       -71.50\n",
      "6        -71.81       -70.62    6.490e-32       -71.39\n",
      "7        -71.79       -70.40    6.668e-32       -71.30\n",
      "8        -71.75       -70.17    6.891e-32       -71.20\n",
      "9        -71.72       -69.94    7.112e-32       -71.09\n",
      "10       -71.69       -69.72    7.305e-32       -71.00\n",
      "11       -71.66       -69.49    7.524e-32       -70.90\n",
      "12       -71.66       -69.29    7.533e-32       -70.83\n",
      "13       -71.63       -69.06    7.825e-32       -70.72\n",
      "14       -71.59       -68.83    8.086e-32       -70.62\n",
      "15       -71.57       -68.60    8.314e-32       -70.52\n",
      "16       -71.57       -68.41    8.289e-32       -70.46\n",
      "17       -71.54       -68.18    8.567e-32       -70.36\n",
      "18       -71.50       -67.95    8.882e-32       -70.25\n",
      "19       -71.46       -67.72    9.212e-32       -70.15\n",
      "20       -71.43       -67.48    9.569e-32       -70.04\n",
      "21       -71.40       -67.26    9.830e-32       -69.94\n",
      "22       -71.48       -67.15    9.029e-32       -69.96\n",
      "23       -71.46       -66.93    9.279e-32       -69.86\n",
      "24       -71.43       -66.70    9.575e-32       -69.76\n",
      "25       -71.39       -66.47    9.876e-32       -69.66\n",
      "26       -71.36       -66.24    1.027e-31       -69.56\n",
      "27       -71.34       -66.02    1.045e-31       -69.47\n",
      "28       -71.32       -65.81    1.064e-31       -69.38\n",
      "29       -71.30       -65.59    1.088e-31       -69.29\n",
      "30       -71.27       -65.37    1.115e-31       -69.20\n",
      "======================================================\n",
      "* Minimum\n",
      "\n"
     ]
    },
    {
     "data": {
      "text/plain": [
       "{'aic': 3, 'bic': 1, 'fpe': 3, 'hqic': 1}"
      ]
     },
     "execution_count": 753,
     "metadata": {},
     "output_type": "execute_result"
    }
   ],
   "source": [
    "l = ['cl_A_ret','volume_A_ret','oi_A_ret',\n",
    "     'cl_B_ret','volume_B_ret','oi_B_ret',\n",
    "     'cl_C_ret','volume_C_ret','oi_C_ret','cl_D_ret','volume_D_ret','oi_D_ret']\n",
    "selecting_model(returns,l)"
   ]
  },
  {
   "cell_type": "code",
   "execution_count": 755,
   "metadata": {},
   "outputs": [],
   "source": [
    "l1 = ['cl_A_ret','cl_B_ret','cl_C_ret','cl_D_ret']\n",
    "test,predictions = VAR_rolling_forecast_general(returns,l,1,l1,1)"
   ]
  },
  {
   "cell_type": "code",
   "execution_count": 789,
   "metadata": {},
   "outputs": [
    {
     "name": "stdout",
     "output_type": "stream",
     "text": [
      "1364 1365\n",
      "1364 1365\n",
      "1364 1365\n",
      "1364 1365\n"
     ]
    }
   ],
   "source": [
    "l2 = ['cl_A','cl_B','cl_C','cl_D']\n",
    "MASE_d = {}\n",
    "MSE_d = {} \n",
    "size = int(len(returns)*0.80)\n",
    "for j in range(4):\n",
    "    test1,predictions1 = recover_asset_predictions(combined_data[l2[j]],size,test[(l1[j],1)],predictions[(l1[j],1)]) \n",
    "    print(len(test1),len(predictions1))\n",
    "    MASE_d[l2[j]] = MASE(test1,predictions1)\n",
    "    #MSE_d[l2[j]] = MSE(test1,predictions1)"
   ]
  },
  {
   "cell_type": "code",
   "execution_count": 786,
   "metadata": {},
   "outputs": [
    {
     "data": {
      "text/plain": [
       "{'cl_A': 0.092236011153598182,\n",
       " 'cl_B': 1.2414215322071314,\n",
       " 'cl_C': 0.0026948714670683334,\n",
       " 'cl_D': 3.3184645786956088}"
      ]
     },
     "execution_count": 786,
     "metadata": {},
     "output_type": "execute_result"
    }
   ],
   "source": [
    "MASE_d"
   ]
  },
  {
   "cell_type": "code",
   "execution_count": null,
   "metadata": {
    "collapsed": true
   },
   "outputs": [],
   "source": []
  },
  {
   "cell_type": "code",
   "execution_count": null,
   "metadata": {
    "collapsed": true
   },
   "outputs": [],
   "source": []
  },
  {
   "cell_type": "code",
   "execution_count": 224,
   "metadata": {
    "collapsed": true
   },
   "outputs": [],
   "source": [
    "del(B['date'])"
   ]
  },
  {
   "cell_type": "code",
   "execution_count": 265,
   "metadata": {
    "collapsed": true
   },
   "outputs": [],
   "source": [
    "BD = pd.concat([B,D],axis = 1,join = 'inner')"
   ]
  },
  {
   "cell_type": "code",
   "execution_count": 266,
   "metadata": {},
   "outputs": [
    {
     "data": {
      "text/html": [
       "<div>\n",
       "<style>\n",
       "    .dataframe thead tr:only-child th {\n",
       "        text-align: right;\n",
       "    }\n",
       "\n",
       "    .dataframe thead th {\n",
       "        text-align: left;\n",
       "    }\n",
       "\n",
       "    .dataframe tbody tr th {\n",
       "        vertical-align: top;\n",
       "    }\n",
       "</style>\n",
       "<table border=\"1\" class=\"dataframe\">\n",
       "  <thead>\n",
       "    <tr style=\"text-align: right;\">\n",
       "      <th></th>\n",
       "      <th>op_B</th>\n",
       "      <th>hi_B</th>\n",
       "      <th>lo_B</th>\n",
       "      <th>se_B</th>\n",
       "      <th>volume_B</th>\n",
       "      <th>oi_B</th>\n",
       "      <th>cl_B</th>\n",
       "      <th>op_D</th>\n",
       "      <th>hi_D</th>\n",
       "      <th>lo_D</th>\n",
       "      <th>se_D</th>\n",
       "      <th>volume_D</th>\n",
       "      <th>oi_D</th>\n",
       "      <th>cl_D</th>\n",
       "    </tr>\n",
       "  </thead>\n",
       "  <tbody>\n",
       "    <tr>\n",
       "      <th>count</th>\n",
       "      <td>8958.000000</td>\n",
       "      <td>8958.000000</td>\n",
       "      <td>8958.000000</td>\n",
       "      <td>8958.000000</td>\n",
       "      <td>8.958000e+03</td>\n",
       "      <td>8.958000e+03</td>\n",
       "      <td>8958.000000</td>\n",
       "      <td>8958.000000</td>\n",
       "      <td>8958.000000</td>\n",
       "      <td>8958.000000</td>\n",
       "      <td>8958.000000</td>\n",
       "      <td>8.958000e+03</td>\n",
       "      <td>8.958000e+03</td>\n",
       "      <td>8958.000000</td>\n",
       "    </tr>\n",
       "    <tr>\n",
       "      <th>mean</th>\n",
       "      <td>278.347689</td>\n",
       "      <td>279.155382</td>\n",
       "      <td>277.575751</td>\n",
       "      <td>278.383074</td>\n",
       "      <td>1.515650e+06</td>\n",
       "      <td>9.307285e+05</td>\n",
       "      <td>278.391427</td>\n",
       "      <td>211.947419</td>\n",
       "      <td>212.960079</td>\n",
       "      <td>210.973260</td>\n",
       "      <td>211.982228</td>\n",
       "      <td>5.070480e+05</td>\n",
       "      <td>4.465881e+05</td>\n",
       "      <td>211.988048</td>\n",
       "    </tr>\n",
       "    <tr>\n",
       "      <th>std</th>\n",
       "      <td>117.200014</td>\n",
       "      <td>117.482333</td>\n",
       "      <td>116.935893</td>\n",
       "      <td>117.216474</td>\n",
       "      <td>1.947028e+06</td>\n",
       "      <td>9.586177e+05</td>\n",
       "      <td>117.206232</td>\n",
       "      <td>105.147878</td>\n",
       "      <td>105.678383</td>\n",
       "      <td>104.640246</td>\n",
       "      <td>105.160036</td>\n",
       "      <td>3.185828e+05</td>\n",
       "      <td>2.247977e+05</td>\n",
       "      <td>105.159865</td>\n",
       "    </tr>\n",
       "    <tr>\n",
       "      <th>min</th>\n",
       "      <td>95.292938</td>\n",
       "      <td>95.598085</td>\n",
       "      <td>94.900607</td>\n",
       "      <td>95.380123</td>\n",
       "      <td>4.711110e+01</td>\n",
       "      <td>3.540000e+02</td>\n",
       "      <td>95.292938</td>\n",
       "      <td>56.797338</td>\n",
       "      <td>57.187801</td>\n",
       "      <td>56.527018</td>\n",
       "      <td>57.007588</td>\n",
       "      <td>1.455910e+00</td>\n",
       "      <td>3.831000e+03</td>\n",
       "      <td>56.797338</td>\n",
       "    </tr>\n",
       "    <tr>\n",
       "      <th>25%</th>\n",
       "      <td>173.717596</td>\n",
       "      <td>174.125397</td>\n",
       "      <td>173.334473</td>\n",
       "      <td>173.739709</td>\n",
       "      <td>4.372357e+04</td>\n",
       "      <td>7.742750e+04</td>\n",
       "      <td>173.735252</td>\n",
       "      <td>120.284422</td>\n",
       "      <td>120.749235</td>\n",
       "      <td>119.846912</td>\n",
       "      <td>120.276475</td>\n",
       "      <td>2.750221e+05</td>\n",
       "      <td>2.590438e+05</td>\n",
       "      <td>120.309910</td>\n",
       "    </tr>\n",
       "    <tr>\n",
       "      <th>50%</th>\n",
       "      <td>242.191170</td>\n",
       "      <td>242.753633</td>\n",
       "      <td>241.629628</td>\n",
       "      <td>242.162762</td>\n",
       "      <td>3.097504e+05</td>\n",
       "      <td>5.022365e+05</td>\n",
       "      <td>242.239978</td>\n",
       "      <td>186.171560</td>\n",
       "      <td>186.984460</td>\n",
       "      <td>185.484292</td>\n",
       "      <td>186.206348</td>\n",
       "      <td>4.678112e+05</td>\n",
       "      <td>4.321430e+05</td>\n",
       "      <td>186.189118</td>\n",
       "    </tr>\n",
       "    <tr>\n",
       "      <th>75%</th>\n",
       "      <td>367.077548</td>\n",
       "      <td>368.200222</td>\n",
       "      <td>365.224981</td>\n",
       "      <td>366.941840</td>\n",
       "      <td>2.799319e+06</td>\n",
       "      <td>1.688212e+06</td>\n",
       "      <td>367.176244</td>\n",
       "      <td>273.705867</td>\n",
       "      <td>275.697100</td>\n",
       "      <td>272.439932</td>\n",
       "      <td>274.137797</td>\n",
       "      <td>6.912303e+05</td>\n",
       "      <td>6.180605e+05</td>\n",
       "      <td>273.790591</td>\n",
       "    </tr>\n",
       "    <tr>\n",
       "      <th>max</th>\n",
       "      <td>514.614582</td>\n",
       "      <td>516.056248</td>\n",
       "      <td>513.533333</td>\n",
       "      <td>514.734721</td>\n",
       "      <td>1.638990e+07</td>\n",
       "      <td>3.314445e+06</td>\n",
       "      <td>514.614582</td>\n",
       "      <td>468.497084</td>\n",
       "      <td>469.158453</td>\n",
       "      <td>464.611543</td>\n",
       "      <td>468.083729</td>\n",
       "      <td>3.299994e+06</td>\n",
       "      <td>1.711428e+06</td>\n",
       "      <td>468.497084</td>\n",
       "    </tr>\n",
       "  </tbody>\n",
       "</table>\n",
       "</div>"
      ],
      "text/plain": [
       "              op_B         hi_B         lo_B         se_B      volume_B  \\\n",
       "count  8958.000000  8958.000000  8958.000000  8958.000000  8.958000e+03   \n",
       "mean    278.347689   279.155382   277.575751   278.383074  1.515650e+06   \n",
       "std     117.200014   117.482333   116.935893   117.216474  1.947028e+06   \n",
       "min      95.292938    95.598085    94.900607    95.380123  4.711110e+01   \n",
       "25%     173.717596   174.125397   173.334473   173.739709  4.372357e+04   \n",
       "50%     242.191170   242.753633   241.629628   242.162762  3.097504e+05   \n",
       "75%     367.077548   368.200222   365.224981   366.941840  2.799319e+06   \n",
       "max     514.614582   516.056248   513.533333   514.734721  1.638990e+07   \n",
       "\n",
       "               oi_B         cl_B         op_D         hi_D         lo_D  \\\n",
       "count  8.958000e+03  8958.000000  8958.000000  8958.000000  8958.000000   \n",
       "mean   9.307285e+05   278.391427   211.947419   212.960079   210.973260   \n",
       "std    9.586177e+05   117.206232   105.147878   105.678383   104.640246   \n",
       "min    3.540000e+02    95.292938    56.797338    57.187801    56.527018   \n",
       "25%    7.742750e+04   173.735252   120.284422   120.749235   119.846912   \n",
       "50%    5.022365e+05   242.239978   186.171560   186.984460   185.484292   \n",
       "75%    1.688212e+06   367.176244   273.705867   275.697100   272.439932   \n",
       "max    3.314445e+06   514.614582   468.497084   469.158453   464.611543   \n",
       "\n",
       "              se_D      volume_D          oi_D         cl_D  \n",
       "count  8958.000000  8.958000e+03  8.958000e+03  8958.000000  \n",
       "mean    211.982228  5.070480e+05  4.465881e+05   211.988048  \n",
       "std     105.160036  3.185828e+05  2.247977e+05   105.159865  \n",
       "min      57.007588  1.455910e+00  3.831000e+03    56.797338  \n",
       "25%     120.276475  2.750221e+05  2.590438e+05   120.309910  \n",
       "50%     186.206348  4.678112e+05  4.321430e+05   186.189118  \n",
       "75%     274.137797  6.912303e+05  6.180605e+05   273.790591  \n",
       "max     468.083729  3.299994e+06  1.711428e+06   468.497084  "
      ]
     },
     "execution_count": 266,
     "metadata": {},
     "output_type": "execute_result"
    }
   ],
   "source": [
    "BD.describe()"
   ]
  },
  {
   "cell_type": "code",
   "execution_count": 267,
   "metadata": {
    "collapsed": true
   },
   "outputs": [],
   "source": [
    "\"\"\"Since we have changed the dataframe D, we redefine D_ret\"\"\"\n",
    "BD_ret = BD.copy()\n",
    "#del(BD_ret['date'])\n",
    "BD_ret = BD_ret.pct_change()\n",
    "BD_ret = BD_ret.dropna(axis = 0)"
   ]
  },
  {
   "cell_type": "code",
   "execution_count": 268,
   "metadata": {
    "collapsed": true
   },
   "outputs": [],
   "source": [
    "add_ret(BD_ret)"
   ]
  },
  {
   "cell_type": "code",
   "execution_count": 301,
   "metadata": {},
   "outputs": [
    {
     "data": {
      "text/html": [
       "<div>\n",
       "<style>\n",
       "    .dataframe thead tr:only-child th {\n",
       "        text-align: right;\n",
       "    }\n",
       "\n",
       "    .dataframe thead th {\n",
       "        text-align: left;\n",
       "    }\n",
       "\n",
       "    .dataframe tbody tr th {\n",
       "        vertical-align: top;\n",
       "    }\n",
       "</style>\n",
       "<table border=\"1\" class=\"dataframe\">\n",
       "  <thead>\n",
       "    <tr style=\"text-align: right;\">\n",
       "      <th></th>\n",
       "      <th>op_B_ret</th>\n",
       "      <th>hi_B_ret</th>\n",
       "      <th>lo_B_ret</th>\n",
       "      <th>se_B_ret</th>\n",
       "      <th>volume_B_ret</th>\n",
       "      <th>oi_B_ret</th>\n",
       "      <th>cl_B_ret</th>\n",
       "      <th>op_D_ret</th>\n",
       "      <th>hi_D_ret</th>\n",
       "      <th>lo_D_ret</th>\n",
       "      <th>se_D_ret</th>\n",
       "      <th>volume_D_ret</th>\n",
       "      <th>oi_D_ret</th>\n",
       "      <th>cl_D_ret</th>\n",
       "    </tr>\n",
       "  </thead>\n",
       "  <tbody>\n",
       "    <tr>\n",
       "      <th>count</th>\n",
       "      <td>8957.000000</td>\n",
       "      <td>8957.000000</td>\n",
       "      <td>8957.000000</td>\n",
       "      <td>8957.000000</td>\n",
       "      <td>8957.000000</td>\n",
       "      <td>8957.000000</td>\n",
       "      <td>8957.000000</td>\n",
       "      <td>8957.000000</td>\n",
       "      <td>8957.000000</td>\n",
       "      <td>8957.000000</td>\n",
       "      <td>8957.000000</td>\n",
       "      <td>8957.000000</td>\n",
       "      <td>8957.000000</td>\n",
       "      <td>8957.000000</td>\n",
       "    </tr>\n",
       "    <tr>\n",
       "      <th>mean</th>\n",
       "      <td>0.000189</td>\n",
       "      <td>0.000186</td>\n",
       "      <td>0.000187</td>\n",
       "      <td>0.000187</td>\n",
       "      <td>0.243783</td>\n",
       "      <td>0.020019</td>\n",
       "      <td>0.000188</td>\n",
       "      <td>0.000242</td>\n",
       "      <td>0.000235</td>\n",
       "      <td>0.000236</td>\n",
       "      <td>0.000238</td>\n",
       "      <td>25.931615</td>\n",
       "      <td>0.003321</td>\n",
       "      <td>0.000240</td>\n",
       "    </tr>\n",
       "    <tr>\n",
       "      <th>std</th>\n",
       "      <td>0.004552</td>\n",
       "      <td>0.004039</td>\n",
       "      <td>0.003997</td>\n",
       "      <td>0.004231</td>\n",
       "      <td>7.118005</td>\n",
       "      <td>1.625826</td>\n",
       "      <td>0.004550</td>\n",
       "      <td>0.006867</td>\n",
       "      <td>0.006040</td>\n",
       "      <td>0.006009</td>\n",
       "      <td>0.006593</td>\n",
       "      <td>2382.648750</td>\n",
       "      <td>0.138329</td>\n",
       "      <td>0.006865</td>\n",
       "    </tr>\n",
       "    <tr>\n",
       "      <th>min</th>\n",
       "      <td>-0.030137</td>\n",
       "      <td>-0.022499</td>\n",
       "      <td>-0.025499</td>\n",
       "      <td>-0.024001</td>\n",
       "      <td>-0.998411</td>\n",
       "      <td>-0.992675</td>\n",
       "      <td>-0.030137</td>\n",
       "      <td>-0.036593</td>\n",
       "      <td>-0.039023</td>\n",
       "      <td>-0.040884</td>\n",
       "      <td>-0.031618</td>\n",
       "      <td>-0.999998</td>\n",
       "      <td>-0.930381</td>\n",
       "      <td>-0.036593</td>\n",
       "    </tr>\n",
       "    <tr>\n",
       "      <th>25%</th>\n",
       "      <td>-0.002288</td>\n",
       "      <td>-0.001830</td>\n",
       "      <td>-0.001829</td>\n",
       "      <td>-0.002102</td>\n",
       "      <td>-0.225134</td>\n",
       "      <td>-0.010818</td>\n",
       "      <td>-0.002288</td>\n",
       "      <td>-0.003751</td>\n",
       "      <td>-0.002820</td>\n",
       "      <td>-0.002826</td>\n",
       "      <td>-0.003480</td>\n",
       "      <td>-0.224584</td>\n",
       "      <td>-0.012050</td>\n",
       "      <td>-0.003751</td>\n",
       "    </tr>\n",
       "    <tr>\n",
       "      <th>50%</th>\n",
       "      <td>0.000127</td>\n",
       "      <td>0.000118</td>\n",
       "      <td>0.000276</td>\n",
       "      <td>0.000150</td>\n",
       "      <td>0.004957</td>\n",
       "      <td>0.001439</td>\n",
       "      <td>0.000126</td>\n",
       "      <td>0.000314</td>\n",
       "      <td>0.000223</td>\n",
       "      <td>0.000301</td>\n",
       "      <td>0.000299</td>\n",
       "      <td>0.003614</td>\n",
       "      <td>0.000721</td>\n",
       "      <td>0.000311</td>\n",
       "    </tr>\n",
       "    <tr>\n",
       "      <th>75%</th>\n",
       "      <td>0.002670</td>\n",
       "      <td>0.002216</td>\n",
       "      <td>0.002230</td>\n",
       "      <td>0.002513</td>\n",
       "      <td>0.303968</td>\n",
       "      <td>0.014950</td>\n",
       "      <td>0.002668</td>\n",
       "      <td>0.004254</td>\n",
       "      <td>0.003372</td>\n",
       "      <td>0.003472</td>\n",
       "      <td>0.004079</td>\n",
       "      <td>0.301033</td>\n",
       "      <td>0.015275</td>\n",
       "      <td>0.004254</td>\n",
       "    </tr>\n",
       "    <tr>\n",
       "      <th>max</th>\n",
       "      <td>0.044639</td>\n",
       "      <td>0.035004</td>\n",
       "      <td>0.042678</td>\n",
       "      <td>0.036305</td>\n",
       "      <td>645.428571</td>\n",
       "      <td>153.604520</td>\n",
       "      <td>0.044639</td>\n",
       "      <td>0.051905</td>\n",
       "      <td>0.053608</td>\n",
       "      <td>0.049610</td>\n",
       "      <td>0.040624</td>\n",
       "      <td>225446.000000</td>\n",
       "      <td>11.905247</td>\n",
       "      <td>0.051905</td>\n",
       "    </tr>\n",
       "  </tbody>\n",
       "</table>\n",
       "</div>"
      ],
      "text/plain": [
       "          op_B_ret     hi_B_ret     lo_B_ret     se_B_ret  volume_B_ret  \\\n",
       "count  8957.000000  8957.000000  8957.000000  8957.000000   8957.000000   \n",
       "mean      0.000189     0.000186     0.000187     0.000187      0.243783   \n",
       "std       0.004552     0.004039     0.003997     0.004231      7.118005   \n",
       "min      -0.030137    -0.022499    -0.025499    -0.024001     -0.998411   \n",
       "25%      -0.002288    -0.001830    -0.001829    -0.002102     -0.225134   \n",
       "50%       0.000127     0.000118     0.000276     0.000150      0.004957   \n",
       "75%       0.002670     0.002216     0.002230     0.002513      0.303968   \n",
       "max       0.044639     0.035004     0.042678     0.036305    645.428571   \n",
       "\n",
       "          oi_B_ret     cl_B_ret     op_D_ret     hi_D_ret     lo_D_ret  \\\n",
       "count  8957.000000  8957.000000  8957.000000  8957.000000  8957.000000   \n",
       "mean      0.020019     0.000188     0.000242     0.000235     0.000236   \n",
       "std       1.625826     0.004550     0.006867     0.006040     0.006009   \n",
       "min      -0.992675    -0.030137    -0.036593    -0.039023    -0.040884   \n",
       "25%      -0.010818    -0.002288    -0.003751    -0.002820    -0.002826   \n",
       "50%       0.001439     0.000126     0.000314     0.000223     0.000301   \n",
       "75%       0.014950     0.002668     0.004254     0.003372     0.003472   \n",
       "max     153.604520     0.044639     0.051905     0.053608     0.049610   \n",
       "\n",
       "          se_D_ret   volume_D_ret     oi_D_ret     cl_D_ret  \n",
       "count  8957.000000    8957.000000  8957.000000  8957.000000  \n",
       "mean      0.000238      25.931615     0.003321     0.000240  \n",
       "std       0.006593    2382.648750     0.138329     0.006865  \n",
       "min      -0.031618      -0.999998    -0.930381    -0.036593  \n",
       "25%      -0.003480      -0.224584    -0.012050    -0.003751  \n",
       "50%       0.000299       0.003614     0.000721     0.000311  \n",
       "75%       0.004079       0.301033     0.015275     0.004254  \n",
       "max       0.040624  225446.000000    11.905247     0.051905  "
      ]
     },
     "execution_count": 301,
     "metadata": {},
     "output_type": "execute_result"
    }
   ],
   "source": [
    "BD_ret.describe()"
   ]
  },
  {
   "cell_type": "code",
   "execution_count": 279,
   "metadata": {
    "collapsed": true
   },
   "outputs": [],
   "source": [
    "l_BD = l + lD\n",
    "h = l_BD[1]\n",
    "l_BD[1] = l_BD[6]\n",
    "l_BD[6] = h"
   ]
  },
  {
   "cell_type": "code",
   "execution_count": 278,
   "metadata": {},
   "outputs": [
    {
     "name": "stdout",
     "output_type": "stream",
     "text": [
      "                 VAR Order Selection                  \n",
      "======================================================\n",
      "            aic          bic          fpe         hqic\n",
      "------------------------------------------------------\n",
      "0        -81.42       -81.41    4.367e-36       -81.41\n",
      "1        -84.79       -84.62    1.501e-37       -84.73\n",
      "2        -85.63       -85.30    6.489e-38       -85.52\n",
      "3        -86.06       -85.58    4.203e-38       -85.90\n",
      "4        -86.28       -85.64    3.394e-38       -86.06\n",
      "5        -86.45       -85.66    2.860e-38       -86.17\n",
      "6        -86.59       -85.64    2.491e-38       -86.26\n",
      "7        -86.66       -85.56    2.304e-38       -86.28\n",
      "8        -86.76       -85.50    2.095e-38       -86.32\n",
      "9        -86.81       -85.39    1.999e-38       -86.32\n",
      "10       -86.84       -85.27    1.932e-38       -86.30\n",
      "11       -86.85       -85.13    1.903e-38       -86.26\n",
      "12       -86.87       -84.99    1.876e-38       -86.22\n",
      "13       -86.90       -84.87    1.819e-38       -86.20\n",
      "14       -86.93       -84.74    1.764e-38       -86.17\n",
      "15       -86.93       -84.58    1.768e-38       -86.12\n",
      "16       -86.95       -84.45    1.730e-38       -86.08\n",
      "17       -86.96       -84.30    1.719e-38       -86.04\n",
      "18       -86.96       -84.15    1.717e-38       -85.98\n",
      "19       -89.12      -86.15*    1.980e-39      -88.09*\n",
      "20       -89.16       -86.04    1.896e-39       -88.08\n",
      "21      -89.17*       -85.89   1.883e-39*       -88.03\n",
      "22       -89.16       -85.72    1.904e-39       -87.97\n",
      "23       -89.15       -85.56    1.921e-39       -87.90\n",
      "24       -89.14       -85.40    1.932e-39       -87.84\n",
      "25       -89.13       -85.23    1.953e-39       -87.78\n",
      "26       -89.12       -85.06    1.974e-39       -87.72\n",
      "27       -89.11       -84.89    2.006e-39       -87.65\n",
      "28       -89.11       -84.74    2.003e-39       -87.59\n",
      "29       -89.10       -84.58    2.018e-39       -87.53\n",
      "30       -89.09       -84.41    2.041e-39       -87.47\n",
      "======================================================\n",
      "* Minimum\n",
      "\n"
     ]
    },
    {
     "data": {
      "text/plain": [
       "{'aic': 21, 'bic': 19, 'fpe': 21, 'hqic': 19}"
      ]
     },
     "execution_count": 278,
     "metadata": {},
     "output_type": "execute_result"
    }
   ],
   "source": [
    "selecting_model(BD_ret,l_BD)"
   ]
  },
  {
   "cell_type": "code",
   "execution_count": 280,
   "metadata": {
    "collapsed": true
   },
   "outputs": [],
   "source": [
    "testBD_B, predictions_BDVAR19_B = VAR_rolling_forecast(BD_ret,l_BD,19)"
   ]
  },
  {
   "cell_type": "code",
   "execution_count": 281,
   "metadata": {},
   "outputs": [
    {
     "name": "stdout",
     "output_type": "stream",
     "text": [
      "The mean absolute scaled error is 1.30947790309e-05\n"
     ]
    }
   ],
   "source": [
    "MASE(testBD_B,predictions_BDVAR19_B)"
   ]
  },
  {
   "cell_type": "markdown",
   "metadata": {},
   "source": [
    "We observe that with the added data, the VAR model to predict the closing prices of asset B is worse\n",
    "than the model employed previously using just the data for asset B. "
   ]
  },
  {
   "cell_type": "code",
   "execution_count": 283,
   "metadata": {},
   "outputs": [
    {
     "name": "stdout",
     "output_type": "stream",
     "text": [
      "1.64184086156e-05\n"
     ]
    }
   ],
   "source": [
    "MSE(testBD_B,predictions_BDVAR19_B)"
   ]
  },
  {
   "cell_type": "code",
   "execution_count": 289,
   "metadata": {},
   "outputs": [
    {
     "data": {
      "text/plain": [
       "14"
      ]
     },
     "execution_count": 289,
     "metadata": {},
     "output_type": "execute_result"
    }
   ],
   "source": [
    "len(list(BD.columns))"
   ]
  },
  {
   "cell_type": "markdown",
   "metadata": {},
   "source": [
    "# Dimension reduction for the joint dataframe BD"
   ]
  },
  {
   "cell_type": "code",
   "execution_count": 290,
   "metadata": {
    "collapsed": true
   },
   "outputs": [],
   "source": [
    "pca_BD = PCA(n_components = 7)\n"
   ]
  },
  {
   "cell_type": "code",
   "execution_count": 302,
   "metadata": {},
   "outputs": [
    {
     "data": {
      "text/html": [
       "<div>\n",
       "<style>\n",
       "    .dataframe thead tr:only-child th {\n",
       "        text-align: right;\n",
       "    }\n",
       "\n",
       "    .dataframe thead th {\n",
       "        text-align: left;\n",
       "    }\n",
       "\n",
       "    .dataframe tbody tr th {\n",
       "        vertical-align: top;\n",
       "    }\n",
       "</style>\n",
       "<table border=\"1\" class=\"dataframe\">\n",
       "  <thead>\n",
       "    <tr style=\"text-align: right;\">\n",
       "      <th></th>\n",
       "      <th>op_B_ret</th>\n",
       "      <th>hi_B_ret</th>\n",
       "      <th>lo_B_ret</th>\n",
       "      <th>se_B_ret</th>\n",
       "      <th>volume_B_ret</th>\n",
       "      <th>oi_B_ret</th>\n",
       "      <th>cl_B_ret</th>\n",
       "      <th>op_D_ret</th>\n",
       "      <th>hi_D_ret</th>\n",
       "      <th>lo_D_ret</th>\n",
       "      <th>se_D_ret</th>\n",
       "      <th>volume_D_ret</th>\n",
       "      <th>oi_D_ret</th>\n",
       "      <th>cl_D_ret</th>\n",
       "    </tr>\n",
       "    <tr>\n",
       "      <th>date</th>\n",
       "      <th></th>\n",
       "      <th></th>\n",
       "      <th></th>\n",
       "      <th></th>\n",
       "      <th></th>\n",
       "      <th></th>\n",
       "      <th></th>\n",
       "      <th></th>\n",
       "      <th></th>\n",
       "      <th></th>\n",
       "      <th></th>\n",
       "      <th></th>\n",
       "      <th></th>\n",
       "      <th></th>\n",
       "    </tr>\n",
       "  </thead>\n",
       "  <tbody>\n",
       "    <tr>\n",
       "      <th>1982-05-05</th>\n",
       "      <td>0.011853</td>\n",
       "      <td>0.004344</td>\n",
       "      <td>0.009670</td>\n",
       "      <td>0.001741</td>\n",
       "      <td>0.233079</td>\n",
       "      <td>0.181867</td>\n",
       "      <td>0.006941</td>\n",
       "      <td>0.011994</td>\n",
       "      <td>0.003450</td>\n",
       "      <td>0.012506</td>\n",
       "      <td>0.000000</td>\n",
       "      <td>0.127563</td>\n",
       "      <td>-0.030617</td>\n",
       "      <td>0.007407</td>\n",
       "    </tr>\n",
       "    <tr>\n",
       "      <th>1982-05-06</th>\n",
       "      <td>0.006941</td>\n",
       "      <td>0.010381</td>\n",
       "      <td>0.009142</td>\n",
       "      <td>0.014335</td>\n",
       "      <td>-0.332529</td>\n",
       "      <td>-0.126201</td>\n",
       "      <td>0.009910</td>\n",
       "      <td>0.007407</td>\n",
       "      <td>0.015717</td>\n",
       "      <td>0.006917</td>\n",
       "      <td>0.020237</td>\n",
       "      <td>0.288557</td>\n",
       "      <td>0.019630</td>\n",
       "      <td>0.017647</td>\n",
       "    </tr>\n",
       "    <tr>\n",
       "      <th>1982-05-07</th>\n",
       "      <td>0.009910</td>\n",
       "      <td>0.004281</td>\n",
       "      <td>0.005608</td>\n",
       "      <td>0.003854</td>\n",
       "      <td>-0.305745</td>\n",
       "      <td>0.003491</td>\n",
       "      <td>-0.002560</td>\n",
       "      <td>0.017647</td>\n",
       "      <td>0.005803</td>\n",
       "      <td>0.012267</td>\n",
       "      <td>0.002903</td>\n",
       "      <td>-0.038607</td>\n",
       "      <td>0.030767</td>\n",
       "      <td>-0.003372</td>\n",
       "    </tr>\n",
       "    <tr>\n",
       "      <th>1982-05-10</th>\n",
       "      <td>-0.002560</td>\n",
       "      <td>0.000426</td>\n",
       "      <td>0.001716</td>\n",
       "      <td>-0.001706</td>\n",
       "      <td>-0.351364</td>\n",
       "      <td>-0.003479</td>\n",
       "      <td>-0.002139</td>\n",
       "      <td>-0.003372</td>\n",
       "      <td>-0.003846</td>\n",
       "      <td>-0.002908</td>\n",
       "      <td>-0.003859</td>\n",
       "      <td>-0.147070</td>\n",
       "      <td>-0.015783</td>\n",
       "      <td>-0.005317</td>\n",
       "    </tr>\n",
       "    <tr>\n",
       "      <th>1982-05-11</th>\n",
       "      <td>-0.002139</td>\n",
       "      <td>0.000426</td>\n",
       "      <td>-0.001713</td>\n",
       "      <td>0.001709</td>\n",
       "      <td>0.261280</td>\n",
       "      <td>-0.050703</td>\n",
       "      <td>0.004286</td>\n",
       "      <td>-0.005317</td>\n",
       "      <td>0.003378</td>\n",
       "      <td>0.000000</td>\n",
       "      <td>0.003874</td>\n",
       "      <td>0.023531</td>\n",
       "      <td>0.044110</td>\n",
       "      <td>0.007289</td>\n",
       "    </tr>\n",
       "  </tbody>\n",
       "</table>\n",
       "</div>"
      ],
      "text/plain": [
       "            op_B_ret  hi_B_ret  lo_B_ret  se_B_ret  volume_B_ret  oi_B_ret  \\\n",
       "date                                                                         \n",
       "1982-05-05  0.011853  0.004344  0.009670  0.001741      0.233079  0.181867   \n",
       "1982-05-06  0.006941  0.010381  0.009142  0.014335     -0.332529 -0.126201   \n",
       "1982-05-07  0.009910  0.004281  0.005608  0.003854     -0.305745  0.003491   \n",
       "1982-05-10 -0.002560  0.000426  0.001716 -0.001706     -0.351364 -0.003479   \n",
       "1982-05-11 -0.002139  0.000426 -0.001713  0.001709      0.261280 -0.050703   \n",
       "\n",
       "            cl_B_ret  op_D_ret  hi_D_ret  lo_D_ret  se_D_ret  volume_D_ret  \\\n",
       "date                                                                         \n",
       "1982-05-05  0.006941  0.011994  0.003450  0.012506  0.000000      0.127563   \n",
       "1982-05-06  0.009910  0.007407  0.015717  0.006917  0.020237      0.288557   \n",
       "1982-05-07 -0.002560  0.017647  0.005803  0.012267  0.002903     -0.038607   \n",
       "1982-05-10 -0.002139 -0.003372 -0.003846 -0.002908 -0.003859     -0.147070   \n",
       "1982-05-11  0.004286 -0.005317  0.003378  0.000000  0.003874      0.023531   \n",
       "\n",
       "            oi_D_ret  cl_D_ret  \n",
       "date                            \n",
       "1982-05-05 -0.030617  0.007407  \n",
       "1982-05-06  0.019630  0.017647  \n",
       "1982-05-07  0.030767 -0.003372  \n",
       "1982-05-10 -0.015783 -0.005317  \n",
       "1982-05-11  0.044110  0.007289  "
      ]
     },
     "execution_count": 302,
     "metadata": {},
     "output_type": "execute_result"
    }
   ],
   "source": [
    "BD_ret.head()"
   ]
  },
  {
   "cell_type": "code",
   "execution_count": 310,
   "metadata": {
    "collapsed": true
   },
   "outputs": [],
   "source": [
    "BD_reduced_ret = pd.DataFrame(pca_BD.fit_transform(BD_ret[l_BD[1:]]))"
   ]
  },
  {
   "cell_type": "code",
   "execution_count": 311,
   "metadata": {},
   "outputs": [
    {
     "data": {
      "text/plain": [
       "array([  9.99990606e-01,   9.35242353e-06,   3.78644812e-08,\n",
       "         3.36785602e-09,   2.61819181e-11,   6.08737280e-12,\n",
       "         3.44433354e-12])"
      ]
     },
     "execution_count": 311,
     "metadata": {},
     "output_type": "execute_result"
    }
   ],
   "source": [
    "pca_BD.explained_variance_ratio_"
   ]
  },
  {
   "cell_type": "code",
   "execution_count": 313,
   "metadata": {
    "collapsed": true
   },
   "outputs": [],
   "source": [
    "temp = BD_ret['cl_B_ret']"
   ]
  },
  {
   "cell_type": "code",
   "execution_count": 314,
   "metadata": {
    "collapsed": true
   },
   "outputs": [],
   "source": [
    "BD_reduced_ret = BD_reduced_ret.assign(cl = temp.values)\n",
    "BD_reduced_ret.rename(columns = {'cl':'cl_B_ret'},inplace = True)"
   ]
  },
  {
   "cell_type": "code",
   "execution_count": 323,
   "metadata": {
    "collapsed": true
   },
   "outputs": [],
   "source": [
    "BD_reduced_ret.index = BD_ret.index"
   ]
  },
  {
   "cell_type": "code",
   "execution_count": 328,
   "metadata": {
    "collapsed": true
   },
   "outputs": [],
   "source": [
    "l_BD_reduced = ['cl_B_ret',0,1,2,3,4,5,6]"
   ]
  },
  {
   "cell_type": "code",
   "execution_count": 331,
   "metadata": {},
   "outputs": [
    {
     "data": {
      "text/plain": [
       "array([  2.25484693e+05,   6.89574493e+02,   4.38768167e+01,\n",
       "         1.30856670e+01,   1.15377158e+00,   5.56332019e-01,\n",
       "         4.18477108e-01])"
      ]
     },
     "execution_count": 331,
     "metadata": {},
     "output_type": "execute_result"
    }
   ],
   "source": [
    "pca_BD.singular_values_"
   ]
  },
  {
   "cell_type": "code",
   "execution_count": 330,
   "metadata": {},
   "outputs": [
    {
     "data": {
      "text/html": [
       "<div>\n",
       "<style>\n",
       "    .dataframe thead tr:only-child th {\n",
       "        text-align: right;\n",
       "    }\n",
       "\n",
       "    .dataframe thead th {\n",
       "        text-align: left;\n",
       "    }\n",
       "\n",
       "    .dataframe tbody tr th {\n",
       "        vertical-align: top;\n",
       "    }\n",
       "</style>\n",
       "<table border=\"1\" class=\"dataframe\">\n",
       "  <thead>\n",
       "    <tr style=\"text-align: right;\">\n",
       "      <th></th>\n",
       "      <th>0</th>\n",
       "      <th>1</th>\n",
       "      <th>2</th>\n",
       "      <th>3</th>\n",
       "      <th>4</th>\n",
       "      <th>5</th>\n",
       "      <th>6</th>\n",
       "      <th>cl_B_ret</th>\n",
       "    </tr>\n",
       "  </thead>\n",
       "  <tbody>\n",
       "    <tr>\n",
       "      <th>count</th>\n",
       "      <td>8.957000e+03</td>\n",
       "      <td>8.957000e+03</td>\n",
       "      <td>8.957000e+03</td>\n",
       "      <td>8.957000e+03</td>\n",
       "      <td>8.957000e+03</td>\n",
       "      <td>8.957000e+03</td>\n",
       "      <td>8.957000e+03</td>\n",
       "      <td>8957.000000</td>\n",
       "    </tr>\n",
       "    <tr>\n",
       "      <th>mean</th>\n",
       "      <td>2.792115e-14</td>\n",
       "      <td>1.344241e-16</td>\n",
       "      <td>-2.390692e-18</td>\n",
       "      <td>-1.705866e-18</td>\n",
       "      <td>1.330166e-19</td>\n",
       "      <td>2.062127e-19</td>\n",
       "      <td>1.604334e-19</td>\n",
       "      <td>0.000188</td>\n",
       "    </tr>\n",
       "    <tr>\n",
       "      <th>std</th>\n",
       "      <td>2.382649e+03</td>\n",
       "      <td>7.286587e+00</td>\n",
       "      <td>4.636370e-01</td>\n",
       "      <td>1.382735e-01</td>\n",
       "      <td>1.219166e-02</td>\n",
       "      <td>5.878642e-03</td>\n",
       "      <td>4.421959e-03</td>\n",
       "      <td>0.004550</td>\n",
       "    </tr>\n",
       "    <tr>\n",
       "      <th>min</th>\n",
       "      <td>-2.693161e+01</td>\n",
       "      <td>-1.430389e+00</td>\n",
       "      <td>-1.175602e+01</td>\n",
       "      <td>-9.298101e-01</td>\n",
       "      <td>-5.538691e-02</td>\n",
       "      <td>-3.764540e-02</td>\n",
       "      <td>-4.435929e-02</td>\n",
       "      <td>-0.030137</td>\n",
       "    </tr>\n",
       "    <tr>\n",
       "      <th>25%</th>\n",
       "      <td>-2.615620e+01</td>\n",
       "      <td>-4.620810e-01</td>\n",
       "      <td>-8.430725e-02</td>\n",
       "      <td>-1.544837e-02</td>\n",
       "      <td>-6.709442e-03</td>\n",
       "      <td>-3.415204e-03</td>\n",
       "      <td>-2.361709e-03</td>\n",
       "      <td>-0.002288</td>\n",
       "    </tr>\n",
       "    <tr>\n",
       "      <th>50%</th>\n",
       "      <td>-2.592800e+01</td>\n",
       "      <td>-2.372647e-01</td>\n",
       "      <td>-3.216731e-02</td>\n",
       "      <td>-2.604399e-03</td>\n",
       "      <td>1.779473e-04</td>\n",
       "      <td>3.752015e-05</td>\n",
       "      <td>-1.294021e-04</td>\n",
       "      <td>0.000126</td>\n",
       "    </tr>\n",
       "    <tr>\n",
       "      <th>75%</th>\n",
       "      <td>-2.563058e+01</td>\n",
       "      <td>5.764358e-02</td>\n",
       "      <td>3.434891e-02</td>\n",
       "      <td>1.219308e-02</td>\n",
       "      <td>7.085713e-03</td>\n",
       "      <td>3.458686e-03</td>\n",
       "      <td>2.312325e-03</td>\n",
       "      <td>0.002668</td>\n",
       "    </tr>\n",
       "    <tr>\n",
       "      <th>max</th>\n",
       "      <td>2.254201e+05</td>\n",
       "      <td>6.631089e+02</td>\n",
       "      <td>2.836965e+01</td>\n",
       "      <td>1.189565e+01</td>\n",
       "      <td>1.005369e-01</td>\n",
       "      <td>4.084738e-02</td>\n",
       "      <td>4.567678e-02</td>\n",
       "      <td>0.044639</td>\n",
       "    </tr>\n",
       "  </tbody>\n",
       "</table>\n",
       "</div>"
      ],
      "text/plain": [
       "                  0             1             2             3             4  \\\n",
       "count  8.957000e+03  8.957000e+03  8.957000e+03  8.957000e+03  8.957000e+03   \n",
       "mean   2.792115e-14  1.344241e-16 -2.390692e-18 -1.705866e-18  1.330166e-19   \n",
       "std    2.382649e+03  7.286587e+00  4.636370e-01  1.382735e-01  1.219166e-02   \n",
       "min   -2.693161e+01 -1.430389e+00 -1.175602e+01 -9.298101e-01 -5.538691e-02   \n",
       "25%   -2.615620e+01 -4.620810e-01 -8.430725e-02 -1.544837e-02 -6.709442e-03   \n",
       "50%   -2.592800e+01 -2.372647e-01 -3.216731e-02 -2.604399e-03  1.779473e-04   \n",
       "75%   -2.563058e+01  5.764358e-02  3.434891e-02  1.219308e-02  7.085713e-03   \n",
       "max    2.254201e+05  6.631089e+02  2.836965e+01  1.189565e+01  1.005369e-01   \n",
       "\n",
       "                  5             6     cl_B_ret  \n",
       "count  8.957000e+03  8.957000e+03  8957.000000  \n",
       "mean   2.062127e-19  1.604334e-19     0.000188  \n",
       "std    5.878642e-03  4.421959e-03     0.004550  \n",
       "min   -3.764540e-02 -4.435929e-02    -0.030137  \n",
       "25%   -3.415204e-03 -2.361709e-03    -0.002288  \n",
       "50%    3.752015e-05 -1.294021e-04     0.000126  \n",
       "75%    3.458686e-03  2.312325e-03     0.002668  \n",
       "max    4.084738e-02  4.567678e-02     0.044639  "
      ]
     },
     "execution_count": 330,
     "metadata": {},
     "output_type": "execute_result"
    }
   ],
   "source": [
    "BD_reduced_ret.describe()"
   ]
  },
  {
   "cell_type": "code",
   "execution_count": 324,
   "metadata": {},
   "outputs": [
    {
     "name": "stdout",
     "output_type": "stream",
     "text": [
      "                 VAR Order Selection                  \n",
      "======================================================\n",
      "            aic          bic          fpe         hqic\n",
      "------------------------------------------------------\n",
      "0        -27.00       -27.00    1.873e-12       -27.00\n",
      "1        -28.83       -28.75    3.022e-13       -28.80\n",
      "2        -29.21       -29.06    2.061e-13       -29.16\n",
      "3        -29.39       -29.17    1.726e-13       -29.31\n",
      "4        -29.48       -29.20    1.568e-13       -29.38\n",
      "5        -29.54       -29.18    1.486e-13       -29.42\n",
      "6        -29.57       -29.15    1.437e-13       -29.42\n",
      "7        -29.60       -29.10    1.401e-13       -29.43\n",
      "8        -29.62       -29.06    1.368e-13       -29.43\n",
      "9        -29.63       -29.00    1.359e-13       -29.41\n",
      "10       -29.64       -28.94    1.340e-13       -29.40\n",
      "11       -29.64       -28.87    1.340e-13       -29.37\n",
      "12       -29.64       -28.80    1.338e-13       -29.35\n",
      "13       -29.65       -28.74    1.330e-13       -29.33\n",
      "14       -29.65       -28.67    1.329e-13       -29.31\n",
      "15       -29.65       -28.60    1.334e-13       -29.28\n",
      "16       -29.64       -28.53    1.336e-13       -29.26\n",
      "17       -29.65       -28.47    1.328e-13       -29.24\n",
      "18       -29.65       -28.40    1.325e-13       -29.22\n",
      "19       -31.83      -30.51*    1.496e-14       -31.38\n",
      "20      -31.88*       -30.49   1.428e-14*      -31.40*\n",
      "21       -31.88       -30.42    1.430e-14       -31.37\n",
      "22       -31.87       -30.34    1.443e-14       -31.34\n",
      "23       -31.87       -30.27    1.446e-14       -31.31\n",
      "24       -31.86       -30.20    1.452e-14       -31.29\n",
      "25       -31.85       -30.12    1.464e-14       -31.25\n",
      "26       -31.85       -30.04    1.477e-14       -31.22\n",
      "27       -31.83       -29.96    1.494e-14       -31.19\n",
      "28       -31.83       -29.89    1.496e-14       -31.16\n",
      "29       -31.83       -29.82    1.499e-14       -31.13\n",
      "30       -31.82       -29.74    1.509e-14       -31.10\n",
      "======================================================\n",
      "* Minimum\n",
      "\n"
     ]
    },
    {
     "data": {
      "text/plain": [
       "{'aic': 20, 'bic': 19, 'fpe': 20, 'hqic': 20}"
      ]
     },
     "execution_count": 324,
     "metadata": {},
     "output_type": "execute_result"
    }
   ],
   "source": [
    "selecting_model(BD_reduced_ret,l_BD_reduced)"
   ]
  },
  {
   "cell_type": "code",
   "execution_count": 332,
   "metadata": {
    "collapsed": true
   },
   "outputs": [],
   "source": [
    "testBD, predictions_BD_reduced_VAR3 = VAR_rolling_forecast(BD_reduced_ret,l_BD_reduced,3)"
   ]
  },
  {
   "cell_type": "code",
   "execution_count": 333,
   "metadata": {},
   "outputs": [
    {
     "name": "stdout",
     "output_type": "stream",
     "text": [
      "The mean absolute scaled error is 1.29068322952e-05\n"
     ]
    }
   ],
   "source": [
    "MASE(testBD,predictions_BD_reduced_VAR3)"
   ]
  },
  {
   "cell_type": "code",
   "execution_count": null,
   "metadata": {
    "collapsed": true
   },
   "outputs": [],
   "source": [
    "MSE5(testBD,predictions_BD_reduced_VAR3)"
   ]
  },
  {
   "cell_type": "code",
   "execution_count": 367,
   "metadata": {
    "collapsed": true
   },
   "outputs": [],
   "source": [
    "pca_BD2 =  PCA(9)"
   ]
  },
  {
   "cell_type": "code",
   "execution_count": 368,
   "metadata": {
    "collapsed": true
   },
   "outputs": [],
   "source": [
    "BD2_reduced_ret = pd.DataFrame(pca_BD2.fit_transform(BD_ret[[l_BD[0]] + l_BD[2:]]))"
   ]
  },
  {
   "cell_type": "code",
   "execution_count": 369,
   "metadata": {},
   "outputs": [
    {
     "data": {
      "text/plain": [
       "array([  9.99990606e-01,   9.35242353e-06,   3.78644799e-08,\n",
       "         3.36785376e-09,   2.29602935e-11,   4.72855774e-12,\n",
       "         3.44350962e-12,   9.42714726e-13,   4.86487848e-13])"
      ]
     },
     "execution_count": 369,
     "metadata": {},
     "output_type": "execute_result"
    }
   ],
   "source": [
    "pca_BD2.explained_variance_ratio_"
   ]
  },
  {
   "cell_type": "code",
   "execution_count": null,
   "metadata": {
    "collapsed": true
   },
   "outputs": [],
   "source": []
  },
  {
   "cell_type": "code",
   "execution_count": 370,
   "metadata": {
    "collapsed": true
   },
   "outputs": [],
   "source": [
    "temp1 = BD_ret['cl_D_ret']"
   ]
  },
  {
   "cell_type": "code",
   "execution_count": 371,
   "metadata": {
    "collapsed": true
   },
   "outputs": [],
   "source": [
    "BD2_reduced_ret = BD2_reduced_ret.assign(cl = temp1.values)\n",
    "BD2_reduced_ret.rename(columns = {'cl':'cl_D_ret'},inplace = True)"
   ]
  },
  {
   "cell_type": "code",
   "execution_count": 372,
   "metadata": {
    "collapsed": true
   },
   "outputs": [],
   "source": [
    "l_BD2_reduced = ['cl_D_ret'] + list(range(9))"
   ]
  },
  {
   "cell_type": "code",
   "execution_count": 373,
   "metadata": {
    "collapsed": true
   },
   "outputs": [],
   "source": [
    "BD2_reduced_ret.index = BD_ret.index"
   ]
  },
  {
   "cell_type": "code",
   "execution_count": 374,
   "metadata": {},
   "outputs": [
    {
     "name": "stdout",
     "output_type": "stream",
     "text": [
      "                 VAR Order Selection                  \n",
      "======================================================\n",
      "            aic          bic          fpe         hqic\n",
      "------------------------------------------------------\n",
      "0        -52.65       -52.63    1.369e-23       -52.64\n",
      "1        -55.37       -55.25    9.013e-25       -55.32\n",
      "2        -55.96       -55.73    4.990e-25       -55.88\n",
      "3        -56.26       -55.93    3.685e-25       -56.14\n",
      "4        -56.42       -55.97    3.157e-25       -56.26\n",
      "5        -56.53       -55.98    2.823e-25       -56.34\n",
      "6        -56.63       -55.97    2.556e-25       -56.40\n",
      "7        -56.68       -55.92    2.412e-25       -56.42\n",
      "8        -56.75       -55.87    2.263e-25       -56.44\n",
      "9        -56.77       -55.79    2.203e-25       -56.43\n",
      "10       -56.81       -55.71    2.137e-25       -56.43\n",
      "11       -56.82       -55.62    2.110e-25       -56.40\n",
      "12       -56.82       -55.52    2.098e-25       -56.37\n",
      "13       -56.85       -55.43    2.051e-25       -56.36\n",
      "14       -56.87       -55.34    2.008e-25       -56.34\n",
      "15       -56.87       -55.24    2.010e-25       -56.30\n",
      "16       -56.88       -55.14    1.986e-25       -56.28\n",
      "17       -56.88       -55.04    1.974e-25       -56.24\n",
      "18       -56.89       -54.93    1.969e-25       -56.21\n",
      "19       -59.06      -56.99*    2.250e-26       -58.34\n",
      "20       -59.10       -56.93    2.151e-26      -58.35*\n",
      "21      -59.11*       -56.83   2.138e-26*       -58.32\n",
      "22       -59.10       -56.71    2.157e-26       -58.27\n",
      "23       -59.09       -56.60    2.169e-26       -58.23\n",
      "24       -59.09       -56.49    2.179e-26       -58.19\n",
      "25       -59.08       -56.37    2.196e-26       -58.14\n",
      "26       -59.07       -56.26    2.210e-26       -58.10\n",
      "27       -59.06       -56.13    2.241e-26       -58.05\n",
      "28       -59.06       -56.03    2.236e-26       -58.01\n",
      "29       -59.06       -55.91    2.250e-26       -57.97\n",
      "30       -59.04       -55.79    2.281e-26       -57.92\n",
      "======================================================\n",
      "* Minimum\n",
      "\n"
     ]
    },
    {
     "data": {
      "text/plain": [
       "{'aic': 21, 'bic': 19, 'fpe': 21, 'hqic': 20}"
      ]
     },
     "execution_count": 374,
     "metadata": {},
     "output_type": "execute_result"
    }
   ],
   "source": [
    "selecting_model(BD2_reduced_ret,l_BD2_reduced)"
   ]
  },
  {
   "cell_type": "code",
   "execution_count": 375,
   "metadata": {
    "collapsed": true
   },
   "outputs": [],
   "source": [
    "testBD2, predictions_BD2_reduced_VAR4 = VAR_rolling_forecast(BD2_reduced_ret,l_BD2_reduced,4)"
   ]
  },
  {
   "cell_type": "code",
   "execution_count": 376,
   "metadata": {},
   "outputs": [
    {
     "name": "stdout",
     "output_type": "stream",
     "text": [
      "The mean absolute scaled error is 4.01276784653e-05\n"
     ]
    }
   ],
   "source": [
    "MASE(testBD2, predictions_BD2_reduced_VAR4)"
   ]
  },
  {
   "cell_type": "markdown",
   "metadata": {},
   "source": [
    "This is a reduction in the prediction score for the closing price of the asset D. "
   ]
  },
  {
   "cell_type": "code",
   "execution_count": 218,
   "metadata": {},
   "outputs": [
    {
     "ename": "NameError",
     "evalue": "name 'mod' is not defined",
     "output_type": "error",
     "traceback": [
      "\u001b[0;31m---------------------------------------------------------------------------\u001b[0m",
      "\u001b[0;31mNameError\u001b[0m                                 Traceback (most recent call last)",
      "\u001b[0;32m<ipython-input-218-fb0bd9ddd1d4>\u001b[0m in \u001b[0;36m<module>\u001b[0;34m()\u001b[0m\n\u001b[0;32m----> 1\u001b[0;31m \u001b[0mresiduals\u001b[0m \u001b[0;34m=\u001b[0m \u001b[0mpd\u001b[0m\u001b[0;34m.\u001b[0m\u001b[0mDataFrame\u001b[0m\u001b[0;34m(\u001b[0m\u001b[0mmod\u001b[0m\u001b[0;34m.\u001b[0m\u001b[0mresid\u001b[0m\u001b[0;34m)\u001b[0m\u001b[0;34m\u001b[0m\u001b[0m\n\u001b[0m\u001b[1;32m      2\u001b[0m \u001b[0mresiduals\u001b[0m\u001b[0;34m.\u001b[0m\u001b[0mplot\u001b[0m\u001b[0;34m(\u001b[0m\u001b[0;34m)\u001b[0m\u001b[0;34m\u001b[0m\u001b[0m\n\u001b[1;32m      3\u001b[0m \u001b[0mplt\u001b[0m\u001b[0;34m.\u001b[0m\u001b[0mshow\u001b[0m\u001b[0;34m(\u001b[0m\u001b[0;34m)\u001b[0m\u001b[0;34m\u001b[0m\u001b[0m\n\u001b[1;32m      4\u001b[0m \u001b[0mresiduals\u001b[0m\u001b[0;34m.\u001b[0m\u001b[0mplot\u001b[0m\u001b[0;34m(\u001b[0m\u001b[0mkind\u001b[0m\u001b[0;34m=\u001b[0m\u001b[0;34m'kde'\u001b[0m\u001b[0;34m)\u001b[0m\u001b[0;34m\u001b[0m\u001b[0m\n\u001b[1;32m      5\u001b[0m \u001b[0mplt\u001b[0m\u001b[0;34m.\u001b[0m\u001b[0mshow\u001b[0m\u001b[0;34m(\u001b[0m\u001b[0;34m)\u001b[0m\u001b[0;34m\u001b[0m\u001b[0m\n",
      "\u001b[0;31mNameError\u001b[0m: name 'mod' is not defined"
     ]
    }
   ],
   "source": [
    "residuals = pd.DataFrame(mod.resid)\n",
    "residuals.plot()\n",
    "plt.show()\n",
    "residuals.plot(kind='kde')\n",
    "plt.show()\n",
    "print(residuals.describe())"
   ]
  },
  {
   "cell_type": "code",
   "execution_count": 349,
   "metadata": {},
   "outputs": [
    {
     "data": {
      "text/plain": [
       "['cl_D_ret', 0, 1, 2, 3, 4, 5, 6]"
      ]
     },
     "execution_count": 349,
     "metadata": {},
     "output_type": "execute_result"
    }
   ],
   "source": [
    "l_BD2_reduced"
   ]
  },
  {
   "cell_type": "code",
   "execution_count": null,
   "metadata": {
    "collapsed": true
   },
   "outputs": [],
   "source": []
  },
  {
   "cell_type": "code",
   "execution_count": null,
   "metadata": {
    "collapsed": true,
    "scrolled": false
   },
   "outputs": [],
   "source": [
    "y_pred = mod.forecast(steps = 100)\n",
    "y_pred[0]"
   ]
  },
  {
   "cell_type": "code",
   "execution_count": null,
   "metadata": {
    "collapsed": true
   },
   "outputs": [],
   "source": [
    "plt.plot(y_pred[0])\n",
    "plt.show()"
   ]
  },
  {
   "cell_type": "code",
   "execution_count": null,
   "metadata": {
    "collapsed": true,
    "scrolled": true
   },
   "outputs": [],
   "source": []
  },
  {
   "cell_type": "code",
   "execution_count": null,
   "metadata": {
    "collapsed": true
   },
   "outputs": [],
   "source": [
    "W = set(C[a:b]['date'])\n",
    "X = set(A[a:b]['date'])\n",
    "Y = set(B[a:b]['date'])\n",
    "Z = set(D[a:b]['date'])\n",
    "print(Z-X)"
   ]
  },
  {
   "cell_type": "code",
   "execution_count": null,
   "metadata": {
    "collapsed": true
   },
   "outputs": [],
   "source": [
    "B.describe()"
   ]
  },
  {
   "cell_type": "code",
   "execution_count": null,
   "metadata": {
    "collapsed": true
   },
   "outputs": [],
   "source": []
  },
  {
   "cell_type": "code",
   "execution_count": null,
   "metadata": {
    "collapsed": true
   },
   "outputs": [],
   "source": []
  },
  {
   "cell_type": "code",
   "execution_count": null,
   "metadata": {
    "collapsed": true
   },
   "outputs": [],
   "source": []
  },
  {
   "cell_type": "code",
   "execution_count": null,
   "metadata": {
    "collapsed": true
   },
   "outputs": [],
   "source": []
  },
  {
   "cell_type": "code",
   "execution_count": null,
   "metadata": {
    "collapsed": true
   },
   "outputs": [],
   "source": []
  },
  {
   "cell_type": "code",
   "execution_count": null,
   "metadata": {
    "collapsed": true
   },
   "outputs": [],
   "source": []
  },
  {
   "cell_type": "code",
   "execution_count": null,
   "metadata": {
    "collapsed": true
   },
   "outputs": [],
   "source": []
  },
  {
   "cell_type": "code",
   "execution_count": null,
   "metadata": {
    "collapsed": true
   },
   "outputs": [],
   "source": []
  },
  {
   "cell_type": "code",
   "execution_count": null,
   "metadata": {
    "collapsed": true
   },
   "outputs": [],
   "source": []
  },
  {
   "cell_type": "code",
   "execution_count": null,
   "metadata": {
    "collapsed": true
   },
   "outputs": [],
   "source": []
  },
  {
   "cell_type": "code",
   "execution_count": null,
   "metadata": {
    "collapsed": true
   },
   "outputs": [],
   "source": []
  },
  {
   "cell_type": "code",
   "execution_count": null,
   "metadata": {
    "collapsed": true
   },
   "outputs": [],
   "source": []
  },
  {
   "cell_type": "code",
   "execution_count": null,
   "metadata": {
    "collapsed": true
   },
   "outputs": [],
   "source": []
  },
  {
   "cell_type": "code",
   "execution_count": null,
   "metadata": {
    "collapsed": true
   },
   "outputs": [],
   "source": []
  },
  {
   "cell_type": "code",
   "execution_count": null,
   "metadata": {
    "collapsed": true
   },
   "outputs": [],
   "source": []
  },
  {
   "cell_type": "code",
   "execution_count": null,
   "metadata": {
    "collapsed": true
   },
   "outputs": [],
   "source": []
  },
  {
   "cell_type": "code",
   "execution_count": null,
   "metadata": {
    "collapsed": true
   },
   "outputs": [],
   "source": []
  },
  {
   "cell_type": "code",
   "execution_count": null,
   "metadata": {
    "collapsed": true
   },
   "outputs": [],
   "source": []
  },
  {
   "cell_type": "code",
   "execution_count": null,
   "metadata": {
    "collapsed": true
   },
   "outputs": [],
   "source": []
  },
  {
   "cell_type": "code",
   "execution_count": null,
   "metadata": {
    "collapsed": true
   },
   "outputs": [],
   "source": []
  },
  {
   "cell_type": "code",
   "execution_count": null,
   "metadata": {
    "collapsed": true
   },
   "outputs": [],
   "source": []
  },
  {
   "cell_type": "code",
   "execution_count": null,
   "metadata": {
    "collapsed": true
   },
   "outputs": [],
   "source": []
  },
  {
   "cell_type": "code",
   "execution_count": null,
   "metadata": {
    "collapsed": true
   },
   "outputs": [],
   "source": []
  }
 ],
 "metadata": {
  "kernelspec": {
   "display_name": "Python 3",
   "language": "python",
   "name": "python3"
  },
  "language_info": {
   "codemirror_mode": {
    "name": "ipython",
    "version": 3
   },
   "file_extension": ".py",
   "mimetype": "text/x-python",
   "name": "python",
   "nbconvert_exporter": "python",
   "pygments_lexer": "ipython3",
   "version": "3.6.3"
  }
 },
 "nbformat": 4,
 "nbformat_minor": 2
}
