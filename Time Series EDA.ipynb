{
 "cells": [
  {
   "cell_type": "markdown",
   "metadata": {},
   "source": [
    "# Exploratory Data Analysis  "
   ]
  },
  {
   "cell_type": "code",
   "execution_count": 210,
   "metadata": {},
   "outputs": [],
   "source": [
    "import pandas as pd\n",
    "import numpy as np\n",
    "import matplotlib.pyplot as plt\n",
    "import matplotlib.dates as mdates\n",
    "from pandas.plotting import scatter_matrix\n",
    "import seaborn as sns\n",
    "from statsmodels.tsa.stattools import acf\n",
    "from statsmodels.tsa.stattools import coint\n",
    "from statsmodels.graphics.tsaplots import plot_acf\n",
    "from statsmodels.tsa.stattools import adfuller\n",
    "from statsmodels.tsa.arima_model import ARMA\n",
    "from statsmodels.tsa.arima_model import ARIMA\n",
    "from sklearn.metrics import mean_squared_error\n",
    "from statsmodels.tsa.stattools import ccf\n",
    "from statsmodels.tsa.vector_ar.var_model import VAR\n"
   ]
  },
  {
   "cell_type": "code",
   "execution_count": 211,
   "metadata": {
    "collapsed": true
   },
   "outputs": [],
   "source": [
    "pathA = '/Users/Welliareetil/Documents/Cabestan-technical challenge/WelliaveetilDataset/A.csv'\n",
    "pathB = '/Users/Welliareetil/Documents/Cabestan-technical challenge/WelliaveetilDataset/B.csv'\n",
    "pathC = '/Users/Welliareetil/Documents/Cabestan-technical challenge/WelliaveetilDataset/C.csv'\n",
    "pathD = '/Users/Welliareetil/Documents/Cabestan-technical challenge/WelliaveetilDataset/D.csv'"
   ]
  },
  {
   "cell_type": "code",
   "execution_count": 212,
   "metadata": {
    "collapsed": true
   },
   "outputs": [],
   "source": [
    "A = pd.read_csv(pathA)\n",
    "B = pd.read_csv(pathB)\n",
    "C = pd.read_csv(pathC)\n",
    "D = pd.read_csv(pathD)"
   ]
  },
  {
   "cell_type": "code",
   "execution_count": 213,
   "metadata": {
    "collapsed": true
   },
   "outputs": [],
   "source": [
    "A.columns = [\"date\",'op_A', 'hi_A', 'lo_A', 'se_A', 'volume_A', 'oi_A']\n",
    "B.columns = [\"date\",'op_B', 'hi_B', 'lo_B', 'se_B', 'volume_B', 'oi_B']\n",
    "C.columns = [\"date\",'op_C', 'hi_C', 'lo_C', 'se_C', 'volume_C', 'oi_C']\n",
    "D.columns = [\"date\",'op_D', 'hi_D', 'lo_D', 'se_D', 'volume_D', 'oi_D']"
   ]
  },
  {
   "cell_type": "code",
   "execution_count": 214,
   "metadata": {
    "collapsed": true
   },
   "outputs": [],
   "source": [
    "A[\"date\"] = pd.to_datetime(A[\"date\"])\n",
    "B[\"date\"] = pd.to_datetime(B[\"date\"])\n",
    "C[\"date\"] = pd.to_datetime(C[\"date\"])\n",
    "D[\"date\"] = pd.to_datetime(D[\"date\"])"
   ]
  },
  {
   "cell_type": "code",
   "execution_count": 215,
   "metadata": {
    "collapsed": true
   },
   "outputs": [],
   "source": [
    "#We make note of the start and end dates of the 4 time series. This will be useful when making plot comparisons. \n",
    "\n",
    "a_start = A['date'][0]\n",
    "a_end = A['date'][len(A['date'])-1]\n",
    "b_start = B['date'][0]\n",
    "b_end = B['date'][len(B[\"date\"])-1]\n",
    "c_start = C['date'][0]\n",
    "c_end = C['date'][6823]\n",
    "d_start = D['date'][0]\n",
    "d_end = D['date'][10025]"
   ]
  },
  {
   "cell_type": "code",
   "execution_count": 216,
   "metadata": {
    "collapsed": true
   },
   "outputs": [],
   "source": [
    "A.index = A[\"date\"]\n",
    "#del(A['date'])\n",
    "B.index = B[\"date\"]\n",
    "#del(B['date'])\n",
    "C.index = C['date']\n",
    "#del(C['date'])\n",
    "D.index = D['date']\n",
    "#del(D['date'])\n"
   ]
  },
  {
   "cell_type": "markdown",
   "metadata": {},
   "source": [
    "# Missing Values and dates"
   ]
  },
  {
   "cell_type": "markdown",
   "metadata": {},
   "source": [
    "Checking for missing values and any unusual behaviour. "
   ]
  },
  {
   "cell_type": "code",
   "execution_count": 217,
   "metadata": {},
   "outputs": [
    {
     "data": {
      "text/plain": [
       "[[0, 0, 0, 0, 0, 0, 0],\n",
       " [0, 0, 0, 0, 0, 0, 0],\n",
       " [0, 0, 0, 0, 0, 0, 0],\n",
       " [0, 6, 6, 6, 0, 8, 11]]"
      ]
     },
     "execution_count": 217,
     "metadata": {},
     "output_type": "execute_result"
    }
   ],
   "source": [
    "null_list = []\n",
    "null_list.append(list(A.isnull().sum()))\n",
    "null_list.append(list(B.isnull().sum()))\n",
    "null_list.append(list(C.isnull().sum()))\n",
    "null_list.append(list(D.isnull().sum()))\n",
    "null_list"
   ]
  },
  {
   "cell_type": "markdown",
   "metadata": {},
   "source": [
    "We see that the series D has some missing values. "
   ]
  },
  {
   "cell_type": "markdown",
   "metadata": {},
   "source": [
    "We check if the data has certain dates missing. We do so by counting \n",
    "the number of days between the start and end dates of \n",
    "the different series and then multiplying this by (251/365) since 251 is a rough estimate of the number of\n",
    "working days per year. We then subtract the length of the various series which we assume\n",
    "counts the actual working days \n",
    "of the year and then normalize the error by dividing by the number of days between the start and end date. We see that \n",
    "this error rate is pretty much constant over all series."
   ]
  },
  {
   "cell_type": "code",
   "execution_count": 218,
   "metadata": {
    "collapsed": true
   },
   "outputs": [],
   "source": [
    "def missing_days(A):\n",
    "    a_start = A['date'][0]\n",
    "    a_end = A['date'][len(A['date'])-1]\n",
    "    deltaA = a_end - a_start\n",
    "    e1 = deltaA.days*(251/365) - len(A)\n",
    "    print(e1/deltaA.days)"
   ]
  },
  {
   "cell_type": "code",
   "execution_count": 219,
   "metadata": {},
   "outputs": [
    {
     "name": "stdout",
     "output_type": "stream",
     "text": [
      "-0.0011681770871062522\n"
     ]
    }
   ],
   "source": [
    "missing_days(A)"
   ]
  },
  {
   "cell_type": "code",
   "execution_count": 220,
   "metadata": {},
   "outputs": [
    {
     "name": "stdout",
     "output_type": "stream",
     "text": [
      "-0.001960050319346523\n"
     ]
    }
   ],
   "source": [
    "missing_days(B)"
   ]
  },
  {
   "cell_type": "code",
   "execution_count": 221,
   "metadata": {},
   "outputs": [
    {
     "name": "stdout",
     "output_type": "stream",
     "text": [
      "-0.0012737444074875828\n"
     ]
    }
   ],
   "source": [
    "missing_days(C)"
   ]
  },
  {
   "cell_type": "code",
   "execution_count": 222,
   "metadata": {},
   "outputs": [
    {
     "name": "stdout",
     "output_type": "stream",
     "text": [
      "-0.002301927951861117\n"
     ]
    }
   ],
   "source": [
    "missing_days(D)"
   ]
  },
  {
   "cell_type": "markdown",
   "metadata": {},
   "source": [
    "# Relationship between the opening prices of the 4 assets"
   ]
  },
  {
   "cell_type": "code",
   "execution_count": 223,
   "metadata": {
    "collapsed": true
   },
   "outputs": [],
   "source": [
    "a = max(a_start,b_start,c_start,d_start)\n",
    "b = min(a_end,b_end,c_end,d_end)"
   ]
  },
  {
   "cell_type": "code",
   "execution_count": 224,
   "metadata": {
    "collapsed": true
   },
   "outputs": [],
   "source": [
    "b = '2017/08/29'\n",
    "a = \"1990/07/17\""
   ]
  },
  {
   "cell_type": "code",
   "execution_count": 225,
   "metadata": {
    "collapsed": true
   },
   "outputs": [],
   "source": [
    "#A.set_index(\"date\")\n",
    "#B.set_index(\"date\")\n",
    "#C.set_index('date')\n",
    "#D.set_index('date')\n",
    "#a_start = A['date'][0]\n",
    "#a_end = A['date'][len(A['date'])-1]\n",
    "#b_start = B['date'][0]\n",
    "#b_end = B['date'][len(B[\"date\"])-1]\n",
    "#c_start = C['date'][0]\n",
    "#c_end = C['date'][6823]\n",
    "#d_start = D['date'][0]\n",
    "#d_end = D['date'][10025]"
   ]
  },
  {
   "cell_type": "code",
   "execution_count": 226,
   "metadata": {
    "collapsed": true
   },
   "outputs": [],
   "source": [
    "a = max(a_start,b_start,c_start,d_start)\n",
    "b = min(a_end,b_end,c_end,d_end)"
   ]
  },
  {
   "cell_type": "markdown",
   "metadata": {},
   "source": [
    "A comparison plot of the opening prices of A,B,C and D during the relevant time periods. "
   ]
  },
  {
   "cell_type": "code",
   "execution_count": 227,
   "metadata": {
    "scrolled": false
   },
   "outputs": [
    {
     "data": {
      "image/png": "[encoded data removed]",
      "text/plain": [
       "<matplotlib.figure.Figure at 0x1c19ae7278>"
      ]
     },
     "metadata": {},
     "output_type": "display_data"
    }
   ],
   "source": [
    "fig,ax = plt.subplots()\n",
    "ax.plot(A[\"date\"][a:b],A[a:b]['op_A'])\n",
    "ax.plot(B[\"date\"][a:b],B[a:b]['op_B'])\n",
    "ax.plot(C[\"date\"],C['op_C'])\n",
    "ax.plot(D[\"date\"][3135:9964],D[3135:9964]['op_D'])\n",
    "ax.xaxis.set_major_locator(mdates.YearLocator(2,month = 2,day = 2))\n",
    "ax.xaxis.set_major_formatter(mdates.DateFormatter(\"%Y\"))\n",
    "ax.legend()\n",
    "_=plt.xticks(rotation=90) \n",
    "plt.show()"
   ]
  },
  {
   "cell_type": "markdown",
   "metadata": {},
   "source": [
    "We observe a very strong relationship between the series op_B and op_D. To be sure we calculate correlations between the returns (or in this case day to day changes) between the series. "
   ]
  },
  {
   "cell_type": "code",
   "execution_count": 228,
   "metadata": {
    "collapsed": true
   },
   "outputs": [],
   "source": [
    "A_ret = A.copy()\n",
    "del(A_ret['date'])\n",
    "A_ret = A_ret.pct_change()\n",
    "A_ret = A_ret.dropna(axis = 0)\n",
    "\n",
    "B_ret = B.copy()\n",
    "del(B_ret['date'])\n",
    "B_ret = B_ret.pct_change()\n",
    "B_ret = B_ret.dropna(axis = 0)\n",
    "\n",
    "C_ret = C.copy()\n",
    "del(C_ret['date'])\n",
    "C_ret = C_ret.pct_change()\n",
    "C_ret = C_ret.dropna(axis = 0)\n",
    "\n",
    "D_ret = D.copy()\n",
    "del(D_ret['date'])\n",
    "D_ret = D_ret.pct_change()\n",
    "D_ret = D_ret.dropna(axis = 0)\n"
   ]
  },
  {
   "cell_type": "markdown",
   "metadata": {},
   "source": [
    "We create a database that includes all the data from the 4 series A,B,C and D. We study the correlations between series. "
   ]
  },
  {
   "cell_type": "code",
   "execution_count": 229,
   "metadata": {
    "collapsed": true
   },
   "outputs": [],
   "source": [
    "returns = A_ret.join(B_ret,how = 'inner')\n",
    "returns = returns.join(C_ret,how = \"inner\")\n",
    "returns = returns.join(D_ret,how = 'inner')"
   ]
  },
  {
   "cell_type": "code",
   "execution_count": 230,
   "metadata": {
    "collapsed": true
   },
   "outputs": [],
   "source": [
    "l = []\n",
    "for j in list(returns.columns):\n",
    "    j = j + '_ret'    \n",
    "    l.append(j)\n",
    "returns.columns = l    "
   ]
  },
  {
   "cell_type": "code",
   "execution_count": 231,
   "metadata": {},
   "outputs": [
    {
     "data": {
      "text/plain": [
       "Index(['op_A_ret', 'hi_A_ret', 'lo_A_ret', 'se_A_ret', 'volume_A_ret',\n",
       "       'oi_A_ret', 'op_B_ret', 'hi_B_ret', 'lo_B_ret', 'se_B_ret',\n",
       "       'volume_B_ret', 'oi_B_ret', 'op_C_ret', 'hi_C_ret', 'lo_C_ret',\n",
       "       'se_C_ret', 'volume_C_ret', 'oi_C_ret', 'op_D_ret', 'hi_D_ret',\n",
       "       'lo_D_ret', 'se_D_ret', 'volume_D_ret', 'oi_D_ret'],\n",
       "      dtype='object')"
      ]
     },
     "execution_count": 231,
     "metadata": {},
     "output_type": "execute_result"
    }
   ],
   "source": [
    "returns.columns"
   ]
  },
  {
   "cell_type": "code",
   "execution_count": 232,
   "metadata": {},
   "outputs": [
    {
     "name": "stdout",
     "output_type": "stream",
     "text": [
      "          op_A_ret  op_B_ret  op_C_ret  op_D_ret\n",
      "op_A_ret  1.000000  0.946660  0.822254  0.850212\n",
      "op_B_ret  0.946660  1.000000  0.755044  0.929759\n",
      "op_C_ret  0.822254  0.755044  1.000000  0.644406\n",
      "op_D_ret  0.850212  0.929759  0.644406  1.000000\n"
     ]
    }
   ],
   "source": [
    "correlations_op = returns[['op_A_ret','op_B_ret','op_C_ret','op_D_ret']].corr()\n",
    "print(correlations_op)"
   ]
  },
  {
   "cell_type": "code",
   "execution_count": 233,
   "metadata": {
    "collapsed": true
   },
   "outputs": [],
   "source": [
    "#scatter_matrix(returns[['op_A_ret','op_B_ret','op_C_ret','op_D_ret']])\n",
    "#plt.show()"
   ]
  },
  {
   "cell_type": "code",
   "execution_count": 234,
   "metadata": {
    "collapsed": true
   },
   "outputs": [],
   "source": [
    "dims = (12,7.5)\n",
    "#fig,ax = plt.subplots(figsize = dims)\n",
    "correlations = returns.corr()\n",
    "#sns.heatmap(ax = ax, data = correlations)\n",
    "#plt.show()\n",
    "#plt.savefig('correlation_matrix.png')"
   ]
  },
  {
   "cell_type": "markdown",
   "metadata": {},
   "source": [
    "We make the following observations : \n",
    "\n",
    "1) The volume changes and changes in open interest from day to day show little correlation with the day to day changes of the other features (hi_ret,lo_ret,se_ret,op_ret) within the same series and\n",
    "the other series.\n",
    "\n",
    "2) For any two series, say A and B, we have strong correlations between op_A_ret and op_B_ret, hi_A_ret and hi_B_ret,\n",
    "lo_A_ret and lo_B_ret, se_A_ret and se_B_ret. "
   ]
  },
  {
   "cell_type": "markdown",
   "metadata": {},
   "source": [
    "# Behaviour within each series. \n",
    "\n"
   ]
  },
  {
   "cell_type": "markdown",
   "metadata": {},
   "source": [
    "# We predict the opening prices of asset A."
   ]
  },
  {
   "cell_type": "markdown",
   "metadata": {},
   "source": [
    "We start by plotting the autocorrelation function for the returns series - A_ret"
   ]
  },
  {
   "cell_type": "code",
   "execution_count": 235,
   "metadata": {},
   "outputs": [
    {
     "data": {
      "text/html": [
       "<div>\n",
       "<style>\n",
       "    .dataframe thead tr:only-child th {\n",
       "        text-align: right;\n",
       "    }\n",
       "\n",
       "    .dataframe thead th {\n",
       "        text-align: left;\n",
       "    }\n",
       "\n",
       "    .dataframe tbody tr th {\n",
       "        vertical-align: top;\n",
       "    }\n",
       "</style>\n",
       "<table border=\"1\" class=\"dataframe\">\n",
       "  <thead>\n",
       "    <tr style=\"text-align: right;\">\n",
       "      <th></th>\n",
       "      <th>op_A</th>\n",
       "      <th>hi_A</th>\n",
       "      <th>lo_A</th>\n",
       "      <th>se_A</th>\n",
       "      <th>volume_A</th>\n",
       "      <th>oi_A</th>\n",
       "    </tr>\n",
       "  </thead>\n",
       "  <tbody>\n",
       "    <tr>\n",
       "      <th>count</th>\n",
       "      <td>7424.000000</td>\n",
       "      <td>7424.000000</td>\n",
       "      <td>7424.000000</td>\n",
       "      <td>7424.000000</td>\n",
       "      <td>7424.000000</td>\n",
       "      <td>7424.000000</td>\n",
       "    </tr>\n",
       "    <tr>\n",
       "      <th>mean</th>\n",
       "      <td>0.000113</td>\n",
       "      <td>0.000112</td>\n",
       "      <td>0.000112</td>\n",
       "      <td>0.000113</td>\n",
       "      <td>inf</td>\n",
       "      <td>0.007048</td>\n",
       "    </tr>\n",
       "    <tr>\n",
       "      <th>std</th>\n",
       "      <td>0.002599</td>\n",
       "      <td>0.002468</td>\n",
       "      <td>0.002384</td>\n",
       "      <td>0.002519</td>\n",
       "      <td>NaN</td>\n",
       "      <td>0.391750</td>\n",
       "    </tr>\n",
       "    <tr>\n",
       "      <th>min</th>\n",
       "      <td>-0.017423</td>\n",
       "      <td>-0.016938</td>\n",
       "      <td>-0.017679</td>\n",
       "      <td>-0.019006</td>\n",
       "      <td>-1.000000</td>\n",
       "      <td>-0.971345</td>\n",
       "    </tr>\n",
       "    <tr>\n",
       "      <th>25%</th>\n",
       "      <td>-0.001341</td>\n",
       "      <td>-0.001113</td>\n",
       "      <td>-0.001092</td>\n",
       "      <td>-0.001258</td>\n",
       "      <td>-0.231081</td>\n",
       "      <td>-0.009309</td>\n",
       "    </tr>\n",
       "    <tr>\n",
       "      <th>50%</th>\n",
       "      <td>0.000141</td>\n",
       "      <td>0.000063</td>\n",
       "      <td>0.000145</td>\n",
       "      <td>0.000128</td>\n",
       "      <td>0.003154</td>\n",
       "      <td>0.001121</td>\n",
       "    </tr>\n",
       "    <tr>\n",
       "      <th>75%</th>\n",
       "      <td>0.001581</td>\n",
       "      <td>0.001365</td>\n",
       "      <td>0.001363</td>\n",
       "      <td>0.001528</td>\n",
       "      <td>0.309740</td>\n",
       "      <td>0.013350</td>\n",
       "    </tr>\n",
       "    <tr>\n",
       "      <th>max</th>\n",
       "      <td>0.018204</td>\n",
       "      <td>0.019126</td>\n",
       "      <td>0.015206</td>\n",
       "      <td>0.019735</td>\n",
       "      <td>inf</td>\n",
       "      <td>33.385878</td>\n",
       "    </tr>\n",
       "  </tbody>\n",
       "</table>\n",
       "</div>"
      ],
      "text/plain": [
       "              op_A         hi_A         lo_A         se_A     volume_A  \\\n",
       "count  7424.000000  7424.000000  7424.000000  7424.000000  7424.000000   \n",
       "mean      0.000113     0.000112     0.000112     0.000113          inf   \n",
       "std       0.002599     0.002468     0.002384     0.002519          NaN   \n",
       "min      -0.017423    -0.016938    -0.017679    -0.019006    -1.000000   \n",
       "25%      -0.001341    -0.001113    -0.001092    -0.001258    -0.231081   \n",
       "50%       0.000141     0.000063     0.000145     0.000128     0.003154   \n",
       "75%       0.001581     0.001365     0.001363     0.001528     0.309740   \n",
       "max       0.018204     0.019126     0.015206     0.019735          inf   \n",
       "\n",
       "              oi_A  \n",
       "count  7424.000000  \n",
       "mean      0.007048  \n",
       "std       0.391750  \n",
       "min      -0.971345  \n",
       "25%      -0.009309  \n",
       "50%       0.001121  \n",
       "75%       0.013350  \n",
       "max      33.385878  "
      ]
     },
     "execution_count": 235,
     "metadata": {},
     "output_type": "execute_result"
    }
   ],
   "source": [
    "A_ret.describe()"
   ]
  },
  {
   "cell_type": "code",
   "execution_count": 236,
   "metadata": {
    "collapsed": true
   },
   "outputs": [],
   "source": [
    "#Rename the columns so that they differ from those of A\n",
    "\n",
    "def add_ret(B):\n",
    "    t = []\n",
    "    for j in list(B.columns):\n",
    "        j = j + '_ret'    \n",
    "        t.append(j)\n",
    "    B.columns = t"
   ]
  },
  {
   "cell_type": "code",
   "execution_count": 237,
   "metadata": {
    "collapsed": true
   },
   "outputs": [],
   "source": [
    "add_ret(A_ret)"
   ]
  },
  {
   "cell_type": "code",
   "execution_count": 238,
   "metadata": {},
   "outputs": [
    {
     "data": {
      "image/png": "[encoded data removed]",
      "text/plain": [
       "<matplotlib.figure.Figure at 0x1c1189ef60>"
      ]
     },
     "execution_count": 238,
     "metadata": {},
     "output_type": "execute_result"
    }
   ],
   "source": [
    "plot_acf(A_ret['op_A_ret'],lags = 60,alpha = 0.5)"
   ]
  },
  {
   "cell_type": "markdown",
   "metadata": {},
   "source": [
    "It looks like the series is a white noise process because we do not see any non trivial auto correlations beyond lag 0. \n",
    "\n",
    "We make test quickly if this observation is accurate using the Dicky-Fuller test on the series A_ret. "
   ]
  },
  {
   "cell_type": "code",
   "execution_count": 239,
   "metadata": {
    "collapsed": true
   },
   "outputs": [],
   "source": [
    "def ad_fuller_test(S):\n",
    "    results = adfuller(S)\n",
    "    print(\"The p-value is \" + str(results[1]))"
   ]
  },
  {
   "cell_type": "code",
   "execution_count": 240,
   "metadata": {},
   "outputs": [
    {
     "name": "stdout",
     "output_type": "stream",
     "text": [
      "The p-value is 0.951838970132\n"
     ]
    }
   ],
   "source": [
    "ad_fuller_test(A['op_A'])"
   ]
  },
  {
   "cell_type": "markdown",
   "metadata": {},
   "source": [
    "The test implies that A is a random walk. "
   ]
  },
  {
   "cell_type": "markdown",
   "metadata": {},
   "source": [
    "We fit ARIMA(p,d,q) models to predict the opening price of the asset A given its previous opening prices. \n",
    "\n",
    "We begin by finding the most suitable p,d and q using the AIC and BIC scores. "
   ]
  },
  {
   "cell_type": "code",
   "execution_count": 241,
   "metadata": {},
   "outputs": [],
   "source": [
    "def ARIMA_fitting_AIC_BIC_list(A):\n",
    "    X = A.values\n",
    "    size = int(len(X)*0.70)\n",
    "    train = X[0:size]\n",
    "    test = X[size:len(X)]\n",
    "    AIC = []\n",
    "    BIC = []\n",
    "    for i in range(1,6):\n",
    "        model = ARIMA(train,order = (i,1,0))\n",
    "        model_fit = model.fit(disp=0)\n",
    "        AIC.append(model_fit.aic)\n",
    "        BIC.append(model_fit.bic)\n",
    "    print('The AIC list is ' )\n",
    "    print(AIC)\n",
    "    print('The BIC list is ')\n",
    "    print(BIC)"
   ]
  },
  {
   "cell_type": "code",
   "execution_count": 242,
   "metadata": {},
   "outputs": [
    {
     "name": "stdout",
     "output_type": "stream",
     "text": [
      "The AIC list is \n",
      "[4965.8695887474005, 4959.7325046502265, 4961.611741343775, 4954.573219950087, 4956.439966941089]\n",
      "The BIC list is \n",
      "[4985.5365218807719, 4985.9550821613884, 4994.3899632327275, 4993.9070862168301, 5002.329477585622]\n"
     ]
    }
   ],
   "source": [
    "ARIMA_fitting_AIC_BIC_list(A['op_A'])"
   ]
  },
  {
   "cell_type": "markdown",
   "metadata": {},
   "source": [
    "The AIC and BIC scores tell us that a ARIMA(2,1,0) is a reasonable choice to make. We compute the MSE of the ARIMA(2,1,0) model as follows and find that on average the model has an error of 0.2024 using a Rolling forecast. "
   ]
  },
  {
   "cell_type": "markdown",
   "metadata": {},
   "source": [
    "Rolling forecast error calculation :"
   ]
  },
  {
   "cell_type": "code",
   "execution_count": 109,
   "metadata": {},
   "outputs": [],
   "source": [
    "def ARIMA_rolling_forecast(A,p,d,q):\n",
    "    X = A.values\n",
    "    size = int(len(X)*0.70)\n",
    "    train = X[0:size]\n",
    "    test = X[size:len(X)]\n",
    "    history = [x for x in train]\n",
    "    predictions = list()\n",
    "    for t in range(len(test)):\n",
    "        model = ARIMA(history, order=(p,d,q))\n",
    "        model_fit = model.fit(disp=0)\n",
    "        output = model_fit.forecast()\n",
    "        yhat = output[0]\n",
    "        predictions.append(yhat)\n",
    "        obs = test[t]\n",
    "        history.append(obs)\n",
    "    return(test, predictions)    "
   ]
  },
  {
   "cell_type": "code",
   "execution_count": 79,
   "metadata": {},
   "outputs": [
    {
     "name": "stderr",
     "output_type": "stream",
     "text": [
      "/Users/Welliareetil/anaconda3/lib/python3.6/site-packages/statsmodels/base/model.py:496: ConvergenceWarning: Maximum Likelihood optimization failed to converge. Check mle_retvals\n",
      "  \"Check mle_retvals\", ConvergenceWarning)\n"
     ]
    }
   ],
   "source": [
    "testA,predictions_A210 = ARIMA_rolling_forecast(A['op_A'],2,1,0)"
   ]
  },
  {
   "cell_type": "markdown",
   "metadata": {},
   "source": [
    "We see in the graph below that the predictions follow the test data almost perfectly. "
   ]
  },
  {
   "cell_type": "code",
   "execution_count": 82,
   "metadata": {},
   "outputs": [],
   "source": [
    "def plot_predictions(test,predictions):\n",
    "    plt.plot(predictions)\n",
    "    plt.plot(test)\n",
    "    plt.xlabel('Index of data point of test set')\n",
    "    plt.ylabel('price')\n",
    "    plt.legend()\n",
    "    plt.show()"
   ]
  },
  {
   "cell_type": "code",
   "execution_count": 84,
   "metadata": {},
   "outputs": [
    {
     "data": {
      "image/png": "[encoded data removed]",
      "text/plain": [
       "<matplotlib.figure.Figure at 0x1c119ff320>"
      ]
     },
     "metadata": {},
     "output_type": "display_data"
    }
   ],
   "source": [
    "plot_predictions(testA,predictions_A210)"
   ]
  },
  {
   "cell_type": "code",
   "execution_count": 88,
   "metadata": {},
   "outputs": [],
   "source": [
    "def MSE(test,predictions):\n",
    "    error = mean_squared_error(test,predictions)\n",
    "    print(error)"
   ]
  },
  {
   "cell_type": "code",
   "execution_count": 89,
   "metadata": {},
   "outputs": [
    {
     "name": "stdout",
     "output_type": "stream",
     "text": [
      "0.202465936397\n"
     ]
    }
   ],
   "source": [
    "MSE(testA,predictions_A210)"
   ]
  },
  {
   "cell_type": "markdown",
   "metadata": {},
   "source": [
    "We calculate the mean absolute scaled error so as to be able to compare the models for the different series. "
   ]
  },
  {
   "cell_type": "code",
   "execution_count": 90,
   "metadata": {
    "collapsed": true
   },
   "outputs": [],
   "source": [
    "def MASE(test,predictions):\n",
    "    err = [test[j] - predictions[j] for j in range(len(test))]\n",
    "    #Naive error calculation : \n",
    "    T = len(test)\n",
    "    naive_error = 0\n",
    "    for j in range(1,T):\n",
    "        naive_error = naive_error + abs(test[j] - test[j-1])\n",
    "    naive_error = (1/(T-1))*naive_error \n",
    "    scaled_errors = [x*naive_error for x in err]\n",
    "    MASE = np.mean([abs(x) for x in scaled_errors])\n",
    "    print(\"The mean absolute scaled error is \" + str(MASE))"
   ]
  },
  {
   "cell_type": "code",
   "execution_count": 91,
   "metadata": {},
   "outputs": [
    {
     "name": "stdout",
     "output_type": "stream",
     "text": [
      "The mean absolute scaled error is 0.11543538808\n"
     ]
    }
   ],
   "source": [
    "MASE(testA,predictions_A210)"
   ]
  },
  {
   "cell_type": "markdown",
   "metadata": {},
   "source": [
    "We also test an ARIMA(5,1,0) model."
   ]
  },
  {
   "cell_type": "code",
   "execution_count": 91,
   "metadata": {},
   "outputs": [
    {
     "name": "stderr",
     "output_type": "stream",
     "text": [
      "/Users/Welliareetil/anaconda3/lib/python3.6/site-packages/statsmodels/base/model.py:496: ConvergenceWarning: Maximum Likelihood optimization failed to converge. Check mle_retvals\n",
      "  \"Check mle_retvals\", ConvergenceWarning)\n"
     ]
    }
   ],
   "source": [
    "testA,predictions_A510 = ARIMA_rolling_forecast(A,5,1,0)  "
   ]
  },
  {
   "cell_type": "code",
   "execution_count": 109,
   "metadata": {},
   "outputs": [
    {
     "name": "stdout",
     "output_type": "stream",
     "text": [
      "0.202871129821\n"
     ]
    }
   ],
   "source": [
    "errorA510 = mean_squared_error(test,predictions_A510)\n",
    "print(errorA510)"
   ]
  },
  {
   "cell_type": "code",
   "execution_count": 175,
   "metadata": {},
   "outputs": [
    {
     "name": "stdout",
     "output_type": "stream",
     "text": [
      "The mean absolute scaled error is 0.115516955127\n"
     ]
    }
   ],
   "source": [
    "MASE(testA,predictions_A510)"
   ]
  },
  {
   "cell_type": "markdown",
   "metadata": {},
   "source": [
    "# We predict the opening price of asset B"
   ]
  },
  {
   "cell_type": "code",
   "execution_count": 243,
   "metadata": {
    "scrolled": true
   },
   "outputs": [
    {
     "data": {
      "text/html": [
       "<div>\n",
       "<style>\n",
       "    .dataframe thead tr:only-child th {\n",
       "        text-align: right;\n",
       "    }\n",
       "\n",
       "    .dataframe thead th {\n",
       "        text-align: left;\n",
       "    }\n",
       "\n",
       "    .dataframe tbody tr th {\n",
       "        vertical-align: top;\n",
       "    }\n",
       "</style>\n",
       "<table border=\"1\" class=\"dataframe\">\n",
       "  <thead>\n",
       "    <tr style=\"text-align: right;\">\n",
       "      <th></th>\n",
       "      <th>op_B</th>\n",
       "      <th>hi_B</th>\n",
       "      <th>lo_B</th>\n",
       "      <th>se_B</th>\n",
       "      <th>volume_B</th>\n",
       "      <th>oi_B</th>\n",
       "    </tr>\n",
       "  </thead>\n",
       "  <tbody>\n",
       "    <tr>\n",
       "      <th>count</th>\n",
       "      <td>8958.000000</td>\n",
       "      <td>8958.000000</td>\n",
       "      <td>8958.000000</td>\n",
       "      <td>8958.000000</td>\n",
       "      <td>8958.000000</td>\n",
       "      <td>8958.000000</td>\n",
       "    </tr>\n",
       "    <tr>\n",
       "      <th>mean</th>\n",
       "      <td>0.000189</td>\n",
       "      <td>0.000186</td>\n",
       "      <td>0.000187</td>\n",
       "      <td>0.000187</td>\n",
       "      <td>inf</td>\n",
       "      <td>0.019977</td>\n",
       "    </tr>\n",
       "    <tr>\n",
       "      <th>std</th>\n",
       "      <td>0.004552</td>\n",
       "      <td>0.004039</td>\n",
       "      <td>0.003997</td>\n",
       "      <td>0.004231</td>\n",
       "      <td>NaN</td>\n",
       "      <td>1.625740</td>\n",
       "    </tr>\n",
       "    <tr>\n",
       "      <th>min</th>\n",
       "      <td>-0.030137</td>\n",
       "      <td>-0.022499</td>\n",
       "      <td>-0.025499</td>\n",
       "      <td>-0.024001</td>\n",
       "      <td>-1.000000</td>\n",
       "      <td>-0.992675</td>\n",
       "    </tr>\n",
       "    <tr>\n",
       "      <th>25%</th>\n",
       "      <td>-0.002288</td>\n",
       "      <td>-0.001830</td>\n",
       "      <td>-0.001829</td>\n",
       "      <td>-0.002102</td>\n",
       "      <td>-0.225121</td>\n",
       "      <td>-0.010839</td>\n",
       "    </tr>\n",
       "    <tr>\n",
       "      <th>50%</th>\n",
       "      <td>0.000126</td>\n",
       "      <td>0.000118</td>\n",
       "      <td>0.000276</td>\n",
       "      <td>0.000150</td>\n",
       "      <td>0.004992</td>\n",
       "      <td>0.001436</td>\n",
       "    </tr>\n",
       "    <tr>\n",
       "      <th>75%</th>\n",
       "      <td>0.002669</td>\n",
       "      <td>0.002216</td>\n",
       "      <td>0.002229</td>\n",
       "      <td>0.002512</td>\n",
       "      <td>0.304181</td>\n",
       "      <td>0.014948</td>\n",
       "    </tr>\n",
       "    <tr>\n",
       "      <th>max</th>\n",
       "      <td>0.044639</td>\n",
       "      <td>0.035004</td>\n",
       "      <td>0.042678</td>\n",
       "      <td>0.036305</td>\n",
       "      <td>inf</td>\n",
       "      <td>153.604520</td>\n",
       "    </tr>\n",
       "  </tbody>\n",
       "</table>\n",
       "</div>"
      ],
      "text/plain": [
       "              op_B         hi_B         lo_B         se_B     volume_B  \\\n",
       "count  8958.000000  8958.000000  8958.000000  8958.000000  8958.000000   \n",
       "mean      0.000189     0.000186     0.000187     0.000187          inf   \n",
       "std       0.004552     0.004039     0.003997     0.004231          NaN   \n",
       "min      -0.030137    -0.022499    -0.025499    -0.024001    -1.000000   \n",
       "25%      -0.002288    -0.001830    -0.001829    -0.002102    -0.225121   \n",
       "50%       0.000126     0.000118     0.000276     0.000150     0.004992   \n",
       "75%       0.002669     0.002216     0.002229     0.002512     0.304181   \n",
       "max       0.044639     0.035004     0.042678     0.036305          inf   \n",
       "\n",
       "              oi_B  \n",
       "count  8958.000000  \n",
       "mean      0.019977  \n",
       "std       1.625740  \n",
       "min      -0.992675  \n",
       "25%      -0.010839  \n",
       "50%       0.001436  \n",
       "75%       0.014948  \n",
       "max     153.604520  "
      ]
     },
     "execution_count": 243,
     "metadata": {},
     "output_type": "execute_result"
    }
   ],
   "source": [
    "B_ret.describe()"
   ]
  },
  {
   "cell_type": "code",
   "execution_count": 244,
   "metadata": {
    "collapsed": true
   },
   "outputs": [],
   "source": [
    "add_ret(B_ret)"
   ]
  },
  {
   "cell_type": "markdown",
   "metadata": {},
   "source": [
    "We plot the ACF for the returns series of B which is stationary. "
   ]
  },
  {
   "cell_type": "code",
   "execution_count": 245,
   "metadata": {},
   "outputs": [
    {
     "data": {
      "image/png": "[encoded data removed]",
      "text/plain": [
       "<matplotlib.figure.Figure at 0x1c1ab5d080>"
      ]
     },
     "execution_count": 245,
     "metadata": {},
     "output_type": "execute_result"
    }
   ],
   "source": [
    "plot_acf(B_ret['op_B_ret'],lags = 60,alpha = 0.5)"
   ]
  },
  {
   "cell_type": "code",
   "execution_count": 246,
   "metadata": {},
   "outputs": [
    {
     "name": "stdout",
     "output_type": "stream",
     "text": [
      "The p-value is 0.962276722921\n"
     ]
    }
   ],
   "source": [
    "ad_fuller_test(B['op_B'])"
   ]
  },
  {
   "cell_type": "markdown",
   "metadata": {},
   "source": [
    "It is extremely likely that B is a random walk."
   ]
  },
  {
   "cell_type": "code",
   "execution_count": 247,
   "metadata": {},
   "outputs": [
    {
     "name": "stdout",
     "output_type": "stream",
     "text": [
      "The AIC list is \n",
      "[16817.450667461133, 16819.09833432123, 16815.14876275715, 16816.694838732066, 16817.80542731725]\n",
      "The BIC list is \n",
      "[16837.681262362014, 16846.072460855736, 16848.866420925286, 16857.156028533827, 16865.010148752637]\n"
     ]
    }
   ],
   "source": [
    "ARIMA_fitting_AIC_BIC_list(B['op_B'])"
   ]
  },
  {
   "cell_type": "markdown",
   "metadata": {},
   "source": [
    "Selection in this case is slightly more difficult. We choose the ARIMA(1,1,0) model. We will also test the ARIMA(4,1,0) model and the ARIMA(2,1,0) model. "
   ]
  },
  {
   "cell_type": "code",
   "execution_count": 111,
   "metadata": {},
   "outputs": [
    {
     "name": "stderr",
     "output_type": "stream",
     "text": [
      "/Users/Welliareetil/anaconda3/lib/python3.6/site-packages/statsmodels/base/model.py:496: ConvergenceWarning: Maximum Likelihood optimization failed to converge. Check mle_retvals\n",
      "  \"Check mle_retvals\", ConvergenceWarning)\n",
      "/Users/Welliareetil/anaconda3/lib/python3.6/site-packages/statsmodels/base/model.py:496: ConvergenceWarning: Maximum Likelihood optimization failed to converge. Check mle_retvals\n",
      "  \"Check mle_retvals\", ConvergenceWarning)\n",
      "/Users/Welliareetil/anaconda3/lib/python3.6/site-packages/statsmodels/base/model.py:496: ConvergenceWarning: Maximum Likelihood optimization failed to converge. Check mle_retvals\n",
      "  \"Check mle_retvals\", ConvergenceWarning)\n",
      "/Users/Welliareetil/anaconda3/lib/python3.6/site-packages/statsmodels/base/model.py:496: ConvergenceWarning: Maximum Likelihood optimization failed to converge. Check mle_retvals\n",
      "  \"Check mle_retvals\", ConvergenceWarning)\n"
     ]
    }
   ],
   "source": [
    "testB,predictions_B110 = ARIMA_rolling_forecast(B['op_B'],1,1,0)"
   ]
  },
  {
   "cell_type": "code",
   "execution_count": 115,
   "metadata": {},
   "outputs": [
    {
     "data": {
      "image/png": "[encoded data removed]",
      "text/plain": [
       "<matplotlib.figure.Figure at 0x1c1229c240>"
      ]
     },
     "metadata": {},
     "output_type": "display_data"
    }
   ],
   "source": [
    "plot_predictions(testB,predictions_B110)"
   ]
  },
  {
   "cell_type": "code",
   "execution_count": 118,
   "metadata": {},
   "outputs": [
    {
     "name": "stdout",
     "output_type": "stream",
     "text": [
      "2.68475472242\n"
     ]
    }
   ],
   "source": [
    "errorB110 = mean_squared_error(testB,predictions_B110)\n",
    "print(errorB110)"
   ]
  },
  {
   "cell_type": "code",
   "execution_count": 119,
   "metadata": {},
   "outputs": [
    {
     "name": "stdout",
     "output_type": "stream",
     "text": [
      "The mean absolute scaled error is 1.54736444962\n"
     ]
    }
   ],
   "source": [
    "MASE(testB,predictions_B110)"
   ]
  },
  {
   "cell_type": "markdown",
   "metadata": {},
   "source": [
    "We see that the mean absolute scaled error in this case indicates that the model performs WORSE than \n",
    "a model which predicts tomorrows opening price as todays price. To be sure we employ an ARIMA(2,1,0) model as well. "
   ]
  },
  {
   "cell_type": "code",
   "execution_count": null,
   "metadata": {},
   "outputs": [],
   "source": [
    "testB,predictions_B210 = ARIMA_rolling_forecast(B['op_B'],2,1,0)"
   ]
  },
  {
   "cell_type": "code",
   "execution_count": 194,
   "metadata": {},
   "outputs": [
    {
     "data": {
      "image/png": "[encoded data removed]",
      "text/plain": [
       "<matplotlib.figure.Figure at 0x1c13c4b080>"
      ]
     },
     "metadata": {},
     "output_type": "display_data"
    }
   ],
   "source": [
    "plot_predictions(testB,predictions_B210)"
   ]
  },
  {
   "cell_type": "markdown",
   "metadata": {},
   "source": [
    " We calculate the MSE below."
   ]
  },
  {
   "cell_type": "code",
   "execution_count": 195,
   "metadata": {},
   "outputs": [
    {
     "name": "stdout",
     "output_type": "stream",
     "text": [
      "2.6833382522\n"
     ]
    }
   ],
   "source": [
    "errorB210 = mean_squared_error(testB,predictionsB210)\n",
    "print(errorB210)"
   ]
  },
  {
   "cell_type": "code",
   "execution_count": 197,
   "metadata": {},
   "outputs": [
    {
     "name": "stdout",
     "output_type": "stream",
     "text": [
      "The mean absolute scaled error is 1.54680780562\n"
     ]
    }
   ],
   "source": [
    "MASE(testB,predictionsB210)"
   ]
  },
  {
   "cell_type": "markdown",
   "metadata": {},
   "source": [
    "# VAR models for asset B"
   ]
  },
  {
   "cell_type": "markdown",
   "metadata": {},
   "source": [
    "To reduce the scaled error, we look to fit VAR models for the asset B. "
   ]
  },
  {
   "cell_type": "code",
   "execution_count": 248,
   "metadata": {
    "collapsed": true
   },
   "outputs": [],
   "source": [
    "#function to plot the cross correlation for stationary series X and Y.\n",
    "def CCF(X,Y,s1):\n",
    "    cross_corr = ccf(X,Y)\n",
    "    plt.plot(cross_corr[0:250])\n",
    "    plt.xlabel(s1)\n",
    "    plt.show()"
   ]
  },
  {
   "cell_type": "code",
   "execution_count": 249,
   "metadata": {
    "collapsed": true
   },
   "outputs": [],
   "source": [
    "#CCF(B_ret['op_B_ret'],B_ret['hi_B_ret'],'op_B_ret vs hi_B_ret')\n",
    "#CCF(B_ret['op_B_ret'],B_ret['lo_B_ret'],'op_B_ret vs lo_B_ret')"
   ]
  },
  {
   "cell_type": "markdown",
   "metadata": {},
   "source": [
    "Looking at the summary statistics above, we see that the feature volume_B_ret has some issues."
   ]
  },
  {
   "cell_type": "code",
   "execution_count": 298,
   "metadata": {},
   "outputs": [
    {
     "data": {
      "image/png": "[encoded data removed]",
      "text/plain": [
       "<matplotlib.figure.Figure at 0x1c120566d8>"
      ]
     },
     "metadata": {},
     "output_type": "display_data"
    }
   ],
   "source": [
    "plt.plot(B_ret['volume_B_ret'])      \n",
    "plt.show()"
   ]
  },
  {
   "cell_type": "markdown",
   "metadata": {},
   "source": [
    "We observe certain anomalies in the volume data and try to identify the precise points at which these anomalies occurred. "
   ]
  },
  {
   "cell_type": "code",
   "execution_count": 251,
   "metadata": {},
   "outputs": [
    {
     "name": "stdout",
     "output_type": "stream",
     "text": [
      "[798, 1285, 3319, 4157, 4454, 4828]\n"
     ]
    }
   ],
   "source": [
    "s = []\n",
    "for j in range(len(B_ret)):\n",
    "    if B_ret['volume_B_ret'][j] > 50:\n",
    "        s.append(j)\n",
    "print(s) \n",
    "strange_dates_B = []\n",
    "for j in s:\n",
    "    strange_dates_B.append(B['date'][j])"
   ]
  },
  {
   "cell_type": "markdown",
   "metadata": {},
   "source": [
    "There are two days which had significant volume changes - 05/06/1985 - 645%, 28/06/2001 - 132%. We consider these extreme outliers and hence alter the information here by replace the values with the mean of the volume changes of the days before and after. "
   ]
  },
  {
   "cell_type": "code",
   "execution_count": 252,
   "metadata": {
    "collapsed": true
   },
   "outputs": [],
   "source": [
    "def insert_mean(S,i):\n",
    "    S[i] = (S[i-1]+S[i+1])/2"
   ]
  },
  {
   "cell_type": "code",
   "execution_count": 253,
   "metadata": {
    "collapsed": true
   },
   "outputs": [],
   "source": [
    "B_clean = B.copy()"
   ]
  },
  {
   "cell_type": "code",
   "execution_count": 254,
   "metadata": {},
   "outputs": [
    {
     "name": "stderr",
     "output_type": "stream",
     "text": [
      "/Users/Welliareetil/anaconda3/lib/python3.6/site-packages/ipykernel_launcher.py:2: SettingWithCopyWarning: \n",
      "A value is trying to be set on a copy of a slice from a DataFrame\n",
      "\n",
      "See the caveats in the documentation: http://pandas.pydata.org/pandas-docs/stable/indexing.html#indexing-view-versus-copy\n",
      "  \n"
     ]
    }
   ],
   "source": [
    "for j in s:\n",
    "    insert_mean(B_clean['volume_B'],j)"
   ]
  },
  {
   "cell_type": "code",
   "execution_count": 255,
   "metadata": {},
   "outputs": [
    {
     "data": {
      "text/html": [
       "<div>\n",
       "<style>\n",
       "    .dataframe thead tr:only-child th {\n",
       "        text-align: right;\n",
       "    }\n",
       "\n",
       "    .dataframe thead th {\n",
       "        text-align: left;\n",
       "    }\n",
       "\n",
       "    .dataframe tbody tr th {\n",
       "        vertical-align: top;\n",
       "    }\n",
       "</style>\n",
       "<table border=\"1\" class=\"dataframe\">\n",
       "  <thead>\n",
       "    <tr style=\"text-align: right;\">\n",
       "      <th></th>\n",
       "      <th>op_B</th>\n",
       "      <th>hi_B</th>\n",
       "      <th>lo_B</th>\n",
       "      <th>se_B</th>\n",
       "      <th>volume_B</th>\n",
       "      <th>oi_B</th>\n",
       "    </tr>\n",
       "  </thead>\n",
       "  <tbody>\n",
       "    <tr>\n",
       "      <th>count</th>\n",
       "      <td>8958.000000</td>\n",
       "      <td>8958.000000</td>\n",
       "      <td>8958.000000</td>\n",
       "      <td>8958.000000</td>\n",
       "      <td>8958.000000</td>\n",
       "      <td>8958.000000</td>\n",
       "    </tr>\n",
       "    <tr>\n",
       "      <th>mean</th>\n",
       "      <td>0.000189</td>\n",
       "      <td>0.000186</td>\n",
       "      <td>0.000187</td>\n",
       "      <td>0.000187</td>\n",
       "      <td>0.144357</td>\n",
       "      <td>0.019977</td>\n",
       "    </tr>\n",
       "    <tr>\n",
       "      <th>std</th>\n",
       "      <td>0.004552</td>\n",
       "      <td>0.004039</td>\n",
       "      <td>0.003997</td>\n",
       "      <td>0.004231</td>\n",
       "      <td>0.985588</td>\n",
       "      <td>1.625740</td>\n",
       "    </tr>\n",
       "    <tr>\n",
       "      <th>min</th>\n",
       "      <td>-0.030137</td>\n",
       "      <td>-0.022499</td>\n",
       "      <td>-0.025499</td>\n",
       "      <td>-0.024001</td>\n",
       "      <td>-0.995715</td>\n",
       "      <td>-0.992675</td>\n",
       "    </tr>\n",
       "    <tr>\n",
       "      <th>25%</th>\n",
       "      <td>-0.002288</td>\n",
       "      <td>-0.001830</td>\n",
       "      <td>-0.001829</td>\n",
       "      <td>-0.002102</td>\n",
       "      <td>-0.224541</td>\n",
       "      <td>-0.010839</td>\n",
       "    </tr>\n",
       "    <tr>\n",
       "      <th>50%</th>\n",
       "      <td>0.000126</td>\n",
       "      <td>0.000118</td>\n",
       "      <td>0.000276</td>\n",
       "      <td>0.000150</td>\n",
       "      <td>0.005415</td>\n",
       "      <td>0.001436</td>\n",
       "    </tr>\n",
       "    <tr>\n",
       "      <th>75%</th>\n",
       "      <td>0.002669</td>\n",
       "      <td>0.002216</td>\n",
       "      <td>0.002229</td>\n",
       "      <td>0.002512</td>\n",
       "      <td>0.303111</td>\n",
       "      <td>0.014948</td>\n",
       "    </tr>\n",
       "    <tr>\n",
       "      <th>max</th>\n",
       "      <td>0.044639</td>\n",
       "      <td>0.035004</td>\n",
       "      <td>0.042678</td>\n",
       "      <td>0.036305</td>\n",
       "      <td>32.110540</td>\n",
       "      <td>153.604520</td>\n",
       "    </tr>\n",
       "  </tbody>\n",
       "</table>\n",
       "</div>"
      ],
      "text/plain": [
       "              op_B         hi_B         lo_B         se_B     volume_B  \\\n",
       "count  8958.000000  8958.000000  8958.000000  8958.000000  8958.000000   \n",
       "mean      0.000189     0.000186     0.000187     0.000187     0.144357   \n",
       "std       0.004552     0.004039     0.003997     0.004231     0.985588   \n",
       "min      -0.030137    -0.022499    -0.025499    -0.024001    -0.995715   \n",
       "25%      -0.002288    -0.001830    -0.001829    -0.002102    -0.224541   \n",
       "50%       0.000126     0.000118     0.000276     0.000150     0.005415   \n",
       "75%       0.002669     0.002216     0.002229     0.002512     0.303111   \n",
       "max       0.044639     0.035004     0.042678     0.036305    32.110540   \n",
       "\n",
       "              oi_B  \n",
       "count  8958.000000  \n",
       "mean      0.019977  \n",
       "std       1.625740  \n",
       "min      -0.992675  \n",
       "25%      -0.010839  \n",
       "50%       0.001436  \n",
       "75%       0.014948  \n",
       "max     153.604520  "
      ]
     },
     "execution_count": 255,
     "metadata": {},
     "output_type": "execute_result"
    }
   ],
   "source": [
    "B_clean_ret = B_clean.copy()\n",
    "del(B_clean_ret['date'])\n",
    "B_clean_ret = B_clean_ret.pct_change()\n",
    "B_clean_ret = B_clean_ret.dropna()\n",
    "B_clean_ret.describe()"
   ]
  },
  {
   "cell_type": "code",
   "execution_count": 256,
   "metadata": {
    "collapsed": true
   },
   "outputs": [],
   "source": [
    "#rename the columns of B_clean_ret\n",
    "add_ret(B_clean_ret)"
   ]
  },
  {
   "cell_type": "code",
   "execution_count": 257,
   "metadata": {},
   "outputs": [
    {
     "data": {
      "text/html": [
       "<div>\n",
       "<style>\n",
       "    .dataframe thead tr:only-child th {\n",
       "        text-align: right;\n",
       "    }\n",
       "\n",
       "    .dataframe thead th {\n",
       "        text-align: left;\n",
       "    }\n",
       "\n",
       "    .dataframe tbody tr th {\n",
       "        vertical-align: top;\n",
       "    }\n",
       "</style>\n",
       "<table border=\"1\" class=\"dataframe\">\n",
       "  <thead>\n",
       "    <tr style=\"text-align: right;\">\n",
       "      <th></th>\n",
       "      <th>op_B_ret</th>\n",
       "      <th>hi_B_ret</th>\n",
       "      <th>lo_B_ret</th>\n",
       "      <th>se_B_ret</th>\n",
       "      <th>volume_B_ret</th>\n",
       "      <th>oi_B_ret</th>\n",
       "    </tr>\n",
       "    <tr>\n",
       "      <th>date</th>\n",
       "      <th></th>\n",
       "      <th></th>\n",
       "      <th></th>\n",
       "      <th></th>\n",
       "      <th></th>\n",
       "      <th></th>\n",
       "    </tr>\n",
       "  </thead>\n",
       "  <tbody>\n",
       "    <tr>\n",
       "      <th>1982-05-05</th>\n",
       "      <td>0.011853</td>\n",
       "      <td>0.004344</td>\n",
       "      <td>0.009670</td>\n",
       "      <td>0.001741</td>\n",
       "      <td>0.233079</td>\n",
       "      <td>0.181867</td>\n",
       "    </tr>\n",
       "    <tr>\n",
       "      <th>1982-05-06</th>\n",
       "      <td>0.006941</td>\n",
       "      <td>0.010381</td>\n",
       "      <td>0.009142</td>\n",
       "      <td>0.014335</td>\n",
       "      <td>-0.332529</td>\n",
       "      <td>-0.126201</td>\n",
       "    </tr>\n",
       "    <tr>\n",
       "      <th>1982-05-07</th>\n",
       "      <td>0.009910</td>\n",
       "      <td>0.004281</td>\n",
       "      <td>0.005608</td>\n",
       "      <td>0.003854</td>\n",
       "      <td>-0.305745</td>\n",
       "      <td>0.003491</td>\n",
       "    </tr>\n",
       "    <tr>\n",
       "      <th>1982-05-10</th>\n",
       "      <td>-0.002560</td>\n",
       "      <td>0.000426</td>\n",
       "      <td>0.001716</td>\n",
       "      <td>-0.001706</td>\n",
       "      <td>-0.351364</td>\n",
       "      <td>-0.003479</td>\n",
       "    </tr>\n",
       "    <tr>\n",
       "      <th>1982-05-11</th>\n",
       "      <td>-0.002139</td>\n",
       "      <td>0.000426</td>\n",
       "      <td>-0.001713</td>\n",
       "      <td>0.001709</td>\n",
       "      <td>0.261280</td>\n",
       "      <td>-0.050703</td>\n",
       "    </tr>\n",
       "  </tbody>\n",
       "</table>\n",
       "</div>"
      ],
      "text/plain": [
       "            op_B_ret  hi_B_ret  lo_B_ret  se_B_ret  volume_B_ret  oi_B_ret\n",
       "date                                                                      \n",
       "1982-05-05  0.011853  0.004344  0.009670  0.001741      0.233079  0.181867\n",
       "1982-05-06  0.006941  0.010381  0.009142  0.014335     -0.332529 -0.126201\n",
       "1982-05-07  0.009910  0.004281  0.005608  0.003854     -0.305745  0.003491\n",
       "1982-05-10 -0.002560  0.000426  0.001716 -0.001706     -0.351364 -0.003479\n",
       "1982-05-11 -0.002139  0.000426 -0.001713  0.001709      0.261280 -0.050703"
      ]
     },
     "execution_count": 257,
     "metadata": {},
     "output_type": "execute_result"
    }
   ],
   "source": [
    "B_clean_ret.head()"
   ]
  },
  {
   "cell_type": "markdown",
   "metadata": {},
   "source": [
    "We define a new column of closing prices."
   ]
  },
  {
   "cell_type": "code",
   "execution_count": 290,
   "metadata": {},
   "outputs": [],
   "source": [
    "def closing_price_column(df,op,s):\n",
    "    l = pd.Series([df[op][j+1] for j in range(len(df)-1)] + [0])\n",
    "    df = df.assign(cl = l.values)\n",
    "    df = df.drop(df.index[-1])\n",
    "    df.rename(columns = {'cl':s},inplace = True)\n",
    "    return(df)"
   ]
  },
  {
   "cell_type": "code",
   "execution_count": 293,
   "metadata": {},
   "outputs": [],
   "source": [
    "B_clean_ret = closing_price_column(B_clean_ret,'op_B_ret','cl_B_ret')"
   ]
  },
  {
   "cell_type": "code",
   "execution_count": 295,
   "metadata": {},
   "outputs": [],
   "source": [
    "B = closing_price_column(B,'op_B','cl_B')"
   ]
  },
  {
   "cell_type": "markdown",
   "metadata": {},
   "source": [
    "We begin by selecting a suitable model for prediction. We do so by selecting according to the BIC score. "
   ]
  },
  {
   "cell_type": "code",
   "execution_count": 200,
   "metadata": {},
   "outputs": [],
   "source": [
    "def selecting_model(df,l):\n",
    "    size = int(len(df)*0.7)\n",
    "    data = df[l][0:size]\n",
    "    model = VAR(data)\n",
    "    return(model.select_order(20))"
   ]
  },
  {
   "cell_type": "code",
   "execution_count": 201,
   "metadata": {},
   "outputs": [
    {
     "name": "stdout",
     "output_type": "stream",
     "text": [
      "                 VAR Order Selection                  \n",
      "======================================================\n",
      "            aic          bic          fpe         hqic\n",
      "------------------------------------------------------\n",
      "0        -44.54       -44.53    4.554e-20       -44.53\n",
      "1        -46.55       -46.51    6.065e-21       -46.54\n",
      "2        -46.98       -46.90    3.933e-21       -46.96\n",
      "3        -47.21       -47.09    3.145e-21       -47.17\n",
      "4        -47.33       -47.16    2.796e-21       -47.27\n",
      "5        -47.41       -47.21    2.562e-21       -47.34\n",
      "6        -47.48       -47.24    2.387e-21       -47.40\n",
      "7        -47.53       -47.25    2.278e-21       -47.43\n",
      "8        -47.57      -47.25*    2.188e-21       -47.46\n",
      "9        -47.60       -47.24    2.132e-21       -47.47\n",
      "10       -47.62       -47.22    2.091e-21       -47.48\n",
      "11       -47.63       -47.20    2.062e-21       -47.48\n",
      "12       -47.64       -47.17    2.036e-21       -47.48\n",
      "13       -47.66       -47.15    1.997e-21      -47.49*\n",
      "14       -47.67       -47.12    1.974e-21       -47.48\n",
      "15       -47.68       -47.09    1.968e-21       -47.47\n",
      "16       -47.68       -47.05    1.968e-21       -47.46\n",
      "17       -47.68       -47.02    1.955e-21       -47.45\n",
      "18      -47.69*       -46.98   1.945e-21*       -47.44\n",
      "19       -47.69       -46.94    1.949e-21       -47.43\n",
      "20       -47.69       -46.91    1.946e-21       -47.42\n",
      "======================================================\n",
      "* Minimum\n",
      "\n"
     ]
    },
    {
     "data": {
      "text/plain": [
       "{'aic': 18, 'bic': 8, 'fpe': 18, 'hqic': 13}"
      ]
     },
     "execution_count": 201,
     "metadata": {},
     "output_type": "execute_result"
    }
   ],
   "source": [
    "selecting_model(B_clean_ret,['cl_B_ret','hi_B_ret', 'lo_B_ret', 'se_B_ret', 'volume_B_ret', 'oi_B_ret'])"
   ]
  },
  {
   "cell_type": "markdown",
   "metadata": {},
   "source": [
    "We now write a function that tests the model using a rolling forecast for the given data. \n",
    "\n",
    "** Make sure the date columns has already been removed.\n",
    "\n",
    "** Make sure the first element of the list l is the column 'cl_B_ret'"
   ]
  },
  {
   "cell_type": "code",
   "execution_count": 194,
   "metadata": {},
   "outputs": [],
   "source": [
    "def VAR_rolling_forecast(df,l,p):\n",
    "    size = int(len(df)*0.70)\n",
    "    predictions = list()\n",
    "    test = []\n",
    "    while size <= len(df)-1:\n",
    "        data = df[0:size][l]\n",
    "        model = VAR(data)\n",
    "        model_fit = model.fit(p)\n",
    "        output = model_fit.forecast(data.values,1)\n",
    "        yhat = output[0][0]\n",
    "        predictions.append(yhat)\n",
    "        test.append(df[l[0]][size])\n",
    "        size = size + 1\n",
    "    return(test,predictions)    "
   ]
  },
  {
   "cell_type": "code",
   "execution_count": 195,
   "metadata": {},
   "outputs": [],
   "source": [
    "l = ['cl_B_ret','hi_B_ret', 'lo_B_ret', 'se_B_ret', 'volume_B_ret', 'oi_B_ret']\n",
    "testB, predictions_BVAR8 = VAR_rolling_forecast(B_clean_ret,l,8)"
   ]
  },
  {
   "cell_type": "code",
   "execution_count": 196,
   "metadata": {},
   "outputs": [
    {
     "name": "stdout",
     "output_type": "stream",
     "text": [
      "The mean absolute scaled error is 1.29451065465e-05\n"
     ]
    }
   ],
   "source": [
    "MASE(testB,predictions_BVAR8)"
   ]
  },
  {
   "cell_type": "markdown",
   "metadata": {},
   "source": [
    "We observe a massive improvement in MASE"
   ]
  },
  {
   "cell_type": "code",
   "execution_count": 197,
   "metadata": {},
   "outputs": [
    {
     "data": {
      "text/plain": [
       "1.6075044568510779e-05"
      ]
     },
     "execution_count": 197,
     "metadata": {},
     "output_type": "execute_result"
    }
   ],
   "source": [
    "mean_squared_error(testB,predictions_BVAR8)"
   ]
  },
  {
   "cell_type": "markdown",
   "metadata": {},
   "source": [
    "Recover the predictions for the closing price of asset B"
   ]
  },
  {
   "cell_type": "code",
   "execution_count": 313,
   "metadata": {},
   "outputs": [],
   "source": [
    "def recover_asset_B_predictions(S,size,test,predictions):\n",
    "    test_adj = []\n",
    "    for j in range(size+1,len(S)):\n",
    "        test_adj.append(S[j])\n",
    "    predictions_adj = []\n",
    "    j = size\n",
    "    t = 0\n",
    "    while t <= len(predictions)-1 and j <= len(S)-1:\n",
    "        predictions_adj.append(S[j] + predictions[t])\n",
    "        t = t + 1\n",
    "        j = j + 1\n",
    "    return(test_adj,predictions_adj)    "
   ]
  },
  {
   "cell_type": "code",
   "execution_count": 314,
   "metadata": {},
   "outputs": [],
   "source": [
    "size = int(len(B_clean_ret)*0.70)\n",
    "testB_adj,predictions_BVAR8_adj = recover_asset_B_predictions(B['cl_B'],size,testB,predictions_BVAR8)"
   ]
  },
  {
   "cell_type": "code",
   "execution_count": 319,
   "metadata": {},
   "outputs": [
    {
     "data": {
      "image/png": "[encoded data removed]",
      "text/plain": [
       "<matplotlib.figure.Figure at 0x1c1b171208>"
      ]
     },
     "metadata": {},
     "output_type": "display_data"
    }
   ],
   "source": [
    "plot_predictions(testB_adj,predictions_BVAR8_adj)"
   ]
  },
  {
   "cell_type": "markdown",
   "metadata": {},
   "source": [
    "# We predict the opening price of asset C"
   ]
  },
  {
   "cell_type": "code",
   "execution_count": 203,
   "metadata": {},
   "outputs": [
    {
     "data": {
      "text/html": [
       "<div>\n",
       "<style>\n",
       "    .dataframe thead tr:only-child th {\n",
       "        text-align: right;\n",
       "    }\n",
       "\n",
       "    .dataframe thead th {\n",
       "        text-align: left;\n",
       "    }\n",
       "\n",
       "    .dataframe tbody tr th {\n",
       "        vertical-align: top;\n",
       "    }\n",
       "</style>\n",
       "<table border=\"1\" class=\"dataframe\">\n",
       "  <thead>\n",
       "    <tr style=\"text-align: right;\">\n",
       "      <th></th>\n",
       "      <th>op_C</th>\n",
       "      <th>hi_C</th>\n",
       "      <th>lo_C</th>\n",
       "      <th>se_C</th>\n",
       "      <th>volume_C</th>\n",
       "      <th>oi_C</th>\n",
       "    </tr>\n",
       "  </thead>\n",
       "  <tbody>\n",
       "    <tr>\n",
       "      <th>count</th>\n",
       "      <td>6823.000000</td>\n",
       "      <td>6823.000000</td>\n",
       "      <td>6823.000000</td>\n",
       "      <td>6823.000000</td>\n",
       "      <td>6823.000000</td>\n",
       "      <td>6823.000000</td>\n",
       "    </tr>\n",
       "    <tr>\n",
       "      <th>mean</th>\n",
       "      <td>0.000059</td>\n",
       "      <td>0.000058</td>\n",
       "      <td>0.000058</td>\n",
       "      <td>0.000058</td>\n",
       "      <td>0.274277</td>\n",
       "      <td>0.002156</td>\n",
       "    </tr>\n",
       "    <tr>\n",
       "      <th>std</th>\n",
       "      <td>0.001083</td>\n",
       "      <td>0.001025</td>\n",
       "      <td>0.000985</td>\n",
       "      <td>0.001021</td>\n",
       "      <td>1.520897</td>\n",
       "      <td>0.051841</td>\n",
       "    </tr>\n",
       "    <tr>\n",
       "      <th>min</th>\n",
       "      <td>-0.007143</td>\n",
       "      <td>-0.007571</td>\n",
       "      <td>-0.009263</td>\n",
       "      <td>-0.009231</td>\n",
       "      <td>-0.984305</td>\n",
       "      <td>-0.315962</td>\n",
       "    </tr>\n",
       "    <tr>\n",
       "      <th>25%</th>\n",
       "      <td>-0.000461</td>\n",
       "      <td>-0.000383</td>\n",
       "      <td>-0.000385</td>\n",
       "      <td>-0.000430</td>\n",
       "      <td>-0.290382</td>\n",
       "      <td>-0.009701</td>\n",
       "    </tr>\n",
       "    <tr>\n",
       "      <th>50%</th>\n",
       "      <td>0.000000</td>\n",
       "      <td>0.000000</td>\n",
       "      <td>0.000000</td>\n",
       "      <td>0.000000</td>\n",
       "      <td>-0.000913</td>\n",
       "      <td>0.001620</td>\n",
       "    </tr>\n",
       "    <tr>\n",
       "      <th>75%</th>\n",
       "      <td>0.000587</td>\n",
       "      <td>0.000478</td>\n",
       "      <td>0.000502</td>\n",
       "      <td>0.000546</td>\n",
       "      <td>0.406816</td>\n",
       "      <td>0.014492</td>\n",
       "    </tr>\n",
       "    <tr>\n",
       "      <th>max</th>\n",
       "      <td>0.007069</td>\n",
       "      <td>0.009767</td>\n",
       "      <td>0.007599</td>\n",
       "      <td>0.008664</td>\n",
       "      <td>56.071429</td>\n",
       "      <td>0.489942</td>\n",
       "    </tr>\n",
       "  </tbody>\n",
       "</table>\n",
       "</div>"
      ],
      "text/plain": [
       "              op_C         hi_C         lo_C         se_C     volume_C  \\\n",
       "count  6823.000000  6823.000000  6823.000000  6823.000000  6823.000000   \n",
       "mean      0.000059     0.000058     0.000058     0.000058     0.274277   \n",
       "std       0.001083     0.001025     0.000985     0.001021     1.520897   \n",
       "min      -0.007143    -0.007571    -0.009263    -0.009231    -0.984305   \n",
       "25%      -0.000461    -0.000383    -0.000385    -0.000430    -0.290382   \n",
       "50%       0.000000     0.000000     0.000000     0.000000    -0.000913   \n",
       "75%       0.000587     0.000478     0.000502     0.000546     0.406816   \n",
       "max       0.007069     0.009767     0.007599     0.008664    56.071429   \n",
       "\n",
       "              oi_C  \n",
       "count  6823.000000  \n",
       "mean      0.002156  \n",
       "std       0.051841  \n",
       "min      -0.315962  \n",
       "25%      -0.009701  \n",
       "50%       0.001620  \n",
       "75%       0.014492  \n",
       "max       0.489942  "
      ]
     },
     "execution_count": 203,
     "metadata": {},
     "output_type": "execute_result"
    }
   ],
   "source": [
    "C_ret.describe()"
   ]
  },
  {
   "cell_type": "code",
   "execution_count": 204,
   "metadata": {
    "collapsed": true
   },
   "outputs": [],
   "source": [
    "t = []\n",
    "for j in list(C_ret.columns):\n",
    "    j = j + '_ret'    \n",
    "    t.append(j)\n",
    "C_ret.columns = t"
   ]
  },
  {
   "cell_type": "code",
   "execution_count": 205,
   "metadata": {},
   "outputs": [
    {
     "data": {
      "image/png": "[encoded data removed]",
      "text/plain": [
       "<matplotlib.figure.Figure at 0x1c0a8a4390>"
      ]
     },
     "execution_count": 205,
     "metadata": {},
     "output_type": "execute_result"
    }
   ],
   "source": [
    "plot_acf(C_ret['op_C_ret'],lags = 60,alpha = 0.5)"
   ]
  },
  {
   "cell_type": "code",
   "execution_count": 206,
   "metadata": {},
   "outputs": [
    {
     "name": "stdout",
     "output_type": "stream",
     "text": [
      "The p-value is 0.495958017084\n"
     ]
    }
   ],
   "source": [
    "RW_test_C = adfuller(C['op_C'])\n",
    "print(\"The p-value is \"+ str(RW_test_C[1]))"
   ]
  },
  {
   "cell_type": "markdown",
   "metadata": {},
   "source": [
    "We see that the p-value indicates that there is a high chance that C is a random walk. "
   ]
  },
  {
   "cell_type": "code",
   "execution_count": 207,
   "metadata": {
    "collapsed": true
   },
   "outputs": [],
   "source": [
    "XC = C['op_C'].values\n",
    "size = int(len(XC)*0.70)\n",
    "trainC = XC[0:size]\n",
    "testC = XC[size:len(XC)]"
   ]
  },
  {
   "cell_type": "code",
   "execution_count": 208,
   "metadata": {
    "collapsed": true
   },
   "outputs": [],
   "source": [
    "AIC = []\n",
    "BIC = []\n",
    "for i in range(1,6):\n",
    "    model = ARIMA(trainC,order = (i,1,0))\n",
    "    model_fit = model.fit(disp=0)\n",
    "    AIC.append(model_fit.aic)\n",
    "    BIC.append(model_fit.bic)"
   ]
  },
  {
   "cell_type": "code",
   "execution_count": 209,
   "metadata": {},
   "outputs": [
    {
     "data": {
      "text/plain": [
       "[-4503.827592841331,\n",
       " -4507.7979488948695,\n",
       " -4506.2245057312175,\n",
       " -4507.27249312184,\n",
       " -4505.339098590113]"
      ]
     },
     "execution_count": 209,
     "metadata": {},
     "output_type": "execute_result"
    }
   ],
   "source": [
    "AIC"
   ]
  },
  {
   "cell_type": "code",
   "execution_count": 210,
   "metadata": {},
   "outputs": [
    {
     "data": {
      "text/plain": [
       "[-4484.4141450825873,\n",
       " -4481.9133518832105,\n",
       " -4473.8687594666435,\n",
       " -4468.445597604351,\n",
       " -4460.0410538197093]"
      ]
     },
     "execution_count": 210,
     "metadata": {},
     "output_type": "execute_result"
    }
   ],
   "source": [
    "BIC"
   ]
  },
  {
   "cell_type": "code",
   "execution_count": 211,
   "metadata": {},
   "outputs": [
    {
     "name": "stderr",
     "output_type": "stream",
     "text": [
      "/Users/Welliareetil/anaconda3/lib/python3.6/site-packages/statsmodels/base/model.py:496: ConvergenceWarning: Maximum Likelihood optimization failed to converge. Check mle_retvals\n",
      "  \"Check mle_retvals\", ConvergenceWarning)\n"
     ]
    }
   ],
   "source": [
    "historyC210 = [x for x in trainC]\n",
    "predictionsC210 = list()\n",
    "for t in range(len(testC)):\n",
    "    model = ARIMA(historyC210, order=(2,1,0))\n",
    "    model_fit = model.fit(disp=0)\n",
    "    outputC210 = model_fit.forecast()\n",
    "    yhatC210 = outputC210[0]\n",
    "    predictionsC210.append(yhatC210)\n",
    "    obs = testC[t]\n",
    "    historyC210.append(obs)"
   ]
  },
  {
   "cell_type": "code",
   "execution_count": 213,
   "metadata": {},
   "outputs": [
    {
     "data": {
      "image/png": "[encoded data removed]",
      "text/plain": [
       "<matplotlib.figure.Figure at 0x1c13960048>"
      ]
     },
     "metadata": {},
     "output_type": "display_data"
    }
   ],
   "source": [
    "plt.plot(predictionsC210)\n",
    "plt.plot(testC)\n",
    "plt.xlabel('Index of data point')\n",
    "plt.ylabel('price')\n",
    "plt.legend()\n",
    "plt.show()"
   ]
  },
  {
   "cell_type": "code",
   "execution_count": 214,
   "metadata": {},
   "outputs": [
    {
     "name": "stdout",
     "output_type": "stream",
     "text": [
      "0.00655947738868\n"
     ]
    }
   ],
   "source": [
    "errorC210 = mean_squared_error(testC,predictionsC210)\n",
    "print(errorC210)"
   ]
  },
  {
   "cell_type": "code",
   "execution_count": 215,
   "metadata": {},
   "outputs": [
    {
     "name": "stdout",
     "output_type": "stream",
     "text": [
      "The mean absolute scaled error is 0.00338072206061\n"
     ]
    }
   ],
   "source": [
    "MASE(testC,predictionsC210)"
   ]
  },
  {
   "cell_type": "markdown",
   "metadata": {},
   "source": [
    "# We predict the opening price of asset D"
   ]
  },
  {
   "cell_type": "code",
   "execution_count": 40,
   "metadata": {},
   "outputs": [
    {
     "data": {
      "text/html": [
       "<div>\n",
       "<style>\n",
       "    .dataframe thead tr:only-child th {\n",
       "        text-align: right;\n",
       "    }\n",
       "\n",
       "    .dataframe thead th {\n",
       "        text-align: left;\n",
       "    }\n",
       "\n",
       "    .dataframe tbody tr th {\n",
       "        vertical-align: top;\n",
       "    }\n",
       "</style>\n",
       "<table border=\"1\" class=\"dataframe\">\n",
       "  <thead>\n",
       "    <tr style=\"text-align: right;\">\n",
       "      <th></th>\n",
       "      <th>op_D</th>\n",
       "      <th>hi_D</th>\n",
       "      <th>lo_D</th>\n",
       "      <th>se_D</th>\n",
       "      <th>volume_D</th>\n",
       "      <th>oi_D</th>\n",
       "    </tr>\n",
       "  </thead>\n",
       "  <tbody>\n",
       "    <tr>\n",
       "      <th>count</th>\n",
       "      <td>10007.000000</td>\n",
       "      <td>10007.000000</td>\n",
       "      <td>10007.000000</td>\n",
       "      <td>10007.000000</td>\n",
       "      <td>1.000700e+04</td>\n",
       "      <td>1.000700e+04</td>\n",
       "    </tr>\n",
       "    <tr>\n",
       "      <th>mean</th>\n",
       "      <td>0.000172</td>\n",
       "      <td>0.000166</td>\n",
       "      <td>0.000165</td>\n",
       "      <td>0.000168</td>\n",
       "      <td>inf</td>\n",
       "      <td>inf</td>\n",
       "    </tr>\n",
       "    <tr>\n",
       "      <th>std</th>\n",
       "      <td>0.007565</td>\n",
       "      <td>0.006480</td>\n",
       "      <td>0.006483</td>\n",
       "      <td>0.007043</td>\n",
       "      <td>NaN</td>\n",
       "      <td>NaN</td>\n",
       "    </tr>\n",
       "    <tr>\n",
       "      <th>min</th>\n",
       "      <td>-0.059296</td>\n",
       "      <td>-0.047258</td>\n",
       "      <td>-0.040884</td>\n",
       "      <td>-0.032905</td>\n",
       "      <td>-1.000000e+00</td>\n",
       "      <td>-1.000000e+00</td>\n",
       "    </tr>\n",
       "    <tr>\n",
       "      <th>25%</th>\n",
       "      <td>-0.003912</td>\n",
       "      <td>-0.003042</td>\n",
       "      <td>-0.003029</td>\n",
       "      <td>-0.003647</td>\n",
       "      <td>-2.217417e-01</td>\n",
       "      <td>-1.245724e-02</td>\n",
       "    </tr>\n",
       "    <tr>\n",
       "      <th>50%</th>\n",
       "      <td>0.000277</td>\n",
       "      <td>0.000000</td>\n",
       "      <td>0.000277</td>\n",
       "      <td>0.000275</td>\n",
       "      <td>3.959469e-03</td>\n",
       "      <td>8.900068e-04</td>\n",
       "    </tr>\n",
       "    <tr>\n",
       "      <th>75%</th>\n",
       "      <td>0.004265</td>\n",
       "      <td>0.003431</td>\n",
       "      <td>0.003435</td>\n",
       "      <td>0.004084</td>\n",
       "      <td>2.982340e-01</td>\n",
       "      <td>1.603788e-02</td>\n",
       "    </tr>\n",
       "    <tr>\n",
       "      <th>max</th>\n",
       "      <td>0.059129</td>\n",
       "      <td>0.053608</td>\n",
       "      <td>0.049610</td>\n",
       "      <td>0.040624</td>\n",
       "      <td>inf</td>\n",
       "      <td>inf</td>\n",
       "    </tr>\n",
       "  </tbody>\n",
       "</table>\n",
       "</div>"
      ],
      "text/plain": [
       "               op_D          hi_D          lo_D          se_D      volume_D  \\\n",
       "count  10007.000000  10007.000000  10007.000000  10007.000000  1.000700e+04   \n",
       "mean       0.000172      0.000166      0.000165      0.000168           inf   \n",
       "std        0.007565      0.006480      0.006483      0.007043           NaN   \n",
       "min       -0.059296     -0.047258     -0.040884     -0.032905 -1.000000e+00   \n",
       "25%       -0.003912     -0.003042     -0.003029     -0.003647 -2.217417e-01   \n",
       "50%        0.000277      0.000000      0.000277      0.000275  3.959469e-03   \n",
       "75%        0.004265      0.003431      0.003435      0.004084  2.982340e-01   \n",
       "max        0.059129      0.053608      0.049610      0.040624           inf   \n",
       "\n",
       "               oi_D  \n",
       "count  1.000700e+04  \n",
       "mean            inf  \n",
       "std             NaN  \n",
       "min   -1.000000e+00  \n",
       "25%   -1.245724e-02  \n",
       "50%    8.900068e-04  \n",
       "75%    1.603788e-02  \n",
       "max             inf  "
      ]
     },
     "execution_count": 40,
     "metadata": {},
     "output_type": "execute_result"
    }
   ],
   "source": [
    "D_ret.describe()"
   ]
  },
  {
   "cell_type": "code",
   "execution_count": 41,
   "metadata": {
    "collapsed": true
   },
   "outputs": [],
   "source": [
    "t = []\n",
    "for j in list(D_ret.columns):\n",
    "    j = j + '_ret'    \n",
    "    t.append(j)\n",
    "D_ret.columns = t"
   ]
  },
  {
   "cell_type": "code",
   "execution_count": 42,
   "metadata": {},
   "outputs": [
    {
     "data": {
      "image/png": "[encoded data removed]",
      "text/plain": [
       "<matplotlib.figure.Figure at 0x1c1290d208>"
      ]
     },
     "execution_count": 42,
     "metadata": {},
     "output_type": "execute_result"
    }
   ],
   "source": [
    "plot_acf(D_ret['op_D_ret'],lags = 60,alpha = 0.5)"
   ]
  },
  {
   "cell_type": "markdown",
   "metadata": {},
   "source": [
    "We check for missing values."
   ]
  },
  {
   "cell_type": "code",
   "execution_count": 67,
   "metadata": {},
   "outputs": [
    {
     "name": "stdout",
     "output_type": "stream",
     "text": [
      "[5960, 5985, 6235, 6466, 6716, 6739]\n"
     ]
    }
   ],
   "source": [
    "nl = []\n",
    "A = D['op_D'].isnull()\n",
    "for j in range(len(A)):\n",
    "    if A[j] == True:\n",
    "        nl.append(j)\n",
    "print(nl)        "
   ]
  },
  {
   "cell_type": "code",
   "execution_count": 72,
   "metadata": {
    "scrolled": true
   },
   "outputs": [
    {
     "data": {
      "text/plain": [
       "date        2002-11-11 00:00:00\n",
       "op_D                        NaN\n",
       "hi_D                        NaN\n",
       "lo_D                        NaN\n",
       "se_D                    222.828\n",
       "volume_D                    NaN\n",
       "oi_D                     410283\n",
       "Name: 2002-11-11 00:00:00, dtype: object"
      ]
     },
     "execution_count": 72,
     "metadata": {},
     "output_type": "execute_result"
    }
   ],
   "source": [
    "D.iloc[6235,:]"
   ]
  },
  {
   "cell_type": "code",
   "execution_count": 75,
   "metadata": {},
   "outputs": [
    {
     "data": {
      "text/plain": [
       "0"
      ]
     },
     "execution_count": 75,
     "metadata": {},
     "output_type": "execute_result"
    }
   ],
   "source": [
    "D = D.dropna()\n",
    "D['op_D'].isnull().sum()"
   ]
  },
  {
   "cell_type": "code",
   "execution_count": 76,
   "metadata": {},
   "outputs": [
    {
     "name": "stdout",
     "output_type": "stream",
     "text": [
      "The p-value is 0.992045645068\n"
     ]
    }
   ],
   "source": [
    "RW_test_D = adfuller(D['op_D'])\n",
    "print(\"The p-value is \"+ str(RW_test_D[1]))"
   ]
  },
  {
   "cell_type": "code",
   "execution_count": 77,
   "metadata": {
    "collapsed": true
   },
   "outputs": [],
   "source": [
    "XD = D['op_D'].values\n",
    "sizeD = int(len(XD)*0.70)\n",
    "trainD = XD[0:sizeD]\n",
    "testD = XD[sizeD:len(XD)]"
   ]
  },
  {
   "cell_type": "code",
   "execution_count": 78,
   "metadata": {
    "collapsed": true
   },
   "outputs": [],
   "source": [
    "AIC = []\n",
    "BIC = []\n",
    "for i in range(1,6):\n",
    "    model = ARIMA(trainD,order = (i,1,0))\n",
    "    model_fit = model.fit(disp=0)\n",
    "    AIC.append(model_fit.aic)\n",
    "    BIC.append(model_fit.bic)"
   ]
  },
  {
   "cell_type": "code",
   "execution_count": 79,
   "metadata": {},
   "outputs": [
    {
     "data": {
      "text/plain": [
       "[19564.68526088849,\n",
       " 19566.31932842902,\n",
       " 19567.007057011597,\n",
       " 19568.342908020506,\n",
       " 19570.340105660718]"
      ]
     },
     "execution_count": 79,
     "metadata": {},
     "output_type": "execute_result"
    }
   ],
   "source": [
    "AIC"
   ]
  },
  {
   "cell_type": "code",
   "execution_count": 80,
   "metadata": {},
   "outputs": [
    {
     "data": {
      "text/plain": [
       "[19585.247970968707,\n",
       " 19593.736275202646,\n",
       " 19601.278240478627,\n",
       " 19609.468328180941,\n",
       " 19618.319762514559]"
      ]
     },
     "execution_count": 80,
     "metadata": {},
     "output_type": "execute_result"
    }
   ],
   "source": [
    "BIC"
   ]
  },
  {
   "cell_type": "code",
   "execution_count": 82,
   "metadata": {},
   "outputs": [
    {
     "name": "stderr",
     "output_type": "stream",
     "text": [
      "/Users/Welliareetil/anaconda3/lib/python3.6/site-packages/statsmodels/base/model.py:496: ConvergenceWarning: Maximum Likelihood optimization failed to converge. Check mle_retvals\n",
      "  \"Check mle_retvals\", ConvergenceWarning)\n"
     ]
    }
   ],
   "source": [
    "historyD110 = [x for x in trainD]\n",
    "predictionsD110 = list()\n",
    "for t in range(len(testD)):\n",
    "    model = ARIMA(historyD110, order=(1,1,0))\n",
    "    model_fit = model.fit(disp=0)\n",
    "    outputD110 = model_fit.forecast()\n",
    "    yhatD110 = outputD110[0]\n",
    "    predictionsD110.append(yhatD110)\n",
    "    obs = testD[t]\n",
    "    historyD110.append(obs)"
   ]
  },
  {
   "cell_type": "code",
   "execution_count": 85,
   "metadata": {},
   "outputs": [
    {
     "data": {
      "image/png": "[encoded data removed]",
      "text/plain": [
       "<matplotlib.figure.Figure at 0x1c12926a20>"
      ]
     },
     "metadata": {},
     "output_type": "display_data"
    }
   ],
   "source": [
    "plt.plot(predictionsD110)\n",
    "plt.plot(testD)\n",
    "plt.ylabel(\"Opening price\")\n",
    "plt.xlabel(\"Index of data point\")\n",
    "plt.show()"
   ]
  },
  {
   "cell_type": "code",
   "execution_count": 83,
   "metadata": {},
   "outputs": [
    {
     "name": "stdout",
     "output_type": "stream",
     "text": [
      "4.98851514808\n"
     ]
    }
   ],
   "source": [
    "errorD110 = mean_squared_error(testD,predictionsD110)\n",
    "print(errorD110)"
   ]
  },
  {
   "cell_type": "code",
   "execution_count": 245,
   "metadata": {},
   "outputs": [
    {
     "data": {
      "image/png": "[encoded data removed]",
      "text/plain": [
       "<matplotlib.figure.Figure at 0x1c1a821630>"
      ]
     },
     "metadata": {},
     "output_type": "display_data"
    },
    {
     "data": {
      "image/png": "[encoded data removed]",
      "text/plain": [
       "<matplotlib.figure.Figure at 0x1c11fbe470>"
      ]
     },
     "metadata": {},
     "output_type": "display_data"
    },
    {
     "data": {
      "image/png": "[encoded data removed]",
      "text/plain": [
       "<matplotlib.figure.Figure at 0x1c116d5ac8>"
      ]
     },
     "metadata": {},
     "output_type": "display_data"
    },
    {
     "name": "stdout",
     "output_type": "stream",
     "text": [
      "                 0\n",
      "count  5032.000000\n",
      "mean      0.007181\n",
      "std       0.625121\n",
      "min     -35.757758\n",
      "25%      -0.188324\n",
      "50%       0.014715\n",
      "75%       0.216662\n",
      "max       1.839142\n"
     ]
    }
   ],
   "source": [
    "residuals = pd.DataFrame(mod.resid)\n",
    "residuals.plot()\n",
    "plt.show()\n",
    "residuals.plot(kind='kde')\n",
    "plt.show()\n",
    "print(residuals.describe())"
   ]
  },
  {
   "cell_type": "code",
   "execution_count": 231,
   "metadata": {
    "scrolled": false
   },
   "outputs": [
    {
     "data": {
      "text/plain": [
       "array([ 172.27862327,  172.27638631,  172.27414949,  172.2719128 ,\n",
       "        172.26967626,  172.26743984,  172.26520357,  172.26296743,\n",
       "        172.26073143,  172.25849557,  172.25625985,  172.25402426,\n",
       "        172.25178881,  172.24955349,  172.24731832,  172.24508328,\n",
       "        172.24284838,  172.24061361,  172.23837898,  172.23614449,\n",
       "        172.23391014,  172.23167592,  172.22944184,  172.2272079 ,\n",
       "        172.22497409,  172.22274042,  172.22050689,  172.21827349,\n",
       "        172.21604024,  172.21380711,  172.21157413,  172.20934128,\n",
       "        172.20710857,  172.204876  ,  172.20264356,  172.20041126,\n",
       "        172.1981791 ,  172.19594707,  172.19371519,  172.19148343,\n",
       "        172.18925182,  172.18702034,  172.184789  ,  172.18255779,\n",
       "        172.18032673,  172.1780958 ,  172.175865  ,  172.17363434,\n",
       "        172.17140382,  172.16917344,  172.16694319,  172.16471308,\n",
       "        172.16248311,  172.16025327,  172.15802358,  172.15579401,\n",
       "        172.15356459,  172.1513353 ,  172.14910614,  172.14687713,\n",
       "        172.14464825,  172.14241951,  172.1401909 ,  172.13796243,\n",
       "        172.1357341 ,  172.1335059 ,  172.13127784,  172.12904992,\n",
       "        172.12682214,  172.12459449,  172.12236697,  172.1201396 ,\n",
       "        172.11791236,  172.11568526,  172.11345829,  172.11123146,\n",
       "        172.10900477,  172.10677821,  172.10455179,  172.10232551,\n",
       "        172.10009936,  172.09787335,  172.09564748,  172.09342174,\n",
       "        172.09119614,  172.08897067,  172.08674535,  172.08452016,\n",
       "        172.0822951 ,  172.08007018,  172.0778454 ,  172.07562076,\n",
       "        172.07339625,  172.07117187,  172.06894764,  172.06672354,\n",
       "        172.06449958,  172.06227575,  172.06005206,  172.0578285 ])"
      ]
     },
     "execution_count": 231,
     "metadata": {},
     "output_type": "execute_result"
    }
   ],
   "source": [
    "y_pred = mod.forecast(steps = 100)\n",
    "y_pred[0]"
   ]
  },
  {
   "cell_type": "code",
   "execution_count": 234,
   "metadata": {},
   "outputs": [
    {
     "data": {
      "image/png": "[encoded data removed]",
      "text/plain": [
       "<matplotlib.figure.Figure at 0x1c1c581f28>"
      ]
     },
     "metadata": {},
     "output_type": "display_data"
    }
   ],
   "source": [
    "plt.plot(y_pred[0])\n",
    "plt.show()"
   ]
  },
  {
   "cell_type": "code",
   "execution_count": null,
   "metadata": {
    "collapsed": true,
    "scrolled": true
   },
   "outputs": [],
   "source": []
  },
  {
   "cell_type": "code",
   "execution_count": 96,
   "metadata": {},
   "outputs": [
    {
     "name": "stdout",
     "output_type": "stream",
     "text": [
      "{Timestamp('2002-11-11 00:00:00'), Timestamp('2001-10-08 00:00:00'), Timestamp('2003-10-13 00:00:00'), Timestamp('2004-10-11 00:00:00'), Timestamp('2004-11-11 00:00:00'), Timestamp('2001-11-12 00:00:00'), Timestamp('2004-06-11 00:00:00'), Timestamp('2016-03-12 00:00:00')}\n"
     ]
    }
   ],
   "source": [
    "W = set(C[a:b]['date'])\n",
    "X = set(A[a:b]['date'])\n",
    "Y = set(B[a:b]['date'])\n",
    "Z = set(D[a:b]['date'])\n",
    "print(Z-X)"
   ]
  },
  {
   "cell_type": "code",
   "execution_count": 45,
   "metadata": {},
   "outputs": [
    {
     "data": {
      "text/html": [
       "<div>\n",
       "<style>\n",
       "    .dataframe thead tr:only-child th {\n",
       "        text-align: right;\n",
       "    }\n",
       "\n",
       "    .dataframe thead th {\n",
       "        text-align: left;\n",
       "    }\n",
       "\n",
       "    .dataframe tbody tr th {\n",
       "        vertical-align: top;\n",
       "    }\n",
       "</style>\n",
       "<table border=\"1\" class=\"dataframe\">\n",
       "  <thead>\n",
       "    <tr style=\"text-align: right;\">\n",
       "      <th></th>\n",
       "      <th>op</th>\n",
       "      <th>hi</th>\n",
       "      <th>lo</th>\n",
       "      <th>se</th>\n",
       "      <th>volume</th>\n",
       "      <th>oi</th>\n",
       "    </tr>\n",
       "  </thead>\n",
       "  <tbody>\n",
       "    <tr>\n",
       "      <th>count</th>\n",
       "      <td>7425.000000</td>\n",
       "      <td>7425.000000</td>\n",
       "      <td>7425.000000</td>\n",
       "      <td>7425.000000</td>\n",
       "      <td>7.425000e+03</td>\n",
       "      <td>7.425000e+03</td>\n",
       "    </tr>\n",
       "    <tr>\n",
       "      <th>mean</th>\n",
       "      <td>159.017703</td>\n",
       "      <td>159.307618</td>\n",
       "      <td>158.737085</td>\n",
       "      <td>159.030714</td>\n",
       "      <td>4.854855e+05</td>\n",
       "      <td>8.601089e+05</td>\n",
       "    </tr>\n",
       "    <tr>\n",
       "      <th>std</th>\n",
       "      <td>41.440075</td>\n",
       "      <td>41.498492</td>\n",
       "      <td>41.385500</td>\n",
       "      <td>41.444247</td>\n",
       "      <td>5.458971e+05</td>\n",
       "      <td>8.073351e+05</td>\n",
       "    </tr>\n",
       "    <tr>\n",
       "      <th>min</th>\n",
       "      <td>97.355160</td>\n",
       "      <td>97.534032</td>\n",
       "      <td>97.094983</td>\n",
       "      <td>97.257594</td>\n",
       "      <td>0.000000e+00</td>\n",
       "      <td>1.353000e+03</td>\n",
       "    </tr>\n",
       "    <tr>\n",
       "      <th>25%</th>\n",
       "      <td>126.839331</td>\n",
       "      <td>127.046677</td>\n",
       "      <td>126.629281</td>\n",
       "      <td>126.823692</td>\n",
       "      <td>4.061125e+04</td>\n",
       "      <td>1.627780e+05</td>\n",
       "    </tr>\n",
       "    <tr>\n",
       "      <th>50%</th>\n",
       "      <td>157.667535</td>\n",
       "      <td>158.020276</td>\n",
       "      <td>157.235378</td>\n",
       "      <td>157.693791</td>\n",
       "      <td>2.459887e+05</td>\n",
       "      <td>6.480260e+05</td>\n",
       "    </tr>\n",
       "    <tr>\n",
       "      <th>75%</th>\n",
       "      <td>199.267378</td>\n",
       "      <td>199.579388</td>\n",
       "      <td>198.961211</td>\n",
       "      <td>199.280699</td>\n",
       "      <td>8.286133e+05</td>\n",
       "      <td>1.372178e+06</td>\n",
       "    </tr>\n",
       "    <tr>\n",
       "      <th>max</th>\n",
       "      <td>232.475483</td>\n",
       "      <td>233.261424</td>\n",
       "      <td>232.149244</td>\n",
       "      <td>232.490311</td>\n",
       "      <td>4.831224e+06</td>\n",
       "      <td>3.230707e+06</td>\n",
       "    </tr>\n",
       "  </tbody>\n",
       "</table>\n",
       "</div>"
      ],
      "text/plain": [
       "                op           hi           lo           se        volume  \\\n",
       "count  7425.000000  7425.000000  7425.000000  7425.000000  7.425000e+03   \n",
       "mean    159.017703   159.307618   158.737085   159.030714  4.854855e+05   \n",
       "std      41.440075    41.498492    41.385500    41.444247  5.458971e+05   \n",
       "min      97.355160    97.534032    97.094983    97.257594  0.000000e+00   \n",
       "25%     126.839331   127.046677   126.629281   126.823692  4.061125e+04   \n",
       "50%     157.667535   158.020276   157.235378   157.693791  2.459887e+05   \n",
       "75%     199.267378   199.579388   198.961211   199.280699  8.286133e+05   \n",
       "max     232.475483   233.261424   232.149244   232.490311  4.831224e+06   \n",
       "\n",
       "                 oi  \n",
       "count  7.425000e+03  \n",
       "mean   8.601089e+05  \n",
       "std    8.073351e+05  \n",
       "min    1.353000e+03  \n",
       "25%    1.627780e+05  \n",
       "50%    6.480260e+05  \n",
       "75%    1.372178e+06  \n",
       "max    3.230707e+06  "
      ]
     },
     "execution_count": 45,
     "metadata": {},
     "output_type": "execute_result"
    }
   ],
   "source": [
    "B.describe()"
   ]
  },
  {
   "cell_type": "code",
   "execution_count": 123,
   "metadata": {},
   "outputs": [
    {
     "data": {
      "text/plain": [
       "'D'"
      ]
     },
     "execution_count": 123,
     "metadata": {},
     "output_type": "execute_result"
    }
   ],
   "source": []
  },
  {
   "cell_type": "code",
   "execution_count": null,
   "metadata": {
    "collapsed": true
   },
   "outputs": [],
   "source": []
  }
 ],
 "metadata": {
  "kernelspec": {
   "display_name": "Python 3",
   "language": "python",
   "name": "python3"
  },
  "language_info": {
   "codemirror_mode": {
    "name": "ipython",
    "version": 3
   },
   "file_extension": ".py",
   "mimetype": "text/x-python",
   "name": "python",
   "nbconvert_exporter": "python",
   "pygments_lexer": "ipython3",
   "version": "3.6.3"
  }
 },
 "nbformat": 4,
 "nbformat_minor": 2
}
